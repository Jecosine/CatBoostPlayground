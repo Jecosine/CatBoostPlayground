{
 "cells": [
  {
   "cell_type": "code",
   "execution_count": 1,
   "id": "initial_id",
   "metadata": {
    "ExecuteTime": {
     "end_time": "2023-08-08T17:24:53.681431Z",
     "start_time": "2023-08-08T17:24:53.591682Z"
    }
   },
   "outputs": [],
   "source": [
    "import time\n",
    "\n",
    "import tqdm.notebook\n",
    "# import time\n",
    "%load_ext autoreload\n",
    "%autoreload 2\n",
    "# # %load_ext rich"
   ]
  },
  {
   "cell_type": "code",
   "execution_count": 19,
   "id": "4c9b714fd22de712",
   "metadata": {
    "ExecuteTime": {
     "end_time": "2023-08-08T17:36:54.236823Z",
     "start_time": "2023-08-08T17:36:54.138923Z"
    }
   },
   "outputs": [
    {
     "data": {
      "text/plain": "<module 'allib' from '/Users/jecosine/Courses/COMP8800/Projects/CatBoostTutorial/allib/__init__.py'>"
     },
     "execution_count": 19,
     "metadata": {},
     "output_type": "execute_result"
    }
   ],
   "source": [
    "import requests\n",
    "import os\n",
    "# %reload_ext autoreload\n",
    "import allib\n",
    "import importlib\n",
    "import pandas as pd\n",
    "import numpy as np\n",
    "\n",
    "importlib.reload(allib)"
   ]
  },
  {
   "cell_type": "code",
   "execution_count": 3,
   "outputs": [
    {
     "name": "stdout",
     "output_type": "stream",
     "text": [
      "/Users/jecosine/Courses/COMP8800/Projects/CatBoostTutorial/examples\n"
     ]
    }
   ],
   "source": [
    "print(os.getcwd())\n",
    "allib.datasets.load_uci(\"iris\", reload=False, raw_path=\"../allib/datasets/uci_db.json\")"
   ],
   "metadata": {
    "collapsed": false,
    "ExecuteTime": {
     "end_time": "2023-08-08T17:25:07.701504Z",
     "start_time": "2023-08-08T17:25:05.657514Z"
    }
   },
   "id": "4e551ba88645c427"
  },
  {
   "cell_type": "code",
   "execution_count": 4,
   "outputs": [
    {
     "name": "stdout",
     "output_type": "stream",
     "text": [
      "614\n"
     ]
    }
   ],
   "source": [
    "uci_db = allib.datasets.get_uci_db()\n",
    "print(len(uci_db.keys()))"
   ],
   "metadata": {
    "collapsed": false,
    "ExecuteTime": {
     "end_time": "2023-08-08T17:25:23.589868Z",
     "start_time": "2023-08-08T17:25:23.107864Z"
    }
   },
   "id": "e441a5d9db8dc6d"
  },
  {
   "cell_type": "code",
   "execution_count": 5,
   "outputs": [
    {
     "name": "stdout",
     "output_type": "stream",
     "text": [
      "total attributes: 5\n"
     ]
    }
   ],
   "source": [
    "# get attributes from datasets\n",
    "print(f\"total attributes: {len(uci_db['iris']['attributes'])}\")\n",
    "columns = []\n",
    "for a in uci_db['iris']['attributes']:\n",
    "    # handle name\n",
    "    columns.append(a[\"name\"].strip().lower().replace(\" \", \"_\"))"
   ],
   "metadata": {
    "collapsed": false,
    "ExecuteTime": {
     "end_time": "2023-08-08T17:25:37.658258Z",
     "start_time": "2023-08-08T17:25:37.563497Z"
    }
   },
   "id": "105e01ba69dc3748"
  },
  {
   "cell_type": "code",
   "execution_count": 6,
   "outputs": [],
   "source": [
    "d1 = pd.read_csv(os.path.join(allib.CACHE_DIR, \"iris/iris.data\"), skiprows=0, names=columns)\n",
    "d2 = pd.read_csv(os.path.join(allib.CACHE_DIR, \"iris/bezdekIris.data\"), skiprows=0, names=columns)"
   ],
   "metadata": {
    "collapsed": false,
    "ExecuteTime": {
     "end_time": "2023-08-08T17:25:41.799322Z",
     "start_time": "2023-08-08T17:25:41.697280Z"
    }
   },
   "id": "638ceac71fcba9ed"
  },
  {
   "cell_type": "code",
   "execution_count": 8,
   "outputs": [
    {
     "data": {
      "text/plain": "array(['Iris-setosa', 'Iris-versicolor', 'Iris-virginica'], dtype=object)"
     },
     "execution_count": 8,
     "metadata": {},
     "output_type": "execute_result"
    }
   ],
   "source": [
    "d1[\"class\"].unique()"
   ],
   "metadata": {
    "collapsed": false,
    "ExecuteTime": {
     "end_time": "2023-08-08T03:10:14.115575Z",
     "start_time": "2023-08-08T03:10:14.058321Z"
    }
   },
   "id": "c92306c6ce3c47a9"
  },
  {
   "cell_type": "code",
   "execution_count": 9,
   "outputs": [
    {
     "data": {
      "text/plain": "array(['Iris-setosa', 'Iris-versicolor', 'Iris-virginica'], dtype=object)"
     },
     "execution_count": 9,
     "metadata": {},
     "output_type": "execute_result"
    }
   ],
   "source": [
    "d2[\"class\"].unique()"
   ],
   "metadata": {
    "collapsed": false,
    "ExecuteTime": {
     "end_time": "2023-08-08T03:10:15.930520Z",
     "start_time": "2023-08-08T03:10:15.835771Z"
    }
   },
   "id": "9ad02d00bc5692e5"
  },
  {
   "cell_type": "code",
   "execution_count": 7,
   "outputs": [
    {
     "data": {
      "text/plain": "       sepal_length  sepal_width  petal_length  petal_width\ncount    300.000000   300.000000    300.000000   300.000000\nmean       5.843333     3.055667      3.758333     1.199000\nstd        0.826680     0.434007      1.761906     0.761423\nmin        4.300000     2.000000      1.000000     0.100000\n25%        5.100000     2.800000      1.600000     0.300000\n50%        5.800000     3.000000      4.350000     1.300000\n75%        6.400000     3.300000      5.100000     1.800000\nmax        7.900000     4.400000      6.900000     2.500000",
      "text/html": "<div>\n<style scoped>\n    .dataframe tbody tr th:only-of-type {\n        vertical-align: middle;\n    }\n\n    .dataframe tbody tr th {\n        vertical-align: top;\n    }\n\n    .dataframe thead th {\n        text-align: right;\n    }\n</style>\n<table border=\"1\" class=\"dataframe\">\n  <thead>\n    <tr style=\"text-align: right;\">\n      <th></th>\n      <th>sepal_length</th>\n      <th>sepal_width</th>\n      <th>petal_length</th>\n      <th>petal_width</th>\n    </tr>\n  </thead>\n  <tbody>\n    <tr>\n      <th>count</th>\n      <td>300.000000</td>\n      <td>300.000000</td>\n      <td>300.000000</td>\n      <td>300.000000</td>\n    </tr>\n    <tr>\n      <th>mean</th>\n      <td>5.843333</td>\n      <td>3.055667</td>\n      <td>3.758333</td>\n      <td>1.199000</td>\n    </tr>\n    <tr>\n      <th>std</th>\n      <td>0.826680</td>\n      <td>0.434007</td>\n      <td>1.761906</td>\n      <td>0.761423</td>\n    </tr>\n    <tr>\n      <th>min</th>\n      <td>4.300000</td>\n      <td>2.000000</td>\n      <td>1.000000</td>\n      <td>0.100000</td>\n    </tr>\n    <tr>\n      <th>25%</th>\n      <td>5.100000</td>\n      <td>2.800000</td>\n      <td>1.600000</td>\n      <td>0.300000</td>\n    </tr>\n    <tr>\n      <th>50%</th>\n      <td>5.800000</td>\n      <td>3.000000</td>\n      <td>4.350000</td>\n      <td>1.300000</td>\n    </tr>\n    <tr>\n      <th>75%</th>\n      <td>6.400000</td>\n      <td>3.300000</td>\n      <td>5.100000</td>\n      <td>1.800000</td>\n    </tr>\n    <tr>\n      <th>max</th>\n      <td>7.900000</td>\n      <td>4.400000</td>\n      <td>6.900000</td>\n      <td>2.500000</td>\n    </tr>\n  </tbody>\n</table>\n</div>"
     },
     "execution_count": 7,
     "metadata": {},
     "output_type": "execute_result"
    }
   ],
   "source": [
    "data = pd.concat((d1, d2)).reset_index(drop=True)\n",
    "data.describe()"
   ],
   "metadata": {
    "collapsed": false,
    "ExecuteTime": {
     "end_time": "2023-08-08T17:26:13.394867Z",
     "start_time": "2023-08-08T17:26:13.203646Z"
    }
   },
   "id": "56797b415fcbe0e3"
  },
  {
   "cell_type": "code",
   "execution_count": 46,
   "outputs": [
    {
     "data": {
      "text/plain": "<Axes: >"
     },
     "execution_count": 46,
     "metadata": {},
     "output_type": "execute_result"
    },
    {
     "data": {
      "text/plain": "<Figure size 640x480 with 1 Axes>",
      "image/png": "[encoded data removed]"
     },
     "metadata": {},
     "output_type": "display_data"
    }
   ],
   "source": [
    "data[\"class\"].hist()"
   ],
   "metadata": {
    "collapsed": false,
    "ExecuteTime": {
     "end_time": "2023-08-08T05:49:48.124749Z",
     "start_time": "2023-08-08T05:49:47.743245Z"
    }
   },
   "id": "b94a537c9fb8905"
  },
  {
   "cell_type": "code",
   "execution_count": 47,
   "outputs": [
    {
     "data": {
      "text/plain": "     sepal_length  sepal_width  petal_length  petal_width            class\n0             5.5          2.3           4.0          1.3  Iris-versicolor\n1             6.5          3.0           5.5          1.8   Iris-virginica\n2             4.7          3.2           1.3          0.2      Iris-setosa\n3             4.9          3.1           1.5          0.1      Iris-setosa\n4             6.0          2.7           5.1          1.6  Iris-versicolor\n..            ...          ...           ...          ...              ...\n295           4.4          3.0           1.3          0.2      Iris-setosa\n296           6.1          2.8           4.0          1.3  Iris-versicolor\n297           4.9          2.5           4.5          1.7   Iris-virginica\n298           6.9          3.2           5.7          2.3   Iris-virginica\n299           7.1          3.0           5.9          2.1   Iris-virginica\n\n[300 rows x 5 columns]",
      "text/html": "<div>\n<style scoped>\n    .dataframe tbody tr th:only-of-type {\n        vertical-align: middle;\n    }\n\n    .dataframe tbody tr th {\n        vertical-align: top;\n    }\n\n    .dataframe thead th {\n        text-align: right;\n    }\n</style>\n<table border=\"1\" class=\"dataframe\">\n  <thead>\n    <tr style=\"text-align: right;\">\n      <th></th>\n      <th>sepal_length</th>\n      <th>sepal_width</th>\n      <th>petal_length</th>\n      <th>petal_width</th>\n      <th>class</th>\n    </tr>\n  </thead>\n  <tbody>\n    <tr>\n      <th>0</th>\n      <td>5.5</td>\n      <td>2.3</td>\n      <td>4.0</td>\n      <td>1.3</td>\n      <td>Iris-versicolor</td>\n    </tr>\n    <tr>\n      <th>1</th>\n      <td>6.5</td>\n      <td>3.0</td>\n      <td>5.5</td>\n      <td>1.8</td>\n      <td>Iris-virginica</td>\n    </tr>\n    <tr>\n      <th>2</th>\n      <td>4.7</td>\n      <td>3.2</td>\n      <td>1.3</td>\n      <td>0.2</td>\n      <td>Iris-setosa</td>\n    </tr>\n    <tr>\n      <th>3</th>\n      <td>4.9</td>\n      <td>3.1</td>\n      <td>1.5</td>\n      <td>0.1</td>\n      <td>Iris-setosa</td>\n    </tr>\n    <tr>\n      <th>4</th>\n      <td>6.0</td>\n      <td>2.7</td>\n      <td>5.1</td>\n      <td>1.6</td>\n      <td>Iris-versicolor</td>\n    </tr>\n    <tr>\n      <th>...</th>\n      <td>...</td>\n      <td>...</td>\n      <td>...</td>\n      <td>...</td>\n      <td>...</td>\n    </tr>\n    <tr>\n      <th>295</th>\n      <td>4.4</td>\n      <td>3.0</td>\n      <td>1.3</td>\n      <td>0.2</td>\n      <td>Iris-setosa</td>\n    </tr>\n    <tr>\n      <th>296</th>\n      <td>6.1</td>\n      <td>2.8</td>\n      <td>4.0</td>\n      <td>1.3</td>\n      <td>Iris-versicolor</td>\n    </tr>\n    <tr>\n      <th>297</th>\n      <td>4.9</td>\n      <td>2.5</td>\n      <td>4.5</td>\n      <td>1.7</td>\n      <td>Iris-virginica</td>\n    </tr>\n    <tr>\n      <th>298</th>\n      <td>6.9</td>\n      <td>3.2</td>\n      <td>5.7</td>\n      <td>2.3</td>\n      <td>Iris-virginica</td>\n    </tr>\n    <tr>\n      <th>299</th>\n      <td>7.1</td>\n      <td>3.0</td>\n      <td>5.9</td>\n      <td>2.1</td>\n      <td>Iris-virginica</td>\n    </tr>\n  </tbody>\n</table>\n<p>300 rows × 5 columns</p>\n</div>"
     },
     "execution_count": 47,
     "metadata": {},
     "output_type": "execute_result"
    }
   ],
   "source": [
    "# shuffle the dataset\n",
    "from sklearn.utils import shuffle\n",
    "\n",
    "data: pd.DataFrame = shuffle(data, random_state=42)\n",
    "data.reset_index(drop=True)"
   ],
   "metadata": {
    "collapsed": false,
    "ExecuteTime": {
     "end_time": "2023-08-08T05:49:55.743728Z",
     "start_time": "2023-08-08T05:49:55.648486Z"
    }
   },
   "id": "d6c1a4c94043ee7a"
  },
  {
   "cell_type": "code",
   "execution_count": 8,
   "outputs": [],
   "source": [
    "# split training/testing\n",
    "from sklearn.model_selection import train_test_split\n",
    "\n",
    "data = data.rename(columns={\"class\": \"label\"})\n",
    "label = data.label\n",
    "data = data.drop(columns=[\"label\"])"
   ],
   "metadata": {
    "collapsed": false,
    "ExecuteTime": {
     "end_time": "2023-08-08T17:26:29.524178Z",
     "start_time": "2023-08-08T17:26:27.640054Z"
    }
   },
   "id": "1ddc221c857eb61f"
  },
  {
   "cell_type": "code",
   "execution_count": 57,
   "outputs": [],
   "source": [
    "X_train, X_test, Y_train, Y_test = train_test_split(data, label, random_state=42)"
   ],
   "metadata": {
    "collapsed": false,
    "ExecuteTime": {
     "end_time": "2023-08-08T18:37:08.771783Z",
     "start_time": "2023-08-08T18:37:08.687298Z"
    }
   },
   "id": "f546dfd2fb76005a"
  },
  {
   "cell_type": "code",
   "execution_count": 40,
   "outputs": [],
   "source": [
    "import catboost\n",
    "from catboost import CatBoostClassifier, sum_models, to_classifier\n",
    "from catboost.utils import create_cd"
   ],
   "metadata": {
    "collapsed": false,
    "ExecuteTime": {
     "end_time": "2023-08-08T18:12:50.659021Z",
     "start_time": "2023-08-08T18:12:50.410098Z"
    }
   },
   "id": "ff0b5db8a9960c24"
  },
  {
   "cell_type": "code",
   "execution_count": 58,
   "outputs": [],
   "source": [
    "# sample the initial datasets\n",
    "\n",
    "X_init = X_train.sample(n=10)\n",
    "Y_init = Y_train.loc[X_init.index]\n",
    "X_train = X_train.drop(X_init.index)\n",
    "Y_train = Y_train.drop(Y_init.index)"
   ],
   "metadata": {
    "collapsed": false,
    "ExecuteTime": {
     "end_time": "2023-08-08T18:37:10.318011Z",
     "start_time": "2023-08-08T18:37:10.238472Z"
    }
   },
   "id": "9e913b9d97c1d2b5"
  },
  {
   "cell_type": "code",
   "execution_count": 52,
   "outputs": [],
   "source": [
    "BATCH_SIZE = 20\n",
    "accuracy_unc = []\n",
    "instances = []\n",
    "cur_model = CatBoostClassifier(\n",
    "    iterations=5,\n",
    "    learning_rate=0.1,\n",
    "    # loss_function='CrossEntropy'\n",
    ")\n",
    "cur_model.fit(X_init, Y_init, eval_set=(X_test, Y_test), verbose=False)\n",
    "models = [cur_model]\n",
    "accuracy_unc.append(cur_model.score(X_test, Y_test))\n",
    "instances.append(len(X_init))\n",
    "while len(X_train) > 0:\n",
    "    new_model = CatBoostClassifier(\n",
    "        iterations=5,\n",
    "        learning_rate=0.1,\n",
    "        # loss_function='CrossEntropy'\n",
    "    )\n",
    "\n",
    "    if len(X_train) > BATCH_SIZE:\n",
    "        # bottom BATCH_SIZE at score\n",
    "        idx = cur_model.predict_proba(X_train).max(axis=1).argpartition(BATCH_SIZE)[:BATCH_SIZE]\n",
    "        X_init = pd.concat((X_init, X_train.loc[X_train.index[idx]]))\n",
    "        Y_init = pd.concat((Y_init, Y_train.loc[Y_train.index[idx]]))\n",
    "        X_train = X_train.drop(X_train.index[idx])\n",
    "        Y_train = Y_train.drop(Y_train.index[idx])\n",
    "    else:\n",
    "        X_init = pd.concat((X_init, X_train))\n",
    "        Y_init = pd.concat((Y_init, Y_train))\n",
    "        X_train = X_train.drop(X_train.index)\n",
    "        Y_train = Y_train.drop(Y_train.index)\n",
    "    new_model.fit(X_init, Y_init, eval_set=(X_test, Y_test), verbose=False)\n",
    "    models.append(new_model)\n",
    "    # todo: test merge strategy\n",
    "    cur_model = to_classifier(sum_models(models, weights=[1.0 / len(models)] * len(models)))\n",
    "    accuracy_unc.append(cur_model.score(X_test, Y_test))\n",
    "    instances.append(len(X_init))"
   ],
   "metadata": {
    "collapsed": false,
    "ExecuteTime": {
     "end_time": "2023-08-08T18:19:39.150514Z",
     "start_time": "2023-08-08T18:19:38.901843Z"
    }
   },
   "id": "5df33f22c73a4205"
  },
  {
   "cell_type": "code",
   "execution_count": 53,
   "outputs": [
    {
     "data": {
      "text/plain": "[0.8933333333333333,\n 0.92,\n 0.96,\n 0.96,\n 0.96,\n 0.96,\n 0.96,\n 0.96,\n 0.96,\n 0.96,\n 0.96,\n 0.96]"
     },
     "execution_count": 53,
     "metadata": {},
     "output_type": "execute_result"
    }
   ],
   "source": [
    "accuracy_unc"
   ],
   "metadata": {
    "collapsed": false,
    "ExecuteTime": {
     "end_time": "2023-08-08T18:19:41.834268Z",
     "start_time": "2023-08-08T18:19:41.719997Z"
    }
   },
   "id": "3b778a935ff10df1"
  },
  {
   "cell_type": "code",
   "execution_count": 59,
   "outputs": [],
   "source": [
    "BATCH_SIZE = 20\n",
    "accuracy_rand = []\n",
    "instances = []\n",
    "cur_model = CatBoostClassifier(\n",
    "    iterations=5,\n",
    "    learning_rate=0.1,\n",
    "    # loss_function='CrossEntropy'\n",
    ")\n",
    "cur_model.fit(X_init, Y_init, eval_set=(X_test, Y_test), verbose=False)\n",
    "models = [cur_model]\n",
    "accuracy_rand.append(cur_model.score(X_test, Y_test))\n",
    "instances.append(len(X_init))\n",
    "while len(X_train) > 0:\n",
    "    new_model = CatBoostClassifier(\n",
    "        iterations=5,\n",
    "        learning_rate=0.1,\n",
    "        # loss_function='CrossEntropy'\n",
    "    )\n",
    "    l = min(BATCH_SIZE, len(X_train))\n",
    "    X_new = X_train.sample(n=l)\n",
    "    Y_new = Y_train.loc[X_new.index]\n",
    "    X_train = X_train.drop(X_new.index)\n",
    "    Y_train = Y_train.drop(Y_new.index)\n",
    "    X_init = pd.concat((X_init, X_new))\n",
    "    Y_init = pd.concat((Y_init, Y_new))\n",
    "    new_model.fit(X_init, Y_init, eval_set=(X_test, Y_test), verbose=False)\n",
    "    models.append(new_model)\n",
    "    # todo: test merge strategy\n",
    "    cur_model = to_classifier(sum_models(models, weights=[1.0 / len(models)] * len(models)))\n",
    "    accuracy_rand.append(cur_model.score(X_test, Y_test))\n",
    "    instances.append(len(X_init))"
   ],
   "metadata": {
    "collapsed": false,
    "ExecuteTime": {
     "end_time": "2023-08-08T18:37:15.455190Z",
     "start_time": "2023-08-08T18:37:15.211234Z"
    }
   },
   "id": "cce4055a5921885b"
  },
  {
   "cell_type": "code",
   "execution_count": 60,
   "outputs": [
    {
     "data": {
      "text/plain": "[0.84,\n 0.8666666666666667,\n 0.9466666666666667,\n 0.9466666666666667,\n 0.92,\n 0.9333333333333333,\n 0.9333333333333333,\n 0.9333333333333333,\n 0.9333333333333333,\n 0.9333333333333333,\n 0.9466666666666667,\n 0.9466666666666667]"
     },
     "execution_count": 60,
     "metadata": {},
     "output_type": "execute_result"
    }
   ],
   "source": [
    "accuracy_rand"
   ],
   "metadata": {
    "collapsed": false,
    "ExecuteTime": {
     "end_time": "2023-08-08T18:37:22.655010Z",
     "start_time": "2023-08-08T18:37:22.526318Z"
    }
   },
   "id": "97e765da785aa75f"
  },
  {
   "cell_type": "code",
   "execution_count": 28,
   "outputs": [],
   "source": [
    "idx = pred.max(axis=1).argpartition(-10)[-10:]"
   ],
   "metadata": {
    "collapsed": false,
    "ExecuteTime": {
     "end_time": "2023-08-08T17:39:46.112761Z",
     "start_time": "2023-08-08T17:39:45.988132Z"
    }
   },
   "id": "18bab1c3429e750f"
  },
  {
   "cell_type": "code",
   "execution_count": 38,
   "outputs": [
    {
     "data": {
      "text/plain": "array([ 42, 195, 165,  90, 160, 187,  79,  81, 133, 101])"
     },
     "execution_count": 38,
     "metadata": {},
     "output_type": "execute_result"
    }
   ],
   "source": [
    "idx"
   ],
   "metadata": {
    "collapsed": false,
    "ExecuteTime": {
     "end_time": "2023-08-08T18:09:10.802159Z",
     "start_time": "2023-08-08T18:09:10.707616Z"
    }
   },
   "id": "74fb24227ed3393"
  },
  {
   "cell_type": "code",
   "execution_count": 62,
   "outputs": [],
   "source": [
    "class A:\n",
    "    def __init__(self):\n",
    "        self.x: str\n",
    "        self.y: int\n",
    "\n",
    "    def set_values(self, x, y):\n",
    "        print(self.x)\n",
    "        self.y = y"
   ],
   "metadata": {
    "collapsed": false,
    "ExecuteTime": {
     "end_time": "2023-08-09T06:50:02.056013Z",
     "start_time": "2023-08-09T06:50:01.708598Z"
    }
   },
   "id": "69880936ee4092e3"
  },
  {
   "cell_type": "code",
   "execution_count": 63,
   "outputs": [],
   "source": [
    "a = A()"
   ],
   "metadata": {
    "collapsed": false,
    "ExecuteTime": {
     "end_time": "2023-08-09T06:50:06.757256Z",
     "start_time": "2023-08-09T06:50:06.215619Z"
    }
   },
   "id": "eb87b938bd4c91c7"
  },
  {
   "cell_type": "code",
   "execution_count": 64,
   "outputs": [
    {
     "ename": "AttributeError",
     "evalue": "'A' object has no attribute 'x'",
     "output_type": "error",
     "traceback": [
      "\u001B[0;31m---------------------------------------------------------------------------\u001B[0m",
      "\u001B[0;31mAttributeError\u001B[0m                            Traceback (most recent call last)",
      "Cell \u001B[0;32mIn[64], line 1\u001B[0m\n\u001B[0;32m----> 1\u001B[0m \u001B[43ma\u001B[49m\u001B[38;5;241;43m.\u001B[39;49m\u001B[43mset_values\u001B[49m\u001B[43m(\u001B[49m\u001B[38;5;241;43m1\u001B[39;49m\u001B[43m,\u001B[49m\u001B[43m \u001B[49m\u001B[38;5;241;43m2\u001B[39;49m\u001B[43m)\u001B[49m\n",
      "Cell \u001B[0;32mIn[62], line 7\u001B[0m, in \u001B[0;36mA.set_values\u001B[0;34m(self, x, y)\u001B[0m\n\u001B[1;32m      6\u001B[0m \u001B[38;5;28;01mdef\u001B[39;00m \u001B[38;5;21mset_values\u001B[39m(\u001B[38;5;28mself\u001B[39m, x, y):\n\u001B[0;32m----> 7\u001B[0m     \u001B[38;5;28mprint\u001B[39m(\u001B[38;5;28;43mself\u001B[39;49m\u001B[38;5;241;43m.\u001B[39;49m\u001B[43mx\u001B[49m)\n\u001B[1;32m      8\u001B[0m     \u001B[38;5;28mself\u001B[39m\u001B[38;5;241m.\u001B[39my \u001B[38;5;241m=\u001B[39m y\n",
      "\u001B[0;31mAttributeError\u001B[0m: 'A' object has no attribute 'x'"
     ]
    }
   ],
   "source": [
    "a.set_values(1, 2)"
   ],
   "metadata": {
    "collapsed": false,
    "ExecuteTime": {
     "end_time": "2023-08-09T06:50:17.111527Z",
     "start_time": "2023-08-09T06:50:16.092970Z"
    }
   },
   "id": "759942d5400a316d"
  },
  {
   "cell_type": "code",
   "execution_count": 77,
   "outputs": [
    {
     "ename": "TypeError",
     "evalue": "unsupported operand type(s) for ^: 'dict' and 'dict'",
     "output_type": "error",
     "traceback": [
      "\u001B[0;31m---------------------------------------------------------------------------\u001B[0m",
      "\u001B[0;31mTypeError\u001B[0m                                 Traceback (most recent call last)",
      "Cell \u001B[0;32mIn[77], line 1\u001B[0m\n\u001B[0;32m----> 1\u001B[0m d \u001B[38;5;241m=\u001B[39m \u001B[43m{\u001B[49m\u001B[38;5;124;43m\"\u001B[39;49m\u001B[38;5;124;43mA\u001B[39;49m\u001B[38;5;124;43m\"\u001B[39;49m\u001B[43m:\u001B[49m\u001B[43m \u001B[49m\u001B[38;5;241;43m1\u001B[39;49m\u001B[43m,\u001B[49m\u001B[43m \u001B[49m\u001B[38;5;124;43m\"\u001B[39;49m\u001B[38;5;124;43mB\u001B[39;49m\u001B[38;5;124;43m\"\u001B[39;49m\u001B[43m:\u001B[49m\u001B[38;5;241;43m2\u001B[39;49m\u001B[43m}\u001B[49m\u001B[43m \u001B[49m\u001B[38;5;241;43m^\u001B[39;49m\u001B[43m \u001B[49m\u001B[43m{\u001B[49m\u001B[38;5;124;43m\"\u001B[39;49m\u001B[38;5;124;43mA\u001B[39;49m\u001B[38;5;124;43m\"\u001B[39;49m\u001B[43m:\u001B[49m\u001B[43m \u001B[49m\u001B[38;5;241;43m2\u001B[39;49m\u001B[43m,\u001B[49m\u001B[43m \u001B[49m\u001B[38;5;124;43m\"\u001B[39;49m\u001B[38;5;124;43mB\u001B[39;49m\u001B[38;5;124;43m\"\u001B[39;49m\u001B[43m:\u001B[49m\u001B[38;5;241;43m3\u001B[39;49m\u001B[43m,\u001B[49m\u001B[43m \u001B[49m\u001B[38;5;124;43m\"\u001B[39;49m\u001B[38;5;124;43mC\u001B[39;49m\u001B[38;5;124;43m\"\u001B[39;49m\u001B[43m:\u001B[49m\u001B[43m \u001B[49m\u001B[38;5;241;43m4\u001B[39;49m\u001B[43m}\u001B[49m\n\u001B[1;32m      2\u001B[0m \u001B[38;5;28mprint\u001B[39m(d)\n",
      "\u001B[0;31mTypeError\u001B[0m: unsupported operand type(s) for ^: 'dict' and 'dict'"
     ]
    }
   ],
   "source": [
    "d = {\"A\": 1, \"B\":2} ^ {\"A\": 2, \"B\":3, \"C\": 4}\n",
    "print(d)"
   ],
   "metadata": {
    "collapsed": false,
    "ExecuteTime": {
     "end_time": "2023-08-09T11:41:27.059296Z",
     "start_time": "2023-08-09T11:41:26.819841Z"
    }
   },
   "id": "39c5878e4d7f4752"
  },
  {
   "cell_type": "code",
   "execution_count": 78,
   "outputs": [],
   "source": [
    "from sklearn.metrics import get_scorer"
   ],
   "metadata": {
    "collapsed": false,
    "ExecuteTime": {
     "end_time": "2023-08-09T12:25:30.987070Z",
     "start_time": "2023-08-09T12:25:30.484749Z"
    }
   },
   "id": "6b0e49967504eb0"
  },
  {
   "cell_type": "code",
   "execution_count": 101,
   "outputs": [],
   "source": [
    "acc = get_scorer(\"accuracy\")"
   ],
   "metadata": {
    "collapsed": false,
    "ExecuteTime": {
     "end_time": "2023-08-09T14:59:27.194731Z",
     "start_time": "2023-08-09T14:59:27.025632Z"
    }
   },
   "id": "b3398ba4cbb4d7e4"
  },
  {
   "cell_type": "code",
   "execution_count": 106,
   "outputs": [],
   "source": [
    "acc.__name__ = '1'"
   ],
   "metadata": {
    "collapsed": false,
    "ExecuteTime": {
     "end_time": "2023-08-09T15:01:25.113677Z",
     "start_time": "2023-08-09T15:01:24.850673Z"
    }
   },
   "id": "d555096cab70c991"
  },
  {
   "cell_type": "code",
   "execution_count": 108,
   "outputs": [],
   "source": [
    "from typing import List, Callable\n",
    "\n",
    "def __name_metric(f: Callable, name: str):\n",
    "    if f is None:\n",
    "        return None\n",
    "    f.__name__ = name\n",
    "    return f\n",
    "def get_metrics(names: List[str], ignore_error: bool = False):\n",
    "    def suppress_error(name: str):\n",
    "        try:\n",
    "            func = get_scorer(name)\n",
    "        except ValueError:\n",
    "            return None\n",
    "        else:\n",
    "            return func\n",
    "\n",
    "    getter = suppress_error if ignore_error else get_scorer\n",
    "    return [\n",
    "        func\n",
    "        for name in names\n",
    "        if (func := __name_metric(getter(name), name)) is not None\n",
    "    ]"
   ],
   "metadata": {
    "collapsed": false,
    "ExecuteTime": {
     "end_time": "2023-08-09T15:05:11.937528Z",
     "start_time": "2023-08-09T15:05:11.823900Z"
    }
   },
   "id": "18a072b09a979bcc"
  },
  {
   "cell_type": "code",
   "execution_count": 110,
   "outputs": [],
   "source": [
    "ms = get_metrics([\"accuracy\", \"f1\", \"roc\"],ignore_error=True)"
   ],
   "metadata": {
    "collapsed": false,
    "ExecuteTime": {
     "end_time": "2023-08-09T15:05:56.522912Z",
     "start_time": "2023-08-09T15:05:56.074269Z"
    }
   },
   "id": "4c3e7f8d6b2994cb"
  },
  {
   "cell_type": "code",
   "execution_count": 120,
   "outputs": [
    {
     "data": {
      "text/plain": "\u001B[3m                        Score of the 2th runs                        \u001B[0m\n┏━━━━━━━━━━━━━━┳━━━━━━━━━━━━━━━━━━━━━━━━━━━━━━━━━━━┳━━━━━━━━━━━━━━━━┓\n┃\u001B[1m \u001B[0m\u001B[1m      Metric\u001B[0m\u001B[1m \u001B[0m┃\u001B[1m \u001B[0m\u001B[1mTitle                            \u001B[0m\u001B[1m \u001B[0m┃\u001B[1m \u001B[0m\u001B[1m    Box Office\u001B[0m\u001B[1m \u001B[0m┃\n┡━━━━━━━━━━━━━━╇━━━━━━━━━━━━━━━━━━━━━━━━━━━━━━━━━━━╇━━━━━━━━━━━━━━━━┩\n│\u001B[1;36m \u001B[0m\u001B[1;36mDec 20, 2019\u001B[0m\u001B[1;36m \u001B[0m│\u001B[35m \u001B[0m\u001B[35mStar Wars: The Rise of Skywalker \u001B[0m\u001B[35m \u001B[0m│\u001B[32m \u001B[0m\u001B[32m  $952,110,690\u001B[0m\u001B[32m \u001B[0m│\n│\u001B[1;36m \u001B[0m\u001B[1;36mMay 25, 2018\u001B[0m\u001B[1;36m \u001B[0m│\u001B[35m \u001B[0m\u001B[35mSolo: A Star Wars Story          \u001B[0m\u001B[35m \u001B[0m│\u001B[32m \u001B[0m\u001B[32m  $393,151,347\u001B[0m\u001B[32m \u001B[0m│\n│\u001B[1;36m \u001B[0m\u001B[1;36mDec 15, 2017\u001B[0m\u001B[1;36m \u001B[0m│\u001B[35m \u001B[0m\u001B[35mStar Wars Ep. V111: The Last Jedi\u001B[0m\u001B[35m \u001B[0m│\u001B[32m \u001B[0m\u001B[32m$1,332,539,889\u001B[0m\u001B[32m \u001B[0m│\n│\u001B[1;36m \u001B[0m\u001B[1;36mDec 16, 2016\u001B[0m\u001B[1;36m \u001B[0m│\u001B[35m \u001B[0m\u001B[35mRogue One: A Star Wars Story     \u001B[0m\u001B[35m \u001B[0m│\u001B[32m \u001B[0m\u001B[32m$1,332,439,889\u001B[0m\u001B[32m \u001B[0m│\n└──────────────┴───────────────────────────────────┴────────────────┘\n",
      "text/html": "<pre style=\"white-space:pre;overflow-x:auto;line-height:normal;font-family:Menlo,'DejaVu Sans Mono',consolas,'Courier New',monospace\"><span style=\"font-style: italic\">                        Score of the 2th runs                        </span>\n┏━━━━━━━━━━━━━━┳━━━━━━━━━━━━━━━━━━━━━━━━━━━━━━━━━━━┳━━━━━━━━━━━━━━━━┓\n┃<span style=\"font-weight: bold\">       Metric </span>┃<span style=\"font-weight: bold\"> Title                             </span>┃<span style=\"font-weight: bold\">     Box Office </span>┃\n┡━━━━━━━━━━━━━━╇━━━━━━━━━━━━━━━━━━━━━━━━━━━━━━━━━━━╇━━━━━━━━━━━━━━━━┩\n│<span style=\"color: #008080; text-decoration-color: #008080; font-weight: bold\"> Dec 20, 2019 </span>│<span style=\"color: #800080; text-decoration-color: #800080\"> Star Wars: The Rise of Skywalker  </span>│<span style=\"color: #008000; text-decoration-color: #008000\">   $952,110,690 </span>│\n│<span style=\"color: #008080; text-decoration-color: #008080; font-weight: bold\"> May 25, 2018 </span>│<span style=\"color: #800080; text-decoration-color: #800080\"> Solo: A Star Wars Story           </span>│<span style=\"color: #008000; text-decoration-color: #008000\">   $393,151,347 </span>│\n│<span style=\"color: #008080; text-decoration-color: #008080; font-weight: bold\"> Dec 15, 2017 </span>│<span style=\"color: #800080; text-decoration-color: #800080\"> Star Wars Ep. V111: The Last Jedi </span>│<span style=\"color: #008000; text-decoration-color: #008000\"> $1,332,539,889 </span>│\n│<span style=\"color: #008080; text-decoration-color: #008080; font-weight: bold\"> Dec 16, 2016 </span>│<span style=\"color: #800080; text-decoration-color: #800080\"> Rogue One: A Star Wars Story      </span>│<span style=\"color: #008000; text-decoration-color: #008000\"> $1,332,439,889 </span>│\n└──────────────┴───────────────────────────────────┴────────────────┘\n</pre>\n"
     },
     "metadata": {},
     "output_type": "display_data"
    }
   ],
   "source": [],
   "metadata": {
    "collapsed": false,
    "ExecuteTime": {
     "end_time": "2023-08-09T15:19:58.424339Z",
     "start_time": "2023-08-09T15:19:58.296725Z"
    }
   },
   "id": "84f5a9baa3c707df"
  },
  {
   "cell_type": "code",
   "execution_count": 96,
   "outputs": [
    {
     "data": {
      "text/plain": "  0%|          | 0/10 [00:00<?, ?it/s]",
      "application/vnd.jupyter.widget-view+json": {
       "version_major": 2,
       "version_minor": 0,
       "model_id": "aaa45794c9e948bc8944eb8433646fa2"
      }
     },
     "metadata": {},
     "output_type": "display_data"
    },
    {
     "data": {
      "text/plain": "  0%|          | 0/3.321928094887362 [00:00<?, ?it/s]",
      "application/vnd.jupyter.widget-view+json": {
       "version_major": 2,
       "version_minor": 0,
       "model_id": "250750c3b4b44e6589c00f984de76d59"
      }
     },
     "metadata": {},
     "output_type": "display_data"
    },
    {
     "name": "stdout",
     "output_type": "stream",
     "text": [
      "0\n"
     ]
    },
    {
     "data": {
      "text/plain": "  0%|          | 0/3.321928094887362 [00:00<?, ?it/s]",
      "application/vnd.jupyter.widget-view+json": {
       "version_major": 2,
       "version_minor": 0,
       "model_id": "dd558bf9823a4f6596edf2ba83ae383b"
      }
     },
     "metadata": {},
     "output_type": "display_data"
    },
    {
     "name": "stdout",
     "output_type": "stream",
     "text": [
      "1\n"
     ]
    },
    {
     "data": {
      "text/plain": "  0%|          | 0/3.321928094887362 [00:00<?, ?it/s]",
      "application/vnd.jupyter.widget-view+json": {
       "version_major": 2,
       "version_minor": 0,
       "model_id": "ad6e549c1dc94bfb8990f1b07e3ce6ee"
      }
     },
     "metadata": {},
     "output_type": "display_data"
    },
    {
     "name": "stdout",
     "output_type": "stream",
     "text": [
      "2\n"
     ]
    },
    {
     "data": {
      "text/plain": "  0%|          | 0/3.321928094887362 [00:00<?, ?it/s]",
      "application/vnd.jupyter.widget-view+json": {
       "version_major": 2,
       "version_minor": 0,
       "model_id": "515ba6f6fa7b450ba614c0e5eed0b31d"
      }
     },
     "metadata": {},
     "output_type": "display_data"
    },
    {
     "name": "stdout",
     "output_type": "stream",
     "text": [
      "3\n"
     ]
    },
    {
     "data": {
      "text/plain": "  0%|          | 0/3.321928094887362 [00:00<?, ?it/s]",
      "application/vnd.jupyter.widget-view+json": {
       "version_major": 2,
       "version_minor": 0,
       "model_id": "72e685c25b114324848dbcd452c5f899"
      }
     },
     "metadata": {},
     "output_type": "display_data"
    },
    {
     "name": "stdout",
     "output_type": "stream",
     "text": [
      "4\n"
     ]
    },
    {
     "data": {
      "text/plain": "  0%|          | 0/3.321928094887362 [00:00<?, ?it/s]",
      "application/vnd.jupyter.widget-view+json": {
       "version_major": 2,
       "version_minor": 0,
       "model_id": "76efd150ea1d4283b6f49bcc2386001b"
      }
     },
     "metadata": {},
     "output_type": "display_data"
    },
    {
     "name": "stdout",
     "output_type": "stream",
     "text": [
      "5\n"
     ]
    },
    {
     "data": {
      "text/plain": "  0%|          | 0/3.321928094887362 [00:00<?, ?it/s]",
      "application/vnd.jupyter.widget-view+json": {
       "version_major": 2,
       "version_minor": 0,
       "model_id": "a68f6a1f84f24ec69162d45ee175120f"
      }
     },
     "metadata": {},
     "output_type": "display_data"
    },
    {
     "ename": "KeyboardInterrupt",
     "evalue": "",
     "output_type": "error",
     "traceback": [
      "\u001B[0;31m---------------------------------------------------------------------------\u001B[0m",
      "\u001B[0;31mKeyboardInterrupt\u001B[0m                         Traceback (most recent call last)",
      "Cell \u001B[0;32mIn[96], line 8\u001B[0m\n\u001B[1;32m      5\u001B[0m it2 \u001B[38;5;241m=\u001B[39m MyIter()\n\u001B[1;32m      6\u001B[0m \u001B[38;5;28;01mfor\u001B[39;00m j \u001B[38;5;129;01min\u001B[39;00m tqdm(it2, total\u001B[38;5;241m=\u001B[39mit\u001B[38;5;241m.\u001B[39m\u001B[38;5;21m__len__\u001B[39m()):\n\u001B[1;32m      7\u001B[0m     \u001B[38;5;66;03m# print(f\"    {i}\")\u001B[39;00m\n\u001B[0;32m----> 8\u001B[0m     \u001B[43mtime\u001B[49m\u001B[38;5;241;43m.\u001B[39;49m\u001B[43msleep\u001B[49m\u001B[43m(\u001B[49m\u001B[38;5;241;43m0.5\u001B[39;49m\u001B[43m)\u001B[49m\n\u001B[1;32m      9\u001B[0m time\u001B[38;5;241m.\u001B[39msleep(\u001B[38;5;241m0.5\u001B[39m)\n\u001B[1;32m     10\u001B[0m \u001B[38;5;28mprint\u001B[39m(i)\n",
      "\u001B[0;31mKeyboardInterrupt\u001B[0m: "
     ]
    }
   ],
   "source": [
    "from tqdm.notebook import tqdm, trange\n",
    "import time\n",
    "it = MyIter()\n",
    "for i in tqdm(range(10)):\n",
    "    it2 = MyIter()\n",
    "    for j in tqdm(it2, total=it.__len__()):\n",
    "        # print(f\"    {i}\")\n",
    "        time.sleep(0.5)\n",
    "    time.sleep(0.5)\n",
    "    print(i)"
   ],
   "metadata": {
    "collapsed": false,
    "ExecuteTime": {
     "end_time": "2023-08-09T14:48:53.726817Z",
     "start_time": "2023-08-09T14:48:36.184567Z"
    }
   },
   "id": "66bc9ff342e34c81"
  },
  {
   "cell_type": "code",
   "execution_count": null,
   "outputs": [],
   "source": [],
   "metadata": {
    "collapsed": false
   },
   "id": "35bf8aae061a0f39"
  }
 ],
 "metadata": {
  "kernelspec": {
   "display_name": "Python 3 (ipykernel)",
   "language": "python",
   "name": "python3"
  },
  "language_info": {
   "codemirror_mode": {
    "name": "ipython",
    "version": 3
   },
   "file_extension": ".py",
   "mimetype": "text/x-python",
   "name": "python",
   "nbconvert_exporter": "python",
   "pygments_lexer": "ipython3",
   "version": "3.10.12"
  }
 },
 "nbformat": 4,
 "nbformat_minor": 5
}
