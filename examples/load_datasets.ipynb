{
 "cells": [
  {
   "cell_type": "code",
   "execution_count": 3,
   "id": "initial_id",
   "metadata": {
    "ExecuteTime": {
     "end_time": "2023-09-18T14:27:54.775774700Z",
     "start_time": "2023-09-18T14:27:54.589966800Z"
    }
   },
   "outputs": [],
   "source": [
    "import time\n",
    "\n",
    "import tqdm.notebook\n",
    "# import time\n",
    "%load_ext autoreload\n",
    "%autoreload 2\n",
    "# # %load_ext rich"
   ]
  },
  {
   "cell_type": "code",
   "execution_count": 1,
   "id": "4c9b714fd22de712",
   "metadata": {
    "ExecuteTime": {
     "end_time": "2023-09-21T15:47:10.124266500Z",
     "start_time": "2023-09-21T15:47:06.168257300Z"
    }
   },
   "outputs": [],
   "source": [
    "import requests\n",
    "import os\n",
    "os.getcwd()\n",
    "os.chdir('/home/jecosine/Courses/Courses/COMP8800/Projects/CatBoostPlayground')\n",
    "# %reload_ext autoreload\n",
    "import allib\n",
    "from allib.models.al import get_al_strategy\n",
    "import importlib\n",
    "import pandas as pd\n",
    "import numpy as np\n",
    "\n",
    "# importlib.reload(allib)"
   ]
  },
  {
   "cell_type": "markdown",
   "id": "e91caaaf",
   "metadata": {},
   "source": [
    "## Heart Disease"
   ]
  },
  {
   "cell_type": "code",
   "execution_count": 2,
   "id": "4ac0dc6d",
   "metadata": {},
   "outputs": [],
   "source": [
    "# DB = allib.datasets.get_uci_db()\n",
    "# dataset = DB[\"heart-disease\"]\n",
    "# import requests\n",
    "# URL_TEMPLATE = \"https://archive.ics.uci.edu/static/public/%s/%s.zip\"\n",
    "# url = URL_TEMPLATE % (dataset[\"ID\"], dataset[\"slug\"])\n"
   ]
  },
  {
   "cell_type": "code",
   "execution_count": 12,
   "id": "9cb64db4",
   "metadata": {},
   "outputs": [],
   "source": [
    "ds = allib.datasets.load_uci(\"heart-disease\")\n",
    "\n",
    "# find missing values\n",
    "ds.with_preprocess(\n",
    "    steps=[\n",
    "        \"sample_n\", \n",
    "        \"categorical_only\",\n",
    "        # \"remove_constant_columns\", \n",
    "        # \"drop_duplicate_rows\"\n",
    "    ],  \n",
    "    params_list=[\n",
    "        {\"n\": 1000, \"random_state\": 0},\n",
    "        # {\"encode\": encode}, \n",
    "        {}, \n",
    "        # {}\n",
    "    ], \n",
    "    in_place=True\n",
    ")\n",
    "# df[df[\"ca\"] == \"?\"]\n",
    "# all(df.iloc[166] != \"?\")\n",
    "# df_processed = df[df.apply(lambda row: all(row != \"?\"), axis=1)]\n",
    "# len(df_processed), len(df)"
   ]
  },
  {
   "cell_type": "code",
   "execution_count": 21,
   "id": "2faa0f46",
   "metadata": {},
   "outputs": [
    {
     "data": {
      "text/html": [
       "<div>\n",
       "<style scoped>\n",
       "    .dataframe tbody tr th:only-of-type {\n",
       "        vertical-align: middle;\n",
       "    }\n",
       "\n",
       "    .dataframe tbody tr th {\n",
       "        vertical-align: top;\n",
       "    }\n",
       "\n",
       "    .dataframe thead th {\n",
       "        text-align: right;\n",
       "    }\n",
       "</style>\n",
       "<table border=\"1\" class=\"dataframe\">\n",
       "  <thead>\n",
       "    <tr style=\"text-align: right;\">\n",
       "      <th></th>\n",
       "      <th>sex</th>\n",
       "      <th>cp</th>\n",
       "      <th>fbs</th>\n",
       "      <th>restecg</th>\n",
       "      <th>exang</th>\n",
       "      <th>slope</th>\n",
       "      <th>thal</th>\n",
       "    </tr>\n",
       "  </thead>\n",
       "  <tbody>\n",
       "    <tr>\n",
       "      <th>0</th>\n",
       "      <td>1.0</td>\n",
       "      <td>1.0</td>\n",
       "      <td>0.0</td>\n",
       "      <td>2.0</td>\n",
       "      <td>0.0</td>\n",
       "      <td>2.0</td>\n",
       "      <td>6.0</td>\n",
       "    </tr>\n",
       "    <tr>\n",
       "      <th>1</th>\n",
       "      <td>0.0</td>\n",
       "      <td>4.0</td>\n",
       "      <td>0.0</td>\n",
       "      <td>2.0</td>\n",
       "      <td>0.0</td>\n",
       "      <td>2.0</td>\n",
       "      <td>3.0</td>\n",
       "    </tr>\n",
       "    <tr>\n",
       "      <th>2</th>\n",
       "      <td>1.0</td>\n",
       "      <td>3.0</td>\n",
       "      <td>1.0</td>\n",
       "      <td>2.0</td>\n",
       "      <td>1.0</td>\n",
       "      <td>2.0</td>\n",
       "      <td>6.0</td>\n",
       "    </tr>\n",
       "    <tr>\n",
       "      <th>3</th>\n",
       "      <td>1.0</td>\n",
       "      <td>4.0</td>\n",
       "      <td>0.0</td>\n",
       "      <td>2.0</td>\n",
       "      <td>0.0</td>\n",
       "      <td>1.0</td>\n",
       "      <td>3.0</td>\n",
       "    </tr>\n",
       "    <tr>\n",
       "      <th>4</th>\n",
       "      <td>1.0</td>\n",
       "      <td>2.0</td>\n",
       "      <td>0.0</td>\n",
       "      <td>0.0</td>\n",
       "      <td>1.0</td>\n",
       "      <td>1.0</td>\n",
       "      <td>3.0</td>\n",
       "    </tr>\n",
       "    <tr>\n",
       "      <th>...</th>\n",
       "      <td>...</td>\n",
       "      <td>...</td>\n",
       "      <td>...</td>\n",
       "      <td>...</td>\n",
       "      <td>...</td>\n",
       "      <td>...</td>\n",
       "      <td>...</td>\n",
       "    </tr>\n",
       "    <tr>\n",
       "      <th>292</th>\n",
       "      <td>1.0</td>\n",
       "      <td>4.0</td>\n",
       "      <td>0.0</td>\n",
       "      <td>0.0</td>\n",
       "      <td>0.0</td>\n",
       "      <td>2.0</td>\n",
       "      <td>3.0</td>\n",
       "    </tr>\n",
       "    <tr>\n",
       "      <th>293</th>\n",
       "      <td>1.0</td>\n",
       "      <td>4.0</td>\n",
       "      <td>0.0</td>\n",
       "      <td>2.0</td>\n",
       "      <td>1.0</td>\n",
       "      <td>2.0</td>\n",
       "      <td>3.0</td>\n",
       "    </tr>\n",
       "    <tr>\n",
       "      <th>294</th>\n",
       "      <td>1.0</td>\n",
       "      <td>4.0</td>\n",
       "      <td>1.0</td>\n",
       "      <td>2.0</td>\n",
       "      <td>1.0</td>\n",
       "      <td>1.0</td>\n",
       "      <td>7.0</td>\n",
       "    </tr>\n",
       "    <tr>\n",
       "      <th>295</th>\n",
       "      <td>1.0</td>\n",
       "      <td>4.0</td>\n",
       "      <td>0.0</td>\n",
       "      <td>2.0</td>\n",
       "      <td>0.0</td>\n",
       "      <td>2.0</td>\n",
       "      <td>7.0</td>\n",
       "    </tr>\n",
       "    <tr>\n",
       "      <th>296</th>\n",
       "      <td>1.0</td>\n",
       "      <td>4.0</td>\n",
       "      <td>0.0</td>\n",
       "      <td>2.0</td>\n",
       "      <td>0.0</td>\n",
       "      <td>2.0</td>\n",
       "      <td>6.0</td>\n",
       "    </tr>\n",
       "  </tbody>\n",
       "</table>\n",
       "<p>297 rows × 7 columns</p>\n",
       "</div>"
      ],
      "text/plain": [
       "     sex   cp  fbs restecg exang slope thal\n",
       "0    1.0  1.0  0.0     2.0   0.0   2.0  6.0\n",
       "1    0.0  4.0  0.0     2.0   0.0   2.0  3.0\n",
       "2    1.0  3.0  1.0     2.0   1.0   2.0  6.0\n",
       "3    1.0  4.0  0.0     2.0   0.0   1.0  3.0\n",
       "4    1.0  2.0  0.0     0.0   1.0   1.0  3.0\n",
       "..   ...  ...  ...     ...   ...   ...  ...\n",
       "292  1.0  4.0  0.0     0.0   0.0   2.0  3.0\n",
       "293  1.0  4.0  0.0     2.0   1.0   2.0  3.0\n",
       "294  1.0  4.0  1.0     2.0   1.0   1.0  7.0\n",
       "295  1.0  4.0  0.0     2.0   0.0   2.0  7.0\n",
       "296  1.0  4.0  0.0     2.0   0.0   2.0  6.0\n",
       "\n",
       "[297 rows x 7 columns]"
      ]
     },
     "execution_count": 21,
     "metadata": {},
     "output_type": "execute_result"
    }
   ],
   "source": [
    "ds._data"
   ]
  },
  {
   "cell_type": "code",
   "execution_count": 15,
   "id": "4e551ba88645c427",
   "metadata": {
    "ExecuteTime": {
     "end_time": "2023-09-21T11:40:15.653516100Z",
     "start_time": "2023-09-21T11:40:15.630546200Z"
    },
    "collapsed": false
   },
   "outputs": [],
   "source": [
    "def _get_feature_info(info: dict, dataset_name: str):\n",
    "    columns = []\n",
    "    cat_idx = []\n",
    "    for idx, attr in enumerate(info[dataset_name][\"attributes\"]):\n",
    "        a = attr[\"name\"].strip().lower().replace(\"-\", \"_\").replace(\" \", \"_\")\n",
    "        columns.append(a)\n",
    "        if attr[\"type\"] in [\"Categorical\", \"Binary\"] and attr[\"role\"] != \"Target\":\n",
    "            cat_idx.append(idx)\n",
    "    return columns, cat_idx"
   ]
  },
  {
   "cell_type": "code",
   "execution_count": 3,
   "id": "e441a5d9db8dc6d",
   "metadata": {
    "ExecuteTime": {
     "end_time": "2023-09-21T11:08:09.453508300Z",
     "start_time": "2023-09-21T11:08:09.424411100Z"
    },
    "collapsed": false
   },
   "outputs": [
    {
     "name": "stdout",
     "output_type": "stream",
     "text": [
      "614\n"
     ]
    }
   ],
   "source": [
    "uci_db = allib.datasets.get_uci_db()\n",
    "print(len(uci_db.keys()))"
   ]
  },
  {
   "cell_type": "code",
   "execution_count": 5,
   "id": "105e01ba69dc3748",
   "metadata": {
    "ExecuteTime": {
     "end_time": "2023-08-08T17:25:37.658258Z",
     "start_time": "2023-08-08T17:25:37.563497Z"
    },
    "collapsed": false
   },
   "outputs": [
    {
     "name": "stdout",
     "output_type": "stream",
     "text": [
      "total attributes: 5\n"
     ]
    }
   ],
   "source": [
    "# get attributes from datasets\n",
    "print(f\"total attributes: {len(uci_db['iris']['attributes'])}\")\n",
    "columns = []\n",
    "for a in uci_db['iris']['attributes']:\n",
    "    # handle name\n",
    "    columns.append(a[\"name\"].strip().lower().replace(\" \", \"_\"))"
   ]
  },
  {
   "cell_type": "code",
   "execution_count": 6,
   "id": "638ceac71fcba9ed",
   "metadata": {
    "ExecuteTime": {
     "end_time": "2023-08-08T17:25:41.799322Z",
     "start_time": "2023-08-08T17:25:41.697280Z"
    },
    "collapsed": false
   },
   "outputs": [],
   "source": [
    "d1 = pd.read_csv(os.path.join(allib.CACHE_DIR, \"iris/iris.data\"), skiprows=0, names=columns)\n",
    "d2 = pd.read_csv(os.path.join(allib.CACHE_DIR, \"iris/bezdekIris.data\"), skiprows=0, names=columns)"
   ]
  },
  {
   "cell_type": "code",
   "execution_count": 8,
   "id": "c92306c6ce3c47a9",
   "metadata": {
    "ExecuteTime": {
     "end_time": "2023-08-08T03:10:14.115575Z",
     "start_time": "2023-08-08T03:10:14.058321Z"
    },
    "collapsed": false
   },
   "outputs": [
    {
     "data": {
      "text/plain": [
       "array(['Iris-setosa', 'Iris-versicolor', 'Iris-virginica'], dtype=object)"
      ]
     },
     "execution_count": 8,
     "metadata": {},
     "output_type": "execute_result"
    }
   ],
   "source": [
    "d1[\"class\"].unique()"
   ]
  },
  {
   "cell_type": "code",
   "execution_count": 9,
   "id": "9ad02d00bc5692e5",
   "metadata": {
    "ExecuteTime": {
     "end_time": "2023-08-08T03:10:15.930520Z",
     "start_time": "2023-08-08T03:10:15.835771Z"
    },
    "collapsed": false
   },
   "outputs": [
    {
     "data": {
      "text/plain": [
       "array(['Iris-setosa', 'Iris-versicolor', 'Iris-virginica'], dtype=object)"
      ]
     },
     "execution_count": 9,
     "metadata": {},
     "output_type": "execute_result"
    }
   ],
   "source": [
    "d2[\"class\"].unique()"
   ]
  },
  {
   "cell_type": "code",
   "execution_count": 7,
   "id": "56797b415fcbe0e3",
   "metadata": {
    "ExecuteTime": {
     "end_time": "2023-08-08T17:26:13.394867Z",
     "start_time": "2023-08-08T17:26:13.203646Z"
    },
    "collapsed": false
   },
   "outputs": [
    {
     "data": {
      "text/html": [
       "<div>\n",
       "<style scoped>\n",
       "    .dataframe tbody tr th:only-of-type {\n",
       "        vertical-align: middle;\n",
       "    }\n",
       "\n",
       "    .dataframe tbody tr th {\n",
       "        vertical-align: top;\n",
       "    }\n",
       "\n",
       "    .dataframe thead th {\n",
       "        text-align: right;\n",
       "    }\n",
       "</style>\n",
       "<table border=\"1\" class=\"dataframe\">\n",
       "  <thead>\n",
       "    <tr style=\"text-align: right;\">\n",
       "      <th></th>\n",
       "      <th>sepal_length</th>\n",
       "      <th>sepal_width</th>\n",
       "      <th>petal_length</th>\n",
       "      <th>petal_width</th>\n",
       "    </tr>\n",
       "  </thead>\n",
       "  <tbody>\n",
       "    <tr>\n",
       "      <th>count</th>\n",
       "      <td>300.000000</td>\n",
       "      <td>300.000000</td>\n",
       "      <td>300.000000</td>\n",
       "      <td>300.000000</td>\n",
       "    </tr>\n",
       "    <tr>\n",
       "      <th>mean</th>\n",
       "      <td>5.843333</td>\n",
       "      <td>3.055667</td>\n",
       "      <td>3.758333</td>\n",
       "      <td>1.199000</td>\n",
       "    </tr>\n",
       "    <tr>\n",
       "      <th>std</th>\n",
       "      <td>0.826680</td>\n",
       "      <td>0.434007</td>\n",
       "      <td>1.761906</td>\n",
       "      <td>0.761423</td>\n",
       "    </tr>\n",
       "    <tr>\n",
       "      <th>min</th>\n",
       "      <td>4.300000</td>\n",
       "      <td>2.000000</td>\n",
       "      <td>1.000000</td>\n",
       "      <td>0.100000</td>\n",
       "    </tr>\n",
       "    <tr>\n",
       "      <th>25%</th>\n",
       "      <td>5.100000</td>\n",
       "      <td>2.800000</td>\n",
       "      <td>1.600000</td>\n",
       "      <td>0.300000</td>\n",
       "    </tr>\n",
       "    <tr>\n",
       "      <th>50%</th>\n",
       "      <td>5.800000</td>\n",
       "      <td>3.000000</td>\n",
       "      <td>4.350000</td>\n",
       "      <td>1.300000</td>\n",
       "    </tr>\n",
       "    <tr>\n",
       "      <th>75%</th>\n",
       "      <td>6.400000</td>\n",
       "      <td>3.300000</td>\n",
       "      <td>5.100000</td>\n",
       "      <td>1.800000</td>\n",
       "    </tr>\n",
       "    <tr>\n",
       "      <th>max</th>\n",
       "      <td>7.900000</td>\n",
       "      <td>4.400000</td>\n",
       "      <td>6.900000</td>\n",
       "      <td>2.500000</td>\n",
       "    </tr>\n",
       "  </tbody>\n",
       "</table>\n",
       "</div>"
      ],
      "text/plain": [
       "       sepal_length  sepal_width  petal_length  petal_width\n",
       "count    300.000000   300.000000    300.000000   300.000000\n",
       "mean       5.843333     3.055667      3.758333     1.199000\n",
       "std        0.826680     0.434007      1.761906     0.761423\n",
       "min        4.300000     2.000000      1.000000     0.100000\n",
       "25%        5.100000     2.800000      1.600000     0.300000\n",
       "50%        5.800000     3.000000      4.350000     1.300000\n",
       "75%        6.400000     3.300000      5.100000     1.800000\n",
       "max        7.900000     4.400000      6.900000     2.500000"
      ]
     },
     "execution_count": 7,
     "metadata": {},
     "output_type": "execute_result"
    }
   ],
   "source": [
    "data = pd.concat((d1, d2)).reset_index(drop=True)\n",
    "data.describe()"
   ]
  },
  {
   "cell_type": "code",
   "execution_count": 46,
   "id": "b94a537c9fb8905",
   "metadata": {
    "ExecuteTime": {
     "end_time": "2023-08-08T05:49:48.124749Z",
     "start_time": "2023-08-08T05:49:47.743245Z"
    },
    "collapsed": false
   },
   "outputs": [
    {
     "data": {
      "text/plain": [
       "<Axes: >"
      ]
     },
     "execution_count": 46,
     "metadata": {},
     "output_type": "execute_result"
    },
    {
     "data": {
      "image/png": "[encoded data removed]",
      "text/plain": [
       "<Figure size 640x480 with 1 Axes>"
      ]
     },
     "metadata": {},
     "output_type": "display_data"
    }
   ],
   "source": [
    "data[\"class\"].hist()"
   ]
  },
  {
   "cell_type": "code",
   "execution_count": 47,
   "id": "d6c1a4c94043ee7a",
   "metadata": {
    "ExecuteTime": {
     "end_time": "2023-08-08T05:49:55.743728Z",
     "start_time": "2023-08-08T05:49:55.648486Z"
    },
    "collapsed": false
   },
   "outputs": [
    {
     "data": {
      "text/html": [
       "<div>\n",
       "<style scoped>\n",
       "    .dataframe tbody tr th:only-of-type {\n",
       "        vertical-align: middle;\n",
       "    }\n",
       "\n",
       "    .dataframe tbody tr th {\n",
       "        vertical-align: top;\n",
       "    }\n",
       "\n",
       "    .dataframe thead th {\n",
       "        text-align: right;\n",
       "    }\n",
       "</style>\n",
       "<table border=\"1\" class=\"dataframe\">\n",
       "  <thead>\n",
       "    <tr style=\"text-align: right;\">\n",
       "      <th></th>\n",
       "      <th>sepal_length</th>\n",
       "      <th>sepal_width</th>\n",
       "      <th>petal_length</th>\n",
       "      <th>petal_width</th>\n",
       "      <th>class</th>\n",
       "    </tr>\n",
       "  </thead>\n",
       "  <tbody>\n",
       "    <tr>\n",
       "      <th>0</th>\n",
       "      <td>5.5</td>\n",
       "      <td>2.3</td>\n",
       "      <td>4.0</td>\n",
       "      <td>1.3</td>\n",
       "      <td>Iris-versicolor</td>\n",
       "    </tr>\n",
       "    <tr>\n",
       "      <th>1</th>\n",
       "      <td>6.5</td>\n",
       "      <td>3.0</td>\n",
       "      <td>5.5</td>\n",
       "      <td>1.8</td>\n",
       "      <td>Iris-virginica</td>\n",
       "    </tr>\n",
       "    <tr>\n",
       "      <th>2</th>\n",
       "      <td>4.7</td>\n",
       "      <td>3.2</td>\n",
       "      <td>1.3</td>\n",
       "      <td>0.2</td>\n",
       "      <td>Iris-setosa</td>\n",
       "    </tr>\n",
       "    <tr>\n",
       "      <th>3</th>\n",
       "      <td>4.9</td>\n",
       "      <td>3.1</td>\n",
       "      <td>1.5</td>\n",
       "      <td>0.1</td>\n",
       "      <td>Iris-setosa</td>\n",
       "    </tr>\n",
       "    <tr>\n",
       "      <th>4</th>\n",
       "      <td>6.0</td>\n",
       "      <td>2.7</td>\n",
       "      <td>5.1</td>\n",
       "      <td>1.6</td>\n",
       "      <td>Iris-versicolor</td>\n",
       "    </tr>\n",
       "    <tr>\n",
       "      <th>...</th>\n",
       "      <td>...</td>\n",
       "      <td>...</td>\n",
       "      <td>...</td>\n",
       "      <td>...</td>\n",
       "      <td>...</td>\n",
       "    </tr>\n",
       "    <tr>\n",
       "      <th>295</th>\n",
       "      <td>4.4</td>\n",
       "      <td>3.0</td>\n",
       "      <td>1.3</td>\n",
       "      <td>0.2</td>\n",
       "      <td>Iris-setosa</td>\n",
       "    </tr>\n",
       "    <tr>\n",
       "      <th>296</th>\n",
       "      <td>6.1</td>\n",
       "      <td>2.8</td>\n",
       "      <td>4.0</td>\n",
       "      <td>1.3</td>\n",
       "      <td>Iris-versicolor</td>\n",
       "    </tr>\n",
       "    <tr>\n",
       "      <th>297</th>\n",
       "      <td>4.9</td>\n",
       "      <td>2.5</td>\n",
       "      <td>4.5</td>\n",
       "      <td>1.7</td>\n",
       "      <td>Iris-virginica</td>\n",
       "    </tr>\n",
       "    <tr>\n",
       "      <th>298</th>\n",
       "      <td>6.9</td>\n",
       "      <td>3.2</td>\n",
       "      <td>5.7</td>\n",
       "      <td>2.3</td>\n",
       "      <td>Iris-virginica</td>\n",
       "    </tr>\n",
       "    <tr>\n",
       "      <th>299</th>\n",
       "      <td>7.1</td>\n",
       "      <td>3.0</td>\n",
       "      <td>5.9</td>\n",
       "      <td>2.1</td>\n",
       "      <td>Iris-virginica</td>\n",
       "    </tr>\n",
       "  </tbody>\n",
       "</table>\n",
       "<p>300 rows × 5 columns</p>\n",
       "</div>"
      ],
      "text/plain": [
       "     sepal_length  sepal_width  petal_length  petal_width            class\n",
       "0             5.5          2.3           4.0          1.3  Iris-versicolor\n",
       "1             6.5          3.0           5.5          1.8   Iris-virginica\n",
       "2             4.7          3.2           1.3          0.2      Iris-setosa\n",
       "3             4.9          3.1           1.5          0.1      Iris-setosa\n",
       "4             6.0          2.7           5.1          1.6  Iris-versicolor\n",
       "..            ...          ...           ...          ...              ...\n",
       "295           4.4          3.0           1.3          0.2      Iris-setosa\n",
       "296           6.1          2.8           4.0          1.3  Iris-versicolor\n",
       "297           4.9          2.5           4.5          1.7   Iris-virginica\n",
       "298           6.9          3.2           5.7          2.3   Iris-virginica\n",
       "299           7.1          3.0           5.9          2.1   Iris-virginica\n",
       "\n",
       "[300 rows x 5 columns]"
      ]
     },
     "execution_count": 47,
     "metadata": {},
     "output_type": "execute_result"
    }
   ],
   "source": [
    "# shuffle the dataset\n",
    "from sklearn.utils import shuffle\n",
    "\n",
    "data: pd.DataFrame = shuffle(data, random_state=42)\n",
    "data.reset_index(drop=True)"
   ]
  },
  {
   "cell_type": "markdown",
   "id": "33558b8e01242e71",
   "metadata": {
    "collapsed": false
   },
   "source": [
    "## Yeast"
   ]
  },
  {
   "cell_type": "code",
   "execution_count": 5,
   "id": "12e89067914dfc1b",
   "metadata": {
    "ExecuteTime": {
     "end_time": "2023-09-18T15:04:06.734783500Z",
     "start_time": "2023-09-18T15:04:06.711270700Z"
    },
    "collapsed": false
   },
   "outputs": [],
   "source": [
    "yeast_dataset = allib.datasets.load_uci(\"yeast\")"
   ]
  },
  {
   "cell_type": "code",
   "execution_count": 10,
   "id": "45dfa3130391f789",
   "metadata": {
    "ExecuteTime": {
     "end_time": "2023-09-18T14:36:23.976239Z",
     "start_time": "2023-09-18T14:36:23.927573Z"
    },
    "collapsed": false
   },
   "outputs": [
    {
     "name": "stdout",
     "output_type": "stream",
     "text": [
      "total attributes: 10\n"
     ]
    },
    {
     "data": {
      "text/plain": [
       "['sequence_name',\n",
       " 'mcg',\n",
       " 'gvh',\n",
       " 'alm',\n",
       " 'mit',\n",
       " 'erl',\n",
       " 'pox',\n",
       " 'vac',\n",
       " 'nuc',\n",
       " 'localization_site']"
      ]
     },
     "execution_count": 10,
     "metadata": {},
     "output_type": "execute_result"
    }
   ],
   "source": [
    "# get attributes from datasets\n",
    "print(f\"total attributes: {len(uci_db['yeast']['attributes'])}\")\n",
    "columns = []\n",
    "for a in uci_db['yeast']['attributes']:\n",
    "    # handle name\n",
    "    columns.append(a[\"name\"].strip().lower().replace(\" \", \"_\"))\n",
    "columns"
   ]
  },
  {
   "cell_type": "code",
   "execution_count": 11,
   "id": "a37693e3624160a5",
   "metadata": {
    "ExecuteTime": {
     "end_time": "2023-09-18T13:49:54.732631100Z",
     "start_time": "2023-09-18T13:49:54.714733200Z"
    },
    "collapsed": false
   },
   "outputs": [],
   "source": [
    "raw_data = pd.read_csv(\"dataset_cache/yeast/yeast.data\", delim_whitespace=True, names=columns)"
   ]
  },
  {
   "cell_type": "code",
   "execution_count": 17,
   "id": "c5b3142346139426",
   "metadata": {
    "ExecuteTime": {
     "end_time": "2023-09-18T13:53:27.011291Z",
     "start_time": "2023-09-18T13:53:26.988313Z"
    },
    "collapsed": false
   },
   "outputs": [],
   "source": [
    "label = raw_data.localization_site\n",
    "data = raw_data.drop(columns=[\"sequence_name\", \"localization_site\"])"
   ]
  },
  {
   "cell_type": "markdown",
   "id": "562c7ae4625ab39",
   "metadata": {
    "collapsed": false
   },
   "source": [
    "## Letter Recognition"
   ]
  },
  {
   "cell_type": "code",
   "execution_count": 2,
   "id": "deeda547de6a1f14",
   "metadata": {
    "ExecuteTime": {
     "end_time": "2023-09-18T15:39:03.458867800Z",
     "start_time": "2023-09-18T15:39:03.409826400Z"
    },
    "collapsed": false
   },
   "outputs": [],
   "source": [
    "letter_dataset = allib.datasets.load_uci(\"letter-recognition\")"
   ]
  },
  {
   "cell_type": "code",
   "execution_count": 6,
   "id": "1d9a529ab8a96690",
   "metadata": {
    "ExecuteTime": {
     "end_time": "2023-09-18T15:36:17.015442Z",
     "start_time": "2023-09-18T15:36:17.008782100Z"
    },
    "collapsed": false
   },
   "outputs": [
    {
     "name": "stdout",
     "output_type": "stream",
     "text": [
      "total attributes: 17\n"
     ]
    },
    {
     "data": {
      "text/plain": [
       "['lettr',\n",
       " 'x_box',\n",
       " 'y_box',\n",
       " 'width',\n",
       " 'high',\n",
       " 'onpix',\n",
       " 'x_bar',\n",
       " 'y_bar',\n",
       " 'x2bar',\n",
       " 'y2bar',\n",
       " 'xybar',\n",
       " 'x2ybr',\n",
       " 'xy2br',\n",
       " 'x_ege',\n",
       " 'xegvy',\n",
       " 'y_ege',\n",
       " 'yegvx']"
      ]
     },
     "execution_count": 6,
     "metadata": {},
     "output_type": "execute_result"
    }
   ],
   "source": [
    "# get attributes from datasets\n",
    "print(f\"total attributes: {len(uci_db['letter-recognition']['attributes'])}\")\n",
    "columns = []\n",
    "for a in uci_db['letter-recognition']['attributes']:\n",
    "    # handle name\n",
    "    columns.append(a[\"name\"].strip().lower().replace(\"-\", \"_\"))\n",
    "columns"
   ]
  },
  {
   "cell_type": "code",
   "execution_count": 7,
   "id": "53b7999f5fff367d",
   "metadata": {
    "ExecuteTime": {
     "end_time": "2023-09-18T15:36:19.647340200Z",
     "start_time": "2023-09-18T15:36:19.617127100Z"
    },
    "collapsed": false
   },
   "outputs": [],
   "source": [
    "raw_data = pd.read_csv(\"dataset_cache/letter-recognition/letter-recognition.data\", names=columns)"
   ]
  },
  {
   "cell_type": "code",
   "execution_count": 8,
   "id": "b29f9c91c7b02d7b",
   "metadata": {
    "ExecuteTime": {
     "end_time": "2023-09-18T15:36:22.016403500Z",
     "start_time": "2023-09-18T15:36:21.999910600Z"
    },
    "collapsed": false
   },
   "outputs": [
    {
     "data": {
      "text/html": [
       "<div>\n",
       "<style scoped>\n",
       "    .dataframe tbody tr th:only-of-type {\n",
       "        vertical-align: middle;\n",
       "    }\n",
       "\n",
       "    .dataframe tbody tr th {\n",
       "        vertical-align: top;\n",
       "    }\n",
       "\n",
       "    .dataframe thead th {\n",
       "        text-align: right;\n",
       "    }\n",
       "</style>\n",
       "<table border=\"1\" class=\"dataframe\">\n",
       "  <thead>\n",
       "    <tr style=\"text-align: right;\">\n",
       "      <th></th>\n",
       "      <th>x_box</th>\n",
       "      <th>y_box</th>\n",
       "      <th>width</th>\n",
       "      <th>high</th>\n",
       "      <th>onpix</th>\n",
       "      <th>x_bar</th>\n",
       "      <th>y_bar</th>\n",
       "      <th>x2bar</th>\n",
       "      <th>y2bar</th>\n",
       "      <th>xybar</th>\n",
       "      <th>x2ybr</th>\n",
       "      <th>xy2br</th>\n",
       "      <th>x_ege</th>\n",
       "      <th>xegvy</th>\n",
       "      <th>y_ege</th>\n",
       "      <th>yegvx</th>\n",
       "    </tr>\n",
       "  </thead>\n",
       "  <tbody>\n",
       "    <tr>\n",
       "      <th>0</th>\n",
       "      <td>2</td>\n",
       "      <td>8</td>\n",
       "      <td>3</td>\n",
       "      <td>5</td>\n",
       "      <td>1</td>\n",
       "      <td>8</td>\n",
       "      <td>13</td>\n",
       "      <td>0</td>\n",
       "      <td>6</td>\n",
       "      <td>6</td>\n",
       "      <td>10</td>\n",
       "      <td>8</td>\n",
       "      <td>0</td>\n",
       "      <td>8</td>\n",
       "      <td>0</td>\n",
       "      <td>8</td>\n",
       "    </tr>\n",
       "    <tr>\n",
       "      <th>1</th>\n",
       "      <td>5</td>\n",
       "      <td>12</td>\n",
       "      <td>3</td>\n",
       "      <td>7</td>\n",
       "      <td>2</td>\n",
       "      <td>10</td>\n",
       "      <td>5</td>\n",
       "      <td>5</td>\n",
       "      <td>4</td>\n",
       "      <td>13</td>\n",
       "      <td>3</td>\n",
       "      <td>9</td>\n",
       "      <td>2</td>\n",
       "      <td>8</td>\n",
       "      <td>4</td>\n",
       "      <td>10</td>\n",
       "    </tr>\n",
       "    <tr>\n",
       "      <th>2</th>\n",
       "      <td>4</td>\n",
       "      <td>11</td>\n",
       "      <td>6</td>\n",
       "      <td>8</td>\n",
       "      <td>6</td>\n",
       "      <td>10</td>\n",
       "      <td>6</td>\n",
       "      <td>2</td>\n",
       "      <td>6</td>\n",
       "      <td>10</td>\n",
       "      <td>3</td>\n",
       "      <td>7</td>\n",
       "      <td>3</td>\n",
       "      <td>7</td>\n",
       "      <td>3</td>\n",
       "      <td>9</td>\n",
       "    </tr>\n",
       "    <tr>\n",
       "      <th>3</th>\n",
       "      <td>7</td>\n",
       "      <td>11</td>\n",
       "      <td>6</td>\n",
       "      <td>6</td>\n",
       "      <td>3</td>\n",
       "      <td>5</td>\n",
       "      <td>9</td>\n",
       "      <td>4</td>\n",
       "      <td>6</td>\n",
       "      <td>4</td>\n",
       "      <td>4</td>\n",
       "      <td>10</td>\n",
       "      <td>6</td>\n",
       "      <td>10</td>\n",
       "      <td>2</td>\n",
       "      <td>8</td>\n",
       "    </tr>\n",
       "    <tr>\n",
       "      <th>4</th>\n",
       "      <td>2</td>\n",
       "      <td>1</td>\n",
       "      <td>3</td>\n",
       "      <td>1</td>\n",
       "      <td>1</td>\n",
       "      <td>8</td>\n",
       "      <td>6</td>\n",
       "      <td>6</td>\n",
       "      <td>6</td>\n",
       "      <td>6</td>\n",
       "      <td>5</td>\n",
       "      <td>9</td>\n",
       "      <td>1</td>\n",
       "      <td>7</td>\n",
       "      <td>5</td>\n",
       "      <td>10</td>\n",
       "    </tr>\n",
       "    <tr>\n",
       "      <th>...</th>\n",
       "      <td>...</td>\n",
       "      <td>...</td>\n",
       "      <td>...</td>\n",
       "      <td>...</td>\n",
       "      <td>...</td>\n",
       "      <td>...</td>\n",
       "      <td>...</td>\n",
       "      <td>...</td>\n",
       "      <td>...</td>\n",
       "      <td>...</td>\n",
       "      <td>...</td>\n",
       "      <td>...</td>\n",
       "      <td>...</td>\n",
       "      <td>...</td>\n",
       "      <td>...</td>\n",
       "      <td>...</td>\n",
       "    </tr>\n",
       "    <tr>\n",
       "      <th>19995</th>\n",
       "      <td>2</td>\n",
       "      <td>2</td>\n",
       "      <td>3</td>\n",
       "      <td>3</td>\n",
       "      <td>2</td>\n",
       "      <td>7</td>\n",
       "      <td>7</td>\n",
       "      <td>7</td>\n",
       "      <td>6</td>\n",
       "      <td>6</td>\n",
       "      <td>6</td>\n",
       "      <td>4</td>\n",
       "      <td>2</td>\n",
       "      <td>8</td>\n",
       "      <td>3</td>\n",
       "      <td>7</td>\n",
       "    </tr>\n",
       "    <tr>\n",
       "      <th>19996</th>\n",
       "      <td>7</td>\n",
       "      <td>10</td>\n",
       "      <td>8</td>\n",
       "      <td>8</td>\n",
       "      <td>4</td>\n",
       "      <td>4</td>\n",
       "      <td>8</td>\n",
       "      <td>6</td>\n",
       "      <td>9</td>\n",
       "      <td>12</td>\n",
       "      <td>9</td>\n",
       "      <td>13</td>\n",
       "      <td>2</td>\n",
       "      <td>9</td>\n",
       "      <td>3</td>\n",
       "      <td>7</td>\n",
       "    </tr>\n",
       "    <tr>\n",
       "      <th>19997</th>\n",
       "      <td>6</td>\n",
       "      <td>9</td>\n",
       "      <td>6</td>\n",
       "      <td>7</td>\n",
       "      <td>5</td>\n",
       "      <td>6</td>\n",
       "      <td>11</td>\n",
       "      <td>3</td>\n",
       "      <td>7</td>\n",
       "      <td>11</td>\n",
       "      <td>9</td>\n",
       "      <td>5</td>\n",
       "      <td>2</td>\n",
       "      <td>12</td>\n",
       "      <td>2</td>\n",
       "      <td>4</td>\n",
       "    </tr>\n",
       "    <tr>\n",
       "      <th>19998</th>\n",
       "      <td>2</td>\n",
       "      <td>3</td>\n",
       "      <td>4</td>\n",
       "      <td>2</td>\n",
       "      <td>1</td>\n",
       "      <td>8</td>\n",
       "      <td>7</td>\n",
       "      <td>2</td>\n",
       "      <td>6</td>\n",
       "      <td>10</td>\n",
       "      <td>6</td>\n",
       "      <td>8</td>\n",
       "      <td>1</td>\n",
       "      <td>9</td>\n",
       "      <td>5</td>\n",
       "      <td>8</td>\n",
       "    </tr>\n",
       "    <tr>\n",
       "      <th>19999</th>\n",
       "      <td>4</td>\n",
       "      <td>9</td>\n",
       "      <td>6</td>\n",
       "      <td>6</td>\n",
       "      <td>2</td>\n",
       "      <td>9</td>\n",
       "      <td>5</td>\n",
       "      <td>3</td>\n",
       "      <td>1</td>\n",
       "      <td>8</td>\n",
       "      <td>1</td>\n",
       "      <td>8</td>\n",
       "      <td>2</td>\n",
       "      <td>7</td>\n",
       "      <td>2</td>\n",
       "      <td>8</td>\n",
       "    </tr>\n",
       "  </tbody>\n",
       "</table>\n",
       "<p>20000 rows × 16 columns</p>\n",
       "</div>"
      ],
      "text/plain": [
       "       x_box  y_box  width  high  onpix  x_bar  y_bar  x2bar  y2bar  xybar  \\\n",
       "0          2      8      3     5      1      8     13      0      6      6   \n",
       "1          5     12      3     7      2     10      5      5      4     13   \n",
       "2          4     11      6     8      6     10      6      2      6     10   \n",
       "3          7     11      6     6      3      5      9      4      6      4   \n",
       "4          2      1      3     1      1      8      6      6      6      6   \n",
       "...      ...    ...    ...   ...    ...    ...    ...    ...    ...    ...   \n",
       "19995      2      2      3     3      2      7      7      7      6      6   \n",
       "19996      7     10      8     8      4      4      8      6      9     12   \n",
       "19997      6      9      6     7      5      6     11      3      7     11   \n",
       "19998      2      3      4     2      1      8      7      2      6     10   \n",
       "19999      4      9      6     6      2      9      5      3      1      8   \n",
       "\n",
       "       x2ybr  xy2br  x_ege  xegvy  y_ege  yegvx  \n",
       "0         10      8      0      8      0      8  \n",
       "1          3      9      2      8      4     10  \n",
       "2          3      7      3      7      3      9  \n",
       "3          4     10      6     10      2      8  \n",
       "4          5      9      1      7      5     10  \n",
       "...      ...    ...    ...    ...    ...    ...  \n",
       "19995      6      4      2      8      3      7  \n",
       "19996      9     13      2      9      3      7  \n",
       "19997      9      5      2     12      2      4  \n",
       "19998      6      8      1      9      5      8  \n",
       "19999      1      8      2      7      2      8  \n",
       "\n",
       "[20000 rows x 16 columns]"
      ]
     },
     "execution_count": 8,
     "metadata": {},
     "output_type": "execute_result"
    }
   ],
   "source": [
    "data = raw_data.rename(columns={\"lettr\": \"label\"})\n",
    "label = data.label.apply(str.strip)\n",
    "data = raw_data.drop(columns=[\"lettr\"])\n",
    "data"
   ]
  },
  {
   "cell_type": "markdown",
   "id": "b9c829ce69737534",
   "metadata": {
    "collapsed": false
   },
   "source": [
    "## Image Segmentation"
   ]
  },
  {
   "cell_type": "code",
   "execution_count": 2,
   "id": "c62a88a4a2beacd1",
   "metadata": {
    "ExecuteTime": {
     "end_time": "2023-09-18T16:11:36.267639400Z",
     "start_time": "2023-09-18T16:11:36.206452800Z"
    },
    "collapsed": false
   },
   "outputs": [],
   "source": [
    "img_dataset = allib.datasets.load_uci(\"image-segmentation\")"
   ]
  },
  {
   "cell_type": "code",
   "execution_count": 13,
   "id": "48801dc105679068",
   "metadata": {
    "ExecuteTime": {
     "end_time": "2023-09-18T15:46:39.455679900Z",
     "start_time": "2023-09-18T15:46:39.438609600Z"
    },
    "collapsed": false
   },
   "outputs": [
    {
     "name": "stdout",
     "output_type": "stream",
     "text": [
      "total attributes: 20\n"
     ]
    },
    {
     "data": {
      "text/plain": [
       "['class',\n",
       " 'region_centroid_col',\n",
       " 'region_centroi_row',\n",
       " 'region_pixel_count',\n",
       " 'short_line_density_5',\n",
       " 'short_line_density_2',\n",
       " 'vedge_mean',\n",
       " 'vedge_sd',\n",
       " 'hedge_mean',\n",
       " 'hedge_sd',\n",
       " 'intensity_mean',\n",
       " 'rawred_mean',\n",
       " 'rawblue_mean',\n",
       " 'rawgreen_mean',\n",
       " 'exred_mean',\n",
       " 'exblue_mean',\n",
       " 'exgreen_mean',\n",
       " 'value_mean',\n",
       " 'saturation_mean',\n",
       " 'hue_mean']"
      ]
     },
     "execution_count": 13,
     "metadata": {},
     "output_type": "execute_result"
    }
   ],
   "source": [
    "# get attributes from datasets\n",
    "print(f\"total attributes: {len(uci_db['image-segmentation']['attributes'])}\")\n",
    "columns = []\n",
    "for a in uci_db['image-segmentation']['attributes']:\n",
    "    # handle name\n",
    "    columns.append(a[\"name\"].strip().lower().replace(\"-\", \"_\"))\n",
    "columns"
   ]
  },
  {
   "cell_type": "code",
   "execution_count": 22,
   "id": "4f6e8bf86abde63a",
   "metadata": {
    "ExecuteTime": {
     "end_time": "2023-09-18T15:53:47.430370700Z",
     "start_time": "2023-09-18T15:53:47.384309200Z"
    },
    "collapsed": false
   },
   "outputs": [
    {
     "data": {
      "text/html": [
       "<div>\n",
       "<style scoped>\n",
       "    .dataframe tbody tr th:only-of-type {\n",
       "        vertical-align: middle;\n",
       "    }\n",
       "\n",
       "    .dataframe tbody tr th {\n",
       "        vertical-align: top;\n",
       "    }\n",
       "\n",
       "    .dataframe thead th {\n",
       "        text-align: right;\n",
       "    }\n",
       "</style>\n",
       "<table border=\"1\" class=\"dataframe\">\n",
       "  <thead>\n",
       "    <tr style=\"text-align: right;\">\n",
       "      <th></th>\n",
       "      <th>region_centroid_col</th>\n",
       "      <th>region_centroi_row</th>\n",
       "      <th>region_pixel_count</th>\n",
       "      <th>short_line_density_5</th>\n",
       "      <th>short_line_density_2</th>\n",
       "      <th>vedge_mean</th>\n",
       "      <th>vedge_sd</th>\n",
       "      <th>hedge_mean</th>\n",
       "      <th>hedge_sd</th>\n",
       "      <th>intensity_mean</th>\n",
       "      <th>rawred_mean</th>\n",
       "      <th>rawblue_mean</th>\n",
       "      <th>rawgreen_mean</th>\n",
       "      <th>exred_mean</th>\n",
       "      <th>exblue_mean</th>\n",
       "      <th>exgreen_mean</th>\n",
       "      <th>value_mean</th>\n",
       "      <th>saturation_mean</th>\n",
       "      <th>hue_mean</th>\n",
       "    </tr>\n",
       "  </thead>\n",
       "  <tbody>\n",
       "    <tr>\n",
       "      <th>0</th>\n",
       "      <td>110.0</td>\n",
       "      <td>189.0</td>\n",
       "      <td>9</td>\n",
       "      <td>0.000000</td>\n",
       "      <td>0.0</td>\n",
       "      <td>1.000000</td>\n",
       "      <td>0.666667</td>\n",
       "      <td>1.222222</td>\n",
       "      <td>1.186342</td>\n",
       "      <td>12.925926</td>\n",
       "      <td>10.888889</td>\n",
       "      <td>9.222222</td>\n",
       "      <td>18.666668</td>\n",
       "      <td>-6.111111</td>\n",
       "      <td>-11.111111</td>\n",
       "      <td>17.222221</td>\n",
       "      <td>18.666668</td>\n",
       "      <td>0.508139</td>\n",
       "      <td>1.910864</td>\n",
       "    </tr>\n",
       "    <tr>\n",
       "      <th>1</th>\n",
       "      <td>86.0</td>\n",
       "      <td>187.0</td>\n",
       "      <td>9</td>\n",
       "      <td>0.000000</td>\n",
       "      <td>0.0</td>\n",
       "      <td>1.111111</td>\n",
       "      <td>0.720082</td>\n",
       "      <td>1.444444</td>\n",
       "      <td>0.750309</td>\n",
       "      <td>13.740741</td>\n",
       "      <td>11.666667</td>\n",
       "      <td>10.333334</td>\n",
       "      <td>19.222221</td>\n",
       "      <td>-6.222222</td>\n",
       "      <td>-10.222222</td>\n",
       "      <td>16.444445</td>\n",
       "      <td>19.222221</td>\n",
       "      <td>0.463329</td>\n",
       "      <td>1.941465</td>\n",
       "    </tr>\n",
       "    <tr>\n",
       "      <th>2</th>\n",
       "      <td>225.0</td>\n",
       "      <td>244.0</td>\n",
       "      <td>9</td>\n",
       "      <td>0.000000</td>\n",
       "      <td>0.0</td>\n",
       "      <td>3.388889</td>\n",
       "      <td>2.195113</td>\n",
       "      <td>3.000000</td>\n",
       "      <td>1.520234</td>\n",
       "      <td>12.259259</td>\n",
       "      <td>10.333334</td>\n",
       "      <td>9.333334</td>\n",
       "      <td>17.111110</td>\n",
       "      <td>-5.777778</td>\n",
       "      <td>-8.777778</td>\n",
       "      <td>14.555555</td>\n",
       "      <td>17.111110</td>\n",
       "      <td>0.480149</td>\n",
       "      <td>1.987902</td>\n",
       "    </tr>\n",
       "    <tr>\n",
       "      <th>3</th>\n",
       "      <td>47.0</td>\n",
       "      <td>232.0</td>\n",
       "      <td>9</td>\n",
       "      <td>0.000000</td>\n",
       "      <td>0.0</td>\n",
       "      <td>1.277778</td>\n",
       "      <td>1.254621</td>\n",
       "      <td>1.000000</td>\n",
       "      <td>0.894427</td>\n",
       "      <td>12.703704</td>\n",
       "      <td>11.000000</td>\n",
       "      <td>9.000000</td>\n",
       "      <td>18.111110</td>\n",
       "      <td>-5.111111</td>\n",
       "      <td>-11.111111</td>\n",
       "      <td>16.222221</td>\n",
       "      <td>18.111110</td>\n",
       "      <td>0.500966</td>\n",
       "      <td>1.875362</td>\n",
       "    </tr>\n",
       "    <tr>\n",
       "      <th>4</th>\n",
       "      <td>97.0</td>\n",
       "      <td>186.0</td>\n",
       "      <td>9</td>\n",
       "      <td>0.000000</td>\n",
       "      <td>0.0</td>\n",
       "      <td>1.166667</td>\n",
       "      <td>0.691215</td>\n",
       "      <td>1.166667</td>\n",
       "      <td>1.005540</td>\n",
       "      <td>15.592592</td>\n",
       "      <td>13.888889</td>\n",
       "      <td>11.777778</td>\n",
       "      <td>21.111110</td>\n",
       "      <td>-5.111111</td>\n",
       "      <td>-11.444445</td>\n",
       "      <td>16.555555</td>\n",
       "      <td>21.111110</td>\n",
       "      <td>0.442661</td>\n",
       "      <td>1.863654</td>\n",
       "    </tr>\n",
       "    <tr>\n",
       "      <th>...</th>\n",
       "      <td>...</td>\n",
       "      <td>...</td>\n",
       "      <td>...</td>\n",
       "      <td>...</td>\n",
       "      <td>...</td>\n",
       "      <td>...</td>\n",
       "      <td>...</td>\n",
       "      <td>...</td>\n",
       "      <td>...</td>\n",
       "      <td>...</td>\n",
       "      <td>...</td>\n",
       "      <td>...</td>\n",
       "      <td>...</td>\n",
       "      <td>...</td>\n",
       "      <td>...</td>\n",
       "      <td>...</td>\n",
       "      <td>...</td>\n",
       "      <td>...</td>\n",
       "      <td>...</td>\n",
       "    </tr>\n",
       "    <tr>\n",
       "      <th>2095</th>\n",
       "      <td>32.0</td>\n",
       "      <td>158.0</td>\n",
       "      <td>9</td>\n",
       "      <td>0.000000</td>\n",
       "      <td>0.0</td>\n",
       "      <td>0.944445</td>\n",
       "      <td>0.862963</td>\n",
       "      <td>0.833333</td>\n",
       "      <td>0.611111</td>\n",
       "      <td>7.962963</td>\n",
       "      <td>6.333334</td>\n",
       "      <td>11.888889</td>\n",
       "      <td>5.666666</td>\n",
       "      <td>-4.888889</td>\n",
       "      <td>11.777778</td>\n",
       "      <td>-6.888889</td>\n",
       "      <td>11.888889</td>\n",
       "      <td>0.520578</td>\n",
       "      <td>-1.982834</td>\n",
       "    </tr>\n",
       "    <tr>\n",
       "      <th>2096</th>\n",
       "      <td>8.0</td>\n",
       "      <td>162.0</td>\n",
       "      <td>9</td>\n",
       "      <td>0.111111</td>\n",
       "      <td>0.0</td>\n",
       "      <td>1.611111</td>\n",
       "      <td>2.062962</td>\n",
       "      <td>0.333333</td>\n",
       "      <td>0.133333</td>\n",
       "      <td>8.370370</td>\n",
       "      <td>6.666666</td>\n",
       "      <td>12.000000</td>\n",
       "      <td>6.444445</td>\n",
       "      <td>-5.111111</td>\n",
       "      <td>10.888889</td>\n",
       "      <td>-5.777778</td>\n",
       "      <td>12.000000</td>\n",
       "      <td>0.484805</td>\n",
       "      <td>-2.044946</td>\n",
       "    </tr>\n",
       "    <tr>\n",
       "      <th>2097</th>\n",
       "      <td>128.0</td>\n",
       "      <td>161.0</td>\n",
       "      <td>9</td>\n",
       "      <td>0.000000</td>\n",
       "      <td>0.0</td>\n",
       "      <td>0.555555</td>\n",
       "      <td>0.251852</td>\n",
       "      <td>0.777778</td>\n",
       "      <td>0.162963</td>\n",
       "      <td>7.148148</td>\n",
       "      <td>5.555555</td>\n",
       "      <td>10.888889</td>\n",
       "      <td>5.000000</td>\n",
       "      <td>-4.777778</td>\n",
       "      <td>11.222222</td>\n",
       "      <td>-6.444445</td>\n",
       "      <td>10.888889</td>\n",
       "      <td>0.540918</td>\n",
       "      <td>-1.996307</td>\n",
       "    </tr>\n",
       "    <tr>\n",
       "      <th>2098</th>\n",
       "      <td>150.0</td>\n",
       "      <td>158.0</td>\n",
       "      <td>9</td>\n",
       "      <td>0.000000</td>\n",
       "      <td>0.0</td>\n",
       "      <td>2.166667</td>\n",
       "      <td>1.633334</td>\n",
       "      <td>1.388889</td>\n",
       "      <td>0.418518</td>\n",
       "      <td>8.444445</td>\n",
       "      <td>7.000000</td>\n",
       "      <td>12.222222</td>\n",
       "      <td>6.111111</td>\n",
       "      <td>-4.333334</td>\n",
       "      <td>11.333333</td>\n",
       "      <td>-7.000000</td>\n",
       "      <td>12.222222</td>\n",
       "      <td>0.503086</td>\n",
       "      <td>-1.943449</td>\n",
       "    </tr>\n",
       "    <tr>\n",
       "      <th>2099</th>\n",
       "      <td>124.0</td>\n",
       "      <td>162.0</td>\n",
       "      <td>9</td>\n",
       "      <td>0.111111</td>\n",
       "      <td>0.0</td>\n",
       "      <td>1.388889</td>\n",
       "      <td>1.129630</td>\n",
       "      <td>2.000000</td>\n",
       "      <td>0.888889</td>\n",
       "      <td>10.037037</td>\n",
       "      <td>8.000000</td>\n",
       "      <td>14.555555</td>\n",
       "      <td>7.555555</td>\n",
       "      <td>-6.111111</td>\n",
       "      <td>13.555555</td>\n",
       "      <td>-7.444445</td>\n",
       "      <td>14.555555</td>\n",
       "      <td>0.479931</td>\n",
       "      <td>-2.029312</td>\n",
       "    </tr>\n",
       "  </tbody>\n",
       "</table>\n",
       "<p>2100 rows × 19 columns</p>\n",
       "</div>"
      ],
      "text/plain": [
       "      region_centroid_col  region_centroi_row  region_pixel_count  \\\n",
       "0                   110.0               189.0                   9   \n",
       "1                    86.0               187.0                   9   \n",
       "2                   225.0               244.0                   9   \n",
       "3                    47.0               232.0                   9   \n",
       "4                    97.0               186.0                   9   \n",
       "...                   ...                 ...                 ...   \n",
       "2095                 32.0               158.0                   9   \n",
       "2096                  8.0               162.0                   9   \n",
       "2097                128.0               161.0                   9   \n",
       "2098                150.0               158.0                   9   \n",
       "2099                124.0               162.0                   9   \n",
       "\n",
       "      short_line_density_5  short_line_density_2  vedge_mean  vedge_sd  \\\n",
       "0                 0.000000                   0.0    1.000000  0.666667   \n",
       "1                 0.000000                   0.0    1.111111  0.720082   \n",
       "2                 0.000000                   0.0    3.388889  2.195113   \n",
       "3                 0.000000                   0.0    1.277778  1.254621   \n",
       "4                 0.000000                   0.0    1.166667  0.691215   \n",
       "...                    ...                   ...         ...       ...   \n",
       "2095              0.000000                   0.0    0.944445  0.862963   \n",
       "2096              0.111111                   0.0    1.611111  2.062962   \n",
       "2097              0.000000                   0.0    0.555555  0.251852   \n",
       "2098              0.000000                   0.0    2.166667  1.633334   \n",
       "2099              0.111111                   0.0    1.388889  1.129630   \n",
       "\n",
       "      hedge_mean  hedge_sd  intensity_mean  rawred_mean  rawblue_mean  \\\n",
       "0       1.222222  1.186342       12.925926    10.888889      9.222222   \n",
       "1       1.444444  0.750309       13.740741    11.666667     10.333334   \n",
       "2       3.000000  1.520234       12.259259    10.333334      9.333334   \n",
       "3       1.000000  0.894427       12.703704    11.000000      9.000000   \n",
       "4       1.166667  1.005540       15.592592    13.888889     11.777778   \n",
       "...          ...       ...             ...          ...           ...   \n",
       "2095    0.833333  0.611111        7.962963     6.333334     11.888889   \n",
       "2096    0.333333  0.133333        8.370370     6.666666     12.000000   \n",
       "2097    0.777778  0.162963        7.148148     5.555555     10.888889   \n",
       "2098    1.388889  0.418518        8.444445     7.000000     12.222222   \n",
       "2099    2.000000  0.888889       10.037037     8.000000     14.555555   \n",
       "\n",
       "      rawgreen_mean  exred_mean  exblue_mean  exgreen_mean  value_mean  \\\n",
       "0         18.666668   -6.111111   -11.111111     17.222221   18.666668   \n",
       "1         19.222221   -6.222222   -10.222222     16.444445   19.222221   \n",
       "2         17.111110   -5.777778    -8.777778     14.555555   17.111110   \n",
       "3         18.111110   -5.111111   -11.111111     16.222221   18.111110   \n",
       "4         21.111110   -5.111111   -11.444445     16.555555   21.111110   \n",
       "...             ...         ...          ...           ...         ...   \n",
       "2095       5.666666   -4.888889    11.777778     -6.888889   11.888889   \n",
       "2096       6.444445   -5.111111    10.888889     -5.777778   12.000000   \n",
       "2097       5.000000   -4.777778    11.222222     -6.444445   10.888889   \n",
       "2098       6.111111   -4.333334    11.333333     -7.000000   12.222222   \n",
       "2099       7.555555   -6.111111    13.555555     -7.444445   14.555555   \n",
       "\n",
       "      saturation_mean  hue_mean  \n",
       "0            0.508139  1.910864  \n",
       "1            0.463329  1.941465  \n",
       "2            0.480149  1.987902  \n",
       "3            0.500966  1.875362  \n",
       "4            0.442661  1.863654  \n",
       "...               ...       ...  \n",
       "2095         0.520578 -1.982834  \n",
       "2096         0.484805 -2.044946  \n",
       "2097         0.540918 -1.996307  \n",
       "2098         0.503086 -1.943449  \n",
       "2099         0.479931 -2.029312  \n",
       "\n",
       "[2100 rows x 19 columns]"
      ]
     },
     "execution_count": 22,
     "metadata": {},
     "output_type": "execute_result"
    }
   ],
   "source": [
    "d1 = pd.read_csv(\"dataset_cache/image-segmentation/segmentation.test\", skiprows=5, names=columns)\n",
    "data = d1.rename(columns={\"class\": \"label\"})\n",
    "label = data.label.apply(str.strip)\n",
    "data = data.drop(columns=[\"label\"])\n",
    "data"
   ]
  },
  {
   "cell_type": "code",
   "execution_count": 20,
   "id": "fcee65c09215be01",
   "metadata": {
    "ExecuteTime": {
     "end_time": "2023-09-18T15:51:01.970870300Z",
     "start_time": "2023-09-18T15:51:01.932379300Z"
    },
    "collapsed": false
   },
   "outputs": [
    {
     "data": {
      "text/html": [
       "<div>\n",
       "<style scoped>\n",
       "    .dataframe tbody tr th:only-of-type {\n",
       "        vertical-align: middle;\n",
       "    }\n",
       "\n",
       "    .dataframe tbody tr th {\n",
       "        vertical-align: top;\n",
       "    }\n",
       "\n",
       "    .dataframe thead th {\n",
       "        text-align: right;\n",
       "    }\n",
       "</style>\n",
       "<table border=\"1\" class=\"dataframe\">\n",
       "  <thead>\n",
       "    <tr style=\"text-align: right;\">\n",
       "      <th></th>\n",
       "      <th>region_centroid_col</th>\n",
       "      <th>region_centroi_row</th>\n",
       "      <th>region_pixel_count</th>\n",
       "      <th>short_line_density_5</th>\n",
       "      <th>short_line_density_2</th>\n",
       "      <th>vedge_mean</th>\n",
       "      <th>vedge_sd</th>\n",
       "      <th>hedge_mean</th>\n",
       "      <th>hedge_sd</th>\n",
       "      <th>intensity_mean</th>\n",
       "      <th>rawred_mean</th>\n",
       "      <th>rawblue_mean</th>\n",
       "      <th>rawgreen_mean</th>\n",
       "      <th>exred_mean</th>\n",
       "      <th>exblue_mean</th>\n",
       "      <th>exgreen_mean</th>\n",
       "      <th>value_mean</th>\n",
       "      <th>saturation_mean</th>\n",
       "      <th>hue_mean</th>\n",
       "    </tr>\n",
       "  </thead>\n",
       "  <tbody>\n",
       "    <tr>\n",
       "      <th>0</th>\n",
       "      <td>140.0</td>\n",
       "      <td>125.0</td>\n",
       "      <td>9</td>\n",
       "      <td>0.000000</td>\n",
       "      <td>0.0</td>\n",
       "      <td>0.277778</td>\n",
       "      <td>0.062963</td>\n",
       "      <td>0.666667</td>\n",
       "      <td>0.311111</td>\n",
       "      <td>6.185185</td>\n",
       "      <td>7.333334</td>\n",
       "      <td>7.666666</td>\n",
       "      <td>3.555556</td>\n",
       "      <td>3.444444</td>\n",
       "      <td>4.444445</td>\n",
       "      <td>-7.888889</td>\n",
       "      <td>7.777778</td>\n",
       "      <td>0.545635</td>\n",
       "      <td>-1.121818</td>\n",
       "    </tr>\n",
       "    <tr>\n",
       "      <th>1</th>\n",
       "      <td>188.0</td>\n",
       "      <td>133.0</td>\n",
       "      <td>9</td>\n",
       "      <td>0.000000</td>\n",
       "      <td>0.0</td>\n",
       "      <td>0.333333</td>\n",
       "      <td>0.266667</td>\n",
       "      <td>0.500000</td>\n",
       "      <td>0.077778</td>\n",
       "      <td>6.666666</td>\n",
       "      <td>8.333334</td>\n",
       "      <td>7.777778</td>\n",
       "      <td>3.888889</td>\n",
       "      <td>5.000000</td>\n",
       "      <td>3.333333</td>\n",
       "      <td>-8.333333</td>\n",
       "      <td>8.444445</td>\n",
       "      <td>0.538580</td>\n",
       "      <td>-0.924817</td>\n",
       "    </tr>\n",
       "    <tr>\n",
       "      <th>2</th>\n",
       "      <td>105.0</td>\n",
       "      <td>139.0</td>\n",
       "      <td>9</td>\n",
       "      <td>0.000000</td>\n",
       "      <td>0.0</td>\n",
       "      <td>0.277778</td>\n",
       "      <td>0.107407</td>\n",
       "      <td>0.833333</td>\n",
       "      <td>0.522222</td>\n",
       "      <td>6.111111</td>\n",
       "      <td>7.555555</td>\n",
       "      <td>7.222222</td>\n",
       "      <td>3.555556</td>\n",
       "      <td>4.333334</td>\n",
       "      <td>3.333333</td>\n",
       "      <td>-7.666666</td>\n",
       "      <td>7.555555</td>\n",
       "      <td>0.532628</td>\n",
       "      <td>-0.965946</td>\n",
       "    </tr>\n",
       "    <tr>\n",
       "      <th>3</th>\n",
       "      <td>34.0</td>\n",
       "      <td>137.0</td>\n",
       "      <td>9</td>\n",
       "      <td>0.000000</td>\n",
       "      <td>0.0</td>\n",
       "      <td>0.500000</td>\n",
       "      <td>0.166667</td>\n",
       "      <td>1.111111</td>\n",
       "      <td>0.474074</td>\n",
       "      <td>5.851852</td>\n",
       "      <td>7.777778</td>\n",
       "      <td>6.444445</td>\n",
       "      <td>3.333333</td>\n",
       "      <td>5.777778</td>\n",
       "      <td>1.777778</td>\n",
       "      <td>-7.555555</td>\n",
       "      <td>7.777778</td>\n",
       "      <td>0.573633</td>\n",
       "      <td>-0.744272</td>\n",
       "    </tr>\n",
       "    <tr>\n",
       "      <th>4</th>\n",
       "      <td>39.0</td>\n",
       "      <td>111.0</td>\n",
       "      <td>9</td>\n",
       "      <td>0.000000</td>\n",
       "      <td>0.0</td>\n",
       "      <td>0.722222</td>\n",
       "      <td>0.374074</td>\n",
       "      <td>0.888889</td>\n",
       "      <td>0.429629</td>\n",
       "      <td>6.037037</td>\n",
       "      <td>7.000000</td>\n",
       "      <td>7.666666</td>\n",
       "      <td>3.444444</td>\n",
       "      <td>2.888889</td>\n",
       "      <td>4.888889</td>\n",
       "      <td>-7.777778</td>\n",
       "      <td>7.888889</td>\n",
       "      <td>0.562919</td>\n",
       "      <td>-1.175773</td>\n",
       "    </tr>\n",
       "    <tr>\n",
       "      <th>...</th>\n",
       "      <td>...</td>\n",
       "      <td>...</td>\n",
       "      <td>...</td>\n",
       "      <td>...</td>\n",
       "      <td>...</td>\n",
       "      <td>...</td>\n",
       "      <td>...</td>\n",
       "      <td>...</td>\n",
       "      <td>...</td>\n",
       "      <td>...</td>\n",
       "      <td>...</td>\n",
       "      <td>...</td>\n",
       "      <td>...</td>\n",
       "      <td>...</td>\n",
       "      <td>...</td>\n",
       "      <td>...</td>\n",
       "      <td>...</td>\n",
       "      <td>...</td>\n",
       "      <td>...</td>\n",
       "    </tr>\n",
       "    <tr>\n",
       "      <th>205</th>\n",
       "      <td>36.0</td>\n",
       "      <td>243.0</td>\n",
       "      <td>9</td>\n",
       "      <td>0.111111</td>\n",
       "      <td>0.0</td>\n",
       "      <td>1.888889</td>\n",
       "      <td>1.851851</td>\n",
       "      <td>2.000000</td>\n",
       "      <td>0.711110</td>\n",
       "      <td>13.333333</td>\n",
       "      <td>9.888889</td>\n",
       "      <td>12.111111</td>\n",
       "      <td>18.000000</td>\n",
       "      <td>-10.333333</td>\n",
       "      <td>-3.666667</td>\n",
       "      <td>14.000000</td>\n",
       "      <td>18.000000</td>\n",
       "      <td>0.452229</td>\n",
       "      <td>2.368311</td>\n",
       "    </tr>\n",
       "    <tr>\n",
       "      <th>206</th>\n",
       "      <td>186.0</td>\n",
       "      <td>218.0</td>\n",
       "      <td>9</td>\n",
       "      <td>0.000000</td>\n",
       "      <td>0.0</td>\n",
       "      <td>1.166667</td>\n",
       "      <td>0.744444</td>\n",
       "      <td>1.166667</td>\n",
       "      <td>0.655555</td>\n",
       "      <td>13.703704</td>\n",
       "      <td>10.666667</td>\n",
       "      <td>12.666667</td>\n",
       "      <td>17.777779</td>\n",
       "      <td>-9.111111</td>\n",
       "      <td>-3.111111</td>\n",
       "      <td>12.222222</td>\n",
       "      <td>17.777779</td>\n",
       "      <td>0.401347</td>\n",
       "      <td>2.382684</td>\n",
       "    </tr>\n",
       "    <tr>\n",
       "      <th>207</th>\n",
       "      <td>197.0</td>\n",
       "      <td>236.0</td>\n",
       "      <td>9</td>\n",
       "      <td>0.000000</td>\n",
       "      <td>0.0</td>\n",
       "      <td>2.444444</td>\n",
       "      <td>6.829628</td>\n",
       "      <td>3.333333</td>\n",
       "      <td>7.599998</td>\n",
       "      <td>16.074074</td>\n",
       "      <td>13.111111</td>\n",
       "      <td>16.666668</td>\n",
       "      <td>18.444445</td>\n",
       "      <td>-8.888889</td>\n",
       "      <td>1.777778</td>\n",
       "      <td>7.111111</td>\n",
       "      <td>18.555555</td>\n",
       "      <td>0.292729</td>\n",
       "      <td>2.789800</td>\n",
       "    </tr>\n",
       "    <tr>\n",
       "      <th>208</th>\n",
       "      <td>208.0</td>\n",
       "      <td>240.0</td>\n",
       "      <td>9</td>\n",
       "      <td>0.111111</td>\n",
       "      <td>0.0</td>\n",
       "      <td>1.055556</td>\n",
       "      <td>0.862963</td>\n",
       "      <td>2.444444</td>\n",
       "      <td>5.007407</td>\n",
       "      <td>14.148149</td>\n",
       "      <td>10.888889</td>\n",
       "      <td>13.000000</td>\n",
       "      <td>18.555555</td>\n",
       "      <td>-9.777778</td>\n",
       "      <td>-3.444444</td>\n",
       "      <td>13.222222</td>\n",
       "      <td>18.555555</td>\n",
       "      <td>0.421621</td>\n",
       "      <td>2.392487</td>\n",
       "    </tr>\n",
       "    <tr>\n",
       "      <th>209</th>\n",
       "      <td>223.0</td>\n",
       "      <td>185.0</td>\n",
       "      <td>9</td>\n",
       "      <td>0.000000</td>\n",
       "      <td>0.0</td>\n",
       "      <td>0.500000</td>\n",
       "      <td>0.349603</td>\n",
       "      <td>2.388889</td>\n",
       "      <td>2.080776</td>\n",
       "      <td>12.962963</td>\n",
       "      <td>11.555555</td>\n",
       "      <td>9.777778</td>\n",
       "      <td>17.555555</td>\n",
       "      <td>-4.222222</td>\n",
       "      <td>-9.555555</td>\n",
       "      <td>13.777778</td>\n",
       "      <td>17.555555</td>\n",
       "      <td>0.445418</td>\n",
       "      <td>1.838850</td>\n",
       "    </tr>\n",
       "  </tbody>\n",
       "</table>\n",
       "<p>210 rows × 19 columns</p>\n",
       "</div>"
      ],
      "text/plain": [
       "     region_centroid_col  region_centroi_row  region_pixel_count  \\\n",
       "0                  140.0               125.0                   9   \n",
       "1                  188.0               133.0                   9   \n",
       "2                  105.0               139.0                   9   \n",
       "3                   34.0               137.0                   9   \n",
       "4                   39.0               111.0                   9   \n",
       "..                   ...                 ...                 ...   \n",
       "205                 36.0               243.0                   9   \n",
       "206                186.0               218.0                   9   \n",
       "207                197.0               236.0                   9   \n",
       "208                208.0               240.0                   9   \n",
       "209                223.0               185.0                   9   \n",
       "\n",
       "     short_line_density_5  short_line_density_2  vedge_mean  vedge_sd  \\\n",
       "0                0.000000                   0.0    0.277778  0.062963   \n",
       "1                0.000000                   0.0    0.333333  0.266667   \n",
       "2                0.000000                   0.0    0.277778  0.107407   \n",
       "3                0.000000                   0.0    0.500000  0.166667   \n",
       "4                0.000000                   0.0    0.722222  0.374074   \n",
       "..                    ...                   ...         ...       ...   \n",
       "205              0.111111                   0.0    1.888889  1.851851   \n",
       "206              0.000000                   0.0    1.166667  0.744444   \n",
       "207              0.000000                   0.0    2.444444  6.829628   \n",
       "208              0.111111                   0.0    1.055556  0.862963   \n",
       "209              0.000000                   0.0    0.500000  0.349603   \n",
       "\n",
       "     hedge_mean  hedge_sd  intensity_mean  rawred_mean  rawblue_mean  \\\n",
       "0      0.666667  0.311111        6.185185     7.333334      7.666666   \n",
       "1      0.500000  0.077778        6.666666     8.333334      7.777778   \n",
       "2      0.833333  0.522222        6.111111     7.555555      7.222222   \n",
       "3      1.111111  0.474074        5.851852     7.777778      6.444445   \n",
       "4      0.888889  0.429629        6.037037     7.000000      7.666666   \n",
       "..          ...       ...             ...          ...           ...   \n",
       "205    2.000000  0.711110       13.333333     9.888889     12.111111   \n",
       "206    1.166667  0.655555       13.703704    10.666667     12.666667   \n",
       "207    3.333333  7.599998       16.074074    13.111111     16.666668   \n",
       "208    2.444444  5.007407       14.148149    10.888889     13.000000   \n",
       "209    2.388889  2.080776       12.962963    11.555555      9.777778   \n",
       "\n",
       "     rawgreen_mean  exred_mean  exblue_mean  exgreen_mean  value_mean  \\\n",
       "0         3.555556    3.444444     4.444445     -7.888889    7.777778   \n",
       "1         3.888889    5.000000     3.333333     -8.333333    8.444445   \n",
       "2         3.555556    4.333334     3.333333     -7.666666    7.555555   \n",
       "3         3.333333    5.777778     1.777778     -7.555555    7.777778   \n",
       "4         3.444444    2.888889     4.888889     -7.777778    7.888889   \n",
       "..             ...         ...          ...           ...         ...   \n",
       "205      18.000000  -10.333333    -3.666667     14.000000   18.000000   \n",
       "206      17.777779   -9.111111    -3.111111     12.222222   17.777779   \n",
       "207      18.444445   -8.888889     1.777778      7.111111   18.555555   \n",
       "208      18.555555   -9.777778    -3.444444     13.222222   18.555555   \n",
       "209      17.555555   -4.222222    -9.555555     13.777778   17.555555   \n",
       "\n",
       "     saturation_mean  hue_mean  \n",
       "0           0.545635 -1.121818  \n",
       "1           0.538580 -0.924817  \n",
       "2           0.532628 -0.965946  \n",
       "3           0.573633 -0.744272  \n",
       "4           0.562919 -1.175773  \n",
       "..               ...       ...  \n",
       "205         0.452229  2.368311  \n",
       "206         0.401347  2.382684  \n",
       "207         0.292729  2.789800  \n",
       "208         0.421621  2.392487  \n",
       "209         0.445418  1.838850  \n",
       "\n",
       "[210 rows x 19 columns]"
      ]
     },
     "execution_count": 20,
     "metadata": {},
     "output_type": "execute_result"
    }
   ],
   "source": [
    "d = pd.read_csv(\"dataset_cache/image-segmentation/segmentation.data\", skiprows=5, names=columns)\n",
    "data = d.rename(columns={\"class\": \"label\"})\n",
    "label = data.label.apply(str.strip)\n",
    "data = data.drop(columns=[\"label\"])\n",
    "data"
   ]
  },
  {
   "cell_type": "markdown",
   "id": "1a6d8bdccf196203",
   "metadata": {
    "collapsed": false
   },
   "source": [
    "## Balance Scale"
   ]
  },
  {
   "cell_type": "code",
   "execution_count": 4,
   "id": "d785893042d3937e",
   "metadata": {
    "ExecuteTime": {
     "end_time": "2023-09-21T11:09:18.923303600Z",
     "start_time": "2023-09-21T11:09:18.217672800Z"
    },
    "collapsed": false
   },
   "outputs": [
    {
     "name": "stderr",
     "output_type": "stream",
     "text": [
      "Dataset balance-scale downloaded, but it need to be manually processed\n"
     ]
    },
    {
     "name": "stdout",
     "output_type": "stream",
     "text": [
      "Temp file downloaded: C:\\Users\\MJ_OL\\AppData\\Local\\Temp\\tmppyubnw6y\n",
      "Extracting C:\\Users\\MJ_OL\\AppData\\Local\\Temp\\tmppyubnw6y to E:\\Courses\\COMP8800\\Projects\\CatBoostPlayground\\examples\\dataset_cache\\balance-scale...\n"
     ]
    }
   ],
   "source": [
    "bs_dataset = allib.datasets.load_uci(\"balance-scale\")"
   ]
  },
  {
   "cell_type": "code",
   "execution_count": null,
   "id": "d122b71862214fe6",
   "metadata": {
    "collapsed": false
   },
   "outputs": [],
   "source": [
    "columns, cat_idx = _get_feature_info(uci_db, \"balance-scale\")\n",
    "d = pd.read_csv(\"dataset_cache/balance-scale/balance-scale.data\", skiprows=0, names=columns)\n",
    "data = d.rename(columns={\"class_name\": \"label\"})\n",
    "label = data.label\n",
    "data = data.drop(columns=[\"label\"])\n",
    "data,label"
   ]
  },
  {
   "cell_type": "markdown",
   "id": "4a1ac71ba676351e",
   "metadata": {
    "collapsed": false
   },
   "source": [
    "## Glass Identification"
   ]
  },
  {
   "cell_type": "code",
   "execution_count": 24,
   "id": "aafb7481236284dd",
   "metadata": {
    "ExecuteTime": {
     "end_time": "2023-09-21T12:11:48.033829500Z",
     "start_time": "2023-09-21T12:11:47.465495300Z"
    },
    "collapsed": false
   },
   "outputs": [
    {
     "name": "stderr",
     "output_type": "stream",
     "text": [
      "Dataset glass-identification downloaded, but it need to be manually processed\n"
     ]
    },
    {
     "name": "stdout",
     "output_type": "stream",
     "text": [
      "Temp file downloaded: C:\\Users\\MJ_OL\\AppData\\Local\\Temp\\tmpq9r540gi\n",
      "Extracting C:\\Users\\MJ_OL\\AppData\\Local\\Temp\\tmpq9r540gi to E:\\Courses\\COMP8800\\Projects\\CatBoostPlayground\\examples\\dataset_cache\\glass-identification...\n"
     ]
    }
   ],
   "source": [
    "gi_dataset = allib.datasets.load_uci(\"glass-identification\")"
   ]
  },
  {
   "cell_type": "code",
   "execution_count": null,
   "id": "c014bc69a47b04ec",
   "metadata": {
    "collapsed": false
   },
   "outputs": [],
   "source": [
    "columns, cat_idx = _get_feature_info(uci_db, \"glass-identification\")\n",
    "d = pd.read_csv(\"dataset_cache/glass-identification/glass.data\", skiprows=0, names=columns)\n",
    "data = d.rename(columns={\"type_of_glass\": \"label\"})\n",
    "label = data.label\n",
    "data = data.drop(columns=[\"id_number\", \"label\"])\n",
    "data,label"
   ]
  },
  {
   "cell_type": "markdown",
   "id": "64c020ee69f6423b",
   "metadata": {
    "collapsed": false
   },
   "source": [
    "## Wine"
   ]
  },
  {
   "cell_type": "code",
   "execution_count": 35,
   "id": "83b1a3b1f9857136",
   "metadata": {
    "ExecuteTime": {
     "end_time": "2023-09-21T12:52:04.678298200Z",
     "start_time": "2023-09-21T12:52:03.985183700Z"
    },
    "collapsed": false
   },
   "outputs": [
    {
     "name": "stderr",
     "output_type": "stream",
     "text": [
      "Dataset wine downloaded, but it need to be manually processed\n"
     ]
    },
    {
     "name": "stdout",
     "output_type": "stream",
     "text": [
      "Temp file downloaded: C:\\Users\\MJ_OL\\AppData\\Local\\Temp\\tmpf73t_6ru\n",
      "Extracting C:\\Users\\MJ_OL\\AppData\\Local\\Temp\\tmpf73t_6ru to E:\\Courses\\COMP8800\\Projects\\CatBoostPlayground\\examples\\dataset_cache\\wine...\n"
     ]
    }
   ],
   "source": [
    "name = \"wine\"\n",
    "wine_dataset = allib.datasets.load_uci(name)"
   ]
  },
  {
   "cell_type": "code",
   "execution_count": 4,
   "id": "73e858d71d1cbb61",
   "metadata": {
    "ExecuteTime": {
     "end_time": "2023-09-21T15:49:04.477075700Z",
     "start_time": "2023-09-21T15:49:04.456109500Z"
    },
    "collapsed": false
   },
   "outputs": [
    {
     "data": {
      "text/plain": [
       "\"<class 'allib.models.al.al_strategies.UncertainStrategy'>\""
      ]
     },
     "execution_count": 4,
     "metadata": {},
     "output_type": "execute_result"
    }
   ],
   "source": []
  },
  {
   "cell_type": "code",
   "execution_count": 38,
   "id": "97979e738d565ebc",
   "metadata": {
    "ExecuteTime": {
     "end_time": "2023-09-21T12:53:32.330323600Z",
     "start_time": "2023-09-21T12:53:32.302943500Z"
    },
    "collapsed": false
   },
   "outputs": [
    {
     "data": {
      "text/html": [
       "<div>\n",
       "<style scoped>\n",
       "    .dataframe tbody tr th:only-of-type {\n",
       "        vertical-align: middle;\n",
       "    }\n",
       "\n",
       "    .dataframe tbody tr th {\n",
       "        vertical-align: top;\n",
       "    }\n",
       "\n",
       "    .dataframe thead th {\n",
       "        text-align: right;\n",
       "    }\n",
       "</style>\n",
       "<table border=\"1\" class=\"dataframe\">\n",
       "  <thead>\n",
       "    <tr style=\"text-align: right;\">\n",
       "      <th></th>\n",
       "      <th>alcohol</th>\n",
       "      <th>malicacid</th>\n",
       "      <th>ash</th>\n",
       "      <th>alcalinity_of_ash</th>\n",
       "      <th>magnesium</th>\n",
       "      <th>total_phenols</th>\n",
       "      <th>flavanoids</th>\n",
       "      <th>nonflavanoid_phenols</th>\n",
       "      <th>proanthocyanins</th>\n",
       "      <th>color_intensity</th>\n",
       "      <th>hue</th>\n",
       "      <th>0d280_0d315_of_diluted_wines</th>\n",
       "      <th>proline</th>\n",
       "    </tr>\n",
       "  </thead>\n",
       "  <tbody>\n",
       "    <tr>\n",
       "      <th>0</th>\n",
       "      <td>14.23</td>\n",
       "      <td>1.71</td>\n",
       "      <td>2.43</td>\n",
       "      <td>15.6</td>\n",
       "      <td>127</td>\n",
       "      <td>2.80</td>\n",
       "      <td>3.06</td>\n",
       "      <td>0.28</td>\n",
       "      <td>2.29</td>\n",
       "      <td>5.64</td>\n",
       "      <td>1.04</td>\n",
       "      <td>3.92</td>\n",
       "      <td>1065</td>\n",
       "    </tr>\n",
       "    <tr>\n",
       "      <th>1</th>\n",
       "      <td>13.20</td>\n",
       "      <td>1.78</td>\n",
       "      <td>2.14</td>\n",
       "      <td>11.2</td>\n",
       "      <td>100</td>\n",
       "      <td>2.65</td>\n",
       "      <td>2.76</td>\n",
       "      <td>0.26</td>\n",
       "      <td>1.28</td>\n",
       "      <td>4.38</td>\n",
       "      <td>1.05</td>\n",
       "      <td>3.40</td>\n",
       "      <td>1050</td>\n",
       "    </tr>\n",
       "    <tr>\n",
       "      <th>2</th>\n",
       "      <td>13.16</td>\n",
       "      <td>2.36</td>\n",
       "      <td>2.67</td>\n",
       "      <td>18.6</td>\n",
       "      <td>101</td>\n",
       "      <td>2.80</td>\n",
       "      <td>3.24</td>\n",
       "      <td>0.30</td>\n",
       "      <td>2.81</td>\n",
       "      <td>5.68</td>\n",
       "      <td>1.03</td>\n",
       "      <td>3.17</td>\n",
       "      <td>1185</td>\n",
       "    </tr>\n",
       "    <tr>\n",
       "      <th>3</th>\n",
       "      <td>14.37</td>\n",
       "      <td>1.95</td>\n",
       "      <td>2.50</td>\n",
       "      <td>16.8</td>\n",
       "      <td>113</td>\n",
       "      <td>3.85</td>\n",
       "      <td>3.49</td>\n",
       "      <td>0.24</td>\n",
       "      <td>2.18</td>\n",
       "      <td>7.80</td>\n",
       "      <td>0.86</td>\n",
       "      <td>3.45</td>\n",
       "      <td>1480</td>\n",
       "    </tr>\n",
       "    <tr>\n",
       "      <th>4</th>\n",
       "      <td>13.24</td>\n",
       "      <td>2.59</td>\n",
       "      <td>2.87</td>\n",
       "      <td>21.0</td>\n",
       "      <td>118</td>\n",
       "      <td>2.80</td>\n",
       "      <td>2.69</td>\n",
       "      <td>0.39</td>\n",
       "      <td>1.82</td>\n",
       "      <td>4.32</td>\n",
       "      <td>1.04</td>\n",
       "      <td>2.93</td>\n",
       "      <td>735</td>\n",
       "    </tr>\n",
       "    <tr>\n",
       "      <th>...</th>\n",
       "      <td>...</td>\n",
       "      <td>...</td>\n",
       "      <td>...</td>\n",
       "      <td>...</td>\n",
       "      <td>...</td>\n",
       "      <td>...</td>\n",
       "      <td>...</td>\n",
       "      <td>...</td>\n",
       "      <td>...</td>\n",
       "      <td>...</td>\n",
       "      <td>...</td>\n",
       "      <td>...</td>\n",
       "      <td>...</td>\n",
       "    </tr>\n",
       "    <tr>\n",
       "      <th>173</th>\n",
       "      <td>13.71</td>\n",
       "      <td>5.65</td>\n",
       "      <td>2.45</td>\n",
       "      <td>20.5</td>\n",
       "      <td>95</td>\n",
       "      <td>1.68</td>\n",
       "      <td>0.61</td>\n",
       "      <td>0.52</td>\n",
       "      <td>1.06</td>\n",
       "      <td>7.70</td>\n",
       "      <td>0.64</td>\n",
       "      <td>1.74</td>\n",
       "      <td>740</td>\n",
       "    </tr>\n",
       "    <tr>\n",
       "      <th>174</th>\n",
       "      <td>13.40</td>\n",
       "      <td>3.91</td>\n",
       "      <td>2.48</td>\n",
       "      <td>23.0</td>\n",
       "      <td>102</td>\n",
       "      <td>1.80</td>\n",
       "      <td>0.75</td>\n",
       "      <td>0.43</td>\n",
       "      <td>1.41</td>\n",
       "      <td>7.30</td>\n",
       "      <td>0.70</td>\n",
       "      <td>1.56</td>\n",
       "      <td>750</td>\n",
       "    </tr>\n",
       "    <tr>\n",
       "      <th>175</th>\n",
       "      <td>13.27</td>\n",
       "      <td>4.28</td>\n",
       "      <td>2.26</td>\n",
       "      <td>20.0</td>\n",
       "      <td>120</td>\n",
       "      <td>1.59</td>\n",
       "      <td>0.69</td>\n",
       "      <td>0.43</td>\n",
       "      <td>1.35</td>\n",
       "      <td>10.20</td>\n",
       "      <td>0.59</td>\n",
       "      <td>1.56</td>\n",
       "      <td>835</td>\n",
       "    </tr>\n",
       "    <tr>\n",
       "      <th>176</th>\n",
       "      <td>13.17</td>\n",
       "      <td>2.59</td>\n",
       "      <td>2.37</td>\n",
       "      <td>20.0</td>\n",
       "      <td>120</td>\n",
       "      <td>1.65</td>\n",
       "      <td>0.68</td>\n",
       "      <td>0.53</td>\n",
       "      <td>1.46</td>\n",
       "      <td>9.30</td>\n",
       "      <td>0.60</td>\n",
       "      <td>1.62</td>\n",
       "      <td>840</td>\n",
       "    </tr>\n",
       "    <tr>\n",
       "      <th>177</th>\n",
       "      <td>14.13</td>\n",
       "      <td>4.10</td>\n",
       "      <td>2.74</td>\n",
       "      <td>24.5</td>\n",
       "      <td>96</td>\n",
       "      <td>2.05</td>\n",
       "      <td>0.76</td>\n",
       "      <td>0.56</td>\n",
       "      <td>1.35</td>\n",
       "      <td>9.20</td>\n",
       "      <td>0.61</td>\n",
       "      <td>1.60</td>\n",
       "      <td>560</td>\n",
       "    </tr>\n",
       "  </tbody>\n",
       "</table>\n",
       "<p>178 rows × 13 columns</p>\n",
       "</div>"
      ],
      "text/plain": [
       "     alcohol  malicacid   ash  alcalinity_of_ash  magnesium  total_phenols  \\\n",
       "0      14.23       1.71  2.43               15.6        127           2.80   \n",
       "1      13.20       1.78  2.14               11.2        100           2.65   \n",
       "2      13.16       2.36  2.67               18.6        101           2.80   \n",
       "3      14.37       1.95  2.50               16.8        113           3.85   \n",
       "4      13.24       2.59  2.87               21.0        118           2.80   \n",
       "..       ...        ...   ...                ...        ...            ...   \n",
       "173    13.71       5.65  2.45               20.5         95           1.68   \n",
       "174    13.40       3.91  2.48               23.0        102           1.80   \n",
       "175    13.27       4.28  2.26               20.0        120           1.59   \n",
       "176    13.17       2.59  2.37               20.0        120           1.65   \n",
       "177    14.13       4.10  2.74               24.5         96           2.05   \n",
       "\n",
       "     flavanoids  nonflavanoid_phenols  proanthocyanins  color_intensity   hue  \\\n",
       "0          3.06                  0.28             2.29             5.64  1.04   \n",
       "1          2.76                  0.26             1.28             4.38  1.05   \n",
       "2          3.24                  0.30             2.81             5.68  1.03   \n",
       "3          3.49                  0.24             2.18             7.80  0.86   \n",
       "4          2.69                  0.39             1.82             4.32  1.04   \n",
       "..          ...                   ...              ...              ...   ...   \n",
       "173        0.61                  0.52             1.06             7.70  0.64   \n",
       "174        0.75                  0.43             1.41             7.30  0.70   \n",
       "175        0.69                  0.43             1.35            10.20  0.59   \n",
       "176        0.68                  0.53             1.46             9.30  0.60   \n",
       "177        0.76                  0.56             1.35             9.20  0.61   \n",
       "\n",
       "     0d280_0d315_of_diluted_wines  proline  \n",
       "0                            3.92     1065  \n",
       "1                            3.40     1050  \n",
       "2                            3.17     1185  \n",
       "3                            3.45     1480  \n",
       "4                            2.93      735  \n",
       "..                            ...      ...  \n",
       "173                          1.74      740  \n",
       "174                          1.56      750  \n",
       "175                          1.56      835  \n",
       "176                          1.62      840  \n",
       "177                          1.60      560  \n",
       "\n",
       "[178 rows x 13 columns]"
      ]
     },
     "execution_count": 38,
     "metadata": {},
     "output_type": "execute_result"
    }
   ],
   "source": [
    "columns, cat_idx = _get_feature_info(uci_db, \"wine\")\n",
    "d = pd.read_csv(\"dataset_cache/wine/wine.data\", skiprows=0, names=columns)\n",
    "data = d.rename(columns={\"class\": \"label\"})\n",
    "label = data.label\n",
    "data = data.drop(columns=[\"label\"])\n",
    "data"
   ]
  },
  {
   "cell_type": "code",
   "execution_count": 5,
   "id": "fd6e16e9f68d2cc2",
   "metadata": {
    "ExecuteTime": {
     "end_time": "2023-09-18T16:11:59.834555700Z",
     "start_time": "2023-09-18T16:11:59.824851600Z"
    },
    "collapsed": false
   },
   "outputs": [],
   "source": [
    "params = {\n",
    "    \"init_size\": 30,\n",
    "    \"batch_size\": 20,\n",
    "    \"random_state\": 0\n",
    "}\n",
    "\n",
    "_svm_md = allib.models.get_pipeline(\"svm\")\n",
    "_lr_md = allib.models.get_pipeline(\"logistic\")\n",
    "_c_md = allib.models.get_pipeline(\"catboost\")\n",
    "ds = img_dataset.with_metric(get_al_metric(name=\"uncertain\", params=params))\n",
    "svm_md = _svm_md(model=None, eval_metrics=allib.metrics.get_metrics([\"accuracy\"]), seeds=[0], dataset=ds, early_stop=10, **params)\n",
    "c_md = _c_md(model=None, eval_metrics=allib.metrics.get_metrics([\"accuracy\"]), seeds=[0], dataset=ds, early_stop=10, **params)\n",
    "lr_md = _c_md(model=None, eval_metrics=allib.metrics.get_metrics([\"accuracy\"]), seeds=[0], dataset=ds, early_stop=10, **params)"
   ]
  },
  {
   "cell_type": "code",
   "execution_count": 6,
   "id": "1e5881d76a76ad56",
   "metadata": {
    "ExecuteTime": {
     "end_time": "2023-09-18T16:12:01.532351600Z",
     "start_time": "2023-09-18T16:12:01.377431400Z"
    },
    "collapsed": false
   },
   "outputs": [
    {
     "data": {
      "application/vnd.jupyter.widget-view+json": {
       "model_id": "4b829ed6a6114e249391b6894c48a415",
       "version_major": 2,
       "version_minor": 0
      },
      "text/plain": [
       "  0%|          | 0/1 [00:00<?, ?it/s]"
      ]
     },
     "metadata": {},
     "output_type": "display_data"
    },
    {
     "name": "stderr",
     "output_type": "stream",
     "text": [
      "D:\\anaconda3\\envs\\COMP8800\\lib\\site-packages\\sklearn\\utils\\validation.py:1184: DataConversionWarning: A column-vector y was passed when a 1d array was expected. Please change the shape of y to (n_samples, ), for example using ravel().\n",
      "  y = column_or_1d(y, warn=True)\n",
      "D:\\anaconda3\\envs\\COMP8800\\lib\\site-packages\\sklearn\\utils\\validation.py:1184: DataConversionWarning: A column-vector y was passed when a 1d array was expected. Please change the shape of y to (n_samples, ), for example using ravel().\n",
      "  y = column_or_1d(y, warn=True)\n",
      "D:\\anaconda3\\envs\\COMP8800\\lib\\site-packages\\sklearn\\utils\\validation.py:1184: DataConversionWarning: A column-vector y was passed when a 1d array was expected. Please change the shape of y to (n_samples, ), for example using ravel().\n",
      "  y = column_or_1d(y, warn=True)\n",
      "D:\\anaconda3\\envs\\COMP8800\\lib\\site-packages\\sklearn\\utils\\validation.py:1184: DataConversionWarning: A column-vector y was passed when a 1d array was expected. Please change the shape of y to (n_samples, ), for example using ravel().\n",
      "  y = column_or_1d(y, warn=True)\n",
      "D:\\anaconda3\\envs\\COMP8800\\lib\\site-packages\\sklearn\\utils\\validation.py:1184: DataConversionWarning: A column-vector y was passed when a 1d array was expected. Please change the shape of y to (n_samples, ), for example using ravel().\n",
      "  y = column_or_1d(y, warn=True)\n",
      "D:\\anaconda3\\envs\\COMP8800\\lib\\site-packages\\sklearn\\utils\\validation.py:1184: DataConversionWarning: A column-vector y was passed when a 1d array was expected. Please change the shape of y to (n_samples, ), for example using ravel().\n",
      "  y = column_or_1d(y, warn=True)\n",
      "D:\\anaconda3\\envs\\COMP8800\\lib\\site-packages\\sklearn\\utils\\validation.py:1184: DataConversionWarning: A column-vector y was passed when a 1d array was expected. Please change the shape of y to (n_samples, ), for example using ravel().\n",
      "  y = column_or_1d(y, warn=True)\n",
      "D:\\anaconda3\\envs\\COMP8800\\lib\\site-packages\\sklearn\\utils\\validation.py:1184: DataConversionWarning: A column-vector y was passed when a 1d array was expected. Please change the shape of y to (n_samples, ), for example using ravel().\n",
      "  y = column_or_1d(y, warn=True)\n"
     ]
    }
   ],
   "source": [
    "ds.reset()\n",
    "svm_md.start()"
   ]
  },
  {
   "cell_type": "code",
   "execution_count": 8,
   "id": "de9addb6bb7ddce4",
   "metadata": {
    "ExecuteTime": {
     "end_time": "2023-09-18T15:04:23.296682400Z",
     "start_time": "2023-09-18T15:04:14.355165500Z"
    },
    "collapsed": false
   },
   "outputs": [
    {
     "data": {
      "application/vnd.jupyter.widget-view+json": {
       "model_id": "b53219f327604082ae7f5ebcdeb71bce",
       "version_major": 2,
       "version_minor": 0
      },
      "text/plain": [
       "  0%|          | 0/1 [00:00<?, ?it/s]"
      ]
     },
     "metadata": {},
     "output_type": "display_data"
    }
   ],
   "source": [
    "ds.reset()\n",
    "c_md.start()"
   ]
  },
  {
   "cell_type": "code",
   "execution_count": 13,
   "id": "9379de39e34f08f8",
   "metadata": {
    "ExecuteTime": {
     "end_time": "2023-09-18T15:07:10.596801300Z",
     "start_time": "2023-09-18T15:07:02.405690500Z"
    },
    "collapsed": false
   },
   "outputs": [
    {
     "data": {
      "application/vnd.jupyter.widget-view+json": {
       "model_id": "d2f6fd3992444407b96088c3799b8bb5",
       "version_major": 2,
       "version_minor": 0
      },
      "text/plain": [
       "  0%|          | 0/1 [00:00<?, ?it/s]"
      ]
     },
     "metadata": {},
     "output_type": "display_data"
    }
   ],
   "source": [
    "ds.reset()\n",
    "lr_md.start()"
   ]
  },
  {
   "cell_type": "code",
   "execution_count": 10,
   "id": "b568cb1e574c1280",
   "metadata": {
    "ExecuteTime": {
     "end_time": "2023-09-18T15:04:32.998466500Z",
     "start_time": "2023-09-18T15:04:32.993694200Z"
    },
    "collapsed": false
   },
   "outputs": [
    {
     "data": {
      "text/plain": [
       "[0.3477088948787062,\n",
       " 0.431266846361186,\n",
       " 0.4636118598382749,\n",
       " 0.5067385444743935,\n",
       " 0.431266846361186,\n",
       " 0.46900269541778977,\n",
       " 0.46900269541778977,\n",
       " 0.5121293800539084,\n",
       " 0.49865229110512127,\n",
       " 0.5579514824797843]"
      ]
     },
     "execution_count": 10,
     "metadata": {},
     "output_type": "execute_result"
    }
   ],
   "source": [
    "c_md.stats[0][\"accuracy\"]"
   ]
  },
  {
   "cell_type": "code",
   "execution_count": 7,
   "id": "36063a7014c7de11",
   "metadata": {
    "ExecuteTime": {
     "end_time": "2023-09-18T16:12:05.680318Z",
     "start_time": "2023-09-18T16:12:05.667748Z"
    },
    "collapsed": false
   },
   "outputs": [
    {
     "data": {
      "text/plain": [
       "[0.6415094339622641,\n",
       " 0.6226415094339622,\n",
       " 0.6415094339622641,\n",
       " 0.6981132075471698,\n",
       " 0.7547169811320755,\n",
       " 0.7358490566037735,\n",
       " 0.7358490566037735,\n",
       " 0.7358490566037735]"
      ]
     },
     "execution_count": 7,
     "metadata": {},
     "output_type": "execute_result"
    }
   ],
   "source": [
    "svm_md.stats[0][\"accuracy\"]"
   ]
  },
  {
   "cell_type": "code",
   "execution_count": 14,
   "id": "aaf0ec22c350168d",
   "metadata": {
    "ExecuteTime": {
     "end_time": "2023-09-18T15:07:15.255140800Z",
     "start_time": "2023-09-18T15:07:15.241154600Z"
    },
    "collapsed": false
   },
   "outputs": [
    {
     "data": {
      "text/plain": [
       "[0.3477088948787062,\n",
       " 0.431266846361186,\n",
       " 0.4636118598382749,\n",
       " 0.5067385444743935,\n",
       " 0.431266846361186,\n",
       " 0.46900269541778977,\n",
       " 0.46900269541778977,\n",
       " 0.5121293800539084,\n",
       " 0.49865229110512127,\n",
       " 0.5579514824797843]"
      ]
     },
     "execution_count": 14,
     "metadata": {},
     "output_type": "execute_result"
    }
   ],
   "source": [
    "lr_md.stats[0][\"accuracy\"]"
   ]
  },
  {
   "cell_type": "code",
   "execution_count": 8,
   "id": "1ddc221c857eb61f",
   "metadata": {
    "ExecuteTime": {
     "end_time": "2023-08-08T17:26:29.524178Z",
     "start_time": "2023-08-08T17:26:27.640054Z"
    },
    "collapsed": false
   },
   "outputs": [],
   "source": [
    "# split training/testing\n",
    "from sklearn.model_selection import train_test_split\n",
    "\n",
    "data = data.rename(columns={\"class\": \"label\"})\n",
    "label = data.label\n",
    "data = data.drop(columns=[\"label\"])"
   ]
  },
  {
   "cell_type": "code",
   "execution_count": 57,
   "id": "f546dfd2fb76005a",
   "metadata": {
    "ExecuteTime": {
     "end_time": "2023-08-08T18:37:08.771783Z",
     "start_time": "2023-08-08T18:37:08.687298Z"
    },
    "collapsed": false
   },
   "outputs": [],
   "source": [
    "X_train, X_test, Y_train, Y_test = train_test_split(data, label, random_state=42)"
   ]
  },
  {
   "cell_type": "code",
   "execution_count": 40,
   "id": "ff0b5db8a9960c24",
   "metadata": {
    "ExecuteTime": {
     "end_time": "2023-08-08T18:12:50.659021Z",
     "start_time": "2023-08-08T18:12:50.410098Z"
    },
    "collapsed": false
   },
   "outputs": [],
   "source": [
    "import catboost\n",
    "from catboost import CatBoostClassifier, sum_models, to_classifier\n",
    "from catboost.utils import create_cd"
   ]
  },
  {
   "cell_type": "code",
   "execution_count": 58,
   "id": "9e913b9d97c1d2b5",
   "metadata": {
    "ExecuteTime": {
     "end_time": "2023-08-08T18:37:10.318011Z",
     "start_time": "2023-08-08T18:37:10.238472Z"
    },
    "collapsed": false
   },
   "outputs": [],
   "source": [
    "# sample the initial datasets\n",
    "\n",
    "X_init = X_train.sample(n=10)\n",
    "Y_init = Y_train.loc[X_init.index]\n",
    "X_train = X_train.drop(X_init.index)\n",
    "Y_train = Y_train.drop(Y_init.index)"
   ]
  },
  {
   "cell_type": "code",
   "execution_count": 52,
   "id": "5df33f22c73a4205",
   "metadata": {
    "ExecuteTime": {
     "end_time": "2023-08-08T18:19:39.150514Z",
     "start_time": "2023-08-08T18:19:38.901843Z"
    },
    "collapsed": false
   },
   "outputs": [],
   "source": [
    "BATCH_SIZE = 20\n",
    "accuracy_unc = []\n",
    "instances = []\n",
    "cur_model = CatBoostClassifier(\n",
    "    iterations=5,\n",
    "    learning_rate=0.1,\n",
    "    # loss_function='CrossEntropy'\n",
    ")\n",
    "cur_model.fit(X_init, Y_init, eval_set=(X_test, Y_test), verbose=False)\n",
    "models = [cur_model]\n",
    "accuracy_unc.append(cur_model.score(X_test, Y_test))\n",
    "instances.append(len(X_init))\n",
    "while len(X_train) > 0:\n",
    "    new_model = CatBoostClassifier(\n",
    "        iterations=5,\n",
    "        learning_rate=0.1,\n",
    "        # loss_function='CrossEntropy'\n",
    "    )\n",
    "\n",
    "    if len(X_train) > BATCH_SIZE:\n",
    "        # bottom BATCH_SIZE at score\n",
    "        idx = cur_model.predict_proba(X_train).max(axis=1).argpartition(BATCH_SIZE)[:BATCH_SIZE]\n",
    "        X_init = pd.concat((X_init, X_train.loc[X_train.index[idx]]))\n",
    "        Y_init = pd.concat((Y_init, Y_train.loc[Y_train.index[idx]]))\n",
    "        X_train = X_train.drop(X_train.index[idx])\n",
    "        Y_train = Y_train.drop(Y_train.index[idx])\n",
    "    else:\n",
    "        X_init = pd.concat((X_init, X_train))\n",
    "        Y_init = pd.concat((Y_init, Y_train))\n",
    "        X_train = X_train.drop(X_train.index)\n",
    "        Y_train = Y_train.drop(Y_train.index)\n",
    "    new_model.fit(X_init, Y_init, eval_set=(X_test, Y_test), verbose=False)\n",
    "    models.append(new_model)\n",
    "    # todo: test merge strategy\n",
    "    cur_model = to_classifier(sum_models(models, weights=[1.0 / len(models)] * len(models)))\n",
    "    accuracy_unc.append(cur_model.score(X_test, Y_test))\n",
    "    instances.append(len(X_init))"
   ]
  },
  {
   "cell_type": "code",
   "execution_count": 53,
   "id": "3b778a935ff10df1",
   "metadata": {
    "ExecuteTime": {
     "end_time": "2023-08-08T18:19:41.834268Z",
     "start_time": "2023-08-08T18:19:41.719997Z"
    },
    "collapsed": false
   },
   "outputs": [
    {
     "data": {
      "text/plain": [
       "[0.8933333333333333,\n",
       " 0.92,\n",
       " 0.96,\n",
       " 0.96,\n",
       " 0.96,\n",
       " 0.96,\n",
       " 0.96,\n",
       " 0.96,\n",
       " 0.96,\n",
       " 0.96,\n",
       " 0.96,\n",
       " 0.96]"
      ]
     },
     "execution_count": 53,
     "metadata": {},
     "output_type": "execute_result"
    }
   ],
   "source": [
    "accuracy_unc"
   ]
  },
  {
   "cell_type": "code",
   "execution_count": 59,
   "id": "cce4055a5921885b",
   "metadata": {
    "ExecuteTime": {
     "end_time": "2023-08-08T18:37:15.455190Z",
     "start_time": "2023-08-08T18:37:15.211234Z"
    },
    "collapsed": false
   },
   "outputs": [],
   "source": [
    "BATCH_SIZE = 20\n",
    "accuracy_rand = []\n",
    "instances = []\n",
    "cur_model = CatBoostClassifier(\n",
    "    iterations=5,\n",
    "    learning_rate=0.1,\n",
    "    # loss_function='CrossEntropy'\n",
    ")\n",
    "cur_model.fit(X_init, Y_init, eval_set=(X_test, Y_test), verbose=False)\n",
    "models = [cur_model]\n",
    "accuracy_rand.append(cur_model.score(X_test, Y_test))\n",
    "instances.append(len(X_init))\n",
    "while len(X_train) > 0:\n",
    "    new_model = CatBoostClassifier(\n",
    "        iterations=5,\n",
    "        learning_rate=0.1,\n",
    "        # loss_function='CrossEntropy'\n",
    "    )\n",
    "    l = min(BATCH_SIZE, len(X_train))\n",
    "    X_new = X_train.sample(n=l)\n",
    "    Y_new = Y_train.loc[X_new.index]\n",
    "    X_train = X_train.drop(X_new.index)\n",
    "    Y_train = Y_train.drop(Y_new.index)\n",
    "    X_init = pd.concat((X_init, X_new))\n",
    "    Y_init = pd.concat((Y_init, Y_new))\n",
    "    new_model.fit(X_init, Y_init, eval_set=(X_test, Y_test), verbose=False)\n",
    "    models.append(new_model)\n",
    "    # todo: test merge strategy\n",
    "    cur_model = to_classifier(sum_models(models, weights=[1.0 / len(models)] * len(models)))\n",
    "    accuracy_rand.append(cur_model.score(X_test, Y_test))\n",
    "    instances.append(len(X_init))"
   ]
  },
  {
   "cell_type": "code",
   "execution_count": 4,
   "id": "97e765da785aa75f",
   "metadata": {
    "ExecuteTime": {
     "end_time": "2023-08-10T03:47:05.488Z",
     "start_time": "2023-08-10T03:47:05.472688Z"
    },
    "collapsed": false
   },
   "outputs": [
    {
     "name": "stdout",
     "output_type": "stream",
     "text": [
      "total attributes: 15\n",
      "['age', 'workclass', 'fnlwgt', 'education', 'education_num', 'marital_status', 'occupation', 'relationship', 'race', 'sex', 'capital_gain', 'capital_loss', 'hours_per_week', 'native_country', 'income']\n"
     ]
    }
   ],
   "source": [
    "accuracy_rand"
   ]
  },
  {
   "cell_type": "code",
   "execution_count": 26,
   "id": "18bab1c3429e750f",
   "metadata": {
    "ExecuteTime": {
     "end_time": "2023-08-10T04:08:26.430308Z",
     "start_time": "2023-08-10T04:08:26.401286Z"
    },
    "collapsed": false
   },
   "outputs": [
    {
     "name": "stdout",
     "output_type": "stream",
     "text": [
      "total attributes: 15\n",
      "['age', 'workclass', 'fnlwgt', 'education', 'education_num', 'marital_status', 'occupation', 'relationship', 'race', 'sex', 'capital_gain', 'capital_loss', 'hours_per_week', 'native_country', 'income']\n",
      "[1, 3, 5, 6, 7, 8, 9, 13, 14]\n"
     ]
    }
   ],
   "source": [
    "idx = pred.max(axis=1).argpartition(-10)[-10:]"
   ]
  }
 ],
 "metadata": {
  "kernelspec": {
   "display_name": "Python 3 (ipykernel)",
   "language": "python",
   "name": "python3"
  },
  "language_info": {
   "codemirror_mode": {
    "name": "ipython",
    "version": 3
   },
   "file_extension": ".py",
   "mimetype": "text/x-python",
   "name": "python",
   "nbconvert_exporter": "python",
   "pygments_lexer": "ipython3",
   "version": "3.11.5"
  }
 },
 "nbformat": 4,
 "nbformat_minor": 5
}
