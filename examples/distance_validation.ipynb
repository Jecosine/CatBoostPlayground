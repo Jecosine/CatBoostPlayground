{
 "cells": [
  {
   "cell_type": "code",
   "execution_count": 51,
   "metadata": {},
   "outputs": [],
   "source": [
    "import os\n",
    "\n",
    "os.getcwd()\n",
    "os.chdir('/home/jecosine/Courses/Courses/COMP8800/Projects/CatBoostPlayground')\n",
    "from allib.metrics import get_metrics\n",
    "from allib.metrics.distance import AVAIL_DIST_METRICS\n",
    "from allib.datasets import load_uci, AVAIL_DATASETS\n",
    "import numpy as np\n",
    "import pandas as pd"
   ]
  },
  {
   "cell_type": "code",
   "execution_count": 52,
   "metadata": {},
   "outputs": [],
   "source": [
    "def load_distance(dsn: str, mn: str, suffix = \"catonly\"):\n",
    "    fn = f\"examples/dist_cache_1000/{dsn}/{mn}_{suffix}.npy\"\n",
    "    return np.load(fn)\n",
    "\n",
    "def load_dataset(dsn: str):\n",
    "    ds = load_uci(dsn)\n",
    "    ds.with_preprocess(\n",
    "        steps=[\n",
    "            \"sample_n\", \n",
    "            \"categorical_only\",\n",
    "            # \"continuous_to_categorical\",\n",
    "            \"remove_constant_columns\", \n",
    "            \"drop_duplicate_rows\"\n",
    "        ],  \n",
    "        params_list=[\n",
    "            {\"n\": 1000, \"random_state\": 0},\n",
    "            # {\"encode\": \"ordinal\"},\n",
    "            {},\n",
    "            {}, \n",
    "            {}\n",
    "        ], \n",
    "        in_place=True\n",
    "    )\n",
    "    for col in ds._data.columns:\n",
    "        if ds._data[col].dtype == \"category\":\n",
    "            ds._data[col] = ds._data[col].astype(\"category\").cat.codes.astype(\"int\")\n",
    "    ds._data.reset_index(drop=True, inplace=True)\n",
    "    \n",
    "    return ds\n",
    "\n",
    "DBN = \"adult\"\n",
    "DM = \"euclidean\"\n",
    "\n",
    "d = load_distance(DBN, DM, \"catonly_wo_n\")\n",
    "ds = load_dataset(DBN)\n"
   ]
  },
  {
   "cell_type": "code",
   "execution_count": 5,
   "metadata": {},
   "outputs": [],
   "source": [
    "from sklearn.metrics import pairwise_distances, euclidean_distances"
   ]
  },
  {
   "cell_type": "code",
   "execution_count": 53,
   "metadata": {},
   "outputs": [
    {
     "data": {
      "text/html": [
       "<div>\n",
       "<style scoped>\n",
       "    .dataframe tbody tr th:only-of-type {\n",
       "        vertical-align: middle;\n",
       "    }\n",
       "\n",
       "    .dataframe tbody tr th {\n",
       "        vertical-align: top;\n",
       "    }\n",
       "\n",
       "    .dataframe thead th {\n",
       "        text-align: right;\n",
       "    }\n",
       "</style>\n",
       "<table border=\"1\" class=\"dataframe\">\n",
       "  <thead>\n",
       "    <tr style=\"text-align: right;\">\n",
       "      <th></th>\n",
       "      <th>workclass</th>\n",
       "      <th>education</th>\n",
       "      <th>marital_status</th>\n",
       "      <th>occupation</th>\n",
       "      <th>relationship</th>\n",
       "      <th>race</th>\n",
       "      <th>sex</th>\n",
       "      <th>native_country</th>\n",
       "    </tr>\n",
       "  </thead>\n",
       "  <tbody>\n",
       "    <tr>\n",
       "      <th>535</th>\n",
       "      <td>0</td>\n",
       "      <td>1</td>\n",
       "      <td>5</td>\n",
       "      <td>0</td>\n",
       "      <td>1</td>\n",
       "      <td>2</td>\n",
       "      <td>1</td>\n",
       "      <td>39</td>\n",
       "    </tr>\n",
       "    <tr>\n",
       "      <th>492</th>\n",
       "      <td>5</td>\n",
       "      <td>9</td>\n",
       "      <td>2</td>\n",
       "      <td>1</td>\n",
       "      <td>0</td>\n",
       "      <td>4</td>\n",
       "      <td>1</td>\n",
       "      <td>39</td>\n",
       "    </tr>\n",
       "    <tr>\n",
       "      <th>14</th>\n",
       "      <td>4</td>\n",
       "      <td>9</td>\n",
       "      <td>0</td>\n",
       "      <td>8</td>\n",
       "      <td>4</td>\n",
       "      <td>4</td>\n",
       "      <td>0</td>\n",
       "      <td>39</td>\n",
       "    </tr>\n",
       "    <tr>\n",
       "      <th>247</th>\n",
       "      <td>6</td>\n",
       "      <td>7</td>\n",
       "      <td>2</td>\n",
       "      <td>1</td>\n",
       "      <td>5</td>\n",
       "      <td>4</td>\n",
       "      <td>0</td>\n",
       "      <td>39</td>\n",
       "    </tr>\n",
       "    <tr>\n",
       "      <th>85</th>\n",
       "      <td>4</td>\n",
       "      <td>11</td>\n",
       "      <td>4</td>\n",
       "      <td>1</td>\n",
       "      <td>3</td>\n",
       "      <td>4</td>\n",
       "      <td>0</td>\n",
       "      <td>39</td>\n",
       "    </tr>\n",
       "    <tr>\n",
       "      <th>127</th>\n",
       "      <td>2</td>\n",
       "      <td>12</td>\n",
       "      <td>4</td>\n",
       "      <td>10</td>\n",
       "      <td>1</td>\n",
       "      <td>4</td>\n",
       "      <td>0</td>\n",
       "      <td>39</td>\n",
       "    </tr>\n",
       "    <tr>\n",
       "      <th>586</th>\n",
       "      <td>4</td>\n",
       "      <td>10</td>\n",
       "      <td>2</td>\n",
       "      <td>10</td>\n",
       "      <td>0</td>\n",
       "      <td>4</td>\n",
       "      <td>1</td>\n",
       "      <td>0</td>\n",
       "    </tr>\n",
       "    <tr>\n",
       "      <th>529</th>\n",
       "      <td>4</td>\n",
       "      <td>9</td>\n",
       "      <td>2</td>\n",
       "      <td>3</td>\n",
       "      <td>0</td>\n",
       "      <td>1</td>\n",
       "      <td>1</td>\n",
       "      <td>30</td>\n",
       "    </tr>\n",
       "    <tr>\n",
       "      <th>330</th>\n",
       "      <td>4</td>\n",
       "      <td>7</td>\n",
       "      <td>2</td>\n",
       "      <td>3</td>\n",
       "      <td>0</td>\n",
       "      <td>4</td>\n",
       "      <td>1</td>\n",
       "      <td>39</td>\n",
       "    </tr>\n",
       "    <tr>\n",
       "      <th>483</th>\n",
       "      <td>7</td>\n",
       "      <td>15</td>\n",
       "      <td>4</td>\n",
       "      <td>1</td>\n",
       "      <td>3</td>\n",
       "      <td>4</td>\n",
       "      <td>0</td>\n",
       "      <td>39</td>\n",
       "    </tr>\n",
       "  </tbody>\n",
       "</table>\n",
       "</div>"
      ],
      "text/plain": [
       "     workclass  education  marital_status  occupation  relationship  race  \\\n",
       "535          0          1               5           0             1     2   \n",
       "492          5          9               2           1             0     4   \n",
       "14           4          9               0           8             4     4   \n",
       "247          6          7               2           1             5     4   \n",
       "85           4         11               4           1             3     4   \n",
       "127          2         12               4          10             1     4   \n",
       "586          4         10               2          10             0     4   \n",
       "529          4          9               2           3             0     1   \n",
       "330          4          7               2           3             0     4   \n",
       "483          7         15               4           1             3     4   \n",
       "\n",
       "     sex  native_country  \n",
       "535    1              39  \n",
       "492    1              39  \n",
       "14     0              39  \n",
       "247    0              39  \n",
       "85     0              39  \n",
       "127    0              39  \n",
       "586    1               0  \n",
       "529    1              30  \n",
       "330    1              39  \n",
       "483    0              39  "
      ]
     },
     "execution_count": 53,
     "metadata": {},
     "output_type": "execute_result"
    }
   ],
   "source": [
    "data, label = ds._data, ds._label\n",
    "batch = data.sample(10, random_state=0)\n",
    "batch"
   ]
  },
  {
   "cell_type": "code",
   "execution_count": 54,
   "metadata": {},
   "outputs": [
    {
     "data": {
      "text/plain": [
       "array([[ 0.        , 10.19803903, 13.52774926, 10.14889157, 11.26942767,\n",
       "        15.19868415, 41.61730409, 13.45362405,  8.66025404, 16.        ],\n",
       "       [10.19803903,  0.        ,  8.42614977,  5.56776436,  4.35889894,\n",
       "        10.24695077, 40.04996879,  9.74679434,  3.        ,  7.34846923],\n",
       "       [13.52774926,  8.42614977,  0.        ,  7.87400787,  8.36660027,\n",
       "         6.4807407 , 39.33192088, 11.66190379,  7.07106781, 10.53565375],\n",
       "       [10.14889157,  5.56776436,  7.87400787,  0.        ,  5.29150262,\n",
       "        11.91637529, 40.5092582 , 11.3137085 ,  5.83095189,  8.54400375],\n",
       "       [11.26942767,  4.35889894,  8.36660027,  5.29150262,  0.        ,\n",
       "         9.48683298, 40.21193853, 10.58300524,  5.83095189,  5.        ],\n",
       "       [15.19868415, 10.24695077,  6.4807407 , 11.91637529,  9.48683298,\n",
       "         0.        , 39.17907605, 12.56980509,  9.16515139, 10.90871211],\n",
       "       [41.61730409, 40.04996879, 39.33192088, 40.5092582 , 40.21193853,\n",
       "        39.17907605,  0.        , 30.96772513, 39.73663297, 40.62019202],\n",
       "       [13.45362405,  9.74679434, 11.66190379, 11.3137085 , 10.58300524,\n",
       "        12.56980509, 30.96772513,  0.        ,  9.69535971, 12.36931688],\n",
       "       [ 8.66025404,  3.        ,  7.07106781,  5.83095189,  5.83095189,\n",
       "         9.16515139, 39.73663297,  9.69535971,  0.        ,  9.53939201],\n",
       "       [16.        ,  7.34846923, 10.53565375,  8.54400375,  5.        ,\n",
       "        10.90871211, 40.62019202, 12.36931688,  9.53939201,  0.        ]])"
      ]
     },
     "execution_count": 54,
     "metadata": {},
     "output_type": "execute_result"
    }
   ],
   "source": [
    "pairwise_distances(batch, metric=\"euclidean\")"
   ]
  },
  {
   "cell_type": "code",
   "execution_count": 55,
   "metadata": {},
   "outputs": [
    {
     "data": {
      "text/plain": [
       "array([[ 0.        , 10.19803903, 13.52774926, 10.14889157, 11.26942767,\n",
       "        15.19868415, 41.61730409, 13.45362405,  8.66025404, 16.        ],\n",
       "       [10.19803903,  0.        ,  8.42614977,  5.56776436,  4.35889894,\n",
       "        10.24695077, 40.04996879,  9.74679434,  3.        ,  7.34846923],\n",
       "       [13.52774926,  8.42614977,  0.        ,  7.87400787,  8.36660027,\n",
       "         6.4807407 , 39.33192088, 11.66190379,  7.07106781, 10.53565375],\n",
       "       [10.14889157,  5.56776436,  7.87400787,  0.        ,  5.29150262,\n",
       "        11.91637529, 40.5092582 , 11.3137085 ,  5.83095189,  8.54400375],\n",
       "       [11.26942767,  4.35889894,  8.36660027,  5.29150262,  0.        ,\n",
       "         9.48683298, 40.21193853, 10.58300524,  5.83095189,  5.        ],\n",
       "       [15.19868415, 10.24695077,  6.4807407 , 11.91637529,  9.48683298,\n",
       "         0.        , 39.17907605, 12.56980509,  9.16515139, 10.90871211],\n",
       "       [41.61730409, 40.04996879, 39.33192088, 40.5092582 , 40.21193853,\n",
       "        39.17907605,  0.        , 30.96772513, 39.73663297, 40.62019202],\n",
       "       [13.45362405,  9.74679434, 11.66190379, 11.3137085 , 10.58300524,\n",
       "        12.56980509, 30.96772513,  0.        ,  9.69535971, 12.36931688],\n",
       "       [ 8.66025404,  3.        ,  7.07106781,  5.83095189,  5.83095189,\n",
       "         9.16515139, 39.73663297,  9.69535971,  0.        ,  9.53939201],\n",
       "       [16.        ,  7.34846923, 10.53565375,  8.54400375,  5.        ,\n",
       "        10.90871211, 40.62019202, 12.36931688,  9.53939201,  0.        ]])"
      ]
     },
     "execution_count": 55,
     "metadata": {},
     "output_type": "execute_result"
    }
   ],
   "source": [
    "d[np.array(batch.index)[:, np.newaxis], np.array(batch.index)[np.newaxis, :]]"
   ]
  },
  {
   "cell_type": "code",
   "execution_count": 50,
   "metadata": {},
   "outputs": [],
   "source": [
    "for dm in AVAIL_DIST_METRICS:\n",
    "    d = load_distance(DBN, dm, \"catonly_wo_n\")\n",
    "    if d.min() < 0:\n",
    "        print(dm)"
   ]
  },
  {
   "cell_type": "code",
   "execution_count": 45,
   "metadata": {},
   "outputs": [],
   "source": [
    "from sklearn.metrics.pairwise import cosine_similarity,cosine_distances"
   ]
  },
  {
   "cell_type": "code",
   "execution_count": 46,
   "metadata": {},
   "outputs": [
    {
     "data": {
      "text/plain": [
       "array([[1.        , 1.        , 0.        , 0.99611649],\n",
       "       [1.        , 1.        , 0.        , 0.99611649],\n",
       "       [0.        , 0.        , 0.        , 0.        ],\n",
       "       [0.99611649, 0.99611649, 0.        , 1.        ]])"
      ]
     },
     "execution_count": 46,
     "metadata": {},
     "output_type": "execute_result"
    }
   ],
   "source": [
    "cosine_similarity([[1,1,1], [1,1,1], [0,0,0], [5,5,6]])"
   ]
  },
  {
   "cell_type": "code",
   "execution_count": 49,
   "metadata": {},
   "outputs": [
    {
     "data": {
      "text/plain": [
       "{'cityblock': <function sklearn.metrics.pairwise.manhattan_distances(X, Y=None, *, sum_over_features='deprecated')>,\n",
       " 'cosine': <function sklearn.metrics.pairwise.cosine_distances(X, Y=None)>,\n",
       " 'euclidean': <function sklearn.metrics.pairwise.euclidean_distances(X, Y=None, *, Y_norm_squared=None, squared=False, X_norm_squared=None)>,\n",
       " 'haversine': <function sklearn.metrics.pairwise.haversine_distances(X, Y=None)>,\n",
       " 'l2': <function sklearn.metrics.pairwise.euclidean_distances(X, Y=None, *, Y_norm_squared=None, squared=False, X_norm_squared=None)>,\n",
       " 'l1': <function sklearn.metrics.pairwise.manhattan_distances(X, Y=None, *, sum_over_features='deprecated')>,\n",
       " 'manhattan': <function sklearn.metrics.pairwise.manhattan_distances(X, Y=None, *, sum_over_features='deprecated')>,\n",
       " 'precomputed': None,\n",
       " 'nan_euclidean': <function sklearn.metrics.pairwise.nan_euclidean_distances(X, Y=None, *, squared=False, missing_values=nan, copy=True)>}"
      ]
     },
     "execution_count": 49,
     "metadata": {},
     "output_type": "execute_result"
    }
   ],
   "source": []
  }
 ],
 "metadata": {
  "kernelspec": {
   "display_name": "COMP8800",
   "language": "python",
   "name": "python3"
  },
  "language_info": {
   "codemirror_mode": {
    "name": "ipython",
    "version": 3
   },
   "file_extension": ".py",
   "mimetype": "text/x-python",
   "name": "python",
   "nbconvert_exporter": "python",
   "pygments_lexer": "ipython3",
   "version": "3.11.5"
  }
 },
 "nbformat": 4,
 "nbformat_minor": 2
}
