{
 "cells": [
  {
   "cell_type": "code",
   "execution_count": 33,
   "metadata": {},
   "outputs": [],
   "source": [
    "import pickle\n",
    "import os\n",
    "os.getcwd()\n",
    "os.chdir('/home/jecosine/Courses/Courses/COMP8800/Projects/CatBoostPlayground')\n",
    "from allib.metrics import get_metrics\n",
    "from allib.metrics.distance import AVAIL_DIST_METRICS\n",
    "from allib.datasets import load_uci, AVAIL_DATASETS\n",
    "from allib.models.al import ALL_STRATEGIES\n",
    "import numpy as np\n",
    "import pandas as pd"
   ]
  },
  {
   "cell_type": "code",
   "execution_count": 35,
   "metadata": {},
   "outputs": [],
   "source": [
    "BASE_PATH = \"app/comp_dist/\"\n",
    "SUFFIX = \"100iter_catonly_wo_n\"\n",
    "ALSTRATEGY = \"widc\""
   ]
  },
  {
   "cell_type": "code",
   "execution_count": 15,
   "metadata": {},
   "outputs": [],
   "source": [
    "def get_cache_name(alstrategy, dsn, model, stg, metric, encode, suffix):\n",
    "    return f\"{dsn.replace('/', '_')}@{model}@{stg}_{metric}_{encode}@{suffix}@x20.pkl\"\n",
    "\n",
    "def load_dataset(dsn: str):\n",
    "    ds = load_uci(dsn)\n",
    "    ds.with_preprocess(\n",
    "        steps=[\n",
    "            \"sample_n\", \n",
    "            \"categorical_only\",\n",
    "            # \"continuous_to_categorical\",\n",
    "            \"remove_constant_columns\", \n",
    "            \"drop_duplicate_rows\"\n",
    "        ],  \n",
    "        params_list=[\n",
    "            {\"n\": 1000, \"random_state\": 0},\n",
    "            # {\"encode\": \"ordinal\"},\n",
    "            {},\n",
    "            {}, \n",
    "            {}\n",
    "        ], \n",
    "        in_place=True\n",
    "    )\n",
    "    for col in ds._data.columns:\n",
    "        if ds._data[col].dtype == \"category\":\n",
    "            ds._data[col] = ds._data[col].astype(\"category\").cat.codes.astype(\"int\")\n",
    "    ds._data.reset_index(drop=True, inplace=True)\n",
    "    \n",
    "    return ds"
   ]
  },
  {
   "cell_type": "code",
   "execution_count": 11,
   "metadata": {},
   "outputs": [],
   "source": [
    "cache_name = get_cache_name(ALSTRATEGY, \"heart-disease\", \"catboost\", \"widc\", \"goodall4\", \"ordinal\", SUFFIX)\n",
    "\n",
    "with open(os.path.join(BASE_PATH + \"ppl_cache_pred\", cache_name), \"rb\") as f:\n",
    "    stats = pickle.load(f)"
   ]
  },
  {
   "cell_type": "code",
   "execution_count": 39,
   "metadata": {},
   "outputs": [],
   "source": [
    "def print_info(stat):\n",
    "    # check each iteration\n",
    "    iters = len(stat[0][\"instances\"])\n",
    "    for i in range(len(stat)):\n",
    "        if len(stat[i][\"predictions\"]) != iters:\n",
    "            print(f\"[WARN] iteration {i} has {len(stat[i]['predictions'])} predictions ({iters})\")\n",
    "        # iters = len(stat[i][\"instances\"])\n",
    "        \n",
    "    return f\"ntimes: {len(stat)}; niteration: {iters};\""
   ]
  },
  {
   "cell_type": "code",
   "execution_count": 20,
   "metadata": {},
   "outputs": [
    {
     "data": {
      "text/plain": [
       "0.4478114478114478"
      ]
     },
     "execution_count": 20,
     "metadata": {},
     "output_type": "execute_result"
    }
   ],
   "source": [
    "from sklearn.metrics import accuracy_score, f1_score, precision_score, recall_score\n",
    "\n",
    "ds = load_dataset(\"adult\")\n",
    "\n",
    "f1_score(stats[0][\"predictions\"][1], ds.test_y, average=\"macro\")"
   ]
  },
  {
   "cell_type": "code",
   "execution_count": 54,
   "metadata": {},
   "outputs": [
    {
     "data": {
      "text/plain": [
       "(array([2, 3, 4, 5, 6, 7, 8, 9]), array([15, 15,  9, 16, 10,  9, 10, 16]))"
      ]
     },
     "execution_count": 54,
     "metadata": {},
     "output_type": "execute_result"
    }
   ],
   "source": [
    "import numpy as np\n",
    "np.random.seed(0)\n",
    "a = np.random.randint(2, 10, 100)\n",
    "np.unique(a, return_counts=True)\n",
    "# np.bincount(a, minlength=5)"
   ]
  },
  {
   "cell_type": "code",
   "execution_count": 43,
   "metadata": {},
   "outputs": [
    {
     "ename": "FileNotFoundError",
     "evalue": "[Errno 2] No such file or directory: 'app/comp_dist/ppl_cache_pred/heart-disease@catboost@typiclust_euclidean_ordinal@catonly_int@x20.pkl'",
     "output_type": "error",
     "traceback": [
      "\u001b[0;31m---------------------------------------------------------------------------\u001b[0m",
      "\u001b[0;31mFileNotFoundError\u001b[0m                         Traceback (most recent call last)",
      "Cell \u001b[0;32mIn[43], line 3\u001b[0m\n\u001b[1;32m      1\u001b[0m \u001b[38;5;28;01mfor\u001b[39;00m m \u001b[38;5;129;01min\u001b[39;00m AVAIL_DIST_METRICS:\n\u001b[1;32m      2\u001b[0m     cache_name \u001b[38;5;241m=\u001b[39m get_cache_name(ALSTRATEGY, \u001b[38;5;124m\"\u001b[39m\u001b[38;5;124mheart-disease\u001b[39m\u001b[38;5;124m\"\u001b[39m, \u001b[38;5;124m\"\u001b[39m\u001b[38;5;124mcatboost\u001b[39m\u001b[38;5;124m\"\u001b[39m, \u001b[38;5;124m\"\u001b[39m\u001b[38;5;124mtypiclust\u001b[39m\u001b[38;5;124m\"\u001b[39m, m, \u001b[38;5;124m\"\u001b[39m\u001b[38;5;124mordinal\u001b[39m\u001b[38;5;124m\"\u001b[39m, \u001b[38;5;124m\"\u001b[39m\u001b[38;5;124mcatonly_int\u001b[39m\u001b[38;5;124m\"\u001b[39m)\n\u001b[0;32m----> 3\u001b[0m     \u001b[38;5;28;01mwith\u001b[39;00m \u001b[38;5;28mopen\u001b[39m(os\u001b[38;5;241m.\u001b[39mpath\u001b[38;5;241m.\u001b[39mjoin(BASE_PATH \u001b[38;5;241m+\u001b[39m \u001b[38;5;124m\"\u001b[39m\u001b[38;5;124mppl_cache_pred\u001b[39m\u001b[38;5;124m\"\u001b[39m, cache_name), \u001b[38;5;124m\"\u001b[39m\u001b[38;5;124mrb\u001b[39m\u001b[38;5;124m\"\u001b[39m) \u001b[38;5;28;01mas\u001b[39;00m f:\n\u001b[1;32m      4\u001b[0m         stats \u001b[38;5;241m=\u001b[39m pickle\u001b[38;5;241m.\u001b[39mload(f)\n\u001b[1;32m      5\u001b[0m         print_info(stats)\n",
      "File \u001b[0;32m~/anaconda3/envs/COMP8800/lib/python3.11/site-packages/IPython/core/interactiveshell.py:286\u001b[0m, in \u001b[0;36m_modified_open\u001b[0;34m(file, *args, **kwargs)\u001b[0m\n\u001b[1;32m    279\u001b[0m \u001b[38;5;28;01mif\u001b[39;00m file \u001b[38;5;129;01min\u001b[39;00m {\u001b[38;5;241m0\u001b[39m, \u001b[38;5;241m1\u001b[39m, \u001b[38;5;241m2\u001b[39m}:\n\u001b[1;32m    280\u001b[0m     \u001b[38;5;28;01mraise\u001b[39;00m \u001b[38;5;167;01mValueError\u001b[39;00m(\n\u001b[1;32m    281\u001b[0m         \u001b[38;5;124mf\u001b[39m\u001b[38;5;124m\"\u001b[39m\u001b[38;5;124mIPython won\u001b[39m\u001b[38;5;124m'\u001b[39m\u001b[38;5;124mt let you open fd=\u001b[39m\u001b[38;5;132;01m{\u001b[39;00mfile\u001b[38;5;132;01m}\u001b[39;00m\u001b[38;5;124m by default \u001b[39m\u001b[38;5;124m\"\u001b[39m\n\u001b[1;32m    282\u001b[0m         \u001b[38;5;124m\"\u001b[39m\u001b[38;5;124mas it is likely to crash IPython. If you know what you are doing, \u001b[39m\u001b[38;5;124m\"\u001b[39m\n\u001b[1;32m    283\u001b[0m         \u001b[38;5;124m\"\u001b[39m\u001b[38;5;124myou can use builtins\u001b[39m\u001b[38;5;124m'\u001b[39m\u001b[38;5;124m open.\u001b[39m\u001b[38;5;124m\"\u001b[39m\n\u001b[1;32m    284\u001b[0m     )\n\u001b[0;32m--> 286\u001b[0m \u001b[38;5;28;01mreturn\u001b[39;00m io_open(file, \u001b[38;5;241m*\u001b[39margs, \u001b[38;5;241m*\u001b[39m\u001b[38;5;241m*\u001b[39mkwargs)\n",
      "\u001b[0;31mFileNotFoundError\u001b[0m: [Errno 2] No such file or directory: 'app/comp_dist/ppl_cache_pred/heart-disease@catboost@typiclust_euclidean_ordinal@catonly_int@x20.pkl'"
     ]
    }
   ],
   "source": [
    "for m in AVAIL_DIST_METRICS:\n",
    "    cache_name = get_cache_name(ALSTRATEGY, \"heart-disease\", \"catboost\", \"typiclust\", m, \"ordinal\", \"catonly_int\")\n",
    "    with open(os.path.join(BASE_PATH + \"ppl_cache_pred\", cache_name), \"rb\") as f:\n",
    "        stats = pickle.load(f)\n",
    "        print_info(stats)"
   ]
  }
 ],
 "metadata": {
  "kernelspec": {
   "display_name": "COMP8800",
   "language": "python",
   "name": "python3"
  },
  "language_info": {
   "codemirror_mode": {
    "name": "ipython",
    "version": 3
   },
   "file_extension": ".py",
   "mimetype": "text/x-python",
   "name": "python",
   "nbconvert_exporter": "python",
   "pygments_lexer": "ipython3",
   "version": "3.11.5"
  }
 },
 "nbformat": 4,
 "nbformat_minor": 2
}
