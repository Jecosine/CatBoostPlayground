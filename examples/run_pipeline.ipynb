{
 "cells": [
  {
   "cell_type": "code",
   "execution_count": 1,
   "outputs": [],
   "source": [
    "%load_ext autoreload\n",
    "%autoreload 2"
   ],
   "metadata": {
    "collapsed": false,
    "ExecuteTime": {
     "end_time": "2023-08-09T18:32:48.584169Z",
     "start_time": "2023-08-09T18:32:48.542535Z"
    }
   },
   "id": "9c73a565d8d1caaa"
  },
  {
   "cell_type": "code",
   "execution_count": 1,
   "id": "initial_id",
   "metadata": {
    "collapsed": true,
    "ExecuteTime": {
     "end_time": "2023-08-09T19:53:34.718803Z",
     "start_time": "2023-08-09T19:53:29.508975Z"
    }
   },
   "outputs": [
    {
     "data": {
      "text/plain": "<module 'allib' from '/Users/jecosine/Courses/COMP8800/Projects/CatBoostTutorial/allib/__init__.py'>"
     },
     "execution_count": 1,
     "metadata": {},
     "output_type": "execute_result"
    }
   ],
   "source": [
    "import importlib\n",
    "import pandas as pd\n",
    "import numpy as np\n",
    "from typing import Optional\n",
    "\n",
    "import allib\n",
    "from allib.models.al import ActiveLearningPipeline, RandomMetric, UncertainMetric\n",
    "from allib.datasets import get_uci_db, load_uci, Dataset\n",
    "from allib.metrics import get_metrics\n",
    "\n",
    "from sklearn import preprocessing\n",
    "from tqdm.notebook import tqdm \n",
    "from catboost import CatBoostClassifier, to_classifier, sum_models\n",
    "importlib.reload(allib)"
   ]
  },
  {
   "cell_type": "code",
   "execution_count": 10,
   "outputs": [],
   "source": [
    "def make_model() -> CatBoostClassifier:\n",
    "        return CatBoostClassifier(\n",
    "            iterations=5,\n",
    "            learning_rate=0.1,\n",
    "            # loss_function='CrossEntropy'\n",
    "        )\n",
    "        # model.classes_ = 3\n",
    "class CatBoostPPL(ActiveLearningPipeline):\n",
    "    def __init__(self, *args, **kwargs):\n",
    "        super().__init__(*args, **kwargs)\n",
    "        self.model_list = []\n",
    "    \n",
    "    \n",
    "    def run(self, n_iter: Optional[int]=None):\n",
    "        prog = tqdm(self.dataset, total=len(self.dataset))\n",
    "        prog.set_description(f\"The {n_iter+1}th run:\")\n",
    "        for tx, ty in prog:\n",
    "            new_model = self.model if not self.model_list else make_model()\n",
    "            new_model.fit(tx, ty, verbose=False)\n",
    "            self.model_list.append(new_model)\n",
    "            self.model = self.model_list[0] if len(self.model_list) == 1 else to_classifier(sum_models(self.model_list, weights=[1.0 / len(self.model_list)] * len(self.model_list)))\n",
    "            self.apply_eval_metrics()\n",
    "        self.model_list = []\n",
    "        self.model = make_model()"
   ],
   "metadata": {
    "collapsed": false,
    "ExecuteTime": {
     "end_time": "2023-08-09T19:54:31.151800Z",
     "start_time": "2023-08-09T19:54:31.137755Z"
    }
   },
   "id": "7c69bedf592f11a8"
  },
  {
   "cell_type": "code",
   "execution_count": 11,
   "outputs": [
    {
     "name": "stdout",
     "output_type": "stream",
     "text": [
      "614\n"
     ]
    }
   ],
   "source": [
    "uci_db = get_uci_db()\n",
    "print(len(uci_db))"
   ],
   "metadata": {
    "collapsed": false,
    "ExecuteTime": {
     "end_time": "2023-08-09T19:54:31.400014Z",
     "start_time": "2023-08-09T19:54:31.385052Z"
    }
   },
   "id": "f104ecddc74fba4d"
  },
  {
   "cell_type": "code",
   "execution_count": 12,
   "outputs": [],
   "source": [
    "data, label = load_uci(\"iris\")"
   ],
   "metadata": {
    "collapsed": false,
    "ExecuteTime": {
     "end_time": "2023-08-09T19:54:31.613116Z",
     "start_time": "2023-08-09T19:54:31.593773Z"
    }
   },
   "id": "e4f63568f2d3ea5f"
  },
  {
   "cell_type": "code",
   "execution_count": 13,
   "outputs": [],
   "source": [
    "le = preprocessing.LabelEncoder()\n",
    "le.fit(label)\n",
    "label = le.transform(label)"
   ],
   "metadata": {
    "collapsed": false,
    "ExecuteTime": {
     "end_time": "2023-08-09T19:54:31.821474Z",
     "start_time": "2023-08-09T19:54:31.802020Z"
    }
   },
   "id": "15b0b918598f2ab2"
  },
  {
   "cell_type": "code",
   "execution_count": 14,
   "outputs": [],
   "source": [
    "SEED = 42\n",
    "params = {\n",
    "    \"random_state\": SEED,\n",
    "    \"init_size\": 3,\n",
    "    \"batch_size\": 20\n",
    "}\n",
    "random_metric = RandomMetric()\n",
    "uncertain_metric = UncertainMetric()\n",
    "rand_dataset = Dataset(data, label, al_metric=random_metric, shuffle=False, **params)\n",
    "uncert_dataset = Dataset(data, label, al_metric=uncertain_metric, shuffle=False, **params)"
   ],
   "metadata": {
    "collapsed": false,
    "ExecuteTime": {
     "end_time": "2023-08-09T19:54:32.349837Z",
     "start_time": "2023-08-09T19:54:32.336239Z"
    }
   },
   "id": "2755fa93e1a12ff2"
  },
  {
   "cell_type": "code",
   "execution_count": 15,
   "outputs": [],
   "source": [
    "model = make_model()\n",
    "ppl = CatBoostPPL(model=model, dataset=rand_dataset, eval_metrics=get_metrics([\"accuracy\"]), n_times=10)"
   ],
   "metadata": {
    "collapsed": false,
    "ExecuteTime": {
     "end_time": "2023-08-09T19:54:33.054631Z",
     "start_time": "2023-08-09T19:54:33.047918Z"
    }
   },
   "id": "e770304a4279be6"
  },
  {
   "cell_type": "code",
   "execution_count": 16,
   "outputs": [
    {
     "data": {
      "text/plain": "  0%|          | 0/10 [00:00<?, ?it/s]",
      "application/vnd.jupyter.widget-view+json": {
       "version_major": 2,
       "version_minor": 0,
       "model_id": "f5ec192186804b81931367c09117f9bc"
      }
     },
     "metadata": {},
     "output_type": "display_data"
    },
    {
     "data": {
      "text/plain": "  0%|          | 0/12 [00:00<?, ?it/s]",
      "application/vnd.jupyter.widget-view+json": {
       "version_major": 2,
       "version_minor": 0,
       "model_id": "bddbccebad44435f8f3f16a8edfb1799"
      }
     },
     "metadata": {},
     "output_type": "display_data"
    },
    {
     "data": {
      "text/plain": "  0%|          | 0/12 [00:00<?, ?it/s]",
      "application/vnd.jupyter.widget-view+json": {
       "version_major": 2,
       "version_minor": 0,
       "model_id": "90021472e8cd4b85a1982d61574e7414"
      }
     },
     "metadata": {},
     "output_type": "display_data"
    },
    {
     "data": {
      "text/plain": "  0%|          | 0/12 [00:00<?, ?it/s]",
      "application/vnd.jupyter.widget-view+json": {
       "version_major": 2,
       "version_minor": 0,
       "model_id": "f02588a2c5014dd88111cb63b2683cab"
      }
     },
     "metadata": {},
     "output_type": "display_data"
    },
    {
     "data": {
      "text/plain": "  0%|          | 0/12 [00:00<?, ?it/s]",
      "application/vnd.jupyter.widget-view+json": {
       "version_major": 2,
       "version_minor": 0,
       "model_id": "3009fffbedbf4e20947e83a350df09ac"
      }
     },
     "metadata": {},
     "output_type": "display_data"
    },
    {
     "data": {
      "text/plain": "  0%|          | 0/12 [00:00<?, ?it/s]",
      "application/vnd.jupyter.widget-view+json": {
       "version_major": 2,
       "version_minor": 0,
       "model_id": "6b369ce441ca409e879fa20e70d40903"
      }
     },
     "metadata": {},
     "output_type": "display_data"
    },
    {
     "data": {
      "text/plain": "  0%|          | 0/12 [00:00<?, ?it/s]",
      "application/vnd.jupyter.widget-view+json": {
       "version_major": 2,
       "version_minor": 0,
       "model_id": "6aec4817b7f34a3e826efeb124fd076d"
      }
     },
     "metadata": {},
     "output_type": "display_data"
    },
    {
     "data": {
      "text/plain": "  0%|          | 0/12 [00:00<?, ?it/s]",
      "application/vnd.jupyter.widget-view+json": {
       "version_major": 2,
       "version_minor": 0,
       "model_id": "7aebc3a140b44d6b9fe1364d98ce12ce"
      }
     },
     "metadata": {},
     "output_type": "display_data"
    },
    {
     "data": {
      "text/plain": "  0%|          | 0/12 [00:00<?, ?it/s]",
      "application/vnd.jupyter.widget-view+json": {
       "version_major": 2,
       "version_minor": 0,
       "model_id": "a639ad076b02410f9d3220feca05836d"
      }
     },
     "metadata": {},
     "output_type": "display_data"
    },
    {
     "data": {
      "text/plain": "  0%|          | 0/12 [00:00<?, ?it/s]",
      "application/vnd.jupyter.widget-view+json": {
       "version_major": 2,
       "version_minor": 0,
       "model_id": "ad4cc8f8bc8b49148d790a323c6b1fed"
      }
     },
     "metadata": {},
     "output_type": "display_data"
    },
    {
     "data": {
      "text/plain": "  0%|          | 0/12 [00:00<?, ?it/s]",
      "application/vnd.jupyter.widget-view+json": {
       "version_major": 2,
       "version_minor": 0,
       "model_id": "86c52b8777394c3a93fc07892e26eb8a"
      }
     },
     "metadata": {},
     "output_type": "display_data"
    }
   ],
   "source": [
    "ppl.start()"
   ],
   "metadata": {
    "collapsed": false,
    "ExecuteTime": {
     "end_time": "2023-08-09T19:54:38.279519Z",
     "start_time": "2023-08-09T19:54:33.614707Z"
    }
   },
   "id": "8b93c2cfb4f2cd3a"
  },
  {
   "cell_type": "code",
   "execution_count": 19,
   "outputs": [],
   "source": [
    "import matplotlib.pyplot as plt"
   ],
   "metadata": {
    "collapsed": false,
    "ExecuteTime": {
     "end_time": "2023-08-09T19:54:50.457359Z",
     "start_time": "2023-08-09T19:54:49.699013Z"
    }
   },
   "id": "82d11c2572c697cf"
  },
  {
   "cell_type": "code",
   "execution_count": 20,
   "outputs": [],
   "source": [
    "x = np.array(ppl.stats[0][\"instances\"])\n",
    "acc = np.vstack([ppl.stats[i][\"accuracy\"] for i in range(5)])\n",
    "acc_mean = acc.mean(axis=0)\n",
    "acc_max = acc.max(axis=0)\n",
    "acc_min = acc.min(axis=0)"
   ],
   "metadata": {
    "collapsed": false,
    "ExecuteTime": {
     "end_time": "2023-08-09T19:54:50.478730Z",
     "start_time": "2023-08-09T19:54:50.458947Z"
    }
   },
   "id": "d87e9afa72aaa80d"
  },
  {
   "cell_type": "code",
   "execution_count": 21,
   "outputs": [
    {
     "data": {
      "text/plain": "(0.0, 1.0)"
     },
     "execution_count": 21,
     "metadata": {},
     "output_type": "execute_result"
    },
    {
     "data": {
      "text/plain": "<Figure size 640x480 with 1 Axes>",
      "image/png": "[encoded data removed]"
     },
     "metadata": {},
     "output_type": "display_data"
    }
   ],
   "source": [
    "plt.plot(x, acc_mean, '-', color='gray')\n",
    "plt.fill_between(x, acc_min, acc_max,\n",
    "                 color='gray', alpha=0.2)\n",
    "plt.ylim(0, 1)"
   ],
   "metadata": {
    "collapsed": false,
    "ExecuteTime": {
     "end_time": "2023-08-09T19:54:50.870882Z",
     "start_time": "2023-08-09T19:54:50.587959Z"
    }
   },
   "id": "1e2fff71c86628e5"
  },
  {
   "cell_type": "code",
   "execution_count": 26,
   "outputs": [
    {
     "ename": "AttributeError",
     "evalue": "'function' object has no attribute '_score_func'",
     "output_type": "error",
     "traceback": [
      "\u001B[0;31m---------------------------------------------------------------------------\u001B[0m",
      "\u001B[0;31mAttributeError\u001B[0m                            Traceback (most recent call last)",
      "Cell \u001B[0;32mIn[26], line 1\u001B[0m\n\u001B[0;32m----> 1\u001B[0m \u001B[43macc\u001B[49m\u001B[38;5;241;43m.\u001B[39;49m\u001B[43m_score_func\u001B[49m([\u001B[38;5;241m1\u001B[39m,\u001B[38;5;241m0\u001B[39m,\u001B[38;5;241m0\u001B[39m], [\u001B[38;5;241m0\u001B[39m,\u001B[38;5;241m1\u001B[39m,\u001B[38;5;241m0\u001B[39m])\n",
      "\u001B[0;31mAttributeError\u001B[0m: 'function' object has no attribute '_score_func'"
     ]
    }
   ],
   "source": [],
   "metadata": {
    "collapsed": false,
    "ExecuteTime": {
     "end_time": "2023-08-09T18:43:07.464213Z",
     "start_time": "2023-08-09T18:43:06.915163Z"
    }
   },
   "id": "17a766de20e0de14"
  },
  {
   "cell_type": "code",
   "execution_count": null,
   "outputs": [],
   "source": [],
   "metadata": {
    "collapsed": false
   },
   "id": "c59e105dcaf1fdc9"
  }
 ],
 "metadata": {
  "kernelspec": {
   "display_name": "Python 3",
   "language": "python",
   "name": "python3"
  },
  "language_info": {
   "codemirror_mode": {
    "name": "ipython",
    "version": 2
   },
   "file_extension": ".py",
   "mimetype": "text/x-python",
   "name": "python",
   "nbconvert_exporter": "python",
   "pygments_lexer": "ipython2",
   "version": "2.7.6"
  }
 },
 "nbformat": 4,
 "nbformat_minor": 5
}
