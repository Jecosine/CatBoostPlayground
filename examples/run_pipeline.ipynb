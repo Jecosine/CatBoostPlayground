{
 "cells": [
  {
   "cell_type": "code",
   "execution_count": 1,
   "outputs": [],
   "source": [
    "%load_ext autoreload\n",
    "%autoreload 2"
   ],
   "metadata": {
    "collapsed": false,
    "ExecuteTime": {
     "end_time": "2023-08-09T18:32:48.584169Z",
     "start_time": "2023-08-09T18:32:48.542535Z"
    }
   },
   "id": "9c73a565d8d1caaa"
  },
  {
   "cell_type": "code",
   "execution_count": 1,
   "id": "initial_id",
   "metadata": {
    "collapsed": true,
    "ExecuteTime": {
     "end_time": "2023-08-10T05:39:20.260379Z",
     "start_time": "2023-08-10T05:39:16.456429Z"
    }
   },
   "outputs": [
    {
     "data": {
      "text/plain": "<module 'allib' from '/Users/jecosine/Courses/COMP8800/Projects/CatBoostTutorial/allib/__init__.py'>"
     },
     "execution_count": 1,
     "metadata": {},
     "output_type": "execute_result"
    }
   ],
   "source": [
    "import importlib\n",
    "import pandas as pd\n",
    "import numpy as np\n",
    "from typing import Optional\n",
    "\n",
    "import allib\n",
    "from allib.models.al import ActiveLearningPipeline, RandomMetric, UncertainMetric\n",
    "from allib.datasets import get_uci_db, load_uci, Dataset\n",
    "from allib.metrics import get_metrics\n",
    "\n",
    "from sklearn import preprocessing\n",
    "from tqdm.notebook import tqdm \n",
    "from catboost import CatBoostClassifier, to_classifier, sum_models\n",
    "importlib.reload(allib)"
   ]
  },
  {
   "cell_type": "code",
   "execution_count": 2,
   "outputs": [],
   "source": [
    "def make_model() -> CatBoostClassifier:\n",
    "        return CatBoostClassifier(\n",
    "            iterations=5,\n",
    "            learning_rate=0.1,\n",
    "            # loss_function='CrossEntropy'\n",
    "        )\n",
    "        # model.classes_ = 3\n",
    "class CatBoostPPL(ActiveLearningPipeline):\n",
    "    def __init__(self, *args, **kwargs):\n",
    "        super().__init__(*args, **kwargs)\n",
    "        self.model_list = []\n",
    "    \n",
    "    \n",
    "    def run(self, n_iter: Optional[int]=None):\n",
    "        prog = tqdm(self.dataset, total=len(self.dataset))\n",
    "        prog.set_description(f\"The {n_iter+1}th run:\")\n",
    "        for tx, ty in prog:\n",
    "            new_model = self.model if not self.model_list else make_model()\n",
    "            new_model.fit(tx, ty, verbose=False)\n",
    "            self.model_list.append(new_model)\n",
    "            self.model = self.model_list[0] if len(self.model_list) == 1 else to_classifier(sum_models(self.model_list, weights=[1.0 / len(self.model_list)] * len(self.model_list)))\n",
    "            self.apply_eval_metrics()\n",
    "        self.model_list = []\n",
    "        self.model = make_model()"
   ],
   "metadata": {
    "collapsed": false,
    "ExecuteTime": {
     "end_time": "2023-08-10T05:39:20.260913Z",
     "start_time": "2023-08-10T05:39:20.230860Z"
    }
   },
   "id": "7c69bedf592f11a8"
  },
  {
   "cell_type": "code",
   "execution_count": 3,
   "outputs": [],
   "source": [
    "uci_db = get_uci_db()\n",
    "print(len(uci_db))"
   ],
   "metadata": {
    "collapsed": false,
    "ExecuteTime": {
     "end_time": "2023-08-10T04:25:42.154839Z",
     "start_time": "2023-08-10T04:25:42.107680Z"
    }
   },
   "id": "f104ecddc74fba4d"
  },
  {
   "cell_type": "code",
   "execution_count": 3,
   "outputs": [],
   "source": [
    "data, label = load_uci(\"iris\")"
   ],
   "metadata": {
    "collapsed": false,
    "ExecuteTime": {
     "end_time": "2023-08-10T05:39:20.912248Z",
     "start_time": "2023-08-10T05:39:20.683163Z"
    }
   },
   "id": "e4f63568f2d3ea5f"
  },
  {
   "cell_type": "code",
   "execution_count": null,
   "outputs": [],
   "source": [
    "le = preprocessing.LabelEncoder()\n",
    "le.fit(label)\n",
    "label = le.transform(label)"
   ],
   "metadata": {
    "collapsed": false
   },
   "id": "15b0b918598f2ab2"
  },
  {
   "cell_type": "code",
   "execution_count": 4,
   "outputs": [],
   "source": [
    "SEED = 42\n",
    "params = {\n",
    "    \"random_state\": SEED,\n",
    "    \"init_size\": 3,\n",
    "    \"batch_size\": 20\n",
    "}\n",
    "random_metric = RandomMetric()\n",
    "uncertain_metric = UncertainMetric()\n",
    "rand_dataset = Dataset(data, label, al_metric=random_metric, shuffle=False, **params)\n",
    "uncert_dataset = Dataset(data, label, al_metric=uncertain_metric, shuffle=False, **params)"
   ],
   "metadata": {
    "collapsed": false,
    "ExecuteTime": {
     "end_time": "2023-08-10T05:39:28.111684Z",
     "start_time": "2023-08-10T05:39:28.073418Z"
    }
   },
   "id": "2755fa93e1a12ff2"
  },
  {
   "cell_type": "code",
   "execution_count": 5,
   "outputs": [],
   "source": [
    "model = make_model()\n",
    "ppl = CatBoostPPL(model=model, dataset=rand_dataset, eval_metrics=get_metrics([\"accuracy\"]), n_times=10)"
   ],
   "metadata": {
    "collapsed": false,
    "ExecuteTime": {
     "end_time": "2023-08-10T05:39:30.563593Z",
     "start_time": "2023-08-10T05:39:30.550366Z"
    }
   },
   "id": "e770304a4279be6"
  },
  {
   "cell_type": "code",
   "execution_count": null,
   "outputs": [],
   "source": [
    "ppl.start()"
   ],
   "metadata": {
    "collapsed": false
   },
   "id": "8b93c2cfb4f2cd3a"
  },
  {
   "cell_type": "code",
   "execution_count": null,
   "outputs": [],
   "source": [
    "import matplotlib.pyplot as plt"
   ],
   "metadata": {
    "collapsed": false
   },
   "id": "82d11c2572c697cf"
  },
  {
   "cell_type": "code",
   "execution_count": 8,
   "outputs": [],
   "source": [
    "x = np.array(ppl.stats[0][\"instances\"])\n",
    "acc = np.vstack([ppl.stats[i][\"accuracy\"] for i in range(5)])\n",
    "acc_mean = acc.mean(axis=0)\n",
    "acc_max = acc.max(axis=0)\n",
    "acc_min = acc.min(axis=0)"
   ],
   "metadata": {
    "collapsed": false,
    "ExecuteTime": {
     "end_time": "2023-08-10T05:43:43.113770Z",
     "start_time": "2023-08-10T05:43:41.514723Z"
    }
   },
   "id": "d87e9afa72aaa80d"
  },
  {
   "cell_type": "code",
   "execution_count": 9,
   "outputs": [],
   "source": [
    "plt.plot(x, acc_mean, '-', color='gray')\n",
    "plt.fill_between(x, acc_min, acc_max,\n",
    "                 color='gray', alpha=0.2)\n",
    "plt.ylim(0, 1)"
   ],
   "metadata": {
    "collapsed": false,
    "ExecuteTime": {
     "end_time": "2023-08-10T05:43:48.116161Z",
     "start_time": "2023-08-10T05:43:48.099820Z"
    }
   },
   "id": "1e2fff71c86628e5"
  },
  {
   "cell_type": "code",
   "execution_count": null,
   "outputs": [],
   "source": [],
   "metadata": {
    "collapsed": false
   },
   "id": "17a766de20e0de14"
  },
  {
   "cell_type": "code",
   "execution_count": null,
   "outputs": [],
   "source": [],
   "metadata": {
    "collapsed": false
   },
   "id": "c59e105dcaf1fdc9"
  }
 ],
 "metadata": {
  "kernelspec": {
   "display_name": "Python 3",
   "language": "python",
   "name": "python3"
  },
  "language_info": {
   "codemirror_mode": {
    "name": "ipython",
    "version": 2
   },
   "file_extension": ".py",
   "mimetype": "text/x-python",
   "name": "python",
   "nbconvert_exporter": "python",
   "pygments_lexer": "ipython2",
   "version": "2.7.6"
  }
 },
 "nbformat": 4,
 "nbformat_minor": 5
}
