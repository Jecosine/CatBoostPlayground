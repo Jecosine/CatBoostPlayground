{
 "cells": [
  {
   "cell_type": "code",
   "execution_count": 1,
   "outputs": [],
   "source": [
    "%load_ext autoreload\n",
    "%autoreload 2"
   ],
   "metadata": {
    "collapsed": false,
    "ExecuteTime": {
     "end_time": "2023-08-09T18:32:48.584169Z",
     "start_time": "2023-08-09T18:32:48.542535Z"
    }
   },
   "id": "9c73a565d8d1caaa"
  },
  {
   "cell_type": "code",
   "execution_count": 1,
   "id": "initial_id",
   "metadata": {
    "collapsed": true,
    "ExecuteTime": {
     "end_time": "2023-08-10T05:39:20.260379Z",
     "start_time": "2023-08-10T05:39:16.456429Z"
    }
   },
   "outputs": [
    {
     "data": {
      "text/plain": "<module 'allib' from '/Users/jecosine/Courses/COMP8800/Projects/CatBoostTutorial/allib/__init__.py'>"
     },
     "execution_count": 1,
     "metadata": {},
     "output_type": "execute_result"
    }
   ],
   "source": [
    "import importlib\n",
    "import pandas as pd\n",
    "import numpy as np\n",
    "from typing import Optional\n",
    "\n",
    "import allib\n",
    "from allib.models.al import ActiveLearningPipeline, RandomMetric, UncertainMetric\n",
    "from allib.datasets import get_uci_db, load_uci, Dataset\n",
    "from allib.metrics import get_metrics\n",
    "\n",
    "from sklearn import preprocessing\n",
    "from tqdm.notebook import tqdm \n",
    "from catboost import CatBoostClassifier, to_classifier, sum_models\n",
    "importlib.reload(allib)"
   ]
  },
  {
   "cell_type": "code",
   "execution_count": 2,
   "outputs": [],
   "source": [
    "def make_model() -> CatBoostClassifier:\n",
    "        return CatBoostClassifier(\n",
    "            iterations=5,\n",
    "            learning_rate=0.1,\n",
    "            # loss_function='CrossEntropy'\n",
    "        )\n",
    "        # model.classes_ = 3\n",
    "class CatBoostPPL(ActiveLearningPipeline):\n",
    "    def __init__(self, *args, **kwargs):\n",
    "        super().__init__(*args, **kwargs)\n",
    "        self.model_list = []\n",
    "    \n",
    "    \n",
    "    def run(self, n_iter: Optional[int]=None):\n",
    "        prog = tqdm(self.dataset, total=len(self.dataset))\n",
    "        prog.set_description(f\"The {n_iter+1}th run:\")\n",
    "        for tx, ty in prog:\n",
    "            new_model = self.model if not self.model_list else make_model()\n",
    "            new_model.fit(tx, ty, verbose=False)\n",
    "            self.model_list.append(new_model)\n",
    "            self.model = self.model_list[0] if len(self.model_list) == 1 else to_classifier(sum_models(self.model_list, weights=[1.0 / len(self.model_list)] * len(self.model_list)))\n",
    "            self.apply_eval_metrics()\n",
    "        self.model_list = []\n",
    "        self.model = make_model()"
   ],
   "metadata": {
    "collapsed": false,
    "ExecuteTime": {
     "end_time": "2023-08-10T05:39:20.260913Z",
     "start_time": "2023-08-10T05:39:20.230860Z"
    }
   },
   "id": "7c69bedf592f11a8"
  },
  {
   "cell_type": "code",
   "execution_count": 3,
   "outputs": [],
   "source": [
    "uci_db = get_uci_db()\n",
    "print(len(uci_db))"
   ],
   "metadata": {
    "collapsed": false,
    "ExecuteTime": {
     "end_time": "2023-08-10T04:25:42.154839Z",
     "start_time": "2023-08-10T04:25:42.107680Z"
    }
   },
   "id": "f104ecddc74fba4d"
  },
  {
   "cell_type": "code",
   "execution_count": 3,
   "outputs": [],
   "source": [
    "data, label = load_uci(\"iris\")"
   ],
   "metadata": {
    "collapsed": false,
    "ExecuteTime": {
     "end_time": "2023-08-10T05:39:20.912248Z",
     "start_time": "2023-08-10T05:39:20.683163Z"
    }
   },
   "id": "e4f63568f2d3ea5f"
  },
  {
   "cell_type": "code",
   "execution_count": null,
   "outputs": [],
   "source": [
    "le = preprocessing.LabelEncoder()\n",
    "le.fit(label)\n",
    "label = le.transform(label)"
   ],
   "metadata": {
    "collapsed": false
   },
   "id": "15b0b918598f2ab2"
  },
  {
   "cell_type": "code",
   "execution_count": 4,
   "outputs": [],
   "source": [
    "SEED = 42\n",
    "params = {\n",
    "    \"random_state\": SEED,\n",
    "    \"init_size\": 3,\n",
    "    \"batch_size\": 20\n",
    "}\n",
    "random_metric = RandomMetric()\n",
    "uncertain_metric = UncertainMetric()\n",
    "rand_dataset = Dataset(data, label, al_metric=random_metric, shuffle=False, **params)\n",
    "uncert_dataset = Dataset(data, label, al_metric=uncertain_metric, shuffle=False, **params)"
   ],
   "metadata": {
    "collapsed": false,
    "ExecuteTime": {
     "end_time": "2023-08-10T05:39:28.111684Z",
     "start_time": "2023-08-10T05:39:28.073418Z"
    }
   },
   "id": "2755fa93e1a12ff2"
  },
  {
   "cell_type": "code",
   "execution_count": 5,
   "outputs": [],
   "source": [
    "model = make_model()\n",
    "ppl = CatBoostPPL(model=model, dataset=rand_dataset, eval_metrics=get_metrics([\"accuracy\"]), n_times=10)"
   ],
   "metadata": {
    "collapsed": false,
    "ExecuteTime": {
     "end_time": "2023-08-10T05:39:30.563593Z",
     "start_time": "2023-08-10T05:39:30.550366Z"
    }
   },
   "id": "e770304a4279be6"
  },
  {
   "cell_type": "code",
   "execution_count": 7,
   "outputs": [
    {
     "data": {
      "text/plain": "  0%|          | 0/10 [00:00<?, ?it/s]",
      "application/vnd.jupyter.widget-view+json": {
       "version_major": 2,
       "version_minor": 0,
       "model_id": "aead5c4192724974bffc8942f99d32f3"
      }
     },
     "metadata": {},
     "output_type": "display_data"
    },
    {
     "data": {
      "text/plain": "  0%|          | 0/25 [00:00<?, ?it/s]",
      "application/vnd.jupyter.widget-view+json": {
       "version_major": 2,
       "version_minor": 0,
       "model_id": "b7b25c2654b141e685c90218d1797a26"
      }
     },
     "metadata": {},
     "output_type": "display_data"
    },
    {
     "data": {
      "text/plain": "  0%|          | 0/25 [00:00<?, ?it/s]",
      "application/vnd.jupyter.widget-view+json": {
       "version_major": 2,
       "version_minor": 0,
       "model_id": "388b2b788dd0424b93a5b54ca66f8ebb"
      }
     },
     "metadata": {},
     "output_type": "display_data"
    },
    {
     "data": {
      "text/plain": "  0%|          | 0/25 [00:00<?, ?it/s]",
      "application/vnd.jupyter.widget-view+json": {
       "version_major": 2,
       "version_minor": 0,
       "model_id": "4e45cb5b7b984dc9b255f038a82dc8ab"
      }
     },
     "metadata": {},
     "output_type": "display_data"
    },
    {
     "data": {
      "text/plain": "  0%|          | 0/25 [00:00<?, ?it/s]",
      "application/vnd.jupyter.widget-view+json": {
       "version_major": 2,
       "version_minor": 0,
       "model_id": "d01d397e1a034b92afbe3b6610fa959b"
      }
     },
     "metadata": {},
     "output_type": "display_data"
    },
    {
     "data": {
      "text/plain": "  0%|          | 0/25 [00:00<?, ?it/s]",
      "application/vnd.jupyter.widget-view+json": {
       "version_major": 2,
       "version_minor": 0,
       "model_id": "45ec2d1cef40438d9640b0a6df6a276d"
      }
     },
     "metadata": {},
     "output_type": "display_data"
    },
    {
     "data": {
      "text/plain": "  0%|          | 0/25 [00:00<?, ?it/s]",
      "application/vnd.jupyter.widget-view+json": {
       "version_major": 2,
       "version_minor": 0,
       "model_id": "33b53412317147f2a4245189ab576398"
      }
     },
     "metadata": {},
     "output_type": "display_data"
    },
    {
     "data": {
      "text/plain": "  0%|          | 0/25 [00:00<?, ?it/s]",
      "application/vnd.jupyter.widget-view+json": {
       "version_major": 2,
       "version_minor": 0,
       "model_id": "b418ce10909249d296bc574ecfc9c1fa"
      }
     },
     "metadata": {},
     "output_type": "display_data"
    },
    {
     "data": {
      "text/plain": "  0%|          | 0/25 [00:00<?, ?it/s]",
      "application/vnd.jupyter.widget-view+json": {
       "version_major": 2,
       "version_minor": 0,
       "model_id": "763a80b783764af68d9ccd34151c2ccc"
      }
     },
     "metadata": {},
     "output_type": "display_data"
    },
    {
     "data": {
      "text/plain": "  0%|          | 0/25 [00:00<?, ?it/s]",
      "application/vnd.jupyter.widget-view+json": {
       "version_major": 2,
       "version_minor": 0,
       "model_id": "8e7ad85c18a84b6aa45d312c817e8c22"
      }
     },
     "metadata": {},
     "output_type": "display_data"
    },
    {
     "data": {
      "text/plain": "  0%|          | 0/25 [00:00<?, ?it/s]",
      "application/vnd.jupyter.widget-view+json": {
       "version_major": 2,
       "version_minor": 0,
       "model_id": "34fc596f16b74d51a93ccd2089aaa4fa"
      }
     },
     "metadata": {},
     "output_type": "display_data"
    }
   ],
   "source": [
    "ppl.start()"
   ],
   "metadata": {
    "collapsed": false,
    "ExecuteTime": {
     "end_time": "2023-08-10T05:42:10.478503Z",
     "start_time": "2023-08-10T05:41:01.219336Z"
    }
   },
   "id": "8b93c2cfb4f2cd3a"
  },
  {
   "cell_type": "code",
   "execution_count": 6,
   "outputs": [
    {
     "data": {
      "text/plain": "  0%|          | 0/10 [00:00<?, ?it/s]",
      "application/vnd.jupyter.widget-view+json": {
       "version_major": 2,
       "version_minor": 0,
       "model_id": "f6c43d8a53d44f139fed5aaa4dd0ec9b"
      }
     },
     "metadata": {},
     "output_type": "display_data"
    },
    {
     "data": {
      "text/plain": "  0%|          | 0/25 [00:00<?, ?it/s]",
      "application/vnd.jupyter.widget-view+json": {
       "version_major": 2,
       "version_minor": 0,
       "model_id": "2e4914316f95403f870488f5175ebfc4"
      }
     },
     "metadata": {},
     "output_type": "display_data"
    },
    {
     "data": {
      "text/plain": "  0%|          | 0/25 [00:00<?, ?it/s]",
      "application/vnd.jupyter.widget-view+json": {
       "version_major": 2,
       "version_minor": 0,
       "model_id": "f7fc754a05014961b4b5587be518e307"
      }
     },
     "metadata": {},
     "output_type": "display_data"
    },
    {
     "data": {
      "text/plain": "  0%|          | 0/25 [00:00<?, ?it/s]",
      "application/vnd.jupyter.widget-view+json": {
       "version_major": 2,
       "version_minor": 0,
       "model_id": "6ed30da7814f420db07cedb5135015dd"
      }
     },
     "metadata": {},
     "output_type": "display_data"
    },
    {
     "data": {
      "text/plain": "  0%|          | 0/25 [00:00<?, ?it/s]",
      "application/vnd.jupyter.widget-view+json": {
       "version_major": 2,
       "version_minor": 0,
       "model_id": "e50ca2dcd15f49c2855fd0c940f512ca"
      }
     },
     "metadata": {},
     "output_type": "display_data"
    },
    {
     "data": {
      "text/plain": "  0%|          | 0/25 [00:00<?, ?it/s]",
      "application/vnd.jupyter.widget-view+json": {
       "version_major": 2,
       "version_minor": 0,
       "model_id": "576d051300104e7aa71dcc0c22b6adb3"
      }
     },
     "metadata": {},
     "output_type": "display_data"
    },
    {
     "data": {
      "text/plain": "  0%|          | 0/25 [00:00<?, ?it/s]",
      "application/vnd.jupyter.widget-view+json": {
       "version_major": 2,
       "version_minor": 0,
       "model_id": "fcd127f4a7fa4931815a6bbd30af81f8"
      }
     },
     "metadata": {},
     "output_type": "display_data"
    },
    {
     "data": {
      "text/plain": "  0%|          | 0/25 [00:00<?, ?it/s]",
      "application/vnd.jupyter.widget-view+json": {
       "version_major": 2,
       "version_minor": 0,
       "model_id": "bf03ae76905d4583986696dd7c44566f"
      }
     },
     "metadata": {},
     "output_type": "display_data"
    },
    {
     "data": {
      "text/plain": "  0%|          | 0/25 [00:00<?, ?it/s]",
      "application/vnd.jupyter.widget-view+json": {
       "version_major": 2,
       "version_minor": 0,
       "model_id": "3071da99f20e468da1c1eb73412f629c"
      }
     },
     "metadata": {},
     "output_type": "display_data"
    },
    {
     "data": {
      "text/plain": "  0%|          | 0/25 [00:00<?, ?it/s]",
      "application/vnd.jupyter.widget-view+json": {
       "version_major": 2,
       "version_minor": 0,
       "model_id": "70fd9619a67c43a39f96edcdc560252f"
      }
     },
     "metadata": {},
     "output_type": "display_data"
    },
    {
     "data": {
      "text/plain": "  0%|          | 0/25 [00:00<?, ?it/s]",
      "application/vnd.jupyter.widget-view+json": {
       "version_major": 2,
       "version_minor": 0,
       "model_id": "db53044f840d40878627d6eb016b24ce"
      }
     },
     "metadata": {},
     "output_type": "display_data"
    }
   ],
   "source": [
    "import matplotlib.pyplot as plt"
   ],
   "metadata": {
    "collapsed": false,
    "ExecuteTime": {
     "end_time": "2023-08-10T05:40:53.843904Z",
     "start_time": "2023-08-10T05:39:34.119379Z"
    }
   },
   "id": "82d11c2572c697cf"
  },
  {
   "cell_type": "code",
   "execution_count": 8,
   "outputs": [],
   "source": [
    "x = np.array(ppl.stats[0][\"instances\"])\n",
    "acc = np.vstack([ppl.stats[i][\"accuracy\"] for i in range(5)])\n",
    "acc_mean = acc.mean(axis=0)\n",
    "acc_max = acc.max(axis=0)\n",
    "acc_min = acc.min(axis=0)"
   ],
   "metadata": {
    "collapsed": false,
    "ExecuteTime": {
     "end_time": "2023-08-10T05:43:43.113770Z",
     "start_time": "2023-08-10T05:43:41.514723Z"
    }
   },
   "id": "d87e9afa72aaa80d"
  },
  {
   "cell_type": "code",
   "execution_count": 9,
   "outputs": [],
   "source": [
    "plt.plot(x, acc_mean, '-', color='gray')\n",
    "plt.fill_between(x, acc_min, acc_max,\n",
    "                 color='gray', alpha=0.2)\n",
    "plt.ylim(0, 1)"
   ],
   "metadata": {
    "collapsed": false,
    "ExecuteTime": {
     "end_time": "2023-08-10T05:43:48.116161Z",
     "start_time": "2023-08-10T05:43:48.099820Z"
    }
   },
   "id": "1e2fff71c86628e5"
  },
  {
   "cell_type": "code",
   "execution_count": 13,
   "outputs": [
    {
     "data": {
      "text/plain": "(0.0, 5000.0)"
     },
     "execution_count": 13,
     "metadata": {},
     "output_type": "execute_result"
    },
    {
     "data": {
      "text/plain": "<Figure size 500x500 with 1 Axes>",
      "image/png": "[encoded data removed]"
     },
     "metadata": {},
     "output_type": "display_data"
    }
   ],
   "source": [],
   "metadata": {
    "collapsed": false,
    "ExecuteTime": {
     "end_time": "2023-08-10T05:44:56.638399Z",
     "start_time": "2023-08-10T05:44:56.453239Z"
    }
   },
   "id": "17a766de20e0de14"
  },
  {
   "cell_type": "code",
   "execution_count": 57,
   "outputs": [
    {
     "data": {
      "text/plain": "(0.8, 1.0)"
     },
     "execution_count": 57,
     "metadata": {},
     "output_type": "execute_result"
    },
    {
     "data": {
      "text/plain": "<Figure size 2000x500 with 1 Axes>",
      "image/png": "[encoded data removed]"
     },
     "metadata": {},
     "output_type": "display_data"
    }
   ],
   "source": [],
   "metadata": {
    "collapsed": false,
    "ExecuteTime": {
     "end_time": "2023-08-10T05:12:50.054275Z",
     "start_time": "2023-08-10T05:12:49.831817Z"
    }
   },
   "id": "c59e105dcaf1fdc9"
  }
 ],
 "metadata": {
  "kernelspec": {
   "display_name": "Python 3",
   "language": "python",
   "name": "python3"
  },
  "language_info": {
   "codemirror_mode": {
    "name": "ipython",
    "version": 2
   },
   "file_extension": ".py",
   "mimetype": "text/x-python",
   "name": "python",
   "nbconvert_exporter": "python",
   "pygments_lexer": "ipython2",
   "version": "2.7.6"
  }
 },
 "nbformat": 4,
 "nbformat_minor": 5
}
