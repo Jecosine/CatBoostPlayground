{
 "cells": [
  {
   "cell_type": "code",
   "execution_count": 1,
   "id": "initial_id",
   "metadata": {
    "collapsed": true,
    "ExecuteTime": {
     "end_time": "2023-11-21T10:47:35.298697600Z",
     "start_time": "2023-11-21T10:47:34.890867Z"
    }
   },
   "outputs": [],
   "source": [
    "import numpy as np\n",
    "import tqdm\n",
    "\n",
    "from allib.datasets import load_uci, AVAIL_DATASETS\n",
    "from allib.metrics import distance\n",
    "from allib.utils import ensure_path\n",
    "from sklearn.metrics.pairwise import pairwise_distances, check_pairwise_arrays"
   ]
  },
  {
   "cell_type": "code",
   "execution_count": 4,
   "outputs": [],
   "source": [
    "def normalize(d):\n",
    "    # normalize to 0 1\n",
    "    d = (d - d.min()) / (d.max() - d.min())\n",
    "    return d\n",
    "\n",
    "def get_dist_mat(dsn: str):\n",
    "    print(\"processing dataset \", dsn)\n",
    "    ds = load_uci(dsn)\n",
    "    ds.with_preprocess(steps=[\"sample_n\", \"continuous_to_categorical\", \"remove_constant_columns\"],  params_list=[{\"n\": 10000, \"random_state\": 0}, {\"encode\": \"ordinal\"}, {}], in_place=True)\n",
    "    data, label = ds._data, ds._label\n",
    "    cache_dir = f\"./dist_cache/{dsn}\"\n",
    "    # check if local cache is available\n",
    "    ensure_path(cache_dir)\n",
    "    nks = []\n",
    "    freq = []\n",
    "    N = data.shape[0]\n",
    "    for col in data.columns:\n",
    "        nks.append(data[col].unique().shape[0])\n",
    "        freq.append(dict(data[col].value_counts()))\n",
    "    prob = [{k: v/N for k, v in f.items()} for f in freq]\n",
    "    prob2 = [{k: (v * (v - 1))/(N * (N-1)) for k, v in f.items()} for f in freq]\n",
    "    nks = np.array(nks)\n",
    "    params = {\"prob\": prob, \"prob2\": prob2, \"nks\": nks, \"N\": N, \"freq\": freq}\n",
    "    # use tqdm to show progress\n",
    "    for dm in tqdm.tqdm(distance.AVAIL_DIST_METRICS):\n",
    "        fn = f\"{cache_dir}/{dm}_ordinal.npy\"\n",
    "        if ensure_path(fn, False):\n",
    "            continue\n",
    "        d = pairwise_distances(data, metric=distance.get_dist_metric(dm, params))\n",
    "        d = normalize(d)\n",
    "        np.save(fn, d)"
   ],
   "metadata": {
    "collapsed": false,
    "ExecuteTime": {
     "end_time": "2023-11-21T10:48:52.803175300Z",
     "start_time": "2023-11-21T10:48:52.779879500Z"
    }
   },
   "id": "1a0ba7d9633373bf"
  },
  {
   "cell_type": "code",
   "execution_count": 8,
   "outputs": [
    {
     "name": "stdout",
     "output_type": "stream",
     "text": [
      "processing dataset  iris\n"
     ]
    },
    {
     "name": "stderr",
     "output_type": "stream",
     "text": [
      "100%|██████████| 16/16 [00:00<00:00, 16120.31it/s]\n",
      "D:\\anaconda3\\envs\\COMP8800\\lib\\site-packages\\sklearn\\preprocessing\\_discretization.py:313: UserWarning: Bins whose width are too small (i.e., <= 1e-8) in feature 4 are removed. Consider decreasing the number of bins.\n",
      "  warnings.warn(\n",
      "D:\\anaconda3\\envs\\COMP8800\\lib\\site-packages\\sklearn\\preprocessing\\_discretization.py:313: UserWarning: Bins whose width are too small (i.e., <= 1e-8) in feature 5 are removed. Consider decreasing the number of bins.\n",
      "  warnings.warn(\n",
      "D:\\anaconda3\\envs\\COMP8800\\lib\\site-packages\\sklearn\\preprocessing\\_discretization.py:313: UserWarning: Bins whose width are too small (i.e., <= 1e-8) in feature 7 are removed. Consider decreasing the number of bins.\n",
      "  warnings.warn(\n"
     ]
    },
    {
     "name": "stdout",
     "output_type": "stream",
     "text": [
      "processing dataset  yeast\n"
     ]
    },
    {
     "name": "stderr",
     "output_type": "stream",
     "text": [
      "100%|██████████| 16/16 [24:40<00:00, 92.55s/it] \n",
      "D:\\anaconda3\\envs\\COMP8800\\lib\\site-packages\\sklearn\\preprocessing\\_discretization.py:313: UserWarning: Bins whose width are too small (i.e., <= 1e-8) in feature 0 are removed. Consider decreasing the number of bins.\n",
      "  warnings.warn(\n",
      "D:\\anaconda3\\envs\\COMP8800\\lib\\site-packages\\sklearn\\preprocessing\\_discretization.py:313: UserWarning: Bins whose width are too small (i.e., <= 1e-8) in feature 5 are removed. Consider decreasing the number of bins.\n",
      "  warnings.warn(\n",
      "D:\\anaconda3\\envs\\COMP8800\\lib\\site-packages\\sklearn\\preprocessing\\_discretization.py:313: UserWarning: Bins whose width are too small (i.e., <= 1e-8) in feature 11 are removed. Consider decreasing the number of bins.\n",
      "  warnings.warn(\n",
      "D:\\anaconda3\\envs\\COMP8800\\lib\\site-packages\\sklearn\\preprocessing\\_discretization.py:313: UserWarning: Bins whose width are too small (i.e., <= 1e-8) in feature 13 are removed. Consider decreasing the number of bins.\n",
      "  warnings.warn(\n",
      "D:\\anaconda3\\envs\\COMP8800\\lib\\site-packages\\sklearn\\preprocessing\\_discretization.py:313: UserWarning: Bins whose width are too small (i.e., <= 1e-8) in feature 15 are removed. Consider decreasing the number of bins.\n",
      "  warnings.warn(\n"
     ]
    },
    {
     "name": "stdout",
     "output_type": "stream",
     "text": [
      "processing dataset  letter-recognition\n"
     ]
    },
    {
     "name": "stderr",
     "output_type": "stream",
     "text": [
      " 50%|█████     | 8/16 [10:15:31<10:15:31, 4616.49s/it]\n"
     ]
    },
    {
     "ename": "KeyboardInterrupt",
     "evalue": "",
     "output_type": "error",
     "traceback": [
      "\u001B[1;31m---------------------------------------------------------------------------\u001B[0m",
      "\u001B[1;31mKeyboardInterrupt\u001B[0m                         Traceback (most recent call last)",
      "Cell \u001B[1;32mIn[8], line 4\u001B[0m\n\u001B[0;32m      2\u001B[0m \u001B[38;5;28;01mif\u001B[39;00m dsn \u001B[38;5;241m==\u001B[39m \u001B[38;5;124m\"\u001B[39m\u001B[38;5;124madult\u001B[39m\u001B[38;5;124m\"\u001B[39m:\n\u001B[0;32m      3\u001B[0m     \u001B[38;5;28;01mcontinue\u001B[39;00m\n\u001B[1;32m----> 4\u001B[0m \u001B[43mget_dist_mat\u001B[49m\u001B[43m(\u001B[49m\u001B[43mdsn\u001B[49m\u001B[43m)\u001B[49m\n",
      "Cell \u001B[1;32mIn[4], line 29\u001B[0m, in \u001B[0;36mget_dist_mat\u001B[1;34m(dsn)\u001B[0m\n\u001B[0;32m     27\u001B[0m \u001B[38;5;28;01mif\u001B[39;00m ensure_path(fn, \u001B[38;5;28;01mFalse\u001B[39;00m):\n\u001B[0;32m     28\u001B[0m     \u001B[38;5;28;01mcontinue\u001B[39;00m\n\u001B[1;32m---> 29\u001B[0m d \u001B[38;5;241m=\u001B[39m \u001B[43mpairwise_distances\u001B[49m\u001B[43m(\u001B[49m\u001B[43mdata\u001B[49m\u001B[43m,\u001B[49m\u001B[43m \u001B[49m\u001B[43mmetric\u001B[49m\u001B[38;5;241;43m=\u001B[39;49m\u001B[43mdistance\u001B[49m\u001B[38;5;241;43m.\u001B[39;49m\u001B[43mget_dist_metric\u001B[49m\u001B[43m(\u001B[49m\u001B[43mdm\u001B[49m\u001B[43m,\u001B[49m\u001B[43m \u001B[49m\u001B[43mparams\u001B[49m\u001B[43m)\u001B[49m\u001B[43m)\u001B[49m\n\u001B[0;32m     30\u001B[0m d \u001B[38;5;241m=\u001B[39m normalize(d)\n\u001B[0;32m     31\u001B[0m np\u001B[38;5;241m.\u001B[39msave(fn, d)\n",
      "File \u001B[1;32mD:\\anaconda3\\envs\\COMP8800\\lib\\site-packages\\sklearn\\metrics\\pairwise.py:2195\u001B[0m, in \u001B[0;36mpairwise_distances\u001B[1;34m(X, Y, metric, n_jobs, force_all_finite, **kwds)\u001B[0m\n\u001B[0;32m   2192\u001B[0m         \u001B[38;5;28;01mreturn\u001B[39;00m distance\u001B[38;5;241m.\u001B[39msquareform(distance\u001B[38;5;241m.\u001B[39mpdist(X, metric\u001B[38;5;241m=\u001B[39mmetric, \u001B[38;5;241m*\u001B[39m\u001B[38;5;241m*\u001B[39mkwds))\n\u001B[0;32m   2193\u001B[0m     func \u001B[38;5;241m=\u001B[39m partial(distance\u001B[38;5;241m.\u001B[39mcdist, metric\u001B[38;5;241m=\u001B[39mmetric, \u001B[38;5;241m*\u001B[39m\u001B[38;5;241m*\u001B[39mkwds)\n\u001B[1;32m-> 2195\u001B[0m \u001B[38;5;28;01mreturn\u001B[39;00m _parallel_pairwise(X, Y, func, n_jobs, \u001B[38;5;241m*\u001B[39m\u001B[38;5;241m*\u001B[39mkwds)\n",
      "File \u001B[1;32mD:\\anaconda3\\envs\\COMP8800\\lib\\site-packages\\sklearn\\metrics\\pairwise.py:1765\u001B[0m, in \u001B[0;36m_parallel_pairwise\u001B[1;34m(X, Y, func, n_jobs, **kwds)\u001B[0m\n\u001B[0;32m   1762\u001B[0m X, Y, dtype \u001B[38;5;241m=\u001B[39m _return_float_dtype(X, Y)\n\u001B[0;32m   1764\u001B[0m \u001B[38;5;28;01mif\u001B[39;00m effective_n_jobs(n_jobs) \u001B[38;5;241m==\u001B[39m \u001B[38;5;241m1\u001B[39m:\n\u001B[1;32m-> 1765\u001B[0m     \u001B[38;5;28;01mreturn\u001B[39;00m func(X, Y, \u001B[38;5;241m*\u001B[39m\u001B[38;5;241m*\u001B[39mkwds)\n\u001B[0;32m   1767\u001B[0m \u001B[38;5;66;03m# enforce a threading backend to prevent data communication overhead\u001B[39;00m\n\u001B[0;32m   1768\u001B[0m fd \u001B[38;5;241m=\u001B[39m delayed(_dist_wrapper)\n",
      "File \u001B[1;32mD:\\anaconda3\\envs\\COMP8800\\lib\\site-packages\\sklearn\\metrics\\pairwise.py:1809\u001B[0m, in \u001B[0;36m_pairwise_callable\u001B[1;34m(X, Y, metric, force_all_finite, **kwds)\u001B[0m\n\u001B[0;32m   1807\u001B[0m     iterator \u001B[38;5;241m=\u001B[39m itertools\u001B[38;5;241m.\u001B[39mproduct(\u001B[38;5;28mrange\u001B[39m(X\u001B[38;5;241m.\u001B[39mshape[\u001B[38;5;241m0\u001B[39m]), \u001B[38;5;28mrange\u001B[39m(Y\u001B[38;5;241m.\u001B[39mshape[\u001B[38;5;241m0\u001B[39m]))\n\u001B[0;32m   1808\u001B[0m     \u001B[38;5;28;01mfor\u001B[39;00m i, j \u001B[38;5;129;01min\u001B[39;00m iterator:\n\u001B[1;32m-> 1809\u001B[0m         out[i, j] \u001B[38;5;241m=\u001B[39m metric(X[i], Y[j], \u001B[38;5;241m*\u001B[39m\u001B[38;5;241m*\u001B[39mkwds)\n\u001B[0;32m   1811\u001B[0m \u001B[38;5;28;01mreturn\u001B[39;00m out\n",
      "File \u001B[1;32mE:\\Courses\\COMP8800\\Projects\\CatBoostPlayground\\allib\\metrics\\distance.py:173\u001B[0m, in \u001B[0;36m__m_goodall1\u001B[1;34m(X, Y, prob2, **kwargs)\u001B[0m\n\u001B[0;32m    162\u001B[0m \u001B[38;5;250m\u001B[39m\u001B[38;5;124;03m\"\"\"\u001B[39;00m\n\u001B[0;32m    163\u001B[0m \u001B[38;5;124;03mArgs:\u001B[39;00m\n\u001B[0;32m    164\u001B[0m \u001B[38;5;124;03m    X: of shape (n_features,)\u001B[39;00m\n\u001B[1;32m   (...)\u001B[0m\n\u001B[0;32m    170\u001B[0m \u001B[38;5;124;03m    float\u001B[39;00m\n\u001B[0;32m    171\u001B[0m \u001B[38;5;124;03m\"\"\"\u001B[39;00m\n\u001B[0;32m    172\u001B[0m prob2_getter \u001B[38;5;241m=\u001B[39m __make_ldict_getter(prob2)\n\u001B[1;32m--> 173\u001B[0m indices \u001B[38;5;241m=\u001B[39m \u001B[43mnp\u001B[49m\u001B[38;5;241;43m.\u001B[39;49m\u001B[43marange\u001B[49m\u001B[43m(\u001B[49m\u001B[43mX\u001B[49m\u001B[38;5;241;43m.\u001B[39;49m\u001B[43mshape\u001B[49m\u001B[43m[\u001B[49m\u001B[38;5;241;43m0\u001B[39;49m\u001B[43m]\u001B[49m\u001B[43m)\u001B[49m\n\u001B[0;32m    174\u001B[0m xp \u001B[38;5;241m=\u001B[39m np\u001B[38;5;241m.\u001B[39mvectorize(prob2_getter)(indices, X)\n\u001B[0;32m    175\u001B[0m ap \u001B[38;5;241m=\u001B[39m [np\u001B[38;5;241m.\u001B[39marray(\u001B[38;5;28mlist\u001B[39m(p\u001B[38;5;241m.\u001B[39mvalues())) \u001B[38;5;28;01mfor\u001B[39;00m p \u001B[38;5;129;01min\u001B[39;00m prob2]\n",
      "\u001B[1;31mKeyboardInterrupt\u001B[0m: "
     ]
    }
   ],
   "source": [
    "for dsn in AVAIL_DATASETS:\n",
    "    if dsn == \"adult\":\n",
    "        continue\n",
    "    get_dist_mat(dsn)"
   ],
   "metadata": {
    "collapsed": false,
    "ExecuteTime": {
     "end_time": "2023-11-22T12:39:07.972965Z",
     "start_time": "2023-11-22T01:58:54.989205500Z"
    }
   },
   "id": "719de46dbeb4b7c7"
  },
  {
   "cell_type": "code",
   "execution_count": 12,
   "outputs": [
    {
     "data": {
      "text/plain": "(32537, 14)"
     },
     "execution_count": 12,
     "metadata": {},
     "output_type": "execute_result"
    }
   ],
   "source": [
    "ds = load_uci(\"adult\")\n",
    "ds._data.shape"
   ],
   "metadata": {
    "collapsed": false,
    "ExecuteTime": {
     "end_time": "2023-11-21T10:08:23.997518700Z",
     "start_time": "2023-11-21T10:08:21.175379500Z"
    }
   },
   "id": "6c32c8d5f7c40870"
  },
  {
   "cell_type": "code",
   "execution_count": 14,
   "outputs": [
    {
     "data": {
      "text/plain": "11.920928955078125"
     },
     "execution_count": 14,
     "metadata": {},
     "output_type": "execute_result"
    }
   ],
   "source": [
    "# estimate file have 149*149 float\n",
    "# 149*149*4 = 88.5KB\n",
    "10000 * 10000 * 8 / 1024 / 1024 / 1024 * 16"
   ],
   "metadata": {
    "collapsed": false,
    "ExecuteTime": {
     "end_time": "2023-11-21T10:16:15.098324600Z",
     "start_time": "2023-11-21T10:16:15.093441400Z"
    }
   },
   "id": "12c8d4ec40651d09"
  }
 ],
 "metadata": {
  "kernelspec": {
   "display_name": "Python 3",
   "language": "python",
   "name": "python3"
  },
  "language_info": {
   "codemirror_mode": {
    "name": "ipython",
    "version": 2
   },
   "file_extension": ".py",
   "mimetype": "text/x-python",
   "name": "python",
   "nbconvert_exporter": "python",
   "pygments_lexer": "ipython2",
   "version": "2.7.6"
  }
 },
 "nbformat": 4,
 "nbformat_minor": 5
}
