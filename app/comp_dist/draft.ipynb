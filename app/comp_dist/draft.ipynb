{
 "cells": [
  {
   "cell_type": "code",
   "execution_count": 2,
   "id": "initial_id",
   "metadata": {
    "ExecuteTime": {
     "end_time": "2024-05-19T23:27:02.621485300Z",
     "start_time": "2024-05-19T23:27:02.138998300Z"
    }
   },
   "outputs": [],
   "source": [
    "import os \n",
    "#if you want to know current working dir\n",
    "os.getcwd()\n",
    "os.chdir('/home/jecosine/Courses/Courses/COMP8800/Projects/CatBoostPlayground')\n",
    "# os.listdir()\n",
    "\n",
    "from allib.datasets import load_uci, AVAIL_DATASETS\n",
    "from allib.metrics import distance\n",
    "from allib.utils import ensure_path\n",
    "from allib.models.al import get_al_strategy\n",
    "from sklearn.metrics.pairwise import pairwise_distances, check_pairwise_arrays\n",
    "from allib.metrics import get_metrics\n",
    "from allib.plots import PLMetric\n",
    "from allib.models import get_pipeline, AVAIL_MODELS\n",
    "import numpy as np\n",
    "import pandas as pd\n",
    "import os\n",
    "import pickle\n",
    "# os.environ[\"OMP_NUM_THREADS\"] = \"1\"\n",
    "# ignore numpy warning\n",
    "import warnings\n",
    "warnings.filterwarnings('ignore')"
   ]
  },
  {
   "cell_type": "markdown",
   "id": "1c8ed67a0fbdd1",
   "metadata": {
    "collapsed": false
   },
   "source": [
    "#### TODO:\n",
    "\n",
    "- [x] add stratified sampling\n",
    "- [ ] compare with random baseline"
   ]
  },
  {
   "cell_type": "code",
   "execution_count": 3,
   "id": "425e0db05833acaf",
   "metadata": {
    "ExecuteTime": {
     "end_time": "2024-05-20T03:37:13.506996100Z",
     "start_time": "2024-05-20T03:37:13.488046700Z"
    }
   },
   "outputs": [],
   "source": [
    "# DIST_CACHE = \"../../examples/dist_cache_1000\"\n",
    "DIST_CACHE = \"examples/dist_cache_1000\"\n",
    "LOCAL_DIR = \"app/comp_dist\"\n",
    "# LOCAL_DIR = \"./\"\n",
    "# ENCODE = \"onehot-dense\"\n",
    "ENCODE = \"ordinal\"\n",
    "ALSTRATEGY = \"typiclust\""
   ]
  },
  {
   "cell_type": "markdown",
   "id": "db4d3ea5757592ec",
   "metadata": {
    "collapsed": false
   },
   "source": [
    "## GSX"
   ]
  },
  {
   "cell_type": "code",
   "execution_count": null,
   "id": "306e5e445a6b76af",
   "metadata": {},
   "outputs": [],
   "source": [
    "for dsn in AVAIL_DATASETS:\n",
    "    ds = load_uci(dsn)\n",
    "    ds.with_preprocess(steps=[\"sample_n\", \"continuous_to_categorical\", \"remove_constant_columns\", \"drop_duplicate_rows\"],  params_list=[{\"n\": 1000, \"random_state\": 0}, {\"encode\": \"ordinal\"}, {}, {}], in_place=True)\n",
    "    model_name = \"catboost\"\n",
    "    gsx = get_al_strategy(\"gsx\")\n",
    "    for metric in distance.AVAIL_DIST_METRICS:\n",
    "    # for metric in [\"cosine\", \"euclidean\"]:\n",
    "        fn = f\"{DIST_CACHE}/{dsn}/{metric}_ordinal.npy\"\n",
    "        cache_name = f\"{dsn.replace('/', '_')}@{model_name}@gsx_{metric}@x20.pkl\"\n",
    "        if ensure_path(os.path.join(\"ppl_cache\", cache_name), False):\n",
    "            print(f\"exp {cache_name} already exists, continue\")\n",
    "            continue\n",
    "        if not ensure_path(fn, False):\n",
    "            print(f\"{metric} for {dsn} not found, skipping ...\")\n",
    "            continue\n",
    "        print(f\"Using cache of {metric} for {dsn}\")\n",
    "        setattr(gsx, \"dist_cache_path\", fn)\n",
    "        ds = ds.with_strategy(gsx, extra_params={\"distance_metric\": metric})\n",
    "        make_ppl = get_pipeline(model_name)\n",
    "        ppl = make_ppl(\n",
    "            model=None,\n",
    "            eval_metrics=get_metrics([\"accuracy\"]),\n",
    "            seeds=[i for i in range(20)],\n",
    "            n_times=20,\n",
    "            dataset=ds,\n",
    "            cat_idx=ds.info[\"cat_idx\"]\n",
    "        )\n",
    "        ppl.start()\n",
    "        with open(os.path.join(\"ppl_cache\", cache_name), \"wb\") as f:\n",
    "            pickle.dump(ppl.stats, f)\n"
   ]
  },
  {
   "cell_type": "code",
   "execution_count": 80,
   "id": "becf2bd6",
   "metadata": {},
   "outputs": [],
   "source": [
    "ds = load_uci(dsn)    \n",
    "ds.with_preprocess(steps=[\"sample_n\", \"continuous_to_categorical\", \"remove_constant_columns\", \"drop_duplicate_rows\"],  params_list=[{\"n\": 1000, \"random_state\": 0}, {\"encode\": ENCODE}, {}, {}], in_place=True)\n",
    "ds._data.reset_index(drop=True, inplace=True)"
   ]
  },
  {
   "cell_type": "code",
   "execution_count": 6,
   "id": "bed8c016",
   "metadata": {
    "ExecuteTime": {
     "end_time": "2024-05-20T03:52:43.407520800Z",
     "start_time": "2024-05-20T03:52:43.199169200Z"
    }
   },
   "outputs": [
    {
     "name": "stdout",
     "output_type": "stream",
     "text": [
      "(654, 654)\n",
      "(654, 654)\n",
      "(654, 654)\n",
      "(654, 654)\n",
      "(654, 654)\n",
      "(654, 654)\n",
      "(654, 654)\n",
      "(654, 654)\n",
      "(654, 654)\n",
      "(654, 654)\n",
      "(654, 654)\n",
      "(654, 654)\n",
      "(654, 654)\n",
      "(654, 654)\n",
      "(654, 654)\n",
      "(654, 654)\n",
      "(654, 654)\n"
     ]
    }
   ],
   "source": [
    "from allib.metrics.distance import AVAIL_DIST_METRICS \n",
    "from scipy.spatial.distance import squareform\n",
    "for metric in AVAIL_DIST_METRICS:\n",
    "    fn = f\"{DIST_CACHE}/adult/{metric}_catonly.npy\"\n",
    "    # if ensure_path(fn, False):\n",
    "    #     print(f\"{metric} for adult already exists, continue\")\n",
    "    #     continue\n",
    "    d = np.load(fn)\n",
    "    # dd = squareform(d)\n",
    "    print(d.shape)"
   ]
  },
  {
   "cell_type": "markdown",
   "id": "74241ed1",
   "metadata": {},
   "source": [
    "## WIDC"
   ]
  },
  {
   "cell_type": "code",
   "execution_count": 19,
   "id": "e698e112",
   "metadata": {},
   "outputs": [],
   "source": [
    "ds = load_uci(dsn)\n",
    "ds.with_preprocess(steps=[\"sample_n\", \"categorical_only\", \"remove_constant_columns\", \"drop_duplicate_rows\"],  params_list=[{\"n\": 1000, \"random_state\": 0}, {}, {}, {}], in_place=True)\n"
   ]
  },
  {
   "cell_type": "code",
   "execution_count": 4,
   "id": "4dec3bf6",
   "metadata": {},
   "outputs": [
    {
     "name": "stdout",
     "output_type": "stream",
     "text": [
      "[1, 3, 5, 6, 7, 8, 9, 13]\n",
      "examples/dist_cache_1000/adult/gambaryan_catonly_wid.npy examples/dist_cache_1000/adult/euclidean_numerical.npy\n",
      "Using cache of euclidean for adult with ordinal_wo_n encoding\n",
      "[WARNING] Start without evaluating metrics\n"
     ]
    },
    {
     "name": "stderr",
     "output_type": "stream",
     "text": [
      "100%|██████████| 20/20 [04:50<00:00, 14.51s/it]\n"
     ]
    },
    {
     "name": "stdout",
     "output_type": "stream",
     "text": [
      "examples/dist_cache_1000/adult/gambaryan_catonly_wid.npy examples/dist_cache_1000/adult/cosine_numerical.npy\n",
      "Using cache of cosine for adult with ordinal_wo_n encoding\n",
      "[WARNING] Start without evaluating metrics\n"
     ]
    },
    {
     "name": "stderr",
     "output_type": "stream",
     "text": [
      "100%|██████████| 20/20 [07:19<00:00, 21.98s/it]\n"
     ]
    }
   ],
   "source": [
    "# SUFFIX = \"100iter\"\n",
    "SUFFIX = \"200iter_wid\"\n",
    "ENCODE = \"ordinal_wo_n\"\n",
    "ALSTRATEGY = \"widc2\"\n",
    "model_extra_params = { \"iterations\": 200 }\n",
    "candidates = [\"euclidean\", \"cosine\", \"hamming\", \"smirnov\", \"goodall1\", \"iof\", \"anderberg\", \"gambaryan\"]\n",
    "for dsn in [\"adult\"]:\n",
    "    # if dsn in [\"balance-scale\"]:\n",
    "    #     continue\n",
    "    ds = load_uci(dsn)\n",
    "    # ds.with_preprocess(steps=[\"sample_n\", \"categorical_only\", \"remove_constant_columns\", \"drop_duplicate_rows\"],  params_list=[{\"n\": 1000, \"random_state\": 0}, {}, {}, {}], in_place=True)\n",
    "    ds.with_preprocess(steps=[\"sample_n\", \"remove_constant_columns\", \"drop_duplicate_rows\"],  params_list=[{\"n\": 1000, \"random_state\": 0}, {}, {}], in_place=True)\n",
    "\n",
    "    # ds.with_preprocess(steps=[\"sample_n\", \"continuous_to_categorical\", \"remove_constant_columns\", \"drop_duplicate_rows\"],  params_list=[{\"n\": 1000, \"random_state\": 0}, {\"encode\": ENCODE}, {}, {}], in_place=True)\n",
    "    ds._data.reset_index(drop=True, inplace=True)\n",
    "    ds._label.reset_index(drop=True, inplace=True)\n",
    "\n",
    "    model_name = \"catboost\"\n",
    "    columns = ds._data.columns\n",
    "    for col in ds.info[\"cat_idx\"]:\n",
    "        ds._data[columns[col]] = pd.Categorical(pd.Categorical(ds._data[columns[col]]).codes.astype(\"int\"))\n",
    "        # df[column] = pd.Categorical(df[column]).codes\n",
    "        # ds._data[col] = pd.Categorical(ds._data[col]).codes.astype(\"int\")\n",
    "    print(ds.info[\"cat_idx\"])\n",
    "    al_strategy = get_al_strategy(ALSTRATEGY)\n",
    "    for metric in [\"euclidean\", \"cosine\"]:\n",
    "    # for metric in candidates:\n",
    "        # ---------------------- IMPORTANT ----------------------------\n",
    "        cfn = f\"{DIST_CACHE}/{dsn}/gambaryan_catonly_wid.npy\"\n",
    "        nfn = f\"{DIST_CACHE}/{dsn}/{metric}_numerical.npy\"\n",
    "        # fn = f\"{DIST_CACHE}/{dsn}/{metric}_{ENCODE}.npy\"\n",
    "        # fn = f\"{DIST_CACHE}/{dsn}/{metric}_catonly_wo_n.npy\"\n",
    "        # print(fn)\n",
    "        print(cfn, nfn)\n",
    "        cache_name = f\"{dsn.replace('/', '_')}@{model_name}@{ALSTRATEGY}_{metric}+gambaryan_{ENCODE}@{SUFFIX}@x20.pkl\"\n",
    "        if ensure_path(os.path.join(LOCAL_DIR, \"ppl_cache_pred\", cache_name), False):\n",
    "            print(f\"exp {cache_name} already exists, continue\")\n",
    "            continue\n",
    "        if not ensure_path(cfn, False) or not ensure_path(nfn, False):\n",
    "            print(f\"{metric} for {dsn} not found in {fn}, skipping ...\")\n",
    "            continue\n",
    "        print(f\"Using cache of {metric} for {dsn} with {ENCODE} encoding\")\n",
    "        # setattr(al_strategy, \"dist_cache_path\", fn)\n",
    "        ds = ds.with_strategy(al_strategy, extra_params={\"distance_metric\": metric, \"weighted\": True})\n",
    "        ds.reset()\n",
    "        # setattr(ds.al_metric, \"dist_cache_path\", fn)\n",
    "        setattr(ds.al_metric, \"dist_cache_path\", (cfn, nfn))\n",
    "\n",
    "        make_ppl = get_pipeline(model_name)\n",
    "        ppl = make_ppl(\n",
    "            model=None,\n",
    "            # eval_metrics=get_metrics([\"roc_auc\"]),\n",
    "            eval_metrics=[],\n",
    "            seeds=[i for i in range(20)],\n",
    "            n_times=20,\n",
    "            dataset=ds,\n",
    "            cat_idx=ds.info[\"cat_idx\"],\n",
    "            model_extra_params=model_extra_params\n",
    "        )\n",
    "        ppl.start()\n",
    "        with open(os.path.join(LOCAL_DIR, \"ppl_cache_pred\", cache_name), \"wb\") as f:\n",
    "            pickle.dump(ppl.stats, f)"
   ]
  },
  {
   "cell_type": "code",
   "execution_count": 6,
   "id": "916a409b41dda072",
   "metadata": {
    "ExecuteTime": {
     "end_time": "2024-05-20T03:56:11.015936300Z",
     "start_time": "2024-05-20T03:52:56.335577800Z"
    },
    "collapsed": false
   },
   "outputs": [
    {
     "name": "stdout",
     "output_type": "stream",
     "text": [
      "[]\n",
      "examples/dist_cache_1000/adult/euclidean_numerical.npy\n",
      "Using cache of euclidean for adult with ordinal_wo_n encoding\n",
      "[WARNING] Start without evaluating metrics\n"
     ]
    },
    {
     "name": "stderr",
     "output_type": "stream",
     "text": [
      "100%|██████████| 20/20 [01:19<00:00,  4.00s/it]\n"
     ]
    },
    {
     "name": "stdout",
     "output_type": "stream",
     "text": [
      "examples/dist_cache_1000/adult/cosine_numerical.npy\n",
      "Using cache of cosine for adult with ordinal_wo_n encoding\n",
      "[WARNING] Start without evaluating metrics\n"
     ]
    },
    {
     "name": "stderr",
     "output_type": "stream",
     "text": [
      "100%|██████████| 20/20 [01:20<00:00,  4.03s/it]\n"
     ]
    },
    {
     "name": "stdout",
     "output_type": "stream",
     "text": [
      "examples/dist_cache_1000/adult/hamming_numerical.npy\n",
      "Using cache of hamming for adult with ordinal_wo_n encoding\n",
      "[WARNING] Start without evaluating metrics\n"
     ]
    },
    {
     "name": "stderr",
     "output_type": "stream",
     "text": [
      "100%|██████████| 20/20 [01:29<00:00,  4.48s/it]\n"
     ]
    },
    {
     "name": "stdout",
     "output_type": "stream",
     "text": [
      "examples/dist_cache_1000/adult/smirnov_numerical.npy\n",
      "Using cache of smirnov for adult with ordinal_wo_n encoding\n",
      "[WARNING] Start without evaluating metrics\n"
     ]
    },
    {
     "name": "stderr",
     "output_type": "stream",
     "text": [
      "100%|██████████| 20/20 [01:26<00:00,  4.31s/it]\n"
     ]
    },
    {
     "name": "stdout",
     "output_type": "stream",
     "text": [
      "examples/dist_cache_1000/adult/goodall1_numerical.npy\n",
      "Using cache of goodall1 for adult with ordinal_wo_n encoding\n",
      "[WARNING] Start without evaluating metrics\n"
     ]
    },
    {
     "name": "stderr",
     "output_type": "stream",
     "text": [
      "100%|██████████| 20/20 [01:30<00:00,  4.54s/it]\n"
     ]
    },
    {
     "name": "stdout",
     "output_type": "stream",
     "text": [
      "examples/dist_cache_1000/adult/iof_numerical.npy\n",
      "Using cache of iof for adult with ordinal_wo_n encoding\n",
      "[WARNING] Start without evaluating metrics\n"
     ]
    },
    {
     "name": "stderr",
     "output_type": "stream",
     "text": [
      "100%|██████████| 20/20 [01:27<00:00,  4.40s/it]\n"
     ]
    },
    {
     "name": "stdout",
     "output_type": "stream",
     "text": [
      "examples/dist_cache_1000/adult/anderberg_numerical.npy\n",
      "Using cache of anderberg for adult with ordinal_wo_n encoding\n",
      "[WARNING] Start without evaluating metrics\n"
     ]
    },
    {
     "name": "stderr",
     "output_type": "stream",
     "text": [
      "100%|██████████| 20/20 [01:22<00:00,  4.12s/it]\n"
     ]
    },
    {
     "name": "stdout",
     "output_type": "stream",
     "text": [
      "examples/dist_cache_1000/adult/gambaryan_numerical.npy\n",
      "Using cache of gambaryan for adult with ordinal_wo_n encoding\n",
      "[WARNING] Start without evaluating metrics\n"
     ]
    },
    {
     "name": "stderr",
     "output_type": "stream",
     "text": [
      "100%|██████████| 20/20 [01:26<00:00,  4.35s/it]\n"
     ]
    }
   ],
   "source": [
    "ALSTRATEGY = \"typiclust\"\n",
    "# for dsn in AVAIL_DATASETS:\n",
    "SUFFIX = \"200iter_numonly_wo_n\"\n",
    "ENCODE = \"ordinal_wo_n\"\n",
    "model_extra_params = { \"iterations\": 200 }\n",
    "candidates = [\"euclidean\", \"cosine\", \"hamming\", \"smirnov\", \"goodall1\", \"iof\", \"anderberg\", \"gambaryan\"]\n",
    "for dsn in [\"adult\"]:\n",
    "    # if dsn in [\"balance-scale\"]:\n",
    "    #     continue\n",
    "    ds = load_uci(dsn)\n",
    "    # ds.with_preprocess(steps=[\"sample_n\", \"categorical_only\", \"remove_constant_columns\", \"drop_duplicate_rows\"],  params_list=[{\"n\": 1000, \"random_state\": 0}, {}, {}, {}], in_place=True)\n",
    "    ds.with_preprocess(steps=[\"sample_n\", \"continuous_only\", \"remove_constant_columns\", \"drop_duplicate_rows\"],  params_list=[{\"n\": 1000, \"random_state\": 0}, {}, {}, {}], in_place=True)\n",
    "    ds._data.reset_index(drop=True, inplace=True)\n",
    "    ds._label.reset_index(drop=True, inplace=True)\n",
    "\n",
    "    model_name = \"catboost\"\n",
    "    columns = ds._data.columns\n",
    "    # for col in ds.info[\"cat_idx\"]:\n",
    "    #     ds._data[columns[col]] = pd.Categorical(pd.Categorical(ds._data[columns[col]]).codes.astype(\"int\"))\n",
    "        # df[column] = pd.Categorical(df[column]).codes\n",
    "        # ds._data[col] = pd.Categorical(ds._data[col]).codes.astype(\"int\")\n",
    "    print(ds.info[\"cat_idx\"])\n",
    "    al_strategy = get_al_strategy(ALSTRATEGY)\n",
    "    for metric in candidates:\n",
    "    # for metric in [\"cosine\", \"euclidean\"]:\n",
    "        # fn = f\"{DIST_CACHE}/{dsn}/{metric}_{ENCODE}.npy\"\n",
    "        fn = f\"{DIST_CACHE}/{dsn}/{metric}_numerical.npy\"\n",
    "        print(fn)\n",
    "        cache_name = f\"{dsn.replace('/', '_')}@{model_name}@{ALSTRATEGY}_{metric}_{ENCODE}@{SUFFIX}@x20.pkl\"\n",
    "        # if ensure_path(os.path.join(LOCAL_DIR, \"ppl_cache_pred\", cache_name), False):\n",
    "        #     print(f\"exp {cache_name} already exists, continue\")\n",
    "        #     continue\n",
    "        if not ensure_path(fn, False):\n",
    "            print(f\"{metric} for {dsn} not found in {fn}, skipping ...\")\n",
    "            continue\n",
    "        print(f\"Using cache of {metric} for {dsn} with {ENCODE} encoding\")\n",
    "        ds = ds.with_strategy(al_strategy, extra_params={\"distance_metric\": metric})\n",
    "        ds.reset()\n",
    "        setattr(ds.al_metric, \"dist_cache_path\", fn)\n",
    "        # setattr(al_strategy, \"dist_cache_path\", fn)\n",
    "        # ds = ds.with_strategy(al_strategy, extra_params={\"distance_metric\": metric})\n",
    "        make_ppl = get_pipeline(model_name)\n",
    "        ppl = make_ppl(\n",
    "            model=None,\n",
    "            # eval_metrics=get_metrics([\"roc_auc\"]),\n",
    "            eval_metrics=[],\n",
    "            seeds=[i for i in range(20)],\n",
    "            n_times=20,\n",
    "            dataset=ds,\n",
    "            cat_idx=ds.info[\"cat_idx\"],\n",
    "            model_extra_params=model_extra_params\n",
    "        )\n",
    "        ppl.start()\n",
    "        with open(os.path.join(LOCAL_DIR, \"ppl_cache_pred\", cache_name), \"wb\") as f:\n",
    "            pickle.dump(ppl.stats, f)"
   ]
  },
  {
   "cell_type": "code",
   "execution_count": 21,
   "id": "54186f8f43aa7c88",
   "metadata": {
    "ExecuteTime": {
     "end_time": "2024-01-30T23:19:16.499550100Z",
     "start_time": "2024-01-30T23:19:16.477101100Z"
    }
   },
   "outputs": [],
   "source": [
    "import matplotlib.pyplot as plt  \n",
    "\n",
    "def plot(\n",
    "        dataset_name: str, \n",
    "        model_name: str, \n",
    "        # strategies: list = None, \n",
    "        distance_metrics: list=None, \n",
    "        plot_name: str = None,\n",
    "        strategy: str = \"gsx\"\n",
    "):\n",
    "    metrics_n_times = []\n",
    "    instances = []\n",
    "    distance_metrics = distance_metrics or list(distance.AVAIL_DIST_METRICS.keys())\n",
    "    plot_name = plot_name if plot_name is not None else f\"{dataset_name}@{model_name}@{strategy}.png\"\n",
    "    # if ensure_path(os.path.join(\"./plots/pl_metric\", plot_name), False):\n",
    "    #     print(f\"plot {plot_name} already exists, continue\")\n",
    "    #     return\n",
    "    # for strategy in strategies:\n",
    "    for metric in distance_metrics:\n",
    "        stats = None\n",
    "        cache_name = f\"{dataset_name.replace('/', '_')}@{model_name}@{strategy}_{metric}@x20.pkl\"\n",
    "        if not os.path.isfile(os.path.join(\"ppl_cache\", cache_name)):\n",
    "            print(f\"exp {cache_name} does not exist, continue\")\n",
    "            continue\n",
    "        with open(os.path.join(\"ppl_cache\", cache_name), \"rb\") as f:\n",
    "            stats = pickle.load(f)\n",
    "        metrics_n_times.append([stats[i][\"accuracy\"] for i in range(len(stats))])\n",
    "        instances = stats[0][\"instances\"]\n",
    "    pl_metric = PLMetric()\n",
    "    pl_metric.plot(\"Accuracy\", instances, np.array(metrics_n_times), distance_metrics, plot_name=plot_name, cmap=plt.get_cmap(\"Paired\"), dpi=300, title=f\"Accuracy {dataset_name}@{model_name}@{strategy}\", errorbar=\"std\")"
   ]
  },
  {
   "cell_type": "code",
   "execution_count": 24,
   "id": "ccbea96801ba31da",
   "metadata": {
    "ExecuteTime": {
     "end_time": "2024-01-30T23:21:36.036035300Z",
     "start_time": "2024-01-30T23:21:36.015287100Z"
    }
   },
   "outputs": [],
   "source": [
    "def plot_by_strategies(\n",
    "        dataset_name: str, \n",
    "        model_name: str, \n",
    "        distance_metric: str, \n",
    "        plot_name: str = None,\n",
    "        strategies: list = None\n",
    "):\n",
    "    metrics_n_times = []\n",
    "    instances = []\n",
    "    strategies = strategies or [\"gsx\", \"typiclust\"]\n",
    "    plot_name = plot_name if plot_name is not None else f\"vs/{dataset_name}@{model_name}@{distance_metric}@{'_'.join(strategies)}.png\"\n",
    "    print(\"plotting \", plot_name)\n",
    "    # if ensure_path(os.path.join(\"./plots/pl_metric\", plot_name), False):\n",
    "    #     print(f\"plot {plot_name} already exists, continue\")\n",
    "    #     return\n",
    "    # for strategy in strategies:\n",
    "    for strategy in strategies:\n",
    "        stats = None\n",
    "        cache_name = f\"{dataset_name.replace('/', '_')}@{model_name}@{strategy}_{distance_metric}@x20.pkl\"\n",
    "        if not os.path.isfile(os.path.join(\"ppl_cache_bk\", cache_name)):\n",
    "            print(f\"exp {cache_name} does not exist, continue\")\n",
    "            return\n",
    "        with open(os.path.join(\"ppl_cache_bk\", cache_name), \"rb\") as f:\n",
    "            stats = pickle.load(f)\n",
    "        # print(len(stats))\n",
    "        metrics_n_times.append(np.array([stats[i][\"accuracy\"] for i in range(len(stats))]))\n",
    "        instances = stats[0][\"instances\"]\n",
    "    pl_metric = PLMetric()\n",
    "    pl_metric.plot(\"Accuracy\", instances, np.array(metrics_n_times), strategies, plot_name=plot_name, cmap=plt.get_cmap(\"Paired\"), dpi=300, errorbar=\"std\", title=f\"Accuracy {dataset_name}@{model_name}@{distance_metric}\")"
   ]
  },
  {
   "cell_type": "code",
   "execution_count": 25,
   "id": "8a5245ef9927f8ce",
   "metadata": {
    "ExecuteTime": {
     "end_time": "2024-01-30T23:22:39.927290300Z",
     "start_time": "2024-01-30T23:21:37.252033800Z"
    }
   },
   "outputs": [
    {
     "name": "stdout",
     "output_type": "stream",
     "text": [
      "plotting  vs/iris@catboost@euclidean@gsx_typiclust.png\n",
      "plotting  vs/iris@catboost@cosine@gsx_typiclust.png\n",
      "plotting  vs/iris@catboost@overlap@gsx_typiclust.png\n",
      "plotting  vs/iris@catboost@eskin@gsx_typiclust.png\n",
      "plotting  vs/iris@catboost@iof@gsx_typiclust.png\n",
      "plotting  vs/iris@catboost@of@gsx_typiclust.png\n",
      "plotting  vs/iris@catboost@lin@gsx_typiclust.png\n",
      "plotting  vs/iris@catboost@lin1@gsx_typiclust.png\n",
      "plotting  vs/iris@catboost@goodall1@gsx_typiclust.png\n",
      "plotting  vs/iris@catboost@goodall2@gsx_typiclust.png\n",
      "plotting  vs/iris@catboost@goodall3@gsx_typiclust.png\n",
      "plotting  vs/iris@catboost@goodall4@gsx_typiclust.png\n",
      "plotting  vs/iris@catboost@smirnov@gsx_typiclust.png\n",
      "plotting  vs/iris@catboost@gambaryan@gsx_typiclust.png\n",
      "plotting  vs/iris@catboost@burnaby@gsx_typiclust.png\n",
      "plotting  vs/iris@catboost@anderberg@gsx_typiclust.png\n",
      "plotting  vs/adult@catboost@euclidean@gsx_typiclust.png\n",
      "plotting  vs/adult@catboost@cosine@gsx_typiclust.png\n",
      "plotting  vs/adult@catboost@overlap@gsx_typiclust.png\n",
      "plotting  vs/adult@catboost@eskin@gsx_typiclust.png\n",
      "plotting  vs/adult@catboost@iof@gsx_typiclust.png\n",
      "plotting  vs/adult@catboost@of@gsx_typiclust.png\n",
      "plotting  vs/adult@catboost@lin@gsx_typiclust.png\n",
      "plotting  vs/adult@catboost@lin1@gsx_typiclust.png\n",
      "exp adult@catboost@gsx_lin1@x20.pkl does not exist, continue\n",
      "plotting  vs/adult@catboost@goodall1@gsx_typiclust.png\n",
      "exp adult@catboost@gsx_goodall1@x20.pkl does not exist, continue\n",
      "plotting  vs/adult@catboost@goodall2@gsx_typiclust.png\n",
      "exp adult@catboost@gsx_goodall2@x20.pkl does not exist, continue\n",
      "plotting  vs/adult@catboost@goodall3@gsx_typiclust.png\n",
      "exp adult@catboost@gsx_goodall3@x20.pkl does not exist, continue\n",
      "plotting  vs/adult@catboost@goodall4@gsx_typiclust.png\n",
      "exp adult@catboost@gsx_goodall4@x20.pkl does not exist, continue\n",
      "plotting  vs/adult@catboost@smirnov@gsx_typiclust.png\n",
      "exp adult@catboost@gsx_smirnov@x20.pkl does not exist, continue\n",
      "plotting  vs/adult@catboost@gambaryan@gsx_typiclust.png\n",
      "exp adult@catboost@gsx_gambaryan@x20.pkl does not exist, continue\n",
      "plotting  vs/adult@catboost@burnaby@gsx_typiclust.png\n",
      "exp adult@catboost@gsx_burnaby@x20.pkl does not exist, continue\n",
      "plotting  vs/adult@catboost@anderberg@gsx_typiclust.png\n",
      "exp adult@catboost@gsx_anderberg@x20.pkl does not exist, continue\n",
      "plotting  vs/yeast@catboost@euclidean@gsx_typiclust.png\n",
      "plotting  vs/yeast@catboost@cosine@gsx_typiclust.png\n",
      "plotting  vs/yeast@catboost@overlap@gsx_typiclust.png\n",
      "plotting  vs/yeast@catboost@eskin@gsx_typiclust.png\n",
      "plotting  vs/yeast@catboost@iof@gsx_typiclust.png\n",
      "plotting  vs/yeast@catboost@of@gsx_typiclust.png\n",
      "plotting  vs/yeast@catboost@lin@gsx_typiclust.png\n",
      "plotting  vs/yeast@catboost@lin1@gsx_typiclust.png\n",
      "plotting  vs/yeast@catboost@goodall1@gsx_typiclust.png\n",
      "plotting  vs/yeast@catboost@goodall2@gsx_typiclust.png\n",
      "plotting  vs/yeast@catboost@goodall3@gsx_typiclust.png\n",
      "plotting  vs/yeast@catboost@goodall4@gsx_typiclust.png\n",
      "plotting  vs/yeast@catboost@smirnov@gsx_typiclust.png\n",
      "plotting  vs/yeast@catboost@gambaryan@gsx_typiclust.png\n",
      "plotting  vs/yeast@catboost@burnaby@gsx_typiclust.png\n",
      "plotting  vs/yeast@catboost@anderberg@gsx_typiclust.png\n",
      "plotting  vs/letter-recognition@catboost@euclidean@gsx_typiclust.png\n",
      "plotting  vs/letter-recognition@catboost@cosine@gsx_typiclust.png\n",
      "plotting  vs/letter-recognition@catboost@overlap@gsx_typiclust.png\n",
      "plotting  vs/letter-recognition@catboost@eskin@gsx_typiclust.png\n",
      "plotting  vs/letter-recognition@catboost@iof@gsx_typiclust.png\n",
      "plotting  vs/letter-recognition@catboost@of@gsx_typiclust.png\n",
      "plotting  vs/letter-recognition@catboost@lin@gsx_typiclust.png\n",
      "plotting  vs/letter-recognition@catboost@lin1@gsx_typiclust.png\n",
      "plotting  vs/letter-recognition@catboost@goodall1@gsx_typiclust.png\n",
      "exp letter-recognition@catboost@gsx_goodall1@x20.pkl does not exist, continue\n",
      "plotting  vs/letter-recognition@catboost@goodall2@gsx_typiclust.png\n",
      "exp letter-recognition@catboost@gsx_goodall2@x20.pkl does not exist, continue\n",
      "plotting  vs/letter-recognition@catboost@goodall3@gsx_typiclust.png\n",
      "exp letter-recognition@catboost@gsx_goodall3@x20.pkl does not exist, continue\n",
      "plotting  vs/letter-recognition@catboost@goodall4@gsx_typiclust.png\n",
      "exp letter-recognition@catboost@gsx_goodall4@x20.pkl does not exist, continue\n",
      "plotting  vs/letter-recognition@catboost@smirnov@gsx_typiclust.png\n",
      "exp letter-recognition@catboost@gsx_smirnov@x20.pkl does not exist, continue\n",
      "plotting  vs/letter-recognition@catboost@gambaryan@gsx_typiclust.png\n",
      "exp letter-recognition@catboost@gsx_gambaryan@x20.pkl does not exist, continue\n",
      "plotting  vs/letter-recognition@catboost@burnaby@gsx_typiclust.png\n",
      "exp letter-recognition@catboost@gsx_burnaby@x20.pkl does not exist, continue\n",
      "plotting  vs/letter-recognition@catboost@anderberg@gsx_typiclust.png\n",
      "exp letter-recognition@catboost@gsx_anderberg@x20.pkl does not exist, continue\n",
      "plotting  vs/image-segmentation@catboost@euclidean@gsx_typiclust.png\n",
      "plotting  vs/image-segmentation@catboost@cosine@gsx_typiclust.png\n",
      "plotting  vs/image-segmentation@catboost@overlap@gsx_typiclust.png\n",
      "plotting  vs/image-segmentation@catboost@eskin@gsx_typiclust.png\n",
      "plotting  vs/image-segmentation@catboost@iof@gsx_typiclust.png\n",
      "plotting  vs/image-segmentation@catboost@of@gsx_typiclust.png\n",
      "plotting  vs/image-segmentation@catboost@lin@gsx_typiclust.png\n",
      "plotting  vs/image-segmentation@catboost@lin1@gsx_typiclust.png\n",
      "plotting  vs/image-segmentation@catboost@goodall1@gsx_typiclust.png\n",
      "plotting  vs/image-segmentation@catboost@goodall2@gsx_typiclust.png\n",
      "plotting  vs/image-segmentation@catboost@goodall3@gsx_typiclust.png\n",
      "plotting  vs/image-segmentation@catboost@goodall4@gsx_typiclust.png\n",
      "plotting  vs/image-segmentation@catboost@smirnov@gsx_typiclust.png\n",
      "plotting  vs/image-segmentation@catboost@gambaryan@gsx_typiclust.png\n",
      "plotting  vs/image-segmentation@catboost@burnaby@gsx_typiclust.png\n",
      "plotting  vs/image-segmentation@catboost@anderberg@gsx_typiclust.png\n",
      "plotting  vs/balance-scale@catboost@euclidean@gsx_typiclust.png\n",
      "plotting  vs/balance-scale@catboost@cosine@gsx_typiclust.png\n",
      "plotting  vs/balance-scale@catboost@overlap@gsx_typiclust.png\n",
      "plotting  vs/balance-scale@catboost@eskin@gsx_typiclust.png\n",
      "plotting  vs/balance-scale@catboost@iof@gsx_typiclust.png\n",
      "plotting  vs/balance-scale@catboost@of@gsx_typiclust.png\n",
      "plotting  vs/balance-scale@catboost@lin@gsx_typiclust.png\n",
      "plotting  vs/balance-scale@catboost@lin1@gsx_typiclust.png\n",
      "plotting  vs/balance-scale@catboost@goodall1@gsx_typiclust.png\n",
      "plotting  vs/balance-scale@catboost@goodall2@gsx_typiclust.png\n",
      "plotting  vs/balance-scale@catboost@goodall3@gsx_typiclust.png\n",
      "plotting  vs/balance-scale@catboost@goodall4@gsx_typiclust.png\n",
      "plotting  vs/balance-scale@catboost@smirnov@gsx_typiclust.png\n",
      "plotting  vs/balance-scale@catboost@gambaryan@gsx_typiclust.png\n",
      "plotting  vs/balance-scale@catboost@burnaby@gsx_typiclust.png\n",
      "plotting  vs/balance-scale@catboost@anderberg@gsx_typiclust.png\n",
      "plotting  vs/glass-identification@catboost@euclidean@gsx_typiclust.png\n",
      "plotting  vs/glass-identification@catboost@cosine@gsx_typiclust.png\n",
      "plotting  vs/glass-identification@catboost@overlap@gsx_typiclust.png\n",
      "plotting  vs/glass-identification@catboost@eskin@gsx_typiclust.png\n",
      "plotting  vs/glass-identification@catboost@iof@gsx_typiclust.png\n",
      "plotting  vs/glass-identification@catboost@of@gsx_typiclust.png\n",
      "plotting  vs/glass-identification@catboost@lin@gsx_typiclust.png\n",
      "plotting  vs/glass-identification@catboost@lin1@gsx_typiclust.png\n",
      "plotting  vs/glass-identification@catboost@goodall1@gsx_typiclust.png\n",
      "plotting  vs/glass-identification@catboost@goodall2@gsx_typiclust.png\n",
      "plotting  vs/glass-identification@catboost@goodall3@gsx_typiclust.png\n",
      "plotting  vs/glass-identification@catboost@goodall4@gsx_typiclust.png\n",
      "plotting  vs/glass-identification@catboost@smirnov@gsx_typiclust.png\n",
      "plotting  vs/glass-identification@catboost@gambaryan@gsx_typiclust.png\n",
      "plotting  vs/glass-identification@catboost@burnaby@gsx_typiclust.png\n",
      "plotting  vs/glass-identification@catboost@anderberg@gsx_typiclust.png\n",
      "plotting  vs/wine@catboost@euclidean@gsx_typiclust.png\n",
      "plotting  vs/wine@catboost@cosine@gsx_typiclust.png\n",
      "plotting  vs/wine@catboost@overlap@gsx_typiclust.png\n",
      "plotting  vs/wine@catboost@eskin@gsx_typiclust.png\n",
      "plotting  vs/wine@catboost@iof@gsx_typiclust.png\n",
      "plotting  vs/wine@catboost@of@gsx_typiclust.png\n",
      "plotting  vs/wine@catboost@lin@gsx_typiclust.png\n",
      "plotting  vs/wine@catboost@lin1@gsx_typiclust.png\n",
      "plotting  vs/wine@catboost@goodall1@gsx_typiclust.png\n",
      "plotting  vs/wine@catboost@goodall2@gsx_typiclust.png\n",
      "plotting  vs/wine@catboost@goodall3@gsx_typiclust.png\n",
      "plotting  vs/wine@catboost@goodall4@gsx_typiclust.png\n",
      "plotting  vs/wine@catboost@smirnov@gsx_typiclust.png\n",
      "plotting  vs/wine@catboost@gambaryan@gsx_typiclust.png\n",
      "plotting  vs/wine@catboost@burnaby@gsx_typiclust.png\n",
      "plotting  vs/wine@catboost@anderberg@gsx_typiclust.png\n"
     ]
    }
   ],
   "source": [
    "# print by strategies\n",
    "for dsn in AVAIL_DATASETS:\n",
    "    for m in list(distance.AVAIL_DIST_METRICS.keys()):\n",
    "        plot_by_strategies(dsn, \"catboost\", m, strategies=[\"gsx\", \"typiclust\"])"
   ]
  },
  {
   "cell_type": "code",
   "execution_count": null,
   "id": "9dc8c7df4e168b8",
   "metadata": {},
   "outputs": [],
   "source": [
    "# print by distance metrics | TypiClust\n",
    "for dsn in AVAIL_DATASETS:\n",
    "    plot(dsn, \"catboost\",distance_metrics=list(distance.AVAIL_DIST_METRICS.keys()), strategy=\"typiclust\")"
   ]
  },
  {
   "cell_type": "code",
   "execution_count": null,
   "id": "43a2ae943faa649b",
   "metadata": {},
   "outputs": [],
   "source": [
    "# print by distance metrics | GSX\n",
    "for dsn in AVAIL_DATASETS:\n",
    "    plot(dsn, \"catboost\", distance_metrics=list(distance.AVAIL_DIST_METRICS.keys()), strategy=\"gsx\")"
   ]
  },
  {
   "cell_type": "code",
   "execution_count": 14,
   "id": "b0c5f87595e6602",
   "metadata": {
    "ExecuteTime": {
     "end_time": "2023-11-29T14:09:04.528010800Z",
     "start_time": "2023-11-29T14:08:57.521850800Z"
    }
   },
   "outputs": [],
   "source": [
    "for m in list(distance.AVAIL_DIST_METRICS.keys()):\n",
    "    plot(\"balance-scale\", \"catboost\", [m, ], plot_name=f\"test-{m}.png\")"
   ]
  },
  {
   "cell_type": "code",
   "execution_count": null,
   "id": "1f0d910e9e6af2ae",
   "metadata": {},
   "outputs": [],
   "source": []
  },
  {
   "cell_type": "markdown",
   "id": "78eff0537807d1ce",
   "metadata": {},
   "source": [
    "# Test TypiClust"
   ]
  },
  {
   "cell_type": "code",
   "execution_count": null,
   "id": "fc0f4781cb53c380",
   "metadata": {},
   "outputs": [],
   "source": []
  },
  {
   "cell_type": "code",
   "execution_count": 3,
   "id": "615f6781eeba7550",
   "metadata": {
    "ExecuteTime": {
     "end_time": "2024-01-16T04:44:53.831811400Z",
     "start_time": "2024-01-16T04:44:51.159265300Z"
    }
   },
   "outputs": [
    {
     "name": "stdout",
     "output_type": "stream",
     "text": [
      "971\n",
      "971\n"
     ]
    }
   ],
   "source": [
    "adult = load_uci(\"adult\")\n",
    "adult.with_preprocess(steps=[\"sample_n\", \"continuous_to_categorical\", \"remove_constant_columns\", \"drop_duplicate_rows\"],  params_list=[{\"n\": 1000, \"random_state\": 0}, {\"encode\": \"ordinal\"}, {}, {}], in_place=True)\n",
    "print(len(adult._data))\n",
    "print(len(adult._data.drop_duplicates()))"
   ]
  },
  {
   "cell_type": "code",
   "execution_count": 4,
   "id": "c93089d5ee50f9a9",
   "metadata": {
    "ExecuteTime": {
     "end_time": "2024-01-28T03:31:47.148014300Z",
     "start_time": "2024-01-28T03:31:47.089692400Z"
    },
    "collapsed": false
   },
   "outputs": [],
   "source": [
    "\n",
    "import pandas as pd \n",
    "  \n",
    "# Create a dictionary of students \n",
    "students = { \n",
    "    'Name': ['Lisa', 'Kate', 'Ben', 'Kim', 'Josh', \n",
    "             'Alex', 'Evan', 'Greg', 'Sam', 'Ella'], \n",
    "    'ID': ['001', '002', '003', '004', '005', '006',  \n",
    "           '007', '008', '009', '010'], \n",
    "    'Grade': ['A', 'A', 'C', 'B', 'B', 'B', 'C',  \n",
    "              'A', 'A', 'A'], \n",
    "    \n",
    "    'Category': [2, 3, 1, 3, 2, 3, 3, 1, 2, 1] \n",
    "} \n",
    "  \n",
    "# Create dataframe from students dictionary \n",
    "df = pd.DataFrame(students) "
   ]
  },
  {
   "cell_type": "code",
   "execution_count": 56,
   "id": "6ada2fcb",
   "metadata": {},
   "outputs": [],
   "source": [
    "ds = load_uci(dsn)\n",
    "ds.with_preprocess(steps=[\"sample_n\", \"categorical_only\", \"remove_constant_columns\", \"drop_duplicate_rows\"],  params_list=[{\"n\": 1000, \"random_state\": 0}, {}, {}, {}], in_place=True)\n",
    "al_strategy = get_al_strategy(\"random\")\n",
    "ds = ds.with_strategy(al_strategy, extra_params={\"distance_metric\": metric})\n",
    "ds.bind_params({\"current_stat\": {\"snapshot\": []}})\n",
    "for s in ds:\n",
    "    first = s\n",
    "    break"
   ]
  },
  {
   "cell_type": "code",
   "execution_count": 63,
   "id": "ff88f5c8",
   "metadata": {},
   "outputs": [
    {
     "data": {
      "text/plain": [
       "(Index([19, 757, 725, 197, 435, 766, 60, 530, 752, 673], dtype='int64'),\n",
       " Index([19, 757, 725, 197, 435, 766, 60, 530, 752, 673], dtype='int64'))"
      ]
     },
     "execution_count": 63,
     "metadata": {},
     "output_type": "execute_result"
    }
   ],
   "source": [
    "first[0].index, first2[0].index"
   ]
  },
  {
   "cell_type": "code",
   "execution_count": 15,
   "id": "0a400b82",
   "metadata": {},
   "outputs": [
    {
     "data": {
      "text/plain": [
       "0      1.0\n",
       "1      4.0\n",
       "2      3.0\n",
       "3      4.0\n",
       "4      2.0\n",
       "      ... \n",
       "279    2.0\n",
       "280    4.0\n",
       "282    3.0\n",
       "287    4.0\n",
       "296    4.0\n",
       "Name: cp, Length: 126, dtype: category\n",
       "Categories (4, float64): [1.0, 2.0, 3.0, 4.0]"
      ]
     },
     "execution_count": 15,
     "metadata": {},
     "output_type": "execute_result"
    }
   ],
   "source": [
    "ds = load_uci(dsn)\n",
    "ds.with_preprocess(steps=[\"sample_n\", \"categorical_only\", \"remove_constant_columns\", \"drop_duplicate_rows\"],  params_list=[{\"n\": 1000, \"random_state\": 0}, {}, {}, {}], in_place=True)\n",
    "ds._data.cp\n",
    "# al_strategy = get_al_strategy(\"typiclust\")\n",
    "# fn = f\"{DIST_CACHE}/{dsn}/iof_catonly.npy\"\n",
    "# setattr(al_strategy, \"dist_cache_path\", fn)\n",
    "# ds = ds.with_strategy(al_strategy, extra_params={\"distance_metric\": metric})\n",
    "# ds.bind_params({\"current_stat\": {\"snapshot\": []}})\n",
    "# for s in ds:\n",
    "#     first2 = s\n",
    "#     break"
   ]
  },
  {
   "cell_type": "code",
   "execution_count": 7,
   "id": "c3b7c7d3cd89b081",
   "metadata": {
    "ExecuteTime": {
     "end_time": "2024-01-30T22:20:39.345813200Z",
     "start_time": "2024-01-30T19:10:00.258102200Z"
    },
    "collapsed": false
   },
   "outputs": [
    {
     "name": "stdout",
     "output_type": "stream",
     "text": [
      "app/comp_dist/ppl_cache_pred/adult@catboost@random_cosine_ordinal_wo_n@200iter_numonly_wo_n@x20.pkl\n",
      "Using cache of cosine for adult\n",
      "[WARNING] Start without evaluating metrics\n"
     ]
    },
    {
     "name": "stderr",
     "output_type": "stream",
     "text": [
      "100%|██████████| 20/20 [01:07<00:00,  3.37s/it]\n"
     ]
    }
   ],
   "source": [
    "LOCAL_DIR = \"app/comp_dist\"\n",
    "SUFFIX = \"200iter_numonly_wo_n\"\n",
    "ENCODE = \"ordinal_wo_n\"\n",
    "model_extra_params = { \"iterations\": 200 }\n",
    "ALSTRATEGY = \"typiclust\"\n",
    "# for dsn in AVAIL_DATASETS:\n",
    "for dsn in [\"adult\"]:\n",
    "    ds = load_uci(dsn)\n",
    "    ds.with_preprocess(steps=[\"sample_n\", \"continuous_only\", \"remove_constant_columns\", \"drop_duplicate_rows\"],  params_list=[{\"n\": 1000, \"random_state\": 0}, {}, {}, {}], in_place=True)\n",
    "    # ds.with_preprocess(steps=[\"sample_n\", \"remove_constant_columns\", \"drop_duplicate_rows\"],  params_list=[{\"n\": 1000, \"random_state\": 0}, {}, {}], in_place=True)\n",
    "    ds._data.reset_index(drop=True, inplace=True)\n",
    "    ds._label.reset_index(drop=True, inplace=True)\n",
    "\n",
    "    model_name = \"catboost\"\n",
    "    # for col in ds._data.columns:\n",
    "    #     # df[column] = pd.Categorical(df[column]).codes\n",
    "    #     ds._data[col] = pd.Categorical(ds._data[col]).codes.astype(\"int\")\n",
    "    # columns = ds._data.columns\n",
    "    # for col in ds.info[\"cat_idx\"]:\n",
    "    #     ds._data[columns[col]] = pd.Categorical(pd.Categorical(ds._data[columns[col]]).codes.astype(\"int\"))\n",
    "    al_strategy = get_al_strategy(\"random\")\n",
    "    \n",
    "    for metric in [\"cosine\"]:\n",
    "        # fn = f\"{DIST_CACHE}/{dsn}/{metric}_{ENCODE}.npy\"\n",
    "        fn = f\"{DIST_CACHE}/{dsn}/{metric}_catonly_wo_n.npy\"\n",
    "        cache_name = f\"{dsn.replace('/', '_')}@{model_name}@random_{metric}_{ENCODE}@{SUFFIX}@x20.pkl\"\n",
    "        print(os.path.join(LOCAL_DIR, \"ppl_cache_pred\", cache_name))\n",
    "        # if ensure_path(os.path.join(LOCAL_DIR, \"ppl_cache_pred\", cache_name), False):\n",
    "        #     print(f\"exp {cache_name} already exists, continue\")\n",
    "        #     continue\n",
    "        if not ensure_path(fn, False):\n",
    "            print(f\"{metric} for {dsn} not found({fn}), skipping ...\")\n",
    "            continue\n",
    "        print(f\"Using cache of {metric} for {dsn}\")\n",
    "        # ds = ds.with_strategy(al_strategy, extra_params={\"distance_metric\": metric})\n",
    "        ds = ds.with_strategy(al_strategy, extra_params={\"distance_metric\": metric})\n",
    "        ds.reset()\n",
    "        setattr(ds.al_metric, \"dist_cache_path\", fn)\n",
    "        make_ppl = get_pipeline(model_name)\n",
    "        ppl = make_ppl(\n",
    "            model=None,\n",
    "            eval_metrics=[],\n",
    "            seeds=[i for i in range(20)],\n",
    "            n_times=20,\n",
    "            dataset=ds,\n",
    "            cat_idx=ds.info[\"cat_idx\"],\n",
    "            model_extra_params=model_extra_params\n",
    "        )\n",
    "        ppl.start()\n",
    "        \n",
    "        with open(os.path.join(LOCAL_DIR, \"ppl_cache_pred\", cache_name), \"wb\") as f:\n",
    "            pickle.dump(ppl.stats, f)"
   ]
  },
  {
   "cell_type": "code",
   "execution_count": 67,
   "id": "426b7a30",
   "metadata": {},
   "outputs": [],
   "source": [
    "with open('app/comp_dist/ppl_cache_pred/adult@catboost@typiclust_euclidean_ordinal@100iter_catonly@x20.pkl', \"rb\") as f:\n",
    "    st = pickle.load(f)\n",
    "with open('app/comp_dist/ppl_cache_pred/adult@catboost@random_cosine_ordinal@100iter_catonly@x20.pkl', \"rb\") as f:\n",
    "    st2 = pickle.load(f)\n",
    "with open('app/comp_dist/ppl_cache_pred/adult@catboost@typiclust_of_ordinal@100iter_catonly@x20.pkl', \"rb\") as f:\n",
    "    st3 = pickle.load(f)"
   ]
  },
  {
   "cell_type": "code",
   "execution_count": 69,
   "id": "897fe6b3",
   "metadata": {},
   "outputs": [
    {
     "data": {
      "text/plain": [
       "array(['<=50K', '<=50K', '<=50K', '<=50K', '<=50K', '<=50K', '<=50K',\n",
       "       '<=50K', '<=50K', '<=50K', '<=50K', '<=50K', '<=50K', '<=50K',\n",
       "       '<=50K', '<=50K', '<=50K', '<=50K', '<=50K', '<=50K', '<=50K',\n",
       "       '<=50K', '<=50K', '<=50K', '<=50K', '<=50K', '<=50K', '<=50K',\n",
       "       '<=50K', '<=50K', '<=50K', '<=50K', '<=50K', '<=50K', '<=50K',\n",
       "       '<=50K', '<=50K', '<=50K', '<=50K', '<=50K', '<=50K', '<=50K',\n",
       "       '<=50K', '<=50K', '<=50K', '<=50K', '<=50K', '<=50K', '<=50K',\n",
       "       '<=50K', '<=50K', '<=50K', '<=50K', '<=50K', '<=50K', '<=50K',\n",
       "       '<=50K', '<=50K', '<=50K', '<=50K', '<=50K', '<=50K', '<=50K',\n",
       "       '<=50K', '<=50K', '<=50K', '<=50K', '<=50K', '<=50K', '<=50K',\n",
       "       '<=50K', '<=50K', '<=50K', '<=50K', '<=50K', '<=50K', '<=50K',\n",
       "       '<=50K', '<=50K', '<=50K', '<=50K', '<=50K', '<=50K', '<=50K',\n",
       "       '<=50K', '<=50K', '<=50K', '<=50K', '<=50K', '<=50K', '<=50K',\n",
       "       '<=50K', '<=50K', '<=50K', '<=50K', '<=50K', '<=50K', '<=50K',\n",
       "       '<=50K', '<=50K', '<=50K', '<=50K', '<=50K', '<=50K', '<=50K',\n",
       "       '<=50K', '<=50K', '<=50K', '<=50K', '<=50K', '<=50K', '<=50K',\n",
       "       '<=50K', '<=50K', '<=50K', '<=50K', '<=50K', '<=50K', '<=50K',\n",
       "       '<=50K', '<=50K', '<=50K', '<=50K', '<=50K', '<=50K', '<=50K',\n",
       "       '<=50K', '<=50K', '<=50K', '<=50K', '<=50K', '<=50K', '<=50K',\n",
       "       '<=50K', '<=50K', '<=50K', '<=50K', '<=50K', '<=50K', '<=50K',\n",
       "       '<=50K', '<=50K', '<=50K', '<=50K', '<=50K', '<=50K', '<=50K',\n",
       "       '<=50K', '<=50K', '<=50K', '<=50K', '<=50K', '<=50K', '<=50K',\n",
       "       '<=50K', '<=50K', '<=50K', '<=50K', '<=50K', '<=50K', '<=50K',\n",
       "       '<=50K', '<=50K', '<=50K'], dtype=object)"
      ]
     },
     "execution_count": 69,
     "metadata": {},
     "output_type": "execute_result"
    }
   ],
   "source": [
    "st2[0][\"predictions\"][0]"
   ]
  },
  {
   "cell_type": "code",
   "execution_count": 6,
   "id": "e61ed0574d1b00a2",
   "metadata": {
    "collapsed": false
   },
   "outputs": [],
   "source": [
    "dataset = load_uci(\"iris\")\n",
    "\n",
    "dataset.with_preprocess(\n",
    "    steps=[\n",
    "        \"sample_n\", \n",
    "        \"continuous_to_categorical\", \n",
    "        \"remove_constant_columns\", \n",
    "        \"drop_duplicate_rows\"\n",
    "    ],  \n",
    "    params_list=[\n",
    "        {\"n\": 1000, \"random_state\": 0}, \n",
    "        {\"encode\": \"ordinal\"}, \n",
    "        {}, \n",
    "        {}\n",
    "    ], in_place=True)\n",
    "\n",
    "al_strategy = get_al_strategy(\"random\")\n",
    "dataset = dataset.with_strategy(\n",
    "    al_strategy, \n",
    "    extra_params={\"distance_metric\": \"cosine\"})\n",
    "\n",
    "from catboost import CatBoostClassifier\n",
    "\n",
    "# model = CatBoostClassifier(task_type=\"GPU\", devices=\"0:1\")\n",
    "# model = CatBoostClassifier()\n",
    "# model.fit(dataset._data, dataset._label, cat_features=dataset.info[\"cat_idx\"])\n",
    "model_extra_params = {\"iterations\": 1000}\n",
    "ds = load_uci(\"iris\")\n",
    "make_ppl = get_pipeline(\"catboost\")\n",
    "ppl = make_ppl(\n",
    "    model=None,\n",
    "    eval_metrics=get_metrics([]),\n",
    "    seeds=[i for i in range(20)],\n",
    "    n_times=20,\n",
    "    dataset=ds,\n",
    "    cat_idx=ds.info[\"cat_idx\"],\n",
    "    model_extra_params=model_extra_params\n",
    ")"
   ]
  },
  {
   "cell_type": "code",
   "execution_count": 10,
   "id": "69b0b8a0",
   "metadata": {},
   "outputs": [
    {
     "data": {
      "text/plain": [
       "['roc_auc',\n",
       " 'roc_auc_ovo',\n",
       " 'roc_auc_ovo_weighted',\n",
       " 'roc_auc_ovr',\n",
       " 'roc_auc_ovr_weighted']"
      ]
     },
     "execution_count": 10,
     "metadata": {},
     "output_type": "execute_result"
    }
   ],
   "source": [
    "from sklearn.metrics import get_scorer_names\n",
    "[i for i in get_scorer_names() if i.startswith(\"roc\")]"
   ]
  }
 ],
 "metadata": {
  "kernelspec": {
   "display_name": "Python 3 (ipykernel)",
   "language": "python",
   "name": "python3"
  },
  "language_info": {
   "codemirror_mode": {
    "name": "ipython",
    "version": 3
   },
   "file_extension": ".py",
   "mimetype": "text/x-python",
   "name": "python",
   "nbconvert_exporter": "python",
   "pygments_lexer": "ipython3",
   "version": "3.11.5"
  }
 },
 "nbformat": 4,
 "nbformat_minor": 5
}
