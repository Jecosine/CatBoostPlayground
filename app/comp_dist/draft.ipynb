{
 "cells": [
  {
   "cell_type": "code",
   "execution_count": 1,
   "id": "initial_id",
   "metadata": {
    "collapsed": true,
    "ExecuteTime": {
     "end_time": "2023-11-22T17:08:05.253918700Z",
     "start_time": "2023-11-22T17:08:04.884025600Z"
    }
   },
   "outputs": [],
   "source": [
    "from allib.datasets import load_uci, AVAIL_DATASETS\n",
    "from allib.metrics import distance\n",
    "from allib.utils import ensure_path\n",
    "from allib.models.al import get_al_strategy\n",
    "from sklearn.metrics.pairwise import pairwise_distances, check_pairwise_arrays\n",
    "from allib.metrics import get_metrics\n",
    "from allib.plots import PLMetric\n",
    "from allib.models import get_pipeline, AVAIL_MODELS\n",
    "import numpy as np\n",
    "import os\n",
    "import pickle"
   ]
  },
  {
   "cell_type": "code",
   "execution_count": 2,
   "outputs": [],
   "source": [
    "DIST_CACHE = \"./dist_cache\""
   ],
   "metadata": {
    "collapsed": false,
    "ExecuteTime": {
     "end_time": "2023-11-22T17:08:05.269421200Z",
     "start_time": "2023-11-22T17:08:05.256912500Z"
    }
   },
   "id": "425e0db05833acaf"
  },
  {
   "cell_type": "code",
   "execution_count": 8,
   "outputs": [
    {
     "name": "stdout",
     "output_type": "stream",
     "text": [
      "exp iris@catboost@gsx_euclidean@x20.pkl already exists, continue\n",
      "exp iris@catboost@gsx_cosine@x20.pkl already exists, continue\n",
      "Using cache of overlap for iris\n"
     ]
    },
    {
     "name": "stderr",
     "output_type": "stream",
     "text": [
      "100%|██████████| 20/20 [02:02<00:00,  6.14s/it]\n"
     ]
    },
    {
     "name": "stdout",
     "output_type": "stream",
     "text": [
      "Using cache of eskin for iris\n"
     ]
    },
    {
     "name": "stderr",
     "output_type": "stream",
     "text": [
      "100%|██████████| 20/20 [02:07<00:00,  6.38s/it]\n"
     ]
    },
    {
     "name": "stdout",
     "output_type": "stream",
     "text": [
      "Using cache of iof for iris\n"
     ]
    },
    {
     "name": "stderr",
     "output_type": "stream",
     "text": [
      "100%|██████████| 20/20 [02:25<00:00,  7.27s/it]\n"
     ]
    },
    {
     "name": "stdout",
     "output_type": "stream",
     "text": [
      "Using cache of of for iris\n"
     ]
    },
    {
     "name": "stderr",
     "output_type": "stream",
     "text": [
      "100%|██████████| 20/20 [02:19<00:00,  6.97s/it]\n"
     ]
    },
    {
     "name": "stdout",
     "output_type": "stream",
     "text": [
      "Using cache of lin for iris\n"
     ]
    },
    {
     "name": "stderr",
     "output_type": "stream",
     "text": [
      "100%|██████████| 20/20 [02:20<00:00,  7.02s/it]\n"
     ]
    },
    {
     "name": "stdout",
     "output_type": "stream",
     "text": [
      "Using cache of lin1 for iris\n"
     ]
    },
    {
     "name": "stderr",
     "output_type": "stream",
     "text": [
      "100%|██████████| 20/20 [02:19<00:00,  6.97s/it]\n"
     ]
    },
    {
     "name": "stdout",
     "output_type": "stream",
     "text": [
      "Using cache of goodall1 for iris\n"
     ]
    },
    {
     "name": "stderr",
     "output_type": "stream",
     "text": [
      "100%|██████████| 20/20 [02:18<00:00,  6.90s/it]\n"
     ]
    },
    {
     "name": "stdout",
     "output_type": "stream",
     "text": [
      "Using cache of goodall2 for iris\n"
     ]
    },
    {
     "name": "stderr",
     "output_type": "stream",
     "text": [
      "100%|██████████| 20/20 [02:23<00:00,  7.17s/it]\n"
     ]
    },
    {
     "name": "stdout",
     "output_type": "stream",
     "text": [
      "Using cache of goodall3 for iris\n"
     ]
    },
    {
     "name": "stderr",
     "output_type": "stream",
     "text": [
      "100%|██████████| 20/20 [02:30<00:00,  7.55s/it]\n"
     ]
    },
    {
     "name": "stdout",
     "output_type": "stream",
     "text": [
      "Using cache of goodall4 for iris\n"
     ]
    },
    {
     "name": "stderr",
     "output_type": "stream",
     "text": [
      "100%|██████████| 20/20 [02:24<00:00,  7.21s/it]\n"
     ]
    },
    {
     "name": "stdout",
     "output_type": "stream",
     "text": [
      "Using cache of smirnov for iris\n"
     ]
    },
    {
     "name": "stderr",
     "output_type": "stream",
     "text": [
      "100%|██████████| 20/20 [02:20<00:00,  7.05s/it]\n"
     ]
    },
    {
     "name": "stdout",
     "output_type": "stream",
     "text": [
      "Using cache of gambaryan for iris\n"
     ]
    },
    {
     "name": "stderr",
     "output_type": "stream",
     "text": [
      "100%|██████████| 20/20 [02:16<00:00,  6.81s/it]\n"
     ]
    },
    {
     "name": "stdout",
     "output_type": "stream",
     "text": [
      "Using cache of burnaby for iris\n"
     ]
    },
    {
     "name": "stderr",
     "output_type": "stream",
     "text": [
      "100%|██████████| 20/20 [02:12<00:00,  6.60s/it]\n"
     ]
    },
    {
     "name": "stdout",
     "output_type": "stream",
     "text": [
      "Using cache of anderberg for iris\n"
     ]
    },
    {
     "name": "stderr",
     "output_type": "stream",
     "text": [
      "100%|██████████| 20/20 [02:14<00:00,  6.74s/it]\n"
     ]
    }
   ],
   "source": [
    "iris = load_uci('iris')\n",
    "iris.with_preprocess(steps=[\"sample_n\", \"continuous_to_categorical\", \"remove_constant_columns\"],  params_list=[{\"n\": 1000, \"random_state\": 0}, {\"encode\": \"ordinal\"}, {}], in_place=True)\n",
    "dsn = \"iris\"\n",
    "model_name = \"catboost\"\n",
    "gsx = get_al_strategy(\"gsx\")\n",
    "for metric in distance.AVAIL_DIST_METRICS:\n",
    "# for metric in [\"cosine\", \"euclidean\"]:\n",
    "    fn = f\"{DIST_CACHE}/{dsn}/{metric}_ordinal.npy\"\n",
    "    cache_name = f\"{dsn.replace('/', '_')}@{model_name}@gsx_{metric}@x20.pkl\"\n",
    "    if ensure_path(os.path.join(\"ppl_cache\", cache_name), False):\n",
    "        print(f\"exp {cache_name} already exists, continue\")\n",
    "        continue\n",
    "    if not ensure_path(fn, False):\n",
    "        print(f\"Computing {metric} for {dsn}\")\n",
    "    print(f\"Using cache of {metric} for {dsn}\")\n",
    "    setattr(gsx, \"dist_cache_path\", fn)\n",
    "    ds = iris.with_strategy(gsx, extra_params={\"distance_metric\": metric})\n",
    "    make_ppl = get_pipeline(model_name)\n",
    "    ppl = make_ppl(\n",
    "        model=None,\n",
    "        eval_metrics=get_metrics([\"accuracy\"]),\n",
    "        seeds=[i for i in range(20)],\n",
    "        n_times=20,\n",
    "        dataset=ds,\n",
    "        cat_idx=ds.info[\"cat_idx\"]\n",
    "    )\n",
    "    ppl.start()\n",
    "    with open(os.path.join(\"ppl_cache\", cache_name), \"wb\") as f:\n",
    "        pickle.dump(ppl.stats, f)\n"
   ],
   "metadata": {
    "collapsed": false,
    "ExecuteTime": {
     "end_time": "2023-11-22T17:49:14.941339Z",
     "start_time": "2023-11-22T17:16:58.963524400Z"
    }
   },
   "id": "306e5e445a6b76af"
  },
  {
   "cell_type": "code",
   "execution_count": 11,
   "outputs": [],
   "source": [
    "def plot(dataset_name: str, model_name: str):\n",
    "    metrics_n_times = []\n",
    "    instances = []\n",
    "    strategies = list(distance.AVAIL_DIST_METRICS.keys())\n",
    "    plot_name = f\"{dataset_name}@{model_name}.png\"\n",
    "    for metric in strategies:\n",
    "        stats = None\n",
    "        cache_name = f\"{dataset_name.replace('/', '_')}@{model_name}@gsx_{metric}@x20.pkl\"\n",
    "        if not os.path.isfile(os.path.join(\"ppl_cache\", cache_name)):\n",
    "            print(f\"exp {cache_name} does not exist, continue\")\n",
    "            continue\n",
    "        with open(os.path.join(\"ppl_cache\", cache_name), \"rb\") as f:\n",
    "            stats = pickle.load(f)\n",
    "        metrics_n_times.append([stats[i][\"accuracy\"] for i in range(len(stats))])\n",
    "        instances = stats[0][\"instances\"]\n",
    "    pl_metric = PLMetric()\n",
    "    pl_metric.plot(\"Accuracy\", instances, np.array(metrics_n_times), strategies, plot_name=plot_name)\n",
    "    # pl_metric = PLMetric(\"Accuracy\", instances, metrics_n_times, strategies, plot_name=plot_name)"
   ],
   "metadata": {
    "collapsed": false,
    "ExecuteTime": {
     "end_time": "2023-11-22T17:50:57.363022700Z",
     "start_time": "2023-11-22T17:50:57.350681600Z"
    }
   },
   "id": "54186f8f43aa7c88"
  },
  {
   "cell_type": "code",
   "execution_count": 12,
   "outputs": [],
   "source": [
    "plot(\"iris\", \"catboost\")"
   ],
   "metadata": {
    "collapsed": false,
    "ExecuteTime": {
     "end_time": "2023-11-22T17:51:01.356351600Z",
     "start_time": "2023-11-22T17:50:59.945555300Z"
    }
   },
   "id": "43a2ae943faa649b"
  },
  {
   "cell_type": "code",
   "execution_count": null,
   "outputs": [],
   "source": [],
   "metadata": {
    "collapsed": false
   },
   "id": "9657a92e9fdb82d3"
  }
 ],
 "metadata": {
  "kernelspec": {
   "display_name": "Python 3",
   "language": "python",
   "name": "python3"
  },
  "language_info": {
   "codemirror_mode": {
    "name": "ipython",
    "version": 2
   },
   "file_extension": ".py",
   "mimetype": "text/x-python",
   "name": "python",
   "nbconvert_exporter": "python",
   "pygments_lexer": "ipython2",
   "version": "2.7.6"
  }
 },
 "nbformat": 4,
 "nbformat_minor": 5
}
