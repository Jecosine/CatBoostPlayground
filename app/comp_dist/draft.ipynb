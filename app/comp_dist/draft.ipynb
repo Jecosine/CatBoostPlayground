{
 "cells": [
  {
   "cell_type": "code",
   "execution_count": 1,
   "id": "initial_id",
   "metadata": {
    "collapsed": true,
    "ExecuteTime": {
     "end_time": "2023-11-29T14:01:52.497351900Z",
     "start_time": "2023-11-29T14:01:52.079290400Z"
    }
   },
   "outputs": [],
   "source": [
    "from allib.datasets import load_uci, AVAIL_DATASETS\n",
    "from allib.metrics import distance\n",
    "from allib.utils import ensure_path\n",
    "from allib.models.al import get_al_strategy\n",
    "from sklearn.metrics.pairwise import pairwise_distances, check_pairwise_arrays\n",
    "from allib.metrics import get_metrics\n",
    "from allib.plots import PLMetric\n",
    "from allib.models import get_pipeline, AVAIL_MODELS\n",
    "import numpy as np\n",
    "import os\n",
    "import pickle"
   ]
  },
  {
   "cell_type": "code",
   "execution_count": 2,
   "outputs": [],
   "source": [
    "DIST_CACHE = \"../../examples/dist_cache\""
   ],
   "metadata": {
    "collapsed": false,
    "ExecuteTime": {
     "end_time": "2023-11-29T14:01:52.516300200Z",
     "start_time": "2023-11-29T14:01:52.489373500Z"
    }
   },
   "id": "425e0db05833acaf"
  },
  {
   "cell_type": "code",
   "execution_count": 3,
   "outputs": [
    {
     "name": "stdout",
     "output_type": "stream",
     "text": [
      "exp iris@catboost@gsx_euclidean@x20.pkl already exists, continue\n",
      "exp iris@catboost@gsx_cosine@x20.pkl already exists, continue\n",
      "exp iris@catboost@gsx_overlap@x20.pkl already exists, continue\n",
      "exp iris@catboost@gsx_eskin@x20.pkl already exists, continue\n",
      "exp iris@catboost@gsx_iof@x20.pkl already exists, continue\n",
      "exp iris@catboost@gsx_of@x20.pkl already exists, continue\n",
      "exp iris@catboost@gsx_lin@x20.pkl already exists, continue\n",
      "exp iris@catboost@gsx_lin1@x20.pkl already exists, continue\n",
      "exp iris@catboost@gsx_goodall1@x20.pkl already exists, continue\n",
      "exp iris@catboost@gsx_goodall2@x20.pkl already exists, continue\n",
      "exp iris@catboost@gsx_goodall3@x20.pkl already exists, continue\n",
      "exp iris@catboost@gsx_goodall4@x20.pkl already exists, continue\n",
      "exp iris@catboost@gsx_smirnov@x20.pkl already exists, continue\n",
      "exp iris@catboost@gsx_gambaryan@x20.pkl already exists, continue\n",
      "exp iris@catboost@gsx_burnaby@x20.pkl already exists, continue\n",
      "exp iris@catboost@gsx_anderberg@x20.pkl already exists, continue\n",
      "exp adult@catboost@gsx_euclidean@x20.pkl already exists, continue\n",
      "exp adult@catboost@gsx_cosine@x20.pkl already exists, continue\n",
      "exp adult@catboost@gsx_overlap@x20.pkl already exists, continue\n",
      "exp adult@catboost@gsx_eskin@x20.pkl already exists, continue\n",
      "exp adult@catboost@gsx_iof@x20.pkl already exists, continue\n",
      "exp adult@catboost@gsx_of@x20.pkl already exists, continue\n",
      "exp adult@catboost@gsx_lin@x20.pkl already exists, continue\n",
      "lin1 for adult not found, skipping ...\n",
      "goodall1 for adult not found, skipping ...\n",
      "goodall2 for adult not found, skipping ...\n",
      "goodall3 for adult not found, skipping ...\n",
      "goodall4 for adult not found, skipping ...\n",
      "smirnov for adult not found, skipping ...\n",
      "gambaryan for adult not found, skipping ...\n",
      "burnaby for adult not found, skipping ...\n",
      "anderberg for adult not found, skipping ...\n",
      "exp yeast@catboost@gsx_euclidean@x20.pkl already exists, continue\n",
      "exp yeast@catboost@gsx_cosine@x20.pkl already exists, continue\n",
      "exp yeast@catboost@gsx_overlap@x20.pkl already exists, continue\n",
      "exp yeast@catboost@gsx_eskin@x20.pkl already exists, continue\n",
      "exp yeast@catboost@gsx_iof@x20.pkl already exists, continue\n",
      "exp yeast@catboost@gsx_of@x20.pkl already exists, continue\n",
      "exp yeast@catboost@gsx_lin@x20.pkl already exists, continue\n",
      "exp yeast@catboost@gsx_lin1@x20.pkl already exists, continue\n",
      "exp yeast@catboost@gsx_goodall1@x20.pkl already exists, continue\n",
      "exp yeast@catboost@gsx_goodall2@x20.pkl already exists, continue\n",
      "exp yeast@catboost@gsx_goodall3@x20.pkl already exists, continue\n",
      "exp yeast@catboost@gsx_goodall4@x20.pkl already exists, continue\n",
      "exp yeast@catboost@gsx_smirnov@x20.pkl already exists, continue\n",
      "exp yeast@catboost@gsx_gambaryan@x20.pkl already exists, continue\n",
      "exp yeast@catboost@gsx_burnaby@x20.pkl already exists, continue\n",
      "exp yeast@catboost@gsx_anderberg@x20.pkl already exists, continue\n",
      "exp letter-recognition@catboost@gsx_euclidean@x20.pkl already exists, continue\n",
      "exp letter-recognition@catboost@gsx_cosine@x20.pkl already exists, continue\n",
      "exp letter-recognition@catboost@gsx_overlap@x20.pkl already exists, continue\n",
      "exp letter-recognition@catboost@gsx_eskin@x20.pkl already exists, continue\n",
      "exp letter-recognition@catboost@gsx_iof@x20.pkl already exists, continue\n",
      "exp letter-recognition@catboost@gsx_of@x20.pkl already exists, continue\n",
      "exp letter-recognition@catboost@gsx_lin@x20.pkl already exists, continue\n",
      "exp letter-recognition@catboost@gsx_lin1@x20.pkl already exists, continue\n",
      "goodall1 for letter-recognition not found, skipping ...\n",
      "goodall2 for letter-recognition not found, skipping ...\n",
      "goodall3 for letter-recognition not found, skipping ...\n",
      "goodall4 for letter-recognition not found, skipping ...\n",
      "smirnov for letter-recognition not found, skipping ...\n",
      "gambaryan for letter-recognition not found, skipping ...\n",
      "burnaby for letter-recognition not found, skipping ...\n",
      "anderberg for letter-recognition not found, skipping ...\n",
      "exp image-segmentation@catboost@gsx_euclidean@x20.pkl already exists, continue\n",
      "exp image-segmentation@catboost@gsx_cosine@x20.pkl already exists, continue\n",
      "exp image-segmentation@catboost@gsx_overlap@x20.pkl already exists, continue\n",
      "exp image-segmentation@catboost@gsx_eskin@x20.pkl already exists, continue\n",
      "exp image-segmentation@catboost@gsx_iof@x20.pkl already exists, continue\n",
      "exp image-segmentation@catboost@gsx_of@x20.pkl already exists, continue\n",
      "exp image-segmentation@catboost@gsx_lin@x20.pkl already exists, continue\n",
      "exp image-segmentation@catboost@gsx_lin1@x20.pkl already exists, continue\n",
      "exp image-segmentation@catboost@gsx_goodall1@x20.pkl already exists, continue\n",
      "exp image-segmentation@catboost@gsx_goodall2@x20.pkl already exists, continue\n",
      "exp image-segmentation@catboost@gsx_goodall3@x20.pkl already exists, continue\n",
      "exp image-segmentation@catboost@gsx_goodall4@x20.pkl already exists, continue\n",
      "exp image-segmentation@catboost@gsx_smirnov@x20.pkl already exists, continue\n",
      "exp image-segmentation@catboost@gsx_gambaryan@x20.pkl already exists, continue\n",
      "exp image-segmentation@catboost@gsx_burnaby@x20.pkl already exists, continue\n",
      "exp image-segmentation@catboost@gsx_anderberg@x20.pkl already exists, continue\n",
      "exp balance-scale@catboost@gsx_euclidean@x20.pkl already exists, continue\n",
      "exp balance-scale@catboost@gsx_cosine@x20.pkl already exists, continue\n",
      "exp balance-scale@catboost@gsx_overlap@x20.pkl already exists, continue\n",
      "exp balance-scale@catboost@gsx_eskin@x20.pkl already exists, continue\n",
      "exp balance-scale@catboost@gsx_iof@x20.pkl already exists, continue\n",
      "exp balance-scale@catboost@gsx_of@x20.pkl already exists, continue\n",
      "exp balance-scale@catboost@gsx_lin@x20.pkl already exists, continue\n",
      "exp balance-scale@catboost@gsx_lin1@x20.pkl already exists, continue\n",
      "exp balance-scale@catboost@gsx_goodall1@x20.pkl already exists, continue\n",
      "exp balance-scale@catboost@gsx_goodall2@x20.pkl already exists, continue\n",
      "exp balance-scale@catboost@gsx_goodall3@x20.pkl already exists, continue\n",
      "exp balance-scale@catboost@gsx_goodall4@x20.pkl already exists, continue\n",
      "exp balance-scale@catboost@gsx_smirnov@x20.pkl already exists, continue\n",
      "exp balance-scale@catboost@gsx_gambaryan@x20.pkl already exists, continue\n",
      "exp balance-scale@catboost@gsx_burnaby@x20.pkl already exists, continue\n",
      "exp balance-scale@catboost@gsx_anderberg@x20.pkl already exists, continue\n",
      "exp glass-identification@catboost@gsx_euclidean@x20.pkl already exists, continue\n",
      "exp glass-identification@catboost@gsx_cosine@x20.pkl already exists, continue\n",
      "exp glass-identification@catboost@gsx_overlap@x20.pkl already exists, continue\n",
      "exp glass-identification@catboost@gsx_eskin@x20.pkl already exists, continue\n",
      "exp glass-identification@catboost@gsx_iof@x20.pkl already exists, continue\n",
      "exp glass-identification@catboost@gsx_of@x20.pkl already exists, continue\n",
      "exp glass-identification@catboost@gsx_lin@x20.pkl already exists, continue\n",
      "exp glass-identification@catboost@gsx_lin1@x20.pkl already exists, continue\n",
      "exp glass-identification@catboost@gsx_goodall1@x20.pkl already exists, continue\n",
      "exp glass-identification@catboost@gsx_goodall2@x20.pkl already exists, continue\n",
      "exp glass-identification@catboost@gsx_goodall3@x20.pkl already exists, continue\n",
      "exp glass-identification@catboost@gsx_goodall4@x20.pkl already exists, continue\n",
      "exp glass-identification@catboost@gsx_smirnov@x20.pkl already exists, continue\n",
      "exp glass-identification@catboost@gsx_gambaryan@x20.pkl already exists, continue\n",
      "exp glass-identification@catboost@gsx_burnaby@x20.pkl already exists, continue\n",
      "exp glass-identification@catboost@gsx_anderberg@x20.pkl already exists, continue\n",
      "exp wine@catboost@gsx_euclidean@x20.pkl already exists, continue\n",
      "exp wine@catboost@gsx_cosine@x20.pkl already exists, continue\n",
      "exp wine@catboost@gsx_overlap@x20.pkl already exists, continue\n",
      "exp wine@catboost@gsx_eskin@x20.pkl already exists, continue\n",
      "exp wine@catboost@gsx_iof@x20.pkl already exists, continue\n",
      "exp wine@catboost@gsx_of@x20.pkl already exists, continue\n",
      "exp wine@catboost@gsx_lin@x20.pkl already exists, continue\n",
      "exp wine@catboost@gsx_lin1@x20.pkl already exists, continue\n",
      "exp wine@catboost@gsx_goodall1@x20.pkl already exists, continue\n",
      "exp wine@catboost@gsx_goodall2@x20.pkl already exists, continue\n",
      "exp wine@catboost@gsx_goodall3@x20.pkl already exists, continue\n",
      "exp wine@catboost@gsx_goodall4@x20.pkl already exists, continue\n",
      "exp wine@catboost@gsx_smirnov@x20.pkl already exists, continue\n",
      "exp wine@catboost@gsx_gambaryan@x20.pkl already exists, continue\n",
      "exp wine@catboost@gsx_burnaby@x20.pkl already exists, continue\n",
      "exp wine@catboost@gsx_anderberg@x20.pkl already exists, continue\n"
     ]
    },
    {
     "name": "stderr",
     "output_type": "stream",
     "text": [
      "D:\\anaconda3\\envs\\COMP8800\\lib\\site-packages\\sklearn\\preprocessing\\_discretization.py:313: UserWarning: Bins whose width are too small (i.e., <= 1e-8) in feature 2 are removed. Consider decreasing the number of bins.\n",
      "  warnings.warn(\n",
      "D:\\anaconda3\\envs\\COMP8800\\lib\\site-packages\\sklearn\\preprocessing\\_discretization.py:313: UserWarning: Bins whose width are too small (i.e., <= 1e-8) in feature 3 are removed. Consider decreasing the number of bins.\n",
      "  warnings.warn(\n",
      "D:\\anaconda3\\envs\\COMP8800\\lib\\site-packages\\sklearn\\preprocessing\\_discretization.py:313: UserWarning: Bins whose width are too small (i.e., <= 1e-8) in feature 4 are removed. Consider decreasing the number of bins.\n",
      "  warnings.warn(\n",
      "D:\\anaconda3\\envs\\COMP8800\\lib\\site-packages\\sklearn\\preprocessing\\_discretization.py:313: UserWarning: Bins whose width are too small (i.e., <= 1e-8) in feature 5 are removed. Consider decreasing the number of bins.\n",
      "  warnings.warn(\n",
      "D:\\anaconda3\\envs\\COMP8800\\lib\\site-packages\\sklearn\\preprocessing\\_discretization.py:313: UserWarning: Bins whose width are too small (i.e., <= 1e-8) in feature 4 are removed. Consider decreasing the number of bins.\n",
      "  warnings.warn(\n",
      "D:\\anaconda3\\envs\\COMP8800\\lib\\site-packages\\sklearn\\preprocessing\\_discretization.py:313: UserWarning: Bins whose width are too small (i.e., <= 1e-8) in feature 5 are removed. Consider decreasing the number of bins.\n",
      "  warnings.warn(\n",
      "D:\\anaconda3\\envs\\COMP8800\\lib\\site-packages\\sklearn\\preprocessing\\_discretization.py:313: UserWarning: Bins whose width are too small (i.e., <= 1e-8) in feature 7 are removed. Consider decreasing the number of bins.\n",
      "  warnings.warn(\n",
      "D:\\anaconda3\\envs\\COMP8800\\lib\\site-packages\\sklearn\\preprocessing\\_discretization.py:313: UserWarning: Bins whose width are too small (i.e., <= 1e-8) in feature 0 are removed. Consider decreasing the number of bins.\n",
      "  warnings.warn(\n",
      "D:\\anaconda3\\envs\\COMP8800\\lib\\site-packages\\sklearn\\preprocessing\\_discretization.py:313: UserWarning: Bins whose width are too small (i.e., <= 1e-8) in feature 5 are removed. Consider decreasing the number of bins.\n",
      "  warnings.warn(\n",
      "D:\\anaconda3\\envs\\COMP8800\\lib\\site-packages\\sklearn\\preprocessing\\_discretization.py:313: UserWarning: Bins whose width are too small (i.e., <= 1e-8) in feature 11 are removed. Consider decreasing the number of bins.\n",
      "  warnings.warn(\n",
      "D:\\anaconda3\\envs\\COMP8800\\lib\\site-packages\\sklearn\\preprocessing\\_discretization.py:313: UserWarning: Bins whose width are too small (i.e., <= 1e-8) in feature 15 are removed. Consider decreasing the number of bins.\n",
      "  warnings.warn(\n",
      "D:\\anaconda3\\envs\\COMP8800\\lib\\site-packages\\sklearn\\preprocessing\\_discretization.py:269: UserWarning: Feature 2 is constant and will be replaced with 0.\n",
      "  warnings.warn(\n",
      "D:\\anaconda3\\envs\\COMP8800\\lib\\site-packages\\sklearn\\preprocessing\\_discretization.py:313: UserWarning: Bins whose width are too small (i.e., <= 1e-8) in feature 3 are removed. Consider decreasing the number of bins.\n",
      "  warnings.warn(\n",
      "D:\\anaconda3\\envs\\COMP8800\\lib\\site-packages\\sklearn\\preprocessing\\_discretization.py:313: UserWarning: Bins whose width are too small (i.e., <= 1e-8) in feature 4 are removed. Consider decreasing the number of bins.\n",
      "  warnings.warn(\n",
      "D:\\anaconda3\\envs\\COMP8800\\lib\\site-packages\\sklearn\\preprocessing\\_discretization.py:313: UserWarning: Bins whose width are too small (i.e., <= 1e-8) in feature 7 are removed. Consider decreasing the number of bins.\n",
      "  warnings.warn(\n",
      "D:\\anaconda3\\envs\\COMP8800\\lib\\site-packages\\sklearn\\preprocessing\\_discretization.py:313: UserWarning: Bins whose width are too small (i.e., <= 1e-8) in feature 8 are removed. Consider decreasing the number of bins.\n",
      "  warnings.warn(\n"
     ]
    }
   ],
   "source": [
    "for dsn in AVAIL_DATASETS:\n",
    "    ds = load_uci(dsn)\n",
    "    ds.with_preprocess(steps=[\"sample_n\", \"continuous_to_categorical\", \"remove_constant_columns\"],  params_list=[{\"n\": 1000, \"random_state\": 0}, {\"encode\": \"ordinal\"}, {}], in_place=True)\n",
    "    model_name = \"catboost\"\n",
    "    gsx = get_al_strategy(\"gsx\")\n",
    "    for metric in distance.AVAIL_DIST_METRICS:\n",
    "    # for metric in [\"cosine\", \"euclidean\"]:\n",
    "        fn = f\"{DIST_CACHE}/{dsn}/{metric}_ordinal.npy\"\n",
    "        cache_name = f\"{dsn.replace('/', '_')}@{model_name}@gsx_{metric}@x20.pkl\"\n",
    "        if ensure_path(os.path.join(\"ppl_cache\", cache_name), False):\n",
    "            print(f\"exp {cache_name} already exists, continue\")\n",
    "            continue\n",
    "        if not ensure_path(fn, False):\n",
    "            print(f\"{metric} for {dsn} not found, skipping ...\")\n",
    "            continue\n",
    "        print(f\"Using cache of {metric} for {dsn}\")\n",
    "        setattr(gsx, \"dist_cache_path\", fn)\n",
    "        ds = ds.with_strategy(gsx, extra_params={\"distance_metric\": metric})\n",
    "        make_ppl = get_pipeline(model_name)\n",
    "        ppl = make_ppl(\n",
    "            model=None,\n",
    "            eval_metrics=get_metrics([\"accuracy\"]),\n",
    "            seeds=[i for i in range(20)],\n",
    "            n_times=20,\n",
    "            dataset=ds,\n",
    "            cat_idx=ds.info[\"cat_idx\"]\n",
    "        )\n",
    "        ppl.start()\n",
    "        with open(os.path.join(\"ppl_cache\", cache_name), \"wb\") as f:\n",
    "            pickle.dump(ppl.stats, f)\n"
   ],
   "metadata": {
    "collapsed": false,
    "ExecuteTime": {
     "end_time": "2023-11-29T13:45:00.524501900Z",
     "start_time": "2023-11-29T13:44:57.673136200Z"
    }
   },
   "id": "306e5e445a6b76af"
  },
  {
   "cell_type": "code",
   "execution_count": 12,
   "outputs": [],
   "source": [
    "import matplotlib.pyplot as plt  \n",
    "\n",
    "def plot(dataset_name: str, model_name: str, strategies: list = None, plot_name: str = None):\n",
    "    metrics_n_times = []\n",
    "    instances = []\n",
    "    strategies = strategies or list(distance.AVAIL_DIST_METRICS.keys())\n",
    "    plot_name = plot_name if plot_name is not None else f\"{dataset_name}@{model_name}.png\"\n",
    "    if ensure_path(os.path.join(\"./plots/pl_metric\", plot_name), False):\n",
    "        print(f\"plot {plot_name} already exists, continue\")\n",
    "        return\n",
    "    for metric in strategies:\n",
    "        stats = None\n",
    "        cache_name = f\"{dataset_name.replace('/', '_')}@{model_name}@gsx_{metric}@x20.pkl\"\n",
    "        if not os.path.isfile(os.path.join(\"ppl_cache\", cache_name)):\n",
    "            print(f\"exp {cache_name} does not exist, continue\")\n",
    "            continue\n",
    "        with open(os.path.join(\"ppl_cache\", cache_name), \"rb\") as f:\n",
    "            stats = pickle.load(f)\n",
    "        metrics_n_times.append([stats[i][\"accuracy\"] for i in range(len(stats))])\n",
    "        instances = stats[0][\"instances\"]\n",
    "    pl_metric = PLMetric()\n",
    "    pl_metric.plot(\"Accuracy\", instances, np.array(metrics_n_times), strategies, plot_name=plot_name, cmap=plt.get_cmap(\"Paired\"), dpi=300)"
   ],
   "metadata": {
    "collapsed": false,
    "ExecuteTime": {
     "end_time": "2023-11-29T14:07:49.832167400Z",
     "start_time": "2023-11-29T14:07:49.821188300Z"
    }
   },
   "id": "54186f8f43aa7c88"
  },
  {
   "cell_type": "code",
   "execution_count": 4,
   "outputs": [
    {
     "name": "stdout",
     "output_type": "stream",
     "text": [
      "exp adult@catboost@gsx_lin1@x20.pkl does not exist, continue\n",
      "exp adult@catboost@gsx_goodall1@x20.pkl does not exist, continue\n",
      "exp adult@catboost@gsx_goodall2@x20.pkl does not exist, continue\n",
      "exp adult@catboost@gsx_goodall3@x20.pkl does not exist, continue\n",
      "exp adult@catboost@gsx_goodall4@x20.pkl does not exist, continue\n",
      "exp adult@catboost@gsx_smirnov@x20.pkl does not exist, continue\n",
      "exp adult@catboost@gsx_gambaryan@x20.pkl does not exist, continue\n",
      "exp adult@catboost@gsx_burnaby@x20.pkl does not exist, continue\n",
      "exp adult@catboost@gsx_anderberg@x20.pkl does not exist, continue\n",
      "exp letter-recognition@catboost@gsx_goodall1@x20.pkl does not exist, continue\n",
      "exp letter-recognition@catboost@gsx_goodall2@x20.pkl does not exist, continue\n",
      "exp letter-recognition@catboost@gsx_goodall3@x20.pkl does not exist, continue\n",
      "exp letter-recognition@catboost@gsx_goodall4@x20.pkl does not exist, continue\n",
      "exp letter-recognition@catboost@gsx_smirnov@x20.pkl does not exist, continue\n",
      "exp letter-recognition@catboost@gsx_gambaryan@x20.pkl does not exist, continue\n",
      "exp letter-recognition@catboost@gsx_burnaby@x20.pkl does not exist, continue\n",
      "exp letter-recognition@catboost@gsx_anderberg@x20.pkl does not exist, continue\n"
     ]
    }
   ],
   "source": [
    "# plot(\"adult\", \"catboost\")\n",
    "for dsn in AVAIL_DATASETS:\n",
    "    plot(dsn, \"catboost\", strategies=distance.AVAIL_DIST_METRICS.keys())"
   ],
   "metadata": {
    "collapsed": false,
    "ExecuteTime": {
     "end_time": "2023-11-29T14:02:08.078985600Z",
     "start_time": "2023-11-29T14:01:57.058297900Z"
    }
   },
   "id": "43a2ae943faa649b"
  },
  {
   "cell_type": "code",
   "execution_count": 7,
   "outputs": [
    {
     "ename": "FileNotFoundError",
     "evalue": "[Errno 2] No such file or directory: 'ppl_cache\\\\balance-scale@catboost@gsx_ordinal@x20.pkl'",
     "output_type": "error",
     "traceback": [
      "\u001B[1;31m---------------------------------------------------------------------------\u001B[0m",
      "\u001B[1;31mFileNotFoundError\u001B[0m                         Traceback (most recent call last)",
      "Cell \u001B[1;32mIn[7], line 2\u001B[0m\n\u001B[0;32m      1\u001B[0m cache_name \u001B[38;5;241m=\u001B[39m \u001B[38;5;124mf\u001B[39m\u001B[38;5;124m\"\u001B[39m\u001B[38;5;124mbalance-scale@catboost@gsx_ordinal@x20.pkl\u001B[39m\u001B[38;5;124m\"\u001B[39m\n\u001B[1;32m----> 2\u001B[0m \u001B[38;5;28;01mwith\u001B[39;00m \u001B[38;5;28;43mopen\u001B[39;49m\u001B[43m(\u001B[49m\u001B[43mos\u001B[49m\u001B[38;5;241;43m.\u001B[39;49m\u001B[43mpath\u001B[49m\u001B[38;5;241;43m.\u001B[39;49m\u001B[43mjoin\u001B[49m\u001B[43m(\u001B[49m\u001B[38;5;124;43m\"\u001B[39;49m\u001B[38;5;124;43mppl_cache\u001B[39;49m\u001B[38;5;124;43m\"\u001B[39;49m\u001B[43m,\u001B[49m\u001B[43m \u001B[49m\u001B[43mcache_name\u001B[49m\u001B[43m)\u001B[49m\u001B[43m,\u001B[49m\u001B[43m \u001B[49m\u001B[38;5;124;43m\"\u001B[39;49m\u001B[38;5;124;43mrb\u001B[39;49m\u001B[38;5;124;43m\"\u001B[39;49m\u001B[43m)\u001B[49m \u001B[38;5;28;01mas\u001B[39;00m f:\n\u001B[0;32m      3\u001B[0m     stats \u001B[38;5;241m=\u001B[39m pickle\u001B[38;5;241m.\u001B[39mload(f)\n",
      "File \u001B[1;32mD:\\anaconda3\\envs\\COMP8800\\lib\\site-packages\\IPython\\core\\interactiveshell.py:284\u001B[0m, in \u001B[0;36m_modified_open\u001B[1;34m(file, *args, **kwargs)\u001B[0m\n\u001B[0;32m    277\u001B[0m \u001B[38;5;28;01mif\u001B[39;00m file \u001B[38;5;129;01min\u001B[39;00m {\u001B[38;5;241m0\u001B[39m, \u001B[38;5;241m1\u001B[39m, \u001B[38;5;241m2\u001B[39m}:\n\u001B[0;32m    278\u001B[0m     \u001B[38;5;28;01mraise\u001B[39;00m \u001B[38;5;167;01mValueError\u001B[39;00m(\n\u001B[0;32m    279\u001B[0m         \u001B[38;5;124mf\u001B[39m\u001B[38;5;124m\"\u001B[39m\u001B[38;5;124mIPython won\u001B[39m\u001B[38;5;124m'\u001B[39m\u001B[38;5;124mt let you open fd=\u001B[39m\u001B[38;5;132;01m{\u001B[39;00mfile\u001B[38;5;132;01m}\u001B[39;00m\u001B[38;5;124m by default \u001B[39m\u001B[38;5;124m\"\u001B[39m\n\u001B[0;32m    280\u001B[0m         \u001B[38;5;124m\"\u001B[39m\u001B[38;5;124mas it is likely to crash IPython. If you know what you are doing, \u001B[39m\u001B[38;5;124m\"\u001B[39m\n\u001B[0;32m    281\u001B[0m         \u001B[38;5;124m\"\u001B[39m\u001B[38;5;124myou can use builtins\u001B[39m\u001B[38;5;124m'\u001B[39m\u001B[38;5;124m open.\u001B[39m\u001B[38;5;124m\"\u001B[39m\n\u001B[0;32m    282\u001B[0m     )\n\u001B[1;32m--> 284\u001B[0m \u001B[38;5;28;01mreturn\u001B[39;00m io_open(file, \u001B[38;5;241m*\u001B[39margs, \u001B[38;5;241m*\u001B[39m\u001B[38;5;241m*\u001B[39mkwargs)\n",
      "\u001B[1;31mFileNotFoundError\u001B[0m: [Errno 2] No such file or directory: 'ppl_cache\\\\balance-scale@catboost@gsx_ordinal@x20.pkl'"
     ]
    }
   ],
   "source": [
    "cache_name = f\"balance-scale@catboost@gsx_@x20.pkl\"\n",
    "with open(os.path.join(\"ppl_cache\", cache_name), \"rb\") as f:\n",
    "    stats = pickle.load(f)\n",
    "    "
   ],
   "metadata": {
    "collapsed": false,
    "ExecuteTime": {
     "end_time": "2023-11-29T14:03:38.516018Z",
     "start_time": "2023-11-29T14:03:37.591020900Z"
    }
   },
   "id": "9657a92e9fdb82d3"
  },
  {
   "cell_type": "code",
   "execution_count": 14,
   "outputs": [],
   "source": [
    "for m in list(distance.AVAIL_DIST_METRICS.keys()):\n",
    "    plot(\"balance-scale\", \"catboost\", [m, ], plot_name=f\"test-{m}.png\")"
   ],
   "metadata": {
    "collapsed": false,
    "ExecuteTime": {
     "end_time": "2023-11-29T14:09:04.528010800Z",
     "start_time": "2023-11-29T14:08:57.521850800Z"
    }
   },
   "id": "b0c5f87595e6602"
  },
  {
   "cell_type": "code",
   "execution_count": null,
   "outputs": [],
   "source": [],
   "metadata": {
    "collapsed": false
   },
   "id": "1f0d910e9e6af2ae"
  }
 ],
 "metadata": {
  "kernelspec": {
   "display_name": "Python 3",
   "language": "python",
   "name": "python3"
  },
  "language_info": {
   "codemirror_mode": {
    "name": "ipython",
    "version": 2
   },
   "file_extension": ".py",
   "mimetype": "text/x-python",
   "name": "python",
   "nbconvert_exporter": "python",
   "pygments_lexer": "ipython2",
   "version": "2.7.6"
  }
 },
 "nbformat": 4,
 "nbformat_minor": 5
}
