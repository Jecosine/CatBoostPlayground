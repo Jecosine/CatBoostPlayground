{
 "cells": [
  {
   "cell_type": "code",
   "execution_count": 6,
   "id": "initial_id",
   "metadata": {
    "collapsed": true,
    "ExecuteTime": {
     "end_time": "2023-10-04T06:18:55.552355600Z",
     "start_time": "2023-10-04T06:18:55.502978300Z"
    }
   },
   "outputs": [],
   "source": [
    "import pandas as pd\n",
    "import faulthandler\n",
    "from allib.datasets import load_uci, AVAIL_DATASETS, Dataset\n",
    "from allib.models import get_pipeline, AVAIL_MODELS\n",
    "from allib.models.al import ActiveLearningStrategy, ActiveLearningPipeline, get_al_strategy, ALL_STRATEGIES\n",
    "from allib.metrics import get_metrics\n",
    "from allib.plots import PLMetric\n",
    "from allib.utils import make_seeds, ensure_path\n",
    "from preprocess import process_dataset\n",
    "import os\n",
    "import matplotlib.pyplot as plt\n",
    "import pickle\n",
    "import numpy as np"
   ]
  },
  {
   "cell_type": "code",
   "execution_count": 3,
   "outputs": [
    {
     "data": {
      "text/plain": "  0%|          | 0/10 [00:00<?, ?it/s]",
      "application/vnd.jupyter.widget-view+json": {
       "version_major": 2,
       "version_minor": 0,
       "model_id": "c1edabeabcd341a69c3b387606b39b8b"
      }
     },
     "metadata": {},
     "output_type": "display_data"
    }
   ],
   "source": [
    "_ppl = get_pipeline(\"svm\")\n",
    "dataset = load_uci(\"iris\")\n",
    "dataset = dataset.with_strategy(get_al_strategy(\"random\"))\n",
    "ppl = _ppl(dataset=dataset, model=None, n_times=10, seeds=[i for i in range(10)], eval_metrics=get_metrics([\"accuracy\"]))\n",
    "ppl.start()"
   ],
   "metadata": {
    "collapsed": false,
    "ExecuteTime": {
     "end_time": "2023-09-21T17:00:34.581006Z",
     "start_time": "2023-09-21T17:00:33.492871Z"
    }
   },
   "id": "2711052ac132dd93"
  },
  {
   "cell_type": "code",
   "execution_count": 4,
   "outputs": [],
   "source": [
    "import numpy as np"
   ],
   "metadata": {
    "collapsed": false,
    "ExecuteTime": {
     "end_time": "2023-09-21T17:38:05.979395200Z",
     "start_time": "2023-09-21T17:38:05.942854300Z"
    }
   },
   "id": "2812d2a95ba5f6ef"
  },
  {
   "cell_type": "code",
   "execution_count": 7,
   "outputs": [],
   "source": [
    "d = np.random.random((5, 10, 3))"
   ],
   "metadata": {
    "collapsed": false,
    "ExecuteTime": {
     "end_time": "2023-09-21T17:38:49.623259100Z",
     "start_time": "2023-09-21T17:38:49.610240700Z"
    }
   },
   "id": "ef5a736d460bd17b"
  },
  {
   "cell_type": "code",
   "execution_count": 10,
   "outputs": [],
   "source": [
    "res = d.argmax(axis=-1).T\n",
    "nv = res.shape[-1]"
   ],
   "metadata": {
    "collapsed": false,
    "ExecuteTime": {
     "end_time": "2023-09-21T17:39:46.107384500Z",
     "start_time": "2023-09-21T17:39:46.073450300Z"
    }
   },
   "id": "b2b7fa7476cf19f4"
  },
  {
   "cell_type": "code",
   "execution_count": 16,
   "outputs": [],
   "source": [
    "a = d[0]\n",
    "from scipy.spatial.distance import cosine, euclidean\n",
    "from sklearn.metrics.pairwise import pairwise_distances"
   ],
   "metadata": {
    "collapsed": false,
    "ExecuteTime": {
     "end_time": "2023-09-21T18:11:14.834401700Z",
     "start_time": "2023-09-21T18:11:14.809338600Z"
    }
   },
   "id": "21c2d77bcb9493a0"
  },
  {
   "cell_type": "code",
   "execution_count": 17,
   "outputs": [
    {
     "data": {
      "text/plain": "array([[0.39031309, 0.40044788, 0.38401105],\n       [0.69233521, 0.99902319, 0.86530197],\n       [0.65366077, 0.43676566, 0.53149043],\n       [0.01595777, 0.36436973, 0.95943041],\n       [0.5027634 , 0.58042174, 0.34301491],\n       [0.71221275, 0.07036863, 0.599481  ],\n       [0.99164365, 0.40327949, 0.6159703 ],\n       [0.82437419, 0.25416359, 0.33884943],\n       [0.8122739 , 0.82082358, 0.39186727],\n       [0.83960789, 0.54839786, 0.19925043]])"
     },
     "execution_count": 17,
     "metadata": {},
     "output_type": "execute_result"
    }
   ],
   "source": [
    "a"
   ],
   "metadata": {
    "collapsed": false,
    "ExecuteTime": {
     "end_time": "2023-09-21T18:11:15.575132500Z",
     "start_time": "2023-09-21T18:11:15.558421300Z"
    }
   },
   "id": "7a8762f7585229a5"
  },
  {
   "cell_type": "code",
   "execution_count": 22,
   "outputs": [],
   "source": [
    "ad = load_uci(\"adult\")"
   ],
   "metadata": {
    "collapsed": false,
    "ExecuteTime": {
     "end_time": "2023-09-21T18:34:56.268202300Z",
     "start_time": "2023-09-21T18:34:56.176893800Z"
    }
   },
   "id": "c6f0e4a25760acc7"
  },
  {
   "cell_type": "code",
   "execution_count": 24,
   "outputs": [
    {
     "data": {
      "text/plain": "[1, 3, 5, 6, 7, 8, 9, 13, 14]"
     },
     "execution_count": 24,
     "metadata": {},
     "output_type": "execute_result"
    }
   ],
   "source": [
    "ad.info[\"cat_idx\"]"
   ],
   "metadata": {
    "collapsed": false,
    "ExecuteTime": {
     "end_time": "2023-09-21T18:35:05.176181Z",
     "start_time": "2023-09-21T18:35:05.159226700Z"
    }
   },
   "id": "4c2eda878baf9e3e"
  },
  {
   "cell_type": "code",
   "execution_count": 29,
   "outputs": [],
   "source": [
    "ad = ad.with_strategy(strategy=ALL_STRATEGIES[\"random\"])"
   ],
   "metadata": {
    "collapsed": false,
    "ExecuteTime": {
     "end_time": "2023-09-21T18:37:33.073450100Z",
     "start_time": "2023-09-21T18:37:33.042515900Z"
    }
   },
   "id": "dc2a6a578e5cd7e1"
  },
  {
   "cell_type": "code",
   "execution_count": 32,
   "outputs": [
    {
     "data": {
      "text/plain": "  0%|          | 0/1 [00:00<?, ?it/s]",
      "application/vnd.jupyter.widget-view+json": {
       "version_major": 2,
       "version_minor": 0,
       "model_id": "de662e1dba7141c083c3df1fd8d00daa"
      }
     },
     "metadata": {},
     "output_type": "display_data"
    },
    {
     "ename": "CatBoostError",
     "evalue": "Bad value for num_feature[non_default_doc_idx=0,feature_idx=1]=\" Private\": Cannot convert 'b' Private'' to float",
     "output_type": "error",
     "traceback": [
      "\u001B[1;31m---------------------------------------------------------------------------\u001B[0m",
      "\u001B[1;31mTypeError\u001B[0m                                 Traceback (most recent call last)",
      "File \u001B[1;32m_catboost.pyx:2288\u001B[0m, in \u001B[0;36m_catboost.get_float_feature\u001B[1;34m()\u001B[0m\n",
      "File \u001B[1;32m_catboost.pyx:1141\u001B[0m, in \u001B[0;36m_catboost._FloatOrNan\u001B[1;34m()\u001B[0m\n",
      "File \u001B[1;32m_catboost.pyx:951\u001B[0m, in \u001B[0;36m_catboost._FloatOrNanFromString\u001B[1;34m()\u001B[0m\n",
      "\u001B[1;31mTypeError\u001B[0m: Cannot convert 'b' Private'' to float",
      "\nDuring handling of the above exception, another exception occurred:\n",
      "\u001B[1;31mCatBoostError\u001B[0m                             Traceback (most recent call last)",
      "Cell \u001B[1;32mIn[32], line 3\u001B[0m\n\u001B[0;32m      1\u001B[0m _ppl \u001B[38;5;241m=\u001B[39m get_pipeline(\u001B[38;5;124m\"\u001B[39m\u001B[38;5;124mcatboost\u001B[39m\u001B[38;5;124m\"\u001B[39m)\n\u001B[0;32m      2\u001B[0m ppl \u001B[38;5;241m=\u001B[39m _ppl(dataset\u001B[38;5;241m=\u001B[39mad, model\u001B[38;5;241m=\u001B[39m\u001B[38;5;28;01mNone\u001B[39;00m, n_times\u001B[38;5;241m=\u001B[39m\u001B[38;5;241m1\u001B[39m, seeds\u001B[38;5;241m=\u001B[39m[i \u001B[38;5;28;01mfor\u001B[39;00m i \u001B[38;5;129;01min\u001B[39;00m \u001B[38;5;28mrange\u001B[39m(\u001B[38;5;241m1\u001B[39m)], eval_metrics\u001B[38;5;241m=\u001B[39mget_metrics([\u001B[38;5;124m\"\u001B[39m\u001B[38;5;124maccuracy\u001B[39m\u001B[38;5;124m\"\u001B[39m]), cat_idx\u001B[38;5;241m=\u001B[39mad\u001B[38;5;241m.\u001B[39minfo[\u001B[38;5;124m\"\u001B[39m\u001B[38;5;124mcat_idx\u001B[39m\u001B[38;5;124m\"\u001B[39m])\n\u001B[1;32m----> 3\u001B[0m \u001B[43mppl\u001B[49m\u001B[38;5;241;43m.\u001B[39;49m\u001B[43mstart\u001B[49m\u001B[43m(\u001B[49m\u001B[43m)\u001B[49m\n",
      "File \u001B[1;32mE:\\Courses\\COMP8800\\Projects\\CatBoostPlayground\\allib\\models\\al\\pipeline.py:145\u001B[0m, in \u001B[0;36mstart\u001B[1;34m(self)\u001B[0m\n\u001B[0;32m    143\u001B[0m prog \u001B[38;5;241m=\u001B[39m tqdm(\u001B[38;5;28mrange\u001B[39m(\u001B[38;5;28mself\u001B[39m\u001B[38;5;241m.\u001B[39mn_times)) \u001B[38;5;28;01mif\u001B[39;00m \u001B[38;5;28mself\u001B[39m\u001B[38;5;241m.\u001B[39mverbose \u001B[38;5;28;01melse\u001B[39;00m \u001B[38;5;28mrange\u001B[39m(\u001B[38;5;28mself\u001B[39m\u001B[38;5;241m.\u001B[39mn_times)\n\u001B[0;32m    144\u001B[0m \u001B[38;5;28;01mfor\u001B[39;00m i \u001B[38;5;129;01min\u001B[39;00m prog:\n\u001B[1;32m--> 145\u001B[0m     \u001B[38;5;28mself\u001B[39m\u001B[38;5;241m.\u001B[39mbefore_run(n_iter\u001B[38;5;241m=\u001B[39mi)\n\u001B[0;32m    146\u001B[0m     \u001B[38;5;28mself\u001B[39m\u001B[38;5;241m.\u001B[39mrun(n_iter\u001B[38;5;241m=\u001B[39mi)\n\u001B[0;32m    147\u001B[0m     \u001B[38;5;28mself\u001B[39m\u001B[38;5;241m.\u001B[39mafter_run(n_iter\u001B[38;5;241m=\u001B[39mi)\n",
      "File \u001B[1;32mE:\\Courses\\COMP8800\\Projects\\CatBoostPlayground\\allib\\models\\models.py:33\u001B[0m, in \u001B[0;36mCatboostPL.run\u001B[1;34m(self, n_iter, extra_params)\u001B[0m\n\u001B[0;32m     31\u001B[0m \u001B[38;5;28;01mif\u001B[39;00m counter \u001B[38;5;241m>\u001B[39m\u001B[38;5;241m=\u001B[39m \u001B[38;5;28mself\u001B[39m\u001B[38;5;241m.\u001B[39mearly_stop:\n\u001B[0;32m     32\u001B[0m     \u001B[38;5;28;01mbreak\u001B[39;00m\n\u001B[1;32m---> 33\u001B[0m \u001B[38;5;28mself\u001B[39m\u001B[38;5;241m.\u001B[39mmodel\u001B[38;5;241m.\u001B[39mfit(tx, ty, verbose\u001B[38;5;241m=\u001B[39m\u001B[38;5;28;01mFalse\u001B[39;00m, \u001B[38;5;241m*\u001B[39m\u001B[38;5;241m*\u001B[39mextra_params)\n\u001B[0;32m     34\u001B[0m \u001B[38;5;28mself\u001B[39m\u001B[38;5;241m.\u001B[39mcurrent_stat[\u001B[38;5;124m\"\u001B[39m\u001B[38;5;124mmodel_snapshots\u001B[39m\u001B[38;5;124m\"\u001B[39m]\u001B[38;5;241m.\u001B[39mappend(\u001B[38;5;28mself\u001B[39m\u001B[38;5;241m.\u001B[39mmodel\u001B[38;5;241m.\u001B[39mcopy())\n\u001B[0;32m     35\u001B[0m \u001B[38;5;28mself\u001B[39m\u001B[38;5;241m.\u001B[39mapply_eval_metrics()\n",
      "File \u001B[1;32mD:\\anaconda3\\envs\\COMP8800\\lib\\site-packages\\catboost\\core.py:5131\u001B[0m, in \u001B[0;36mCatBoostClassifier.fit\u001B[1;34m(self, X, y, cat_features, text_features, embedding_features, sample_weight, baseline, use_best_model, eval_set, verbose, logging_level, plot, plot_file, column_description, verbose_eval, metric_period, silent, early_stopping_rounds, save_snapshot, snapshot_file, snapshot_interval, init_model, callbacks, log_cout, log_cerr)\u001B[0m\n\u001B[0;32m   5128\u001B[0m \u001B[38;5;28;01mif\u001B[39;00m \u001B[38;5;124m'\u001B[39m\u001B[38;5;124mloss_function\u001B[39m\u001B[38;5;124m'\u001B[39m \u001B[38;5;129;01min\u001B[39;00m params:\n\u001B[0;32m   5129\u001B[0m     CatBoostClassifier\u001B[38;5;241m.\u001B[39m_check_is_compatible_loss(params[\u001B[38;5;124m'\u001B[39m\u001B[38;5;124mloss_function\u001B[39m\u001B[38;5;124m'\u001B[39m])\n\u001B[1;32m-> 5131\u001B[0m \u001B[38;5;28;43mself\u001B[39;49m\u001B[38;5;241;43m.\u001B[39;49m\u001B[43m_fit\u001B[49m\u001B[43m(\u001B[49m\u001B[43mX\u001B[49m\u001B[43m,\u001B[49m\u001B[43m \u001B[49m\u001B[43my\u001B[49m\u001B[43m,\u001B[49m\u001B[43m \u001B[49m\u001B[43mcat_features\u001B[49m\u001B[43m,\u001B[49m\u001B[43m \u001B[49m\u001B[43mtext_features\u001B[49m\u001B[43m,\u001B[49m\u001B[43m \u001B[49m\u001B[43membedding_features\u001B[49m\u001B[43m,\u001B[49m\u001B[43m \u001B[49m\u001B[38;5;28;43;01mNone\u001B[39;49;00m\u001B[43m,\u001B[49m\u001B[43m \u001B[49m\u001B[43msample_weight\u001B[49m\u001B[43m,\u001B[49m\u001B[43m \u001B[49m\u001B[38;5;28;43;01mNone\u001B[39;49;00m\u001B[43m,\u001B[49m\u001B[43m \u001B[49m\u001B[38;5;28;43;01mNone\u001B[39;49;00m\u001B[43m,\u001B[49m\u001B[43m \u001B[49m\u001B[38;5;28;43;01mNone\u001B[39;49;00m\u001B[43m,\u001B[49m\u001B[43m \u001B[49m\u001B[38;5;28;43;01mNone\u001B[39;49;00m\u001B[43m,\u001B[49m\u001B[43m \u001B[49m\u001B[43mbaseline\u001B[49m\u001B[43m,\u001B[49m\u001B[43m \u001B[49m\u001B[43muse_best_model\u001B[49m\u001B[43m,\u001B[49m\n\u001B[0;32m   5132\u001B[0m \u001B[43m          \u001B[49m\u001B[43meval_set\u001B[49m\u001B[43m,\u001B[49m\u001B[43m \u001B[49m\u001B[43mverbose\u001B[49m\u001B[43m,\u001B[49m\u001B[43m \u001B[49m\u001B[43mlogging_level\u001B[49m\u001B[43m,\u001B[49m\u001B[43m \u001B[49m\u001B[43mplot\u001B[49m\u001B[43m,\u001B[49m\u001B[43m \u001B[49m\u001B[43mplot_file\u001B[49m\u001B[43m,\u001B[49m\u001B[43m \u001B[49m\u001B[43mcolumn_description\u001B[49m\u001B[43m,\u001B[49m\u001B[43m \u001B[49m\u001B[43mverbose_eval\u001B[49m\u001B[43m,\u001B[49m\u001B[43m \u001B[49m\u001B[43mmetric_period\u001B[49m\u001B[43m,\u001B[49m\n\u001B[0;32m   5133\u001B[0m \u001B[43m          \u001B[49m\u001B[43msilent\u001B[49m\u001B[43m,\u001B[49m\u001B[43m \u001B[49m\u001B[43mearly_stopping_rounds\u001B[49m\u001B[43m,\u001B[49m\u001B[43m \u001B[49m\u001B[43msave_snapshot\u001B[49m\u001B[43m,\u001B[49m\u001B[43m \u001B[49m\u001B[43msnapshot_file\u001B[49m\u001B[43m,\u001B[49m\u001B[43m \u001B[49m\u001B[43msnapshot_interval\u001B[49m\u001B[43m,\u001B[49m\u001B[43m \u001B[49m\u001B[43minit_model\u001B[49m\u001B[43m,\u001B[49m\u001B[43m \u001B[49m\u001B[43mcallbacks\u001B[49m\u001B[43m,\u001B[49m\u001B[43m \u001B[49m\u001B[43mlog_cout\u001B[49m\u001B[43m,\u001B[49m\u001B[43m \u001B[49m\u001B[43mlog_cerr\u001B[49m\u001B[43m)\u001B[49m\n\u001B[0;32m   5134\u001B[0m \u001B[38;5;28;01mreturn\u001B[39;00m \u001B[38;5;28mself\u001B[39m\n",
      "File \u001B[1;32mD:\\anaconda3\\envs\\COMP8800\\lib\\site-packages\\catboost\\core.py:2341\u001B[0m, in \u001B[0;36mCatBoost._fit\u001B[1;34m(self, X, y, cat_features, text_features, embedding_features, pairs, sample_weight, group_id, group_weight, subgroup_id, pairs_weight, baseline, use_best_model, eval_set, verbose, logging_level, plot, plot_file, column_description, verbose_eval, metric_period, silent, early_stopping_rounds, save_snapshot, snapshot_file, snapshot_interval, init_model, callbacks, log_cout, log_cerr)\u001B[0m\n\u001B[0;32m   2338\u001B[0m \u001B[38;5;28;01mif\u001B[39;00m y \u001B[38;5;129;01mis\u001B[39;00m \u001B[38;5;28;01mNone\u001B[39;00m \u001B[38;5;129;01mand\u001B[39;00m \u001B[38;5;129;01mnot\u001B[39;00m \u001B[38;5;28misinstance\u001B[39m(X, PATH_TYPES \u001B[38;5;241m+\u001B[39m (Pool,)):\n\u001B[0;32m   2339\u001B[0m     \u001B[38;5;28;01mraise\u001B[39;00m CatBoostError(\u001B[38;5;124m\"\u001B[39m\u001B[38;5;124my may be None only when X is an instance of catboost.Pool or string\u001B[39m\u001B[38;5;124m\"\u001B[39m)\n\u001B[1;32m-> 2341\u001B[0m train_params \u001B[38;5;241m=\u001B[39m \u001B[38;5;28;43mself\u001B[39;49m\u001B[38;5;241;43m.\u001B[39;49m\u001B[43m_prepare_train_params\u001B[49m\u001B[43m(\u001B[49m\n\u001B[0;32m   2342\u001B[0m \u001B[43m    \u001B[49m\u001B[43mX\u001B[49m\u001B[38;5;241;43m=\u001B[39;49m\u001B[43mX\u001B[49m\u001B[43m,\u001B[49m\u001B[43m \u001B[49m\u001B[43my\u001B[49m\u001B[38;5;241;43m=\u001B[39;49m\u001B[43my\u001B[49m\u001B[43m,\u001B[49m\u001B[43m \u001B[49m\u001B[43mcat_features\u001B[49m\u001B[38;5;241;43m=\u001B[39;49m\u001B[43mcat_features\u001B[49m\u001B[43m,\u001B[49m\u001B[43m \u001B[49m\u001B[43mtext_features\u001B[49m\u001B[38;5;241;43m=\u001B[39;49m\u001B[43mtext_features\u001B[49m\u001B[43m,\u001B[49m\u001B[43m \u001B[49m\u001B[43membedding_features\u001B[49m\u001B[38;5;241;43m=\u001B[39;49m\u001B[43membedding_features\u001B[49m\u001B[43m,\u001B[49m\n\u001B[0;32m   2343\u001B[0m \u001B[43m    \u001B[49m\u001B[43mpairs\u001B[49m\u001B[38;5;241;43m=\u001B[39;49m\u001B[43mpairs\u001B[49m\u001B[43m,\u001B[49m\u001B[43m \u001B[49m\u001B[43msample_weight\u001B[49m\u001B[38;5;241;43m=\u001B[39;49m\u001B[43msample_weight\u001B[49m\u001B[43m,\u001B[49m\u001B[43m \u001B[49m\u001B[43mgroup_id\u001B[49m\u001B[38;5;241;43m=\u001B[39;49m\u001B[43mgroup_id\u001B[49m\u001B[43m,\u001B[49m\u001B[43m \u001B[49m\u001B[43mgroup_weight\u001B[49m\u001B[38;5;241;43m=\u001B[39;49m\u001B[43mgroup_weight\u001B[49m\u001B[43m,\u001B[49m\n\u001B[0;32m   2344\u001B[0m \u001B[43m    \u001B[49m\u001B[43msubgroup_id\u001B[49m\u001B[38;5;241;43m=\u001B[39;49m\u001B[43msubgroup_id\u001B[49m\u001B[43m,\u001B[49m\u001B[43m \u001B[49m\u001B[43mpairs_weight\u001B[49m\u001B[38;5;241;43m=\u001B[39;49m\u001B[43mpairs_weight\u001B[49m\u001B[43m,\u001B[49m\u001B[43m \u001B[49m\u001B[43mbaseline\u001B[49m\u001B[38;5;241;43m=\u001B[39;49m\u001B[43mbaseline\u001B[49m\u001B[43m,\u001B[49m\u001B[43m \u001B[49m\u001B[43muse_best_model\u001B[49m\u001B[38;5;241;43m=\u001B[39;49m\u001B[43muse_best_model\u001B[49m\u001B[43m,\u001B[49m\n\u001B[0;32m   2345\u001B[0m \u001B[43m    \u001B[49m\u001B[43meval_set\u001B[49m\u001B[38;5;241;43m=\u001B[39;49m\u001B[43meval_set\u001B[49m\u001B[43m,\u001B[49m\u001B[43m \u001B[49m\u001B[43mverbose\u001B[49m\u001B[38;5;241;43m=\u001B[39;49m\u001B[43mverbose\u001B[49m\u001B[43m,\u001B[49m\u001B[43m \u001B[49m\u001B[43mlogging_level\u001B[49m\u001B[38;5;241;43m=\u001B[39;49m\u001B[43mlogging_level\u001B[49m\u001B[43m,\u001B[49m\u001B[43m \u001B[49m\u001B[43mplot\u001B[49m\u001B[38;5;241;43m=\u001B[39;49m\u001B[43mplot\u001B[49m\u001B[43m,\u001B[49m\u001B[43m \u001B[49m\u001B[43mplot_file\u001B[49m\u001B[38;5;241;43m=\u001B[39;49m\u001B[43mplot_file\u001B[49m\u001B[43m,\u001B[49m\n\u001B[0;32m   2346\u001B[0m \u001B[43m    \u001B[49m\u001B[43mcolumn_description\u001B[49m\u001B[38;5;241;43m=\u001B[39;49m\u001B[43mcolumn_description\u001B[49m\u001B[43m,\u001B[49m\u001B[43m \u001B[49m\u001B[43mverbose_eval\u001B[49m\u001B[38;5;241;43m=\u001B[39;49m\u001B[43mverbose_eval\u001B[49m\u001B[43m,\u001B[49m\u001B[43m \u001B[49m\u001B[43mmetric_period\u001B[49m\u001B[38;5;241;43m=\u001B[39;49m\u001B[43mmetric_period\u001B[49m\u001B[43m,\u001B[49m\n\u001B[0;32m   2347\u001B[0m \u001B[43m    \u001B[49m\u001B[43msilent\u001B[49m\u001B[38;5;241;43m=\u001B[39;49m\u001B[43msilent\u001B[49m\u001B[43m,\u001B[49m\u001B[43m \u001B[49m\u001B[43mearly_stopping_rounds\u001B[49m\u001B[38;5;241;43m=\u001B[39;49m\u001B[43mearly_stopping_rounds\u001B[49m\u001B[43m,\u001B[49m\u001B[43m \u001B[49m\u001B[43msave_snapshot\u001B[49m\u001B[38;5;241;43m=\u001B[39;49m\u001B[43msave_snapshot\u001B[49m\u001B[43m,\u001B[49m\n\u001B[0;32m   2348\u001B[0m \u001B[43m    \u001B[49m\u001B[43msnapshot_file\u001B[49m\u001B[38;5;241;43m=\u001B[39;49m\u001B[43msnapshot_file\u001B[49m\u001B[43m,\u001B[49m\u001B[43m \u001B[49m\u001B[43msnapshot_interval\u001B[49m\u001B[38;5;241;43m=\u001B[39;49m\u001B[43msnapshot_interval\u001B[49m\u001B[43m,\u001B[49m\u001B[43m \u001B[49m\u001B[43minit_model\u001B[49m\u001B[38;5;241;43m=\u001B[39;49m\u001B[43minit_model\u001B[49m\u001B[43m,\u001B[49m\n\u001B[0;32m   2349\u001B[0m \u001B[43m    \u001B[49m\u001B[43mcallbacks\u001B[49m\u001B[38;5;241;43m=\u001B[39;49m\u001B[43mcallbacks\u001B[49m\n\u001B[0;32m   2350\u001B[0m \u001B[43m\u001B[49m\u001B[43m)\u001B[49m\n\u001B[0;32m   2351\u001B[0m params \u001B[38;5;241m=\u001B[39m train_params[\u001B[38;5;124m\"\u001B[39m\u001B[38;5;124mparams\u001B[39m\u001B[38;5;124m\"\u001B[39m]\n\u001B[0;32m   2352\u001B[0m train_pool \u001B[38;5;241m=\u001B[39m train_params[\u001B[38;5;124m\"\u001B[39m\u001B[38;5;124mtrain_pool\u001B[39m\u001B[38;5;124m\"\u001B[39m]\n",
      "File \u001B[1;32mD:\\anaconda3\\envs\\COMP8800\\lib\\site-packages\\catboost\\core.py:2222\u001B[0m, in \u001B[0;36mCatBoost._prepare_train_params\u001B[1;34m(self, X, y, cat_features, text_features, embedding_features, pairs, sample_weight, group_id, group_weight, subgroup_id, pairs_weight, baseline, use_best_model, eval_set, verbose, logging_level, plot, plot_file, column_description, verbose_eval, metric_period, silent, early_stopping_rounds, save_snapshot, snapshot_file, snapshot_interval, init_model, callbacks)\u001B[0m\n\u001B[0;32m   2219\u001B[0m text_features \u001B[38;5;241m=\u001B[39m _process_feature_indices(text_features, X, params, \u001B[38;5;124m'\u001B[39m\u001B[38;5;124mtext_features\u001B[39m\u001B[38;5;124m'\u001B[39m)\n\u001B[0;32m   2220\u001B[0m embedding_features \u001B[38;5;241m=\u001B[39m _process_feature_indices(embedding_features, X, params, \u001B[38;5;124m'\u001B[39m\u001B[38;5;124membedding_features\u001B[39m\u001B[38;5;124m'\u001B[39m)\n\u001B[1;32m-> 2222\u001B[0m train_pool \u001B[38;5;241m=\u001B[39m \u001B[43m_build_train_pool\u001B[49m\u001B[43m(\u001B[49m\u001B[43mX\u001B[49m\u001B[43m,\u001B[49m\u001B[43m \u001B[49m\u001B[43my\u001B[49m\u001B[43m,\u001B[49m\u001B[43m \u001B[49m\u001B[43mcat_features\u001B[49m\u001B[43m,\u001B[49m\u001B[43m \u001B[49m\u001B[43mtext_features\u001B[49m\u001B[43m,\u001B[49m\u001B[43m \u001B[49m\u001B[43membedding_features\u001B[49m\u001B[43m,\u001B[49m\u001B[43m \u001B[49m\u001B[43mpairs\u001B[49m\u001B[43m,\u001B[49m\n\u001B[0;32m   2223\u001B[0m \u001B[43m                               \u001B[49m\u001B[43msample_weight\u001B[49m\u001B[43m,\u001B[49m\u001B[43m \u001B[49m\u001B[43mgroup_id\u001B[49m\u001B[43m,\u001B[49m\u001B[43m \u001B[49m\u001B[43mgroup_weight\u001B[49m\u001B[43m,\u001B[49m\u001B[43m \u001B[49m\u001B[43msubgroup_id\u001B[49m\u001B[43m,\u001B[49m\u001B[43m \u001B[49m\u001B[43mpairs_weight\u001B[49m\u001B[43m,\u001B[49m\n\u001B[0;32m   2224\u001B[0m \u001B[43m                               \u001B[49m\u001B[43mbaseline\u001B[49m\u001B[43m,\u001B[49m\u001B[43m \u001B[49m\u001B[43mcolumn_description\u001B[49m\u001B[43m)\u001B[49m\n\u001B[0;32m   2225\u001B[0m \u001B[38;5;28;01mif\u001B[39;00m train_pool\u001B[38;5;241m.\u001B[39mis_empty_:\n\u001B[0;32m   2226\u001B[0m     \u001B[38;5;28;01mraise\u001B[39;00m CatBoostError(\u001B[38;5;124m\"\u001B[39m\u001B[38;5;124mX is empty.\u001B[39m\u001B[38;5;124m\"\u001B[39m)\n",
      "File \u001B[1;32mD:\\anaconda3\\envs\\COMP8800\\lib\\site-packages\\catboost\\core.py:1438\u001B[0m, in \u001B[0;36m_build_train_pool\u001B[1;34m(X, y, cat_features, text_features, embedding_features, pairs, sample_weight, group_id, group_weight, subgroup_id, pairs_weight, baseline, column_description)\u001B[0m\n\u001B[0;32m   1436\u001B[0m     \u001B[38;5;28;01mif\u001B[39;00m y \u001B[38;5;129;01mis\u001B[39;00m \u001B[38;5;28;01mNone\u001B[39;00m:\n\u001B[0;32m   1437\u001B[0m         \u001B[38;5;28;01mraise\u001B[39;00m CatBoostError(\u001B[38;5;124m\"\u001B[39m\u001B[38;5;124my has not initialized in fit(): X is not catboost.Pool object, y must be not None in fit().\u001B[39m\u001B[38;5;124m\"\u001B[39m)\n\u001B[1;32m-> 1438\u001B[0m     train_pool \u001B[38;5;241m=\u001B[39m \u001B[43mPool\u001B[49m\u001B[43m(\u001B[49m\u001B[43mX\u001B[49m\u001B[43m,\u001B[49m\u001B[43m \u001B[49m\u001B[43my\u001B[49m\u001B[43m,\u001B[49m\u001B[43m \u001B[49m\u001B[43mcat_features\u001B[49m\u001B[38;5;241;43m=\u001B[39;49m\u001B[43mcat_features\u001B[49m\u001B[43m,\u001B[49m\u001B[43m \u001B[49m\u001B[43mtext_features\u001B[49m\u001B[38;5;241;43m=\u001B[39;49m\u001B[43mtext_features\u001B[49m\u001B[43m,\u001B[49m\u001B[43m \u001B[49m\u001B[43membedding_features\u001B[49m\u001B[38;5;241;43m=\u001B[39;49m\u001B[43membedding_features\u001B[49m\u001B[43m,\u001B[49m\u001B[43m \u001B[49m\u001B[43mpairs\u001B[49m\u001B[38;5;241;43m=\u001B[39;49m\u001B[43mpairs\u001B[49m\u001B[43m,\u001B[49m\u001B[43m \u001B[49m\u001B[43mweight\u001B[49m\u001B[38;5;241;43m=\u001B[39;49m\u001B[43msample_weight\u001B[49m\u001B[43m,\u001B[49m\u001B[43m \u001B[49m\u001B[43mgroup_id\u001B[49m\u001B[38;5;241;43m=\u001B[39;49m\u001B[43mgroup_id\u001B[49m\u001B[43m,\u001B[49m\n\u001B[0;32m   1439\u001B[0m \u001B[43m                      \u001B[49m\u001B[43mgroup_weight\u001B[49m\u001B[38;5;241;43m=\u001B[39;49m\u001B[43mgroup_weight\u001B[49m\u001B[43m,\u001B[49m\u001B[43m \u001B[49m\u001B[43msubgroup_id\u001B[49m\u001B[38;5;241;43m=\u001B[39;49m\u001B[43msubgroup_id\u001B[49m\u001B[43m,\u001B[49m\u001B[43m \u001B[49m\u001B[43mpairs_weight\u001B[49m\u001B[38;5;241;43m=\u001B[39;49m\u001B[43mpairs_weight\u001B[49m\u001B[43m,\u001B[49m\u001B[43m \u001B[49m\u001B[43mbaseline\u001B[49m\u001B[38;5;241;43m=\u001B[39;49m\u001B[43mbaseline\u001B[49m\u001B[43m)\u001B[49m\n\u001B[0;32m   1440\u001B[0m \u001B[38;5;28;01mreturn\u001B[39;00m train_pool\n",
      "File \u001B[1;32mD:\\anaconda3\\envs\\COMP8800\\lib\\site-packages\\catboost\\core.py:792\u001B[0m, in \u001B[0;36mPool.__init__\u001B[1;34m(self, data, label, cat_features, text_features, embedding_features, embedding_features_data, column_description, pairs, delimiter, has_header, ignore_csv_quoting, weight, group_id, group_weight, subgroup_id, pairs_weight, baseline, timestamp, feature_names, feature_tags, thread_count, log_cout, log_cerr)\u001B[0m\n\u001B[0;32m    786\u001B[0m         \u001B[38;5;28;01mif\u001B[39;00m \u001B[38;5;28misinstance\u001B[39m(feature_names, PATH_TYPES):\n\u001B[0;32m    787\u001B[0m             \u001B[38;5;28;01mraise\u001B[39;00m CatBoostError(\n\u001B[0;32m    788\u001B[0m                 \u001B[38;5;124m\"\u001B[39m\u001B[38;5;124mfeature_names must be None or have non-string type when the pool is created from \u001B[39m\u001B[38;5;124m\"\u001B[39m\n\u001B[0;32m    789\u001B[0m                 \u001B[38;5;124m\"\u001B[39m\u001B[38;5;124mpython objects.\u001B[39m\u001B[38;5;124m\"\u001B[39m\n\u001B[0;32m    790\u001B[0m             )\n\u001B[1;32m--> 792\u001B[0m         \u001B[38;5;28;43mself\u001B[39;49m\u001B[38;5;241;43m.\u001B[39;49m\u001B[43m_init\u001B[49m\u001B[43m(\u001B[49m\u001B[43mdata\u001B[49m\u001B[43m,\u001B[49m\u001B[43m \u001B[49m\u001B[43mlabel\u001B[49m\u001B[43m,\u001B[49m\u001B[43m \u001B[49m\u001B[43mcat_features\u001B[49m\u001B[43m,\u001B[49m\u001B[43m \u001B[49m\u001B[43mtext_features\u001B[49m\u001B[43m,\u001B[49m\u001B[43m \u001B[49m\u001B[43membedding_features\u001B[49m\u001B[43m,\u001B[49m\u001B[43m \u001B[49m\u001B[43membedding_features_data\u001B[49m\u001B[43m,\u001B[49m\u001B[43m \u001B[49m\u001B[43mpairs\u001B[49m\u001B[43m,\u001B[49m\u001B[43m \u001B[49m\u001B[43mweight\u001B[49m\u001B[43m,\u001B[49m\n\u001B[0;32m    793\u001B[0m \u001B[43m                   \u001B[49m\u001B[43mgroup_id\u001B[49m\u001B[43m,\u001B[49m\u001B[43m \u001B[49m\u001B[43mgroup_weight\u001B[49m\u001B[43m,\u001B[49m\u001B[43m \u001B[49m\u001B[43msubgroup_id\u001B[49m\u001B[43m,\u001B[49m\u001B[43m \u001B[49m\u001B[43mpairs_weight\u001B[49m\u001B[43m,\u001B[49m\u001B[43m \u001B[49m\u001B[43mbaseline\u001B[49m\u001B[43m,\u001B[49m\u001B[43m \u001B[49m\u001B[43mtimestamp\u001B[49m\u001B[43m,\u001B[49m\u001B[43m \u001B[49m\u001B[43mfeature_names\u001B[49m\u001B[43m,\u001B[49m\u001B[43m \u001B[49m\u001B[43mfeature_tags\u001B[49m\u001B[43m,\u001B[49m\u001B[43m \u001B[49m\u001B[43mthread_count\u001B[49m\u001B[43m)\u001B[49m\n\u001B[0;32m    794\u001B[0m \u001B[38;5;28msuper\u001B[39m(Pool, \u001B[38;5;28mself\u001B[39m)\u001B[38;5;241m.\u001B[39m\u001B[38;5;21m__init__\u001B[39m()\n",
      "File \u001B[1;32mD:\\anaconda3\\envs\\COMP8800\\lib\\site-packages\\catboost\\core.py:1419\u001B[0m, in \u001B[0;36mPool._init\u001B[1;34m(self, data, label, cat_features, text_features, embedding_features, embedding_features_data, pairs, weight, group_id, group_weight, subgroup_id, pairs_weight, baseline, timestamp, feature_names, feature_tags, thread_count)\u001B[0m\n\u001B[0;32m   1417\u001B[0m \u001B[38;5;28;01mif\u001B[39;00m feature_tags \u001B[38;5;129;01mis\u001B[39;00m \u001B[38;5;129;01mnot\u001B[39;00m \u001B[38;5;28;01mNone\u001B[39;00m:\n\u001B[0;32m   1418\u001B[0m     feature_tags \u001B[38;5;241m=\u001B[39m \u001B[38;5;28mself\u001B[39m\u001B[38;5;241m.\u001B[39m_check_transform_tags(feature_tags, feature_names)\n\u001B[1;32m-> 1419\u001B[0m \u001B[38;5;28;43mself\u001B[39;49m\u001B[38;5;241;43m.\u001B[39;49m\u001B[43m_init_pool\u001B[49m\u001B[43m(\u001B[49m\u001B[43mdata\u001B[49m\u001B[43m,\u001B[49m\u001B[43m \u001B[49m\u001B[43mlabel\u001B[49m\u001B[43m,\u001B[49m\u001B[43m \u001B[49m\u001B[43mcat_features\u001B[49m\u001B[43m,\u001B[49m\u001B[43m \u001B[49m\u001B[43mtext_features\u001B[49m\u001B[43m,\u001B[49m\u001B[43m \u001B[49m\u001B[43membedding_features\u001B[49m\u001B[43m,\u001B[49m\u001B[43m \u001B[49m\u001B[43membedding_features_data\u001B[49m\u001B[43m,\u001B[49m\u001B[43m \u001B[49m\u001B[43mpairs\u001B[49m\u001B[43m,\u001B[49m\u001B[43m \u001B[49m\u001B[43mweight\u001B[49m\u001B[43m,\u001B[49m\n\u001B[0;32m   1420\u001B[0m \u001B[43m                \u001B[49m\u001B[43mgroup_id\u001B[49m\u001B[43m,\u001B[49m\u001B[43m \u001B[49m\u001B[43mgroup_weight\u001B[49m\u001B[43m,\u001B[49m\u001B[43m \u001B[49m\u001B[43msubgroup_id\u001B[49m\u001B[43m,\u001B[49m\u001B[43m \u001B[49m\u001B[43mpairs_weight\u001B[49m\u001B[43m,\u001B[49m\u001B[43m \u001B[49m\u001B[43mbaseline\u001B[49m\u001B[43m,\u001B[49m\u001B[43m \u001B[49m\u001B[43mtimestamp\u001B[49m\u001B[43m,\u001B[49m\u001B[43m \u001B[49m\u001B[43mfeature_names\u001B[49m\u001B[43m,\u001B[49m\u001B[43m \u001B[49m\u001B[43mfeature_tags\u001B[49m\u001B[43m,\u001B[49m\u001B[43m \u001B[49m\u001B[43mthread_count\u001B[49m\u001B[43m)\u001B[49m\n",
      "File \u001B[1;32m_catboost.pyx:3955\u001B[0m, in \u001B[0;36m_catboost._PoolBase._init_pool\u001B[1;34m()\u001B[0m\n",
      "File \u001B[1;32m_catboost.pyx:4005\u001B[0m, in \u001B[0;36m_catboost._PoolBase._init_pool\u001B[1;34m()\u001B[0m\n",
      "File \u001B[1;32m_catboost.pyx:3821\u001B[0m, in \u001B[0;36m_catboost._PoolBase._init_features_order_layout_pool\u001B[1;34m()\u001B[0m\n",
      "File \u001B[1;32m_catboost.pyx:2787\u001B[0m, in \u001B[0;36m_catboost._set_features_order_data_pd_data_frame\u001B[1;34m()\u001B[0m\n",
      "File \u001B[1;32m_catboost.pyx:2329\u001B[0m, in \u001B[0;36m_catboost.create_num_factor_data\u001B[1;34m()\u001B[0m\n",
      "File \u001B[1;32m_catboost.pyx:2290\u001B[0m, in \u001B[0;36m_catboost.get_float_feature\u001B[1;34m()\u001B[0m\n",
      "\u001B[1;31mCatBoostError\u001B[0m: Bad value for num_feature[non_default_doc_idx=0,feature_idx=1]=\" Private\": Cannot convert 'b' Private'' to float"
     ]
    }
   ],
   "source": [
    "_ppl = get_pipeline(\"catboost\")\n",
    "ppl = _ppl(dataset=ad, model=None, n_times=1, seeds=[i for i in range(1)], eval_metrics=get_metrics([\"accuracy\"]), cat_idx=ad.info[\"cat_idx\"])\n",
    "ppl.start()"
   ],
   "metadata": {
    "collapsed": false,
    "ExecuteTime": {
     "end_time": "2023-09-21T18:38:37.583347200Z",
     "start_time": "2023-09-21T18:38:37.396338900Z"
    }
   },
   "id": "e3e5671ce8ad05c9"
  },
  {
   "cell_type": "code",
   "execution_count": 36,
   "outputs": [],
   "source": [
    "from catboost import CatBoostClassifier\n",
    "c = CatBoostClassifier(verbose=False, **{\n",
    "    \"iterations\": 5,\n",
    "    \"learning_rate\": 0.1,\n",
    "    \"cat_features\": ad.info[\"cat_idx\"]\n",
    "})"
   ],
   "metadata": {
    "collapsed": false,
    "ExecuteTime": {
     "end_time": "2023-09-21T18:39:50.410502400Z",
     "start_time": "2023-09-21T18:39:50.402522600Z"
    }
   },
   "id": "97de034317dab581"
  },
  {
   "cell_type": "code",
   "execution_count": 38,
   "outputs": [
    {
     "ename": "CatBoostError",
     "evalue": "Bad value for num_feature[non_default_doc_idx=0,feature_idx=1]=\" State-gov\": Cannot convert 'b' State-gov'' to float",
     "output_type": "error",
     "traceback": [
      "\u001B[1;31m---------------------------------------------------------------------------\u001B[0m",
      "\u001B[1;31mTypeError\u001B[0m                                 Traceback (most recent call last)",
      "File \u001B[1;32m_catboost.pyx:2288\u001B[0m, in \u001B[0;36m_catboost.get_float_feature\u001B[1;34m()\u001B[0m\n",
      "File \u001B[1;32m_catboost.pyx:1141\u001B[0m, in \u001B[0;36m_catboost._FloatOrNan\u001B[1;34m()\u001B[0m\n",
      "File \u001B[1;32m_catboost.pyx:951\u001B[0m, in \u001B[0;36m_catboost._FloatOrNanFromString\u001B[1;34m()\u001B[0m\n",
      "\u001B[1;31mTypeError\u001B[0m: Cannot convert 'b' State-gov'' to float",
      "\nDuring handling of the above exception, another exception occurred:\n",
      "\u001B[1;31mCatBoostError\u001B[0m                             Traceback (most recent call last)",
      "Cell \u001B[1;32mIn[38], line 1\u001B[0m\n\u001B[1;32m----> 1\u001B[0m \u001B[43mc\u001B[49m\u001B[38;5;241;43m.\u001B[39;49m\u001B[43mfit\u001B[49m\u001B[43m(\u001B[49m\u001B[43mad\u001B[49m\u001B[38;5;241;43m.\u001B[39;49m\u001B[43m_data\u001B[49m\u001B[43m,\u001B[49m\u001B[43m \u001B[49m\u001B[43mad\u001B[49m\u001B[38;5;241;43m.\u001B[39;49m\u001B[43m_label\u001B[49m\u001B[43m,\u001B[49m\u001B[43m \u001B[49m\u001B[43mcat_features\u001B[49m\u001B[38;5;241;43m=\u001B[39;49m\u001B[43mad\u001B[49m\u001B[38;5;241;43m.\u001B[39;49m\u001B[43minfo\u001B[49m\u001B[43m[\u001B[49m\u001B[38;5;124;43m\"\u001B[39;49m\u001B[38;5;124;43mcat_idx\u001B[39;49m\u001B[38;5;124;43m\"\u001B[39;49m\u001B[43m]\u001B[49m\u001B[43m)\u001B[49m\n",
      "File \u001B[1;32mD:\\anaconda3\\envs\\COMP8800\\lib\\site-packages\\catboost\\core.py:5131\u001B[0m, in \u001B[0;36mCatBoostClassifier.fit\u001B[1;34m(self, X, y, cat_features, text_features, embedding_features, sample_weight, baseline, use_best_model, eval_set, verbose, logging_level, plot, plot_file, column_description, verbose_eval, metric_period, silent, early_stopping_rounds, save_snapshot, snapshot_file, snapshot_interval, init_model, callbacks, log_cout, log_cerr)\u001B[0m\n\u001B[0;32m   5128\u001B[0m \u001B[38;5;28;01mif\u001B[39;00m \u001B[38;5;124m'\u001B[39m\u001B[38;5;124mloss_function\u001B[39m\u001B[38;5;124m'\u001B[39m \u001B[38;5;129;01min\u001B[39;00m params:\n\u001B[0;32m   5129\u001B[0m     CatBoostClassifier\u001B[38;5;241m.\u001B[39m_check_is_compatible_loss(params[\u001B[38;5;124m'\u001B[39m\u001B[38;5;124mloss_function\u001B[39m\u001B[38;5;124m'\u001B[39m])\n\u001B[1;32m-> 5131\u001B[0m \u001B[38;5;28;43mself\u001B[39;49m\u001B[38;5;241;43m.\u001B[39;49m\u001B[43m_fit\u001B[49m\u001B[43m(\u001B[49m\u001B[43mX\u001B[49m\u001B[43m,\u001B[49m\u001B[43m \u001B[49m\u001B[43my\u001B[49m\u001B[43m,\u001B[49m\u001B[43m \u001B[49m\u001B[43mcat_features\u001B[49m\u001B[43m,\u001B[49m\u001B[43m \u001B[49m\u001B[43mtext_features\u001B[49m\u001B[43m,\u001B[49m\u001B[43m \u001B[49m\u001B[43membedding_features\u001B[49m\u001B[43m,\u001B[49m\u001B[43m \u001B[49m\u001B[38;5;28;43;01mNone\u001B[39;49;00m\u001B[43m,\u001B[49m\u001B[43m \u001B[49m\u001B[43msample_weight\u001B[49m\u001B[43m,\u001B[49m\u001B[43m \u001B[49m\u001B[38;5;28;43;01mNone\u001B[39;49;00m\u001B[43m,\u001B[49m\u001B[43m \u001B[49m\u001B[38;5;28;43;01mNone\u001B[39;49;00m\u001B[43m,\u001B[49m\u001B[43m \u001B[49m\u001B[38;5;28;43;01mNone\u001B[39;49;00m\u001B[43m,\u001B[49m\u001B[43m \u001B[49m\u001B[38;5;28;43;01mNone\u001B[39;49;00m\u001B[43m,\u001B[49m\u001B[43m \u001B[49m\u001B[43mbaseline\u001B[49m\u001B[43m,\u001B[49m\u001B[43m \u001B[49m\u001B[43muse_best_model\u001B[49m\u001B[43m,\u001B[49m\n\u001B[0;32m   5132\u001B[0m \u001B[43m          \u001B[49m\u001B[43meval_set\u001B[49m\u001B[43m,\u001B[49m\u001B[43m \u001B[49m\u001B[43mverbose\u001B[49m\u001B[43m,\u001B[49m\u001B[43m \u001B[49m\u001B[43mlogging_level\u001B[49m\u001B[43m,\u001B[49m\u001B[43m \u001B[49m\u001B[43mplot\u001B[49m\u001B[43m,\u001B[49m\u001B[43m \u001B[49m\u001B[43mplot_file\u001B[49m\u001B[43m,\u001B[49m\u001B[43m \u001B[49m\u001B[43mcolumn_description\u001B[49m\u001B[43m,\u001B[49m\u001B[43m \u001B[49m\u001B[43mverbose_eval\u001B[49m\u001B[43m,\u001B[49m\u001B[43m \u001B[49m\u001B[43mmetric_period\u001B[49m\u001B[43m,\u001B[49m\n\u001B[0;32m   5133\u001B[0m \u001B[43m          \u001B[49m\u001B[43msilent\u001B[49m\u001B[43m,\u001B[49m\u001B[43m \u001B[49m\u001B[43mearly_stopping_rounds\u001B[49m\u001B[43m,\u001B[49m\u001B[43m \u001B[49m\u001B[43msave_snapshot\u001B[49m\u001B[43m,\u001B[49m\u001B[43m \u001B[49m\u001B[43msnapshot_file\u001B[49m\u001B[43m,\u001B[49m\u001B[43m \u001B[49m\u001B[43msnapshot_interval\u001B[49m\u001B[43m,\u001B[49m\u001B[43m \u001B[49m\u001B[43minit_model\u001B[49m\u001B[43m,\u001B[49m\u001B[43m \u001B[49m\u001B[43mcallbacks\u001B[49m\u001B[43m,\u001B[49m\u001B[43m \u001B[49m\u001B[43mlog_cout\u001B[49m\u001B[43m,\u001B[49m\u001B[43m \u001B[49m\u001B[43mlog_cerr\u001B[49m\u001B[43m)\u001B[49m\n\u001B[0;32m   5134\u001B[0m \u001B[38;5;28;01mreturn\u001B[39;00m \u001B[38;5;28mself\u001B[39m\n",
      "File \u001B[1;32mD:\\anaconda3\\envs\\COMP8800\\lib\\site-packages\\catboost\\core.py:2341\u001B[0m, in \u001B[0;36mCatBoost._fit\u001B[1;34m(self, X, y, cat_features, text_features, embedding_features, pairs, sample_weight, group_id, group_weight, subgroup_id, pairs_weight, baseline, use_best_model, eval_set, verbose, logging_level, plot, plot_file, column_description, verbose_eval, metric_period, silent, early_stopping_rounds, save_snapshot, snapshot_file, snapshot_interval, init_model, callbacks, log_cout, log_cerr)\u001B[0m\n\u001B[0;32m   2338\u001B[0m \u001B[38;5;28;01mif\u001B[39;00m y \u001B[38;5;129;01mis\u001B[39;00m \u001B[38;5;28;01mNone\u001B[39;00m \u001B[38;5;129;01mand\u001B[39;00m \u001B[38;5;129;01mnot\u001B[39;00m \u001B[38;5;28misinstance\u001B[39m(X, PATH_TYPES \u001B[38;5;241m+\u001B[39m (Pool,)):\n\u001B[0;32m   2339\u001B[0m     \u001B[38;5;28;01mraise\u001B[39;00m CatBoostError(\u001B[38;5;124m\"\u001B[39m\u001B[38;5;124my may be None only when X is an instance of catboost.Pool or string\u001B[39m\u001B[38;5;124m\"\u001B[39m)\n\u001B[1;32m-> 2341\u001B[0m train_params \u001B[38;5;241m=\u001B[39m \u001B[38;5;28;43mself\u001B[39;49m\u001B[38;5;241;43m.\u001B[39;49m\u001B[43m_prepare_train_params\u001B[49m\u001B[43m(\u001B[49m\n\u001B[0;32m   2342\u001B[0m \u001B[43m    \u001B[49m\u001B[43mX\u001B[49m\u001B[38;5;241;43m=\u001B[39;49m\u001B[43mX\u001B[49m\u001B[43m,\u001B[49m\u001B[43m \u001B[49m\u001B[43my\u001B[49m\u001B[38;5;241;43m=\u001B[39;49m\u001B[43my\u001B[49m\u001B[43m,\u001B[49m\u001B[43m \u001B[49m\u001B[43mcat_features\u001B[49m\u001B[38;5;241;43m=\u001B[39;49m\u001B[43mcat_features\u001B[49m\u001B[43m,\u001B[49m\u001B[43m \u001B[49m\u001B[43mtext_features\u001B[49m\u001B[38;5;241;43m=\u001B[39;49m\u001B[43mtext_features\u001B[49m\u001B[43m,\u001B[49m\u001B[43m \u001B[49m\u001B[43membedding_features\u001B[49m\u001B[38;5;241;43m=\u001B[39;49m\u001B[43membedding_features\u001B[49m\u001B[43m,\u001B[49m\n\u001B[0;32m   2343\u001B[0m \u001B[43m    \u001B[49m\u001B[43mpairs\u001B[49m\u001B[38;5;241;43m=\u001B[39;49m\u001B[43mpairs\u001B[49m\u001B[43m,\u001B[49m\u001B[43m \u001B[49m\u001B[43msample_weight\u001B[49m\u001B[38;5;241;43m=\u001B[39;49m\u001B[43msample_weight\u001B[49m\u001B[43m,\u001B[49m\u001B[43m \u001B[49m\u001B[43mgroup_id\u001B[49m\u001B[38;5;241;43m=\u001B[39;49m\u001B[43mgroup_id\u001B[49m\u001B[43m,\u001B[49m\u001B[43m \u001B[49m\u001B[43mgroup_weight\u001B[49m\u001B[38;5;241;43m=\u001B[39;49m\u001B[43mgroup_weight\u001B[49m\u001B[43m,\u001B[49m\n\u001B[0;32m   2344\u001B[0m \u001B[43m    \u001B[49m\u001B[43msubgroup_id\u001B[49m\u001B[38;5;241;43m=\u001B[39;49m\u001B[43msubgroup_id\u001B[49m\u001B[43m,\u001B[49m\u001B[43m \u001B[49m\u001B[43mpairs_weight\u001B[49m\u001B[38;5;241;43m=\u001B[39;49m\u001B[43mpairs_weight\u001B[49m\u001B[43m,\u001B[49m\u001B[43m \u001B[49m\u001B[43mbaseline\u001B[49m\u001B[38;5;241;43m=\u001B[39;49m\u001B[43mbaseline\u001B[49m\u001B[43m,\u001B[49m\u001B[43m \u001B[49m\u001B[43muse_best_model\u001B[49m\u001B[38;5;241;43m=\u001B[39;49m\u001B[43muse_best_model\u001B[49m\u001B[43m,\u001B[49m\n\u001B[0;32m   2345\u001B[0m \u001B[43m    \u001B[49m\u001B[43meval_set\u001B[49m\u001B[38;5;241;43m=\u001B[39;49m\u001B[43meval_set\u001B[49m\u001B[43m,\u001B[49m\u001B[43m \u001B[49m\u001B[43mverbose\u001B[49m\u001B[38;5;241;43m=\u001B[39;49m\u001B[43mverbose\u001B[49m\u001B[43m,\u001B[49m\u001B[43m \u001B[49m\u001B[43mlogging_level\u001B[49m\u001B[38;5;241;43m=\u001B[39;49m\u001B[43mlogging_level\u001B[49m\u001B[43m,\u001B[49m\u001B[43m \u001B[49m\u001B[43mplot\u001B[49m\u001B[38;5;241;43m=\u001B[39;49m\u001B[43mplot\u001B[49m\u001B[43m,\u001B[49m\u001B[43m \u001B[49m\u001B[43mplot_file\u001B[49m\u001B[38;5;241;43m=\u001B[39;49m\u001B[43mplot_file\u001B[49m\u001B[43m,\u001B[49m\n\u001B[0;32m   2346\u001B[0m \u001B[43m    \u001B[49m\u001B[43mcolumn_description\u001B[49m\u001B[38;5;241;43m=\u001B[39;49m\u001B[43mcolumn_description\u001B[49m\u001B[43m,\u001B[49m\u001B[43m \u001B[49m\u001B[43mverbose_eval\u001B[49m\u001B[38;5;241;43m=\u001B[39;49m\u001B[43mverbose_eval\u001B[49m\u001B[43m,\u001B[49m\u001B[43m \u001B[49m\u001B[43mmetric_period\u001B[49m\u001B[38;5;241;43m=\u001B[39;49m\u001B[43mmetric_period\u001B[49m\u001B[43m,\u001B[49m\n\u001B[0;32m   2347\u001B[0m \u001B[43m    \u001B[49m\u001B[43msilent\u001B[49m\u001B[38;5;241;43m=\u001B[39;49m\u001B[43msilent\u001B[49m\u001B[43m,\u001B[49m\u001B[43m \u001B[49m\u001B[43mearly_stopping_rounds\u001B[49m\u001B[38;5;241;43m=\u001B[39;49m\u001B[43mearly_stopping_rounds\u001B[49m\u001B[43m,\u001B[49m\u001B[43m \u001B[49m\u001B[43msave_snapshot\u001B[49m\u001B[38;5;241;43m=\u001B[39;49m\u001B[43msave_snapshot\u001B[49m\u001B[43m,\u001B[49m\n\u001B[0;32m   2348\u001B[0m \u001B[43m    \u001B[49m\u001B[43msnapshot_file\u001B[49m\u001B[38;5;241;43m=\u001B[39;49m\u001B[43msnapshot_file\u001B[49m\u001B[43m,\u001B[49m\u001B[43m \u001B[49m\u001B[43msnapshot_interval\u001B[49m\u001B[38;5;241;43m=\u001B[39;49m\u001B[43msnapshot_interval\u001B[49m\u001B[43m,\u001B[49m\u001B[43m \u001B[49m\u001B[43minit_model\u001B[49m\u001B[38;5;241;43m=\u001B[39;49m\u001B[43minit_model\u001B[49m\u001B[43m,\u001B[49m\n\u001B[0;32m   2349\u001B[0m \u001B[43m    \u001B[49m\u001B[43mcallbacks\u001B[49m\u001B[38;5;241;43m=\u001B[39;49m\u001B[43mcallbacks\u001B[49m\n\u001B[0;32m   2350\u001B[0m \u001B[43m\u001B[49m\u001B[43m)\u001B[49m\n\u001B[0;32m   2351\u001B[0m params \u001B[38;5;241m=\u001B[39m train_params[\u001B[38;5;124m\"\u001B[39m\u001B[38;5;124mparams\u001B[39m\u001B[38;5;124m\"\u001B[39m]\n\u001B[0;32m   2352\u001B[0m train_pool \u001B[38;5;241m=\u001B[39m train_params[\u001B[38;5;124m\"\u001B[39m\u001B[38;5;124mtrain_pool\u001B[39m\u001B[38;5;124m\"\u001B[39m]\n",
      "File \u001B[1;32mD:\\anaconda3\\envs\\COMP8800\\lib\\site-packages\\catboost\\core.py:2222\u001B[0m, in \u001B[0;36mCatBoost._prepare_train_params\u001B[1;34m(self, X, y, cat_features, text_features, embedding_features, pairs, sample_weight, group_id, group_weight, subgroup_id, pairs_weight, baseline, use_best_model, eval_set, verbose, logging_level, plot, plot_file, column_description, verbose_eval, metric_period, silent, early_stopping_rounds, save_snapshot, snapshot_file, snapshot_interval, init_model, callbacks)\u001B[0m\n\u001B[0;32m   2219\u001B[0m text_features \u001B[38;5;241m=\u001B[39m _process_feature_indices(text_features, X, params, \u001B[38;5;124m'\u001B[39m\u001B[38;5;124mtext_features\u001B[39m\u001B[38;5;124m'\u001B[39m)\n\u001B[0;32m   2220\u001B[0m embedding_features \u001B[38;5;241m=\u001B[39m _process_feature_indices(embedding_features, X, params, \u001B[38;5;124m'\u001B[39m\u001B[38;5;124membedding_features\u001B[39m\u001B[38;5;124m'\u001B[39m)\n\u001B[1;32m-> 2222\u001B[0m train_pool \u001B[38;5;241m=\u001B[39m \u001B[43m_build_train_pool\u001B[49m\u001B[43m(\u001B[49m\u001B[43mX\u001B[49m\u001B[43m,\u001B[49m\u001B[43m \u001B[49m\u001B[43my\u001B[49m\u001B[43m,\u001B[49m\u001B[43m \u001B[49m\u001B[43mcat_features\u001B[49m\u001B[43m,\u001B[49m\u001B[43m \u001B[49m\u001B[43mtext_features\u001B[49m\u001B[43m,\u001B[49m\u001B[43m \u001B[49m\u001B[43membedding_features\u001B[49m\u001B[43m,\u001B[49m\u001B[43m \u001B[49m\u001B[43mpairs\u001B[49m\u001B[43m,\u001B[49m\n\u001B[0;32m   2223\u001B[0m \u001B[43m                               \u001B[49m\u001B[43msample_weight\u001B[49m\u001B[43m,\u001B[49m\u001B[43m \u001B[49m\u001B[43mgroup_id\u001B[49m\u001B[43m,\u001B[49m\u001B[43m \u001B[49m\u001B[43mgroup_weight\u001B[49m\u001B[43m,\u001B[49m\u001B[43m \u001B[49m\u001B[43msubgroup_id\u001B[49m\u001B[43m,\u001B[49m\u001B[43m \u001B[49m\u001B[43mpairs_weight\u001B[49m\u001B[43m,\u001B[49m\n\u001B[0;32m   2224\u001B[0m \u001B[43m                               \u001B[49m\u001B[43mbaseline\u001B[49m\u001B[43m,\u001B[49m\u001B[43m \u001B[49m\u001B[43mcolumn_description\u001B[49m\u001B[43m)\u001B[49m\n\u001B[0;32m   2225\u001B[0m \u001B[38;5;28;01mif\u001B[39;00m train_pool\u001B[38;5;241m.\u001B[39mis_empty_:\n\u001B[0;32m   2226\u001B[0m     \u001B[38;5;28;01mraise\u001B[39;00m CatBoostError(\u001B[38;5;124m\"\u001B[39m\u001B[38;5;124mX is empty.\u001B[39m\u001B[38;5;124m\"\u001B[39m)\n",
      "File \u001B[1;32mD:\\anaconda3\\envs\\COMP8800\\lib\\site-packages\\catboost\\core.py:1438\u001B[0m, in \u001B[0;36m_build_train_pool\u001B[1;34m(X, y, cat_features, text_features, embedding_features, pairs, sample_weight, group_id, group_weight, subgroup_id, pairs_weight, baseline, column_description)\u001B[0m\n\u001B[0;32m   1436\u001B[0m     \u001B[38;5;28;01mif\u001B[39;00m y \u001B[38;5;129;01mis\u001B[39;00m \u001B[38;5;28;01mNone\u001B[39;00m:\n\u001B[0;32m   1437\u001B[0m         \u001B[38;5;28;01mraise\u001B[39;00m CatBoostError(\u001B[38;5;124m\"\u001B[39m\u001B[38;5;124my has not initialized in fit(): X is not catboost.Pool object, y must be not None in fit().\u001B[39m\u001B[38;5;124m\"\u001B[39m)\n\u001B[1;32m-> 1438\u001B[0m     train_pool \u001B[38;5;241m=\u001B[39m \u001B[43mPool\u001B[49m\u001B[43m(\u001B[49m\u001B[43mX\u001B[49m\u001B[43m,\u001B[49m\u001B[43m \u001B[49m\u001B[43my\u001B[49m\u001B[43m,\u001B[49m\u001B[43m \u001B[49m\u001B[43mcat_features\u001B[49m\u001B[38;5;241;43m=\u001B[39;49m\u001B[43mcat_features\u001B[49m\u001B[43m,\u001B[49m\u001B[43m \u001B[49m\u001B[43mtext_features\u001B[49m\u001B[38;5;241;43m=\u001B[39;49m\u001B[43mtext_features\u001B[49m\u001B[43m,\u001B[49m\u001B[43m \u001B[49m\u001B[43membedding_features\u001B[49m\u001B[38;5;241;43m=\u001B[39;49m\u001B[43membedding_features\u001B[49m\u001B[43m,\u001B[49m\u001B[43m \u001B[49m\u001B[43mpairs\u001B[49m\u001B[38;5;241;43m=\u001B[39;49m\u001B[43mpairs\u001B[49m\u001B[43m,\u001B[49m\u001B[43m \u001B[49m\u001B[43mweight\u001B[49m\u001B[38;5;241;43m=\u001B[39;49m\u001B[43msample_weight\u001B[49m\u001B[43m,\u001B[49m\u001B[43m \u001B[49m\u001B[43mgroup_id\u001B[49m\u001B[38;5;241;43m=\u001B[39;49m\u001B[43mgroup_id\u001B[49m\u001B[43m,\u001B[49m\n\u001B[0;32m   1439\u001B[0m \u001B[43m                      \u001B[49m\u001B[43mgroup_weight\u001B[49m\u001B[38;5;241;43m=\u001B[39;49m\u001B[43mgroup_weight\u001B[49m\u001B[43m,\u001B[49m\u001B[43m \u001B[49m\u001B[43msubgroup_id\u001B[49m\u001B[38;5;241;43m=\u001B[39;49m\u001B[43msubgroup_id\u001B[49m\u001B[43m,\u001B[49m\u001B[43m \u001B[49m\u001B[43mpairs_weight\u001B[49m\u001B[38;5;241;43m=\u001B[39;49m\u001B[43mpairs_weight\u001B[49m\u001B[43m,\u001B[49m\u001B[43m \u001B[49m\u001B[43mbaseline\u001B[49m\u001B[38;5;241;43m=\u001B[39;49m\u001B[43mbaseline\u001B[49m\u001B[43m)\u001B[49m\n\u001B[0;32m   1440\u001B[0m \u001B[38;5;28;01mreturn\u001B[39;00m train_pool\n",
      "File \u001B[1;32mD:\\anaconda3\\envs\\COMP8800\\lib\\site-packages\\catboost\\core.py:792\u001B[0m, in \u001B[0;36mPool.__init__\u001B[1;34m(self, data, label, cat_features, text_features, embedding_features, embedding_features_data, column_description, pairs, delimiter, has_header, ignore_csv_quoting, weight, group_id, group_weight, subgroup_id, pairs_weight, baseline, timestamp, feature_names, feature_tags, thread_count, log_cout, log_cerr)\u001B[0m\n\u001B[0;32m    786\u001B[0m         \u001B[38;5;28;01mif\u001B[39;00m \u001B[38;5;28misinstance\u001B[39m(feature_names, PATH_TYPES):\n\u001B[0;32m    787\u001B[0m             \u001B[38;5;28;01mraise\u001B[39;00m CatBoostError(\n\u001B[0;32m    788\u001B[0m                 \u001B[38;5;124m\"\u001B[39m\u001B[38;5;124mfeature_names must be None or have non-string type when the pool is created from \u001B[39m\u001B[38;5;124m\"\u001B[39m\n\u001B[0;32m    789\u001B[0m                 \u001B[38;5;124m\"\u001B[39m\u001B[38;5;124mpython objects.\u001B[39m\u001B[38;5;124m\"\u001B[39m\n\u001B[0;32m    790\u001B[0m             )\n\u001B[1;32m--> 792\u001B[0m         \u001B[38;5;28;43mself\u001B[39;49m\u001B[38;5;241;43m.\u001B[39;49m\u001B[43m_init\u001B[49m\u001B[43m(\u001B[49m\u001B[43mdata\u001B[49m\u001B[43m,\u001B[49m\u001B[43m \u001B[49m\u001B[43mlabel\u001B[49m\u001B[43m,\u001B[49m\u001B[43m \u001B[49m\u001B[43mcat_features\u001B[49m\u001B[43m,\u001B[49m\u001B[43m \u001B[49m\u001B[43mtext_features\u001B[49m\u001B[43m,\u001B[49m\u001B[43m \u001B[49m\u001B[43membedding_features\u001B[49m\u001B[43m,\u001B[49m\u001B[43m \u001B[49m\u001B[43membedding_features_data\u001B[49m\u001B[43m,\u001B[49m\u001B[43m \u001B[49m\u001B[43mpairs\u001B[49m\u001B[43m,\u001B[49m\u001B[43m \u001B[49m\u001B[43mweight\u001B[49m\u001B[43m,\u001B[49m\n\u001B[0;32m    793\u001B[0m \u001B[43m                   \u001B[49m\u001B[43mgroup_id\u001B[49m\u001B[43m,\u001B[49m\u001B[43m \u001B[49m\u001B[43mgroup_weight\u001B[49m\u001B[43m,\u001B[49m\u001B[43m \u001B[49m\u001B[43msubgroup_id\u001B[49m\u001B[43m,\u001B[49m\u001B[43m \u001B[49m\u001B[43mpairs_weight\u001B[49m\u001B[43m,\u001B[49m\u001B[43m \u001B[49m\u001B[43mbaseline\u001B[49m\u001B[43m,\u001B[49m\u001B[43m \u001B[49m\u001B[43mtimestamp\u001B[49m\u001B[43m,\u001B[49m\u001B[43m \u001B[49m\u001B[43mfeature_names\u001B[49m\u001B[43m,\u001B[49m\u001B[43m \u001B[49m\u001B[43mfeature_tags\u001B[49m\u001B[43m,\u001B[49m\u001B[43m \u001B[49m\u001B[43mthread_count\u001B[49m\u001B[43m)\u001B[49m\n\u001B[0;32m    794\u001B[0m \u001B[38;5;28msuper\u001B[39m(Pool, \u001B[38;5;28mself\u001B[39m)\u001B[38;5;241m.\u001B[39m\u001B[38;5;21m__init__\u001B[39m()\n",
      "File \u001B[1;32mD:\\anaconda3\\envs\\COMP8800\\lib\\site-packages\\catboost\\core.py:1419\u001B[0m, in \u001B[0;36mPool._init\u001B[1;34m(self, data, label, cat_features, text_features, embedding_features, embedding_features_data, pairs, weight, group_id, group_weight, subgroup_id, pairs_weight, baseline, timestamp, feature_names, feature_tags, thread_count)\u001B[0m\n\u001B[0;32m   1417\u001B[0m \u001B[38;5;28;01mif\u001B[39;00m feature_tags \u001B[38;5;129;01mis\u001B[39;00m \u001B[38;5;129;01mnot\u001B[39;00m \u001B[38;5;28;01mNone\u001B[39;00m:\n\u001B[0;32m   1418\u001B[0m     feature_tags \u001B[38;5;241m=\u001B[39m \u001B[38;5;28mself\u001B[39m\u001B[38;5;241m.\u001B[39m_check_transform_tags(feature_tags, feature_names)\n\u001B[1;32m-> 1419\u001B[0m \u001B[38;5;28;43mself\u001B[39;49m\u001B[38;5;241;43m.\u001B[39;49m\u001B[43m_init_pool\u001B[49m\u001B[43m(\u001B[49m\u001B[43mdata\u001B[49m\u001B[43m,\u001B[49m\u001B[43m \u001B[49m\u001B[43mlabel\u001B[49m\u001B[43m,\u001B[49m\u001B[43m \u001B[49m\u001B[43mcat_features\u001B[49m\u001B[43m,\u001B[49m\u001B[43m \u001B[49m\u001B[43mtext_features\u001B[49m\u001B[43m,\u001B[49m\u001B[43m \u001B[49m\u001B[43membedding_features\u001B[49m\u001B[43m,\u001B[49m\u001B[43m \u001B[49m\u001B[43membedding_features_data\u001B[49m\u001B[43m,\u001B[49m\u001B[43m \u001B[49m\u001B[43mpairs\u001B[49m\u001B[43m,\u001B[49m\u001B[43m \u001B[49m\u001B[43mweight\u001B[49m\u001B[43m,\u001B[49m\n\u001B[0;32m   1420\u001B[0m \u001B[43m                \u001B[49m\u001B[43mgroup_id\u001B[49m\u001B[43m,\u001B[49m\u001B[43m \u001B[49m\u001B[43mgroup_weight\u001B[49m\u001B[43m,\u001B[49m\u001B[43m \u001B[49m\u001B[43msubgroup_id\u001B[49m\u001B[43m,\u001B[49m\u001B[43m \u001B[49m\u001B[43mpairs_weight\u001B[49m\u001B[43m,\u001B[49m\u001B[43m \u001B[49m\u001B[43mbaseline\u001B[49m\u001B[43m,\u001B[49m\u001B[43m \u001B[49m\u001B[43mtimestamp\u001B[49m\u001B[43m,\u001B[49m\u001B[43m \u001B[49m\u001B[43mfeature_names\u001B[49m\u001B[43m,\u001B[49m\u001B[43m \u001B[49m\u001B[43mfeature_tags\u001B[49m\u001B[43m,\u001B[49m\u001B[43m \u001B[49m\u001B[43mthread_count\u001B[49m\u001B[43m)\u001B[49m\n",
      "File \u001B[1;32m_catboost.pyx:3955\u001B[0m, in \u001B[0;36m_catboost._PoolBase._init_pool\u001B[1;34m()\u001B[0m\n",
      "File \u001B[1;32m_catboost.pyx:4005\u001B[0m, in \u001B[0;36m_catboost._PoolBase._init_pool\u001B[1;34m()\u001B[0m\n",
      "File \u001B[1;32m_catboost.pyx:3821\u001B[0m, in \u001B[0;36m_catboost._PoolBase._init_features_order_layout_pool\u001B[1;34m()\u001B[0m\n",
      "File \u001B[1;32m_catboost.pyx:2787\u001B[0m, in \u001B[0;36m_catboost._set_features_order_data_pd_data_frame\u001B[1;34m()\u001B[0m\n",
      "File \u001B[1;32m_catboost.pyx:2329\u001B[0m, in \u001B[0;36m_catboost.create_num_factor_data\u001B[1;34m()\u001B[0m\n",
      "File \u001B[1;32m_catboost.pyx:2290\u001B[0m, in \u001B[0;36m_catboost.get_float_feature\u001B[1;34m()\u001B[0m\n",
      "\u001B[1;31mCatBoostError\u001B[0m: Bad value for num_feature[non_default_doc_idx=0,feature_idx=1]=\" State-gov\": Cannot convert 'b' State-gov'' to float"
     ]
    }
   ],
   "source": [
    "c.fit(ad._data, ad._label, cat_features=ad.info[\"cat_idx\"])"
   ],
   "metadata": {
    "collapsed": false,
    "ExecuteTime": {
     "end_time": "2023-09-21T18:40:17.763671700Z",
     "start_time": "2023-09-21T18:40:17.643378Z"
    }
   },
   "id": "5297b25237294e37"
  },
  {
   "cell_type": "code",
   "execution_count": 42,
   "outputs": [],
   "source": [
    "al_strategies =[\n",
    "    \"random\",\n",
    "    \"uncertain\",\n",
    "    \"disagreement\",\n",
    "    \"ranked_batch\",\n",
    "    \"information_density\"\n",
    "]\n",
    "\n",
    "al_confs = [\n",
    "    [{}],\n",
    "    # [{\"name\": name} for name in [\"uncertainty\", \"margin\", \"entropy\"]],\n",
    "    # [{\"name\": name} for name in [\"vote\", \"consensus\", \"max_disagreement\"]],\n",
    "    # # todo\n",
    "    # [{\"dist_metric\": metric} for metric in [\"cosine\", \"euclidean\"]],\n",
    "    # [{\"similarity_metric\": metric} for metric in [\"cosine\", \"euclidean\"]]\n",
    "]"
   ],
   "metadata": {
    "collapsed": false,
    "ExecuteTime": {
     "end_time": "2023-09-28T03:27:27.068221900Z",
     "start_time": "2023-09-28T03:27:27.031245800Z"
    }
   },
   "id": "a8c44c54b2ea7c2d"
  },
  {
   "cell_type": "code",
   "execution_count": 44,
   "outputs": [],
   "source": [
    "from allib.plots import PLMetric\n",
    "import pickle\n",
    "import numpy as np\n",
    "\n",
    "dataset_name=\"letter-recognition\"\n",
    "model_name=\"random_forest\"\n",
    "metrics_n_times = []\n",
    "instances = []\n",
    "strategies = []\n",
    "\n",
    "plot_name = f\"{dataset_name}@{model_name}.png\"\n",
    "for idx, confs in enumerate(al_confs):\n",
    "    for cid, conf in enumerate(confs):\n",
    "        stats = None\n",
    "        cache_name = f\"{dataset_name}@{model_name}@{al_strategies[idx]}_{cid}@x20.pkl\"\n",
    "        if not os.path.isfile(os.path.join(\"ppl_cache\", cache_name)):\n",
    "            continue\n",
    "        with open(os.path.join(\"ppl_cache\", cache_name), \"rb\") as f:\n",
    "            stats = pickle.load(f)\n",
    "        with open(\"temp.pkl\", \"wb\") as f:\n",
    "            for stat in stats:\n",
    "                del stat[\"model_snapshots\"]\n",
    "            pickle.dump(stats, f)\n",
    "        # print(\",\".join([str(stats[i][\"seed\"]) for i in range(len(stats))]))\n",
    "        # metrics_n_times.append([stats[i][\"accuracy\"] for i in range(len(stats))])\n",
    "        # strategies.append(f\"{al_strategies[idx]}{('(' + list(conf.values())[0] + ')') if conf else ''}\")\n",
    "        # instances = stats[0][\"instances\"]\n",
    "# pl_metric = PLMetric()\n",
    "# pl_metric.plot(\"Accuracy\", instances, np.array(metrics_n_times), strategies, plot_name=plot_name)"
   ],
   "metadata": {
    "collapsed": false,
    "ExecuteTime": {
     "end_time": "2023-09-28T03:32:37.197560900Z",
     "start_time": "2023-09-28T03:29:10.775657Z"
    }
   },
   "id": "14494e2226db9a13"
  },
  {
   "cell_type": "code",
   "execution_count": 4,
   "outputs": [
    {
     "data": {
      "text/plain": "1.0114042647073518"
     },
     "execution_count": 4,
     "metadata": {},
     "output_type": "execute_result"
    }
   ],
   "source": [
    "from scipy.stats import entropy\n",
    "entropy([1,2,3])"
   ],
   "metadata": {
    "collapsed": false,
    "ExecuteTime": {
     "end_time": "2023-09-21T20:02:22.972326800Z",
     "start_time": "2023-09-21T20:02:22.901432800Z"
    }
   },
   "id": "14c5be3e91fe93dd"
  },
  {
   "cell_type": "code",
   "execution_count": 9,
   "outputs": [],
   "source": [
    "import numpy as np\n",
    "from sklearn.decomposition import PCA"
   ],
   "metadata": {
    "collapsed": false,
    "ExecuteTime": {
     "end_time": "2023-09-27T08:40:18.779757Z",
     "start_time": "2023-09-27T08:40:18.752135500Z"
    }
   },
   "id": "e738c9ab7673c162"
  },
  {
   "cell_type": "code",
   "execution_count": 3,
   "outputs": [],
   "source": [
    "iris = load_uci(\"iris\")"
   ],
   "metadata": {
    "collapsed": false,
    "ExecuteTime": {
     "end_time": "2023-09-27T05:53:35.761150800Z",
     "start_time": "2023-09-27T05:53:35.633461100Z"
    }
   },
   "id": "f6b142dd2431a097"
  },
  {
   "cell_type": "code",
   "execution_count": 4,
   "outputs": [],
   "source": [
    "data,label = iris._data, iris._label"
   ],
   "metadata": {
    "collapsed": false,
    "ExecuteTime": {
     "end_time": "2023-09-27T05:53:48.836142200Z",
     "start_time": "2023-09-27T05:53:48.803233Z"
    }
   },
   "id": "b71f9cd44f48c20f"
  },
  {
   "cell_type": "code",
   "execution_count": 5,
   "outputs": [
    {
     "data": {
      "text/plain": "PCA(n_components=2)",
      "text/html": "<style>#sk-container-id-1 {color: black;}#sk-container-id-1 pre{padding: 0;}#sk-container-id-1 div.sk-toggleable {background-color: white;}#sk-container-id-1 label.sk-toggleable__label {cursor: pointer;display: block;width: 100%;margin-bottom: 0;padding: 0.3em;box-sizing: border-box;text-align: center;}#sk-container-id-1 label.sk-toggleable__label-arrow:before {content: \"▸\";float: left;margin-right: 0.25em;color: #696969;}#sk-container-id-1 label.sk-toggleable__label-arrow:hover:before {color: black;}#sk-container-id-1 div.sk-estimator:hover label.sk-toggleable__label-arrow:before {color: black;}#sk-container-id-1 div.sk-toggleable__content {max-height: 0;max-width: 0;overflow: hidden;text-align: left;background-color: #f0f8ff;}#sk-container-id-1 div.sk-toggleable__content pre {margin: 0.2em;color: black;border-radius: 0.25em;background-color: #f0f8ff;}#sk-container-id-1 input.sk-toggleable__control:checked~div.sk-toggleable__content {max-height: 200px;max-width: 100%;overflow: auto;}#sk-container-id-1 input.sk-toggleable__control:checked~label.sk-toggleable__label-arrow:before {content: \"▾\";}#sk-container-id-1 div.sk-estimator input.sk-toggleable__control:checked~label.sk-toggleable__label {background-color: #d4ebff;}#sk-container-id-1 div.sk-label input.sk-toggleable__control:checked~label.sk-toggleable__label {background-color: #d4ebff;}#sk-container-id-1 input.sk-hidden--visually {border: 0;clip: rect(1px 1px 1px 1px);clip: rect(1px, 1px, 1px, 1px);height: 1px;margin: -1px;overflow: hidden;padding: 0;position: absolute;width: 1px;}#sk-container-id-1 div.sk-estimator {font-family: monospace;background-color: #f0f8ff;border: 1px dotted black;border-radius: 0.25em;box-sizing: border-box;margin-bottom: 0.5em;}#sk-container-id-1 div.sk-estimator:hover {background-color: #d4ebff;}#sk-container-id-1 div.sk-parallel-item::after {content: \"\";width: 100%;border-bottom: 1px solid gray;flex-grow: 1;}#sk-container-id-1 div.sk-label:hover label.sk-toggleable__label {background-color: #d4ebff;}#sk-container-id-1 div.sk-serial::before {content: \"\";position: absolute;border-left: 1px solid gray;box-sizing: border-box;top: 0;bottom: 0;left: 50%;z-index: 0;}#sk-container-id-1 div.sk-serial {display: flex;flex-direction: column;align-items: center;background-color: white;padding-right: 0.2em;padding-left: 0.2em;position: relative;}#sk-container-id-1 div.sk-item {position: relative;z-index: 1;}#sk-container-id-1 div.sk-parallel {display: flex;align-items: stretch;justify-content: center;background-color: white;position: relative;}#sk-container-id-1 div.sk-item::before, #sk-container-id-1 div.sk-parallel-item::before {content: \"\";position: absolute;border-left: 1px solid gray;box-sizing: border-box;top: 0;bottom: 0;left: 50%;z-index: -1;}#sk-container-id-1 div.sk-parallel-item {display: flex;flex-direction: column;z-index: 1;position: relative;background-color: white;}#sk-container-id-1 div.sk-parallel-item:first-child::after {align-self: flex-end;width: 50%;}#sk-container-id-1 div.sk-parallel-item:last-child::after {align-self: flex-start;width: 50%;}#sk-container-id-1 div.sk-parallel-item:only-child::after {width: 0;}#sk-container-id-1 div.sk-dashed-wrapped {border: 1px dashed gray;margin: 0 0.4em 0.5em 0.4em;box-sizing: border-box;padding-bottom: 0.4em;background-color: white;}#sk-container-id-1 div.sk-label label {font-family: monospace;font-weight: bold;display: inline-block;line-height: 1.2em;}#sk-container-id-1 div.sk-label-container {text-align: center;}#sk-container-id-1 div.sk-container {/* jupyter's `normalize.less` sets `[hidden] { display: none; }` but bootstrap.min.css set `[hidden] { display: none !important; }` so we also need the `!important` here to be able to override the default hidden behavior on the sphinx rendered scikit-learn.org. See: https://github.com/scikit-learn/scikit-learn/issues/21755 */display: inline-block !important;position: relative;}#sk-container-id-1 div.sk-text-repr-fallback {display: none;}</style><div id=\"sk-container-id-1\" class=\"sk-top-container\"><div class=\"sk-text-repr-fallback\"><pre>PCA(n_components=2)</pre><b>In a Jupyter environment, please rerun this cell to show the HTML representation or trust the notebook. <br />On GitHub, the HTML representation is unable to render, please try loading this page with nbviewer.org.</b></div><div class=\"sk-container\" hidden><div class=\"sk-item\"><div class=\"sk-estimator sk-toggleable\"><input class=\"sk-toggleable__control sk-hidden--visually\" id=\"sk-estimator-id-1\" type=\"checkbox\" checked><label for=\"sk-estimator-id-1\" class=\"sk-toggleable__label sk-toggleable__label-arrow\">PCA</label><div class=\"sk-toggleable__content\"><pre>PCA(n_components=2)</pre></div></div></div></div></div>"
     },
     "execution_count": 5,
     "metadata": {},
     "output_type": "execute_result"
    }
   ],
   "source": [
    "pca = PCA(n_components=2)\n",
    "pca.fit(data)"
   ],
   "metadata": {
    "collapsed": false,
    "ExecuteTime": {
     "end_time": "2023-09-27T05:54:26.540191Z",
     "start_time": "2023-09-27T05:54:26.436568100Z"
    }
   },
   "id": "651395fa98ef16dd"
  },
  {
   "cell_type": "code",
   "execution_count": 16,
   "outputs": [
    {
     "data": {
      "text/plain": "<matplotlib.collections.PathCollection at 0x23fe41d7ac0>"
     },
     "execution_count": 16,
     "metadata": {},
     "output_type": "execute_result"
    },
    {
     "data": {
      "text/plain": "<Figure size 640x480 with 1 Axes>",
      "image/png": "[encoded data removed]"
     },
     "metadata": {},
     "output_type": "display_data"
    }
   ],
   "source": [
    "fitted = pca.fit_transform(data)\n",
    "x1, x2 = fitted[:, 0], fitted[:, 1]\n",
    "plt.scatter(x1, x2, c=label.label.astype(\"category\").cat.codes)"
   ],
   "metadata": {
    "collapsed": false,
    "ExecuteTime": {
     "end_time": "2023-09-27T05:58:56.655935600Z",
     "start_time": "2023-09-27T05:58:56.312662700Z"
    }
   },
   "id": "14e8e5f269207701"
  },
  {
   "cell_type": "code",
   "execution_count": 2,
   "outputs": [],
   "source": [
    "adult = load_uci(\"adult\")"
   ],
   "metadata": {
    "collapsed": false,
    "ExecuteTime": {
     "end_time": "2023-09-27T07:54:01.270754200Z",
     "start_time": "2023-09-27T07:54:01.115230100Z"
    }
   },
   "id": "b45b34cec47a2446"
  },
  {
   "cell_type": "code",
   "execution_count": 3,
   "outputs": [],
   "source": [
    "data, label = adult._data, adult._label"
   ],
   "metadata": {
    "collapsed": false,
    "ExecuteTime": {
     "end_time": "2023-09-27T07:54:03.710707300Z",
     "start_time": "2023-09-27T07:54:03.682862600Z"
    }
   },
   "id": "f551b1f04e7601cb"
  },
  {
   "cell_type": "code",
   "execution_count": 20,
   "outputs": [],
   "source": [
    "from sklearn.preprocessing import OneHotEncoder"
   ],
   "metadata": {
    "collapsed": false,
    "ExecuteTime": {
     "end_time": "2023-09-27T06:20:01.166831500Z",
     "start_time": "2023-09-27T06:20:01.116108900Z"
    }
   },
   "id": "b950f87644cee7fc"
  },
  {
   "cell_type": "code",
   "execution_count": 21,
   "outputs": [
    {
     "data": {
      "text/plain": "OneHotEncoder()",
      "text/html": "<style>#sk-container-id-2 {color: black;}#sk-container-id-2 pre{padding: 0;}#sk-container-id-2 div.sk-toggleable {background-color: white;}#sk-container-id-2 label.sk-toggleable__label {cursor: pointer;display: block;width: 100%;margin-bottom: 0;padding: 0.3em;box-sizing: border-box;text-align: center;}#sk-container-id-2 label.sk-toggleable__label-arrow:before {content: \"▸\";float: left;margin-right: 0.25em;color: #696969;}#sk-container-id-2 label.sk-toggleable__label-arrow:hover:before {color: black;}#sk-container-id-2 div.sk-estimator:hover label.sk-toggleable__label-arrow:before {color: black;}#sk-container-id-2 div.sk-toggleable__content {max-height: 0;max-width: 0;overflow: hidden;text-align: left;background-color: #f0f8ff;}#sk-container-id-2 div.sk-toggleable__content pre {margin: 0.2em;color: black;border-radius: 0.25em;background-color: #f0f8ff;}#sk-container-id-2 input.sk-toggleable__control:checked~div.sk-toggleable__content {max-height: 200px;max-width: 100%;overflow: auto;}#sk-container-id-2 input.sk-toggleable__control:checked~label.sk-toggleable__label-arrow:before {content: \"▾\";}#sk-container-id-2 div.sk-estimator input.sk-toggleable__control:checked~label.sk-toggleable__label {background-color: #d4ebff;}#sk-container-id-2 div.sk-label input.sk-toggleable__control:checked~label.sk-toggleable__label {background-color: #d4ebff;}#sk-container-id-2 input.sk-hidden--visually {border: 0;clip: rect(1px 1px 1px 1px);clip: rect(1px, 1px, 1px, 1px);height: 1px;margin: -1px;overflow: hidden;padding: 0;position: absolute;width: 1px;}#sk-container-id-2 div.sk-estimator {font-family: monospace;background-color: #f0f8ff;border: 1px dotted black;border-radius: 0.25em;box-sizing: border-box;margin-bottom: 0.5em;}#sk-container-id-2 div.sk-estimator:hover {background-color: #d4ebff;}#sk-container-id-2 div.sk-parallel-item::after {content: \"\";width: 100%;border-bottom: 1px solid gray;flex-grow: 1;}#sk-container-id-2 div.sk-label:hover label.sk-toggleable__label {background-color: #d4ebff;}#sk-container-id-2 div.sk-serial::before {content: \"\";position: absolute;border-left: 1px solid gray;box-sizing: border-box;top: 0;bottom: 0;left: 50%;z-index: 0;}#sk-container-id-2 div.sk-serial {display: flex;flex-direction: column;align-items: center;background-color: white;padding-right: 0.2em;padding-left: 0.2em;position: relative;}#sk-container-id-2 div.sk-item {position: relative;z-index: 1;}#sk-container-id-2 div.sk-parallel {display: flex;align-items: stretch;justify-content: center;background-color: white;position: relative;}#sk-container-id-2 div.sk-item::before, #sk-container-id-2 div.sk-parallel-item::before {content: \"\";position: absolute;border-left: 1px solid gray;box-sizing: border-box;top: 0;bottom: 0;left: 50%;z-index: -1;}#sk-container-id-2 div.sk-parallel-item {display: flex;flex-direction: column;z-index: 1;position: relative;background-color: white;}#sk-container-id-2 div.sk-parallel-item:first-child::after {align-self: flex-end;width: 50%;}#sk-container-id-2 div.sk-parallel-item:last-child::after {align-self: flex-start;width: 50%;}#sk-container-id-2 div.sk-parallel-item:only-child::after {width: 0;}#sk-container-id-2 div.sk-dashed-wrapped {border: 1px dashed gray;margin: 0 0.4em 0.5em 0.4em;box-sizing: border-box;padding-bottom: 0.4em;background-color: white;}#sk-container-id-2 div.sk-label label {font-family: monospace;font-weight: bold;display: inline-block;line-height: 1.2em;}#sk-container-id-2 div.sk-label-container {text-align: center;}#sk-container-id-2 div.sk-container {/* jupyter's `normalize.less` sets `[hidden] { display: none; }` but bootstrap.min.css set `[hidden] { display: none !important; }` so we also need the `!important` here to be able to override the default hidden behavior on the sphinx rendered scikit-learn.org. See: https://github.com/scikit-learn/scikit-learn/issues/21755 */display: inline-block !important;position: relative;}#sk-container-id-2 div.sk-text-repr-fallback {display: none;}</style><div id=\"sk-container-id-2\" class=\"sk-top-container\"><div class=\"sk-text-repr-fallback\"><pre>OneHotEncoder()</pre><b>In a Jupyter environment, please rerun this cell to show the HTML representation or trust the notebook. <br />On GitHub, the HTML representation is unable to render, please try loading this page with nbviewer.org.</b></div><div class=\"sk-container\" hidden><div class=\"sk-item\"><div class=\"sk-estimator sk-toggleable\"><input class=\"sk-toggleable__control sk-hidden--visually\" id=\"sk-estimator-id-2\" type=\"checkbox\" checked><label for=\"sk-estimator-id-2\" class=\"sk-toggleable__label sk-toggleable__label-arrow\">OneHotEncoder</label><div class=\"sk-toggleable__content\"><pre>OneHotEncoder()</pre></div></div></div></div></div>"
     },
     "execution_count": 21,
     "metadata": {},
     "output_type": "execute_result"
    }
   ],
   "source": [
    "one_hot = OneHotEncoder()\n",
    "one_hot.fit(data)"
   ],
   "metadata": {
    "collapsed": false,
    "ExecuteTime": {
     "end_time": "2023-09-27T06:21:58.923269600Z",
     "start_time": "2023-09-27T06:21:58.856733500Z"
    }
   },
   "id": "756e196212760a40"
  },
  {
   "cell_type": "code",
   "execution_count": 4,
   "outputs": [
    {
     "data": {
      "text/plain": "       age  fnlwgt  education_num  capital_gain  capital_loss  hours_per_week  \\\n0       39   77516             13          2174             0              40   \n1       50   83311             13             0             0              13   \n2       38  215646              9             0             0              40   \n3       53  234721              7             0             0              40   \n4       28  338409             13             0             0              40   \n...    ...     ...            ...           ...           ...             ...   \n32556   27  257302             12             0             0              38   \n32557   40  154374              9             0             0              40   \n32558   58  151910              9             0             0              40   \n32559   22  201490              9             0             0              20   \n32560   52  287927              9         15024             0              40   \n\n       workclass_?  workclass_Federal-gov  workclass_Local-gov  \\\n0                0                      0                    0   \n1                0                      0                    0   \n2                0                      0                    0   \n3                0                      0                    0   \n4                0                      0                    0   \n...            ...                    ...                  ...   \n32556            0                      0                    0   \n32557            0                      0                    0   \n32558            0                      0                    0   \n32559            0                      0                    0   \n32560            0                      0                    0   \n\n       workclass_Never-worked  ...  native_country_Portugal  \\\n0                           0  ...                        0   \n1                           0  ...                        0   \n2                           0  ...                        0   \n3                           0  ...                        0   \n4                           0  ...                        0   \n...                       ...  ...                      ...   \n32556                       0  ...                        0   \n32557                       0  ...                        0   \n32558                       0  ...                        0   \n32559                       0  ...                        0   \n32560                       0  ...                        0   \n\n       native_country_Puerto-Rico  native_country_Scotland  \\\n0                               0                        0   \n1                               0                        0   \n2                               0                        0   \n3                               0                        0   \n4                               0                        0   \n...                           ...                      ...   \n32556                           0                        0   \n32557                           0                        0   \n32558                           0                        0   \n32559                           0                        0   \n32560                           0                        0   \n\n       native_country_South  native_country_Taiwan  native_country_Thailand  \\\n0                         0                      0                        0   \n1                         0                      0                        0   \n2                         0                      0                        0   \n3                         0                      0                        0   \n4                         0                      0                        0   \n...                     ...                    ...                      ...   \n32556                     0                      0                        0   \n32557                     0                      0                        0   \n32558                     0                      0                        0   \n32559                     0                      0                        0   \n32560                     0                      0                        0   \n\n       native_country_Trinadad&Tobago  native_country_United-States  \\\n0                                   0                             1   \n1                                   0                             1   \n2                                   0                             1   \n3                                   0                             1   \n4                                   0                             0   \n...                               ...                           ...   \n32556                               0                             1   \n32557                               0                             1   \n32558                               0                             1   \n32559                               0                             1   \n32560                               0                             1   \n\n       native_country_Vietnam  native_country_Yugoslavia  \n0                           0                          0  \n1                           0                          0  \n2                           0                          0  \n3                           0                          0  \n4                           0                          0  \n...                       ...                        ...  \n32556                       0                          0  \n32557                       0                          0  \n32558                       0                          0  \n32559                       0                          0  \n32560                       0                          0  \n\n[32561 rows x 108 columns]",
      "text/html": "<div>\n<style scoped>\n    .dataframe tbody tr th:only-of-type {\n        vertical-align: middle;\n    }\n\n    .dataframe tbody tr th {\n        vertical-align: top;\n    }\n\n    .dataframe thead th {\n        text-align: right;\n    }\n</style>\n<table border=\"1\" class=\"dataframe\">\n  <thead>\n    <tr style=\"text-align: right;\">\n      <th></th>\n      <th>age</th>\n      <th>fnlwgt</th>\n      <th>education_num</th>\n      <th>capital_gain</th>\n      <th>capital_loss</th>\n      <th>hours_per_week</th>\n      <th>workclass_?</th>\n      <th>workclass_Federal-gov</th>\n      <th>workclass_Local-gov</th>\n      <th>workclass_Never-worked</th>\n      <th>...</th>\n      <th>native_country_Portugal</th>\n      <th>native_country_Puerto-Rico</th>\n      <th>native_country_Scotland</th>\n      <th>native_country_South</th>\n      <th>native_country_Taiwan</th>\n      <th>native_country_Thailand</th>\n      <th>native_country_Trinadad&amp;Tobago</th>\n      <th>native_country_United-States</th>\n      <th>native_country_Vietnam</th>\n      <th>native_country_Yugoslavia</th>\n    </tr>\n  </thead>\n  <tbody>\n    <tr>\n      <th>0</th>\n      <td>39</td>\n      <td>77516</td>\n      <td>13</td>\n      <td>2174</td>\n      <td>0</td>\n      <td>40</td>\n      <td>0</td>\n      <td>0</td>\n      <td>0</td>\n      <td>0</td>\n      <td>...</td>\n      <td>0</td>\n      <td>0</td>\n      <td>0</td>\n      <td>0</td>\n      <td>0</td>\n      <td>0</td>\n      <td>0</td>\n      <td>1</td>\n      <td>0</td>\n      <td>0</td>\n    </tr>\n    <tr>\n      <th>1</th>\n      <td>50</td>\n      <td>83311</td>\n      <td>13</td>\n      <td>0</td>\n      <td>0</td>\n      <td>13</td>\n      <td>0</td>\n      <td>0</td>\n      <td>0</td>\n      <td>0</td>\n      <td>...</td>\n      <td>0</td>\n      <td>0</td>\n      <td>0</td>\n      <td>0</td>\n      <td>0</td>\n      <td>0</td>\n      <td>0</td>\n      <td>1</td>\n      <td>0</td>\n      <td>0</td>\n    </tr>\n    <tr>\n      <th>2</th>\n      <td>38</td>\n      <td>215646</td>\n      <td>9</td>\n      <td>0</td>\n      <td>0</td>\n      <td>40</td>\n      <td>0</td>\n      <td>0</td>\n      <td>0</td>\n      <td>0</td>\n      <td>...</td>\n      <td>0</td>\n      <td>0</td>\n      <td>0</td>\n      <td>0</td>\n      <td>0</td>\n      <td>0</td>\n      <td>0</td>\n      <td>1</td>\n      <td>0</td>\n      <td>0</td>\n    </tr>\n    <tr>\n      <th>3</th>\n      <td>53</td>\n      <td>234721</td>\n      <td>7</td>\n      <td>0</td>\n      <td>0</td>\n      <td>40</td>\n      <td>0</td>\n      <td>0</td>\n      <td>0</td>\n      <td>0</td>\n      <td>...</td>\n      <td>0</td>\n      <td>0</td>\n      <td>0</td>\n      <td>0</td>\n      <td>0</td>\n      <td>0</td>\n      <td>0</td>\n      <td>1</td>\n      <td>0</td>\n      <td>0</td>\n    </tr>\n    <tr>\n      <th>4</th>\n      <td>28</td>\n      <td>338409</td>\n      <td>13</td>\n      <td>0</td>\n      <td>0</td>\n      <td>40</td>\n      <td>0</td>\n      <td>0</td>\n      <td>0</td>\n      <td>0</td>\n      <td>...</td>\n      <td>0</td>\n      <td>0</td>\n      <td>0</td>\n      <td>0</td>\n      <td>0</td>\n      <td>0</td>\n      <td>0</td>\n      <td>0</td>\n      <td>0</td>\n      <td>0</td>\n    </tr>\n    <tr>\n      <th>...</th>\n      <td>...</td>\n      <td>...</td>\n      <td>...</td>\n      <td>...</td>\n      <td>...</td>\n      <td>...</td>\n      <td>...</td>\n      <td>...</td>\n      <td>...</td>\n      <td>...</td>\n      <td>...</td>\n      <td>...</td>\n      <td>...</td>\n      <td>...</td>\n      <td>...</td>\n      <td>...</td>\n      <td>...</td>\n      <td>...</td>\n      <td>...</td>\n      <td>...</td>\n      <td>...</td>\n    </tr>\n    <tr>\n      <th>32556</th>\n      <td>27</td>\n      <td>257302</td>\n      <td>12</td>\n      <td>0</td>\n      <td>0</td>\n      <td>38</td>\n      <td>0</td>\n      <td>0</td>\n      <td>0</td>\n      <td>0</td>\n      <td>...</td>\n      <td>0</td>\n      <td>0</td>\n      <td>0</td>\n      <td>0</td>\n      <td>0</td>\n      <td>0</td>\n      <td>0</td>\n      <td>1</td>\n      <td>0</td>\n      <td>0</td>\n    </tr>\n    <tr>\n      <th>32557</th>\n      <td>40</td>\n      <td>154374</td>\n      <td>9</td>\n      <td>0</td>\n      <td>0</td>\n      <td>40</td>\n      <td>0</td>\n      <td>0</td>\n      <td>0</td>\n      <td>0</td>\n      <td>...</td>\n      <td>0</td>\n      <td>0</td>\n      <td>0</td>\n      <td>0</td>\n      <td>0</td>\n      <td>0</td>\n      <td>0</td>\n      <td>1</td>\n      <td>0</td>\n      <td>0</td>\n    </tr>\n    <tr>\n      <th>32558</th>\n      <td>58</td>\n      <td>151910</td>\n      <td>9</td>\n      <td>0</td>\n      <td>0</td>\n      <td>40</td>\n      <td>0</td>\n      <td>0</td>\n      <td>0</td>\n      <td>0</td>\n      <td>...</td>\n      <td>0</td>\n      <td>0</td>\n      <td>0</td>\n      <td>0</td>\n      <td>0</td>\n      <td>0</td>\n      <td>0</td>\n      <td>1</td>\n      <td>0</td>\n      <td>0</td>\n    </tr>\n    <tr>\n      <th>32559</th>\n      <td>22</td>\n      <td>201490</td>\n      <td>9</td>\n      <td>0</td>\n      <td>0</td>\n      <td>20</td>\n      <td>0</td>\n      <td>0</td>\n      <td>0</td>\n      <td>0</td>\n      <td>...</td>\n      <td>0</td>\n      <td>0</td>\n      <td>0</td>\n      <td>0</td>\n      <td>0</td>\n      <td>0</td>\n      <td>0</td>\n      <td>1</td>\n      <td>0</td>\n      <td>0</td>\n    </tr>\n    <tr>\n      <th>32560</th>\n      <td>52</td>\n      <td>287927</td>\n      <td>9</td>\n      <td>15024</td>\n      <td>0</td>\n      <td>40</td>\n      <td>0</td>\n      <td>0</td>\n      <td>0</td>\n      <td>0</td>\n      <td>...</td>\n      <td>0</td>\n      <td>0</td>\n      <td>0</td>\n      <td>0</td>\n      <td>0</td>\n      <td>0</td>\n      <td>0</td>\n      <td>1</td>\n      <td>0</td>\n      <td>0</td>\n    </tr>\n  </tbody>\n</table>\n<p>32561 rows × 108 columns</p>\n</div>"
     },
     "execution_count": 4,
     "metadata": {},
     "output_type": "execute_result"
    }
   ],
   "source": [
    "pd.get_dummies(data).astype(float)"
   ],
   "metadata": {
    "collapsed": false,
    "ExecuteTime": {
     "end_time": "2023-09-27T07:54:06.955070300Z",
     "start_time": "2023-09-27T07:54:06.872598900Z"
    }
   },
   "id": "dd4f30f40be61cf"
  },
  {
   "cell_type": "code",
   "execution_count": 7,
   "outputs": [
    {
     "data": {
      "text/plain": "        age    fnlwgt  education_num  capital_gain  capital_loss  \\\n14     40.0  121772.0           11.0           0.0           0.0   \n27     54.0  180211.0           10.0           0.0           0.0   \n38     31.0   84154.0           10.0           0.0           0.0   \n51     18.0  226956.0            9.0           0.0           0.0   \n61     32.0  293936.0            4.0           0.0           0.0   \n...     ...       ...            ...           ...           ...   \n32530  35.0  320084.0           13.0           0.0           0.0   \n32531  30.0   33811.0           13.0           0.0           0.0   \n32539  71.0  287372.0           16.0           0.0           0.0   \n32541  41.0  202822.0            9.0           0.0           0.0   \n32542  72.0  129912.0            9.0           0.0           0.0   \n\n       hours_per_week  workclass_?  workclass_Federal-gov  \\\n14               40.0          0.0                    0.0   \n27               60.0          1.0                    0.0   \n38               38.0          0.0                    0.0   \n51               30.0          0.0                    0.0   \n61               40.0          1.0                    0.0   \n...               ...          ...                    ...   \n32530            55.0          1.0                    0.0   \n32531            99.0          1.0                    0.0   \n32539            10.0          1.0                    0.0   \n32541            32.0          1.0                    0.0   \n32542            25.0          1.0                    0.0   \n\n       workclass_Local-gov  workclass_Never-worked  ...  \\\n14                     0.0                     0.0  ...   \n27                     0.0                     0.0  ...   \n38                     0.0                     0.0  ...   \n51                     0.0                     0.0  ...   \n61                     0.0                     0.0  ...   \n...                    ...                     ...  ...   \n32530                  0.0                     0.0  ...   \n32531                  0.0                     0.0  ...   \n32539                  0.0                     0.0  ...   \n32541                  0.0                     0.0  ...   \n32542                  0.0                     0.0  ...   \n\n       native_country_Poland  native_country_Portugal  \\\n14                       0.0                      0.0   \n27                       0.0                      0.0   \n38                       0.0                      0.0   \n51                       0.0                      0.0   \n61                       0.0                      0.0   \n...                      ...                      ...   \n32530                    0.0                      0.0   \n32531                    0.0                      0.0   \n32539                    0.0                      0.0   \n32541                    0.0                      0.0   \n32542                    0.0                      0.0   \n\n       native_country_Puerto-Rico  native_country_Scotland  \\\n14                            0.0                      0.0   \n27                            0.0                      0.0   \n38                            0.0                      0.0   \n51                            0.0                      0.0   \n61                            0.0                      0.0   \n...                           ...                      ...   \n32530                         0.0                      0.0   \n32531                         0.0                      0.0   \n32539                         0.0                      0.0   \n32541                         0.0                      0.0   \n32542                         0.0                      0.0   \n\n       native_country_South  native_country_Taiwan  native_country_Thailand  \\\n14                      0.0                    0.0                      0.0   \n27                      1.0                    0.0                      0.0   \n38                      0.0                    0.0                      0.0   \n51                      0.0                    0.0                      0.0   \n61                      0.0                    0.0                      0.0   \n...                     ...                    ...                      ...   \n32530                   0.0                    0.0                      0.0   \n32531                   0.0                    0.0                      0.0   \n32539                   0.0                    0.0                      0.0   \n32541                   0.0                    0.0                      0.0   \n32542                   0.0                    0.0                      0.0   \n\n       native_country_Trinadad&Tobago  native_country_United-States  \\\n14                                0.0                           0.0   \n27                                0.0                           0.0   \n38                                0.0                           0.0   \n51                                0.0                           0.0   \n61                                0.0                           0.0   \n...                               ...                           ...   \n32530                             0.0                           1.0   \n32531                             0.0                           1.0   \n32539                             0.0                           1.0   \n32541                             0.0                           1.0   \n32542                             0.0                           1.0   \n\n       native_country_Vietnam  \n14                        0.0  \n27                        0.0  \n38                        0.0  \n51                        0.0  \n61                        0.0  \n...                       ...  \n32530                     0.0  \n32531                     0.0  \n32539                     0.0  \n32541                     0.0  \n32542                     0.0  \n\n[2399 rows x 99 columns]",
      "text/html": "<div>\n<style scoped>\n    .dataframe tbody tr th:only-of-type {\n        vertical-align: middle;\n    }\n\n    .dataframe tbody tr th {\n        vertical-align: top;\n    }\n\n    .dataframe thead th {\n        text-align: right;\n    }\n</style>\n<table border=\"1\" class=\"dataframe\">\n  <thead>\n    <tr style=\"text-align: right;\">\n      <th></th>\n      <th>age</th>\n      <th>fnlwgt</th>\n      <th>education_num</th>\n      <th>capital_gain</th>\n      <th>capital_loss</th>\n      <th>hours_per_week</th>\n      <th>workclass_?</th>\n      <th>workclass_Federal-gov</th>\n      <th>workclass_Local-gov</th>\n      <th>workclass_Never-worked</th>\n      <th>...</th>\n      <th>native_country_Poland</th>\n      <th>native_country_Portugal</th>\n      <th>native_country_Puerto-Rico</th>\n      <th>native_country_Scotland</th>\n      <th>native_country_South</th>\n      <th>native_country_Taiwan</th>\n      <th>native_country_Thailand</th>\n      <th>native_country_Trinadad&amp;Tobago</th>\n      <th>native_country_United-States</th>\n      <th>native_country_Vietnam</th>\n    </tr>\n  </thead>\n  <tbody>\n    <tr>\n      <th>14</th>\n      <td>40.0</td>\n      <td>121772.0</td>\n      <td>11.0</td>\n      <td>0.0</td>\n      <td>0.0</td>\n      <td>40.0</td>\n      <td>0.0</td>\n      <td>0.0</td>\n      <td>0.0</td>\n      <td>0.0</td>\n      <td>...</td>\n      <td>0.0</td>\n      <td>0.0</td>\n      <td>0.0</td>\n      <td>0.0</td>\n      <td>0.0</td>\n      <td>0.0</td>\n      <td>0.0</td>\n      <td>0.0</td>\n      <td>0.0</td>\n      <td>0.0</td>\n    </tr>\n    <tr>\n      <th>27</th>\n      <td>54.0</td>\n      <td>180211.0</td>\n      <td>10.0</td>\n      <td>0.0</td>\n      <td>0.0</td>\n      <td>60.0</td>\n      <td>1.0</td>\n      <td>0.0</td>\n      <td>0.0</td>\n      <td>0.0</td>\n      <td>...</td>\n      <td>0.0</td>\n      <td>0.0</td>\n      <td>0.0</td>\n      <td>0.0</td>\n      <td>1.0</td>\n      <td>0.0</td>\n      <td>0.0</td>\n      <td>0.0</td>\n      <td>0.0</td>\n      <td>0.0</td>\n    </tr>\n    <tr>\n      <th>38</th>\n      <td>31.0</td>\n      <td>84154.0</td>\n      <td>10.0</td>\n      <td>0.0</td>\n      <td>0.0</td>\n      <td>38.0</td>\n      <td>0.0</td>\n      <td>0.0</td>\n      <td>0.0</td>\n      <td>0.0</td>\n      <td>...</td>\n      <td>0.0</td>\n      <td>0.0</td>\n      <td>0.0</td>\n      <td>0.0</td>\n      <td>0.0</td>\n      <td>0.0</td>\n      <td>0.0</td>\n      <td>0.0</td>\n      <td>0.0</td>\n      <td>0.0</td>\n    </tr>\n    <tr>\n      <th>51</th>\n      <td>18.0</td>\n      <td>226956.0</td>\n      <td>9.0</td>\n      <td>0.0</td>\n      <td>0.0</td>\n      <td>30.0</td>\n      <td>0.0</td>\n      <td>0.0</td>\n      <td>0.0</td>\n      <td>0.0</td>\n      <td>...</td>\n      <td>0.0</td>\n      <td>0.0</td>\n      <td>0.0</td>\n      <td>0.0</td>\n      <td>0.0</td>\n      <td>0.0</td>\n      <td>0.0</td>\n      <td>0.0</td>\n      <td>0.0</td>\n      <td>0.0</td>\n    </tr>\n    <tr>\n      <th>61</th>\n      <td>32.0</td>\n      <td>293936.0</td>\n      <td>4.0</td>\n      <td>0.0</td>\n      <td>0.0</td>\n      <td>40.0</td>\n      <td>1.0</td>\n      <td>0.0</td>\n      <td>0.0</td>\n      <td>0.0</td>\n      <td>...</td>\n      <td>0.0</td>\n      <td>0.0</td>\n      <td>0.0</td>\n      <td>0.0</td>\n      <td>0.0</td>\n      <td>0.0</td>\n      <td>0.0</td>\n      <td>0.0</td>\n      <td>0.0</td>\n      <td>0.0</td>\n    </tr>\n    <tr>\n      <th>...</th>\n      <td>...</td>\n      <td>...</td>\n      <td>...</td>\n      <td>...</td>\n      <td>...</td>\n      <td>...</td>\n      <td>...</td>\n      <td>...</td>\n      <td>...</td>\n      <td>...</td>\n      <td>...</td>\n      <td>...</td>\n      <td>...</td>\n      <td>...</td>\n      <td>...</td>\n      <td>...</td>\n      <td>...</td>\n      <td>...</td>\n      <td>...</td>\n      <td>...</td>\n      <td>...</td>\n    </tr>\n    <tr>\n      <th>32530</th>\n      <td>35.0</td>\n      <td>320084.0</td>\n      <td>13.0</td>\n      <td>0.0</td>\n      <td>0.0</td>\n      <td>55.0</td>\n      <td>1.0</td>\n      <td>0.0</td>\n      <td>0.0</td>\n      <td>0.0</td>\n      <td>...</td>\n      <td>0.0</td>\n      <td>0.0</td>\n      <td>0.0</td>\n      <td>0.0</td>\n      <td>0.0</td>\n      <td>0.0</td>\n      <td>0.0</td>\n      <td>0.0</td>\n      <td>1.0</td>\n      <td>0.0</td>\n    </tr>\n    <tr>\n      <th>32531</th>\n      <td>30.0</td>\n      <td>33811.0</td>\n      <td>13.0</td>\n      <td>0.0</td>\n      <td>0.0</td>\n      <td>99.0</td>\n      <td>1.0</td>\n      <td>0.0</td>\n      <td>0.0</td>\n      <td>0.0</td>\n      <td>...</td>\n      <td>0.0</td>\n      <td>0.0</td>\n      <td>0.0</td>\n      <td>0.0</td>\n      <td>0.0</td>\n      <td>0.0</td>\n      <td>0.0</td>\n      <td>0.0</td>\n      <td>1.0</td>\n      <td>0.0</td>\n    </tr>\n    <tr>\n      <th>32539</th>\n      <td>71.0</td>\n      <td>287372.0</td>\n      <td>16.0</td>\n      <td>0.0</td>\n      <td>0.0</td>\n      <td>10.0</td>\n      <td>1.0</td>\n      <td>0.0</td>\n      <td>0.0</td>\n      <td>0.0</td>\n      <td>...</td>\n      <td>0.0</td>\n      <td>0.0</td>\n      <td>0.0</td>\n      <td>0.0</td>\n      <td>0.0</td>\n      <td>0.0</td>\n      <td>0.0</td>\n      <td>0.0</td>\n      <td>1.0</td>\n      <td>0.0</td>\n    </tr>\n    <tr>\n      <th>32541</th>\n      <td>41.0</td>\n      <td>202822.0</td>\n      <td>9.0</td>\n      <td>0.0</td>\n      <td>0.0</td>\n      <td>32.0</td>\n      <td>1.0</td>\n      <td>0.0</td>\n      <td>0.0</td>\n      <td>0.0</td>\n      <td>...</td>\n      <td>0.0</td>\n      <td>0.0</td>\n      <td>0.0</td>\n      <td>0.0</td>\n      <td>0.0</td>\n      <td>0.0</td>\n      <td>0.0</td>\n      <td>0.0</td>\n      <td>1.0</td>\n      <td>0.0</td>\n    </tr>\n    <tr>\n      <th>32542</th>\n      <td>72.0</td>\n      <td>129912.0</td>\n      <td>9.0</td>\n      <td>0.0</td>\n      <td>0.0</td>\n      <td>25.0</td>\n      <td>1.0</td>\n      <td>0.0</td>\n      <td>0.0</td>\n      <td>0.0</td>\n      <td>...</td>\n      <td>0.0</td>\n      <td>0.0</td>\n      <td>0.0</td>\n      <td>0.0</td>\n      <td>0.0</td>\n      <td>0.0</td>\n      <td>0.0</td>\n      <td>0.0</td>\n      <td>1.0</td>\n      <td>0.0</td>\n    </tr>\n  </tbody>\n</table>\n<p>2399 rows × 99 columns</p>\n</div>"
     },
     "execution_count": 7,
     "metadata": {},
     "output_type": "execute_result"
    }
   ],
   "source": [
    "data = data[data.apply(lambda row: any(row != \"?\"), axis=1)]\n",
    "data = pd.get_dummies(data).astype(float)\n"
   ],
   "metadata": {
    "collapsed": false,
    "ExecuteTime": {
     "end_time": "2023-09-27T08:32:20.786493100Z",
     "start_time": "2023-09-27T08:32:20.471498Z"
    }
   },
   "id": "86cdfb6d6228d803"
  },
  {
   "cell_type": "code",
   "execution_count": 12,
   "outputs": [
    {
     "data": {
      "text/plain": "                 x1          x2\n0     -67811.925699 -894.604932\n1      -9372.926011 -896.679918\n2    -105429.925466 -893.267996\n3      37372.074315 -898.353209\n4     104352.073954 -900.733494\n...             ...         ...\n2394  130500.073875 -901.661372\n2395 -155772.925143 -891.469130\n2396   97788.073296 -900.496469\n2397   13238.074043 -897.490231\n2398  -59671.926241 -894.891135\n\n[2399 rows x 2 columns]",
      "text/html": "<div>\n<style scoped>\n    .dataframe tbody tr th:only-of-type {\n        vertical-align: middle;\n    }\n\n    .dataframe tbody tr th {\n        vertical-align: top;\n    }\n\n    .dataframe thead th {\n        text-align: right;\n    }\n</style>\n<table border=\"1\" class=\"dataframe\">\n  <thead>\n    <tr style=\"text-align: right;\">\n      <th></th>\n      <th>x1</th>\n      <th>x2</th>\n    </tr>\n  </thead>\n  <tbody>\n    <tr>\n      <th>0</th>\n      <td>-67811.925699</td>\n      <td>-894.604932</td>\n    </tr>\n    <tr>\n      <th>1</th>\n      <td>-9372.926011</td>\n      <td>-896.679918</td>\n    </tr>\n    <tr>\n      <th>2</th>\n      <td>-105429.925466</td>\n      <td>-893.267996</td>\n    </tr>\n    <tr>\n      <th>3</th>\n      <td>37372.074315</td>\n      <td>-898.353209</td>\n    </tr>\n    <tr>\n      <th>4</th>\n      <td>104352.073954</td>\n      <td>-900.733494</td>\n    </tr>\n    <tr>\n      <th>...</th>\n      <td>...</td>\n      <td>...</td>\n    </tr>\n    <tr>\n      <th>2394</th>\n      <td>130500.073875</td>\n      <td>-901.661372</td>\n    </tr>\n    <tr>\n      <th>2395</th>\n      <td>-155772.925143</td>\n      <td>-891.469130</td>\n    </tr>\n    <tr>\n      <th>2396</th>\n      <td>97788.073296</td>\n      <td>-900.496469</td>\n    </tr>\n    <tr>\n      <th>2397</th>\n      <td>13238.074043</td>\n      <td>-897.490231</td>\n    </tr>\n    <tr>\n      <th>2398</th>\n      <td>-59671.926241</td>\n      <td>-894.891135</td>\n    </tr>\n  </tbody>\n</table>\n<p>2399 rows × 2 columns</p>\n</div>"
     },
     "execution_count": 12,
     "metadata": {},
     "output_type": "execute_result"
    }
   ],
   "source": [
    "pca = PCA(n_components=2)\n",
    "pca.fit(data)\n",
    "new_data = pd.DataFrame(pca.fit_transform(data), columns=[\"x1\", \"x2\"])\n",
    "new_data"
   ],
   "metadata": {
    "collapsed": false,
    "ExecuteTime": {
     "end_time": "2023-09-27T08:49:54.428454Z",
     "start_time": "2023-09-27T08:49:54.377590400Z"
    }
   },
   "id": "38bf8aaca7500cec"
  },
  {
   "cell_type": "code",
   "execution_count": 25,
   "outputs": [],
   "source": [
    "from preprocess import process_dataset\n",
    "ad = load_uci(\"adult\")\n",
    "ad = process_dataset(ad)\n",
    "ad = ad.with_strategy(get_al_strategy(\"uncertain\"), {\"name\": \"uncertainty\"})\n",
    "_svm = get_pipeline(\"svm\")\n",
    "svm = _svm(model=None, eval_metrics=get_metrics([\"accuracy\"]), n_times=20, dataset=ad)"
   ],
   "metadata": {
    "collapsed": false,
    "ExecuteTime": {
     "end_time": "2023-09-27T12:50:10.624595500Z",
     "start_time": "2023-09-27T12:50:10.246484800Z"
    }
   },
   "id": "ad59626f78c09e9a"
  },
  {
   "cell_type": "code",
   "execution_count": 28,
   "outputs": [
    {
     "name": "stderr",
     "output_type": "stream",
     "text": [
      "D:\\anaconda3\\envs\\COMP8800\\lib\\site-packages\\sklearn\\utils\\validation.py:1184: DataConversionWarning: A column-vector y was passed when a 1d array was expected. Please change the shape of y to (n_samples, ), for example using ravel().\n",
      "  y = column_or_1d(y, warn=True)\n"
     ]
    },
    {
     "data": {
      "text/plain": "SVC(probability=True)",
      "text/html": "<style>#sk-container-id-2 {color: black;}#sk-container-id-2 pre{padding: 0;}#sk-container-id-2 div.sk-toggleable {background-color: white;}#sk-container-id-2 label.sk-toggleable__label {cursor: pointer;display: block;width: 100%;margin-bottom: 0;padding: 0.3em;box-sizing: border-box;text-align: center;}#sk-container-id-2 label.sk-toggleable__label-arrow:before {content: \"▸\";float: left;margin-right: 0.25em;color: #696969;}#sk-container-id-2 label.sk-toggleable__label-arrow:hover:before {color: black;}#sk-container-id-2 div.sk-estimator:hover label.sk-toggleable__label-arrow:before {color: black;}#sk-container-id-2 div.sk-toggleable__content {max-height: 0;max-width: 0;overflow: hidden;text-align: left;background-color: #f0f8ff;}#sk-container-id-2 div.sk-toggleable__content pre {margin: 0.2em;color: black;border-radius: 0.25em;background-color: #f0f8ff;}#sk-container-id-2 input.sk-toggleable__control:checked~div.sk-toggleable__content {max-height: 200px;max-width: 100%;overflow: auto;}#sk-container-id-2 input.sk-toggleable__control:checked~label.sk-toggleable__label-arrow:before {content: \"▾\";}#sk-container-id-2 div.sk-estimator input.sk-toggleable__control:checked~label.sk-toggleable__label {background-color: #d4ebff;}#sk-container-id-2 div.sk-label input.sk-toggleable__control:checked~label.sk-toggleable__label {background-color: #d4ebff;}#sk-container-id-2 input.sk-hidden--visually {border: 0;clip: rect(1px 1px 1px 1px);clip: rect(1px, 1px, 1px, 1px);height: 1px;margin: -1px;overflow: hidden;padding: 0;position: absolute;width: 1px;}#sk-container-id-2 div.sk-estimator {font-family: monospace;background-color: #f0f8ff;border: 1px dotted black;border-radius: 0.25em;box-sizing: border-box;margin-bottom: 0.5em;}#sk-container-id-2 div.sk-estimator:hover {background-color: #d4ebff;}#sk-container-id-2 div.sk-parallel-item::after {content: \"\";width: 100%;border-bottom: 1px solid gray;flex-grow: 1;}#sk-container-id-2 div.sk-label:hover label.sk-toggleable__label {background-color: #d4ebff;}#sk-container-id-2 div.sk-serial::before {content: \"\";position: absolute;border-left: 1px solid gray;box-sizing: border-box;top: 0;bottom: 0;left: 50%;z-index: 0;}#sk-container-id-2 div.sk-serial {display: flex;flex-direction: column;align-items: center;background-color: white;padding-right: 0.2em;padding-left: 0.2em;position: relative;}#sk-container-id-2 div.sk-item {position: relative;z-index: 1;}#sk-container-id-2 div.sk-parallel {display: flex;align-items: stretch;justify-content: center;background-color: white;position: relative;}#sk-container-id-2 div.sk-item::before, #sk-container-id-2 div.sk-parallel-item::before {content: \"\";position: absolute;border-left: 1px solid gray;box-sizing: border-box;top: 0;bottom: 0;left: 50%;z-index: -1;}#sk-container-id-2 div.sk-parallel-item {display: flex;flex-direction: column;z-index: 1;position: relative;background-color: white;}#sk-container-id-2 div.sk-parallel-item:first-child::after {align-self: flex-end;width: 50%;}#sk-container-id-2 div.sk-parallel-item:last-child::after {align-self: flex-start;width: 50%;}#sk-container-id-2 div.sk-parallel-item:only-child::after {width: 0;}#sk-container-id-2 div.sk-dashed-wrapped {border: 1px dashed gray;margin: 0 0.4em 0.5em 0.4em;box-sizing: border-box;padding-bottom: 0.4em;background-color: white;}#sk-container-id-2 div.sk-label label {font-family: monospace;font-weight: bold;display: inline-block;line-height: 1.2em;}#sk-container-id-2 div.sk-label-container {text-align: center;}#sk-container-id-2 div.sk-container {/* jupyter's `normalize.less` sets `[hidden] { display: none; }` but bootstrap.min.css set `[hidden] { display: none !important; }` so we also need the `!important` here to be able to override the default hidden behavior on the sphinx rendered scikit-learn.org. See: https://github.com/scikit-learn/scikit-learn/issues/21755 */display: inline-block !important;position: relative;}#sk-container-id-2 div.sk-text-repr-fallback {display: none;}</style><div id=\"sk-container-id-2\" class=\"sk-top-container\"><div class=\"sk-text-repr-fallback\"><pre>SVC(probability=True)</pre><b>In a Jupyter environment, please rerun this cell to show the HTML representation or trust the notebook. <br />On GitHub, the HTML representation is unable to render, please try loading this page with nbviewer.org.</b></div><div class=\"sk-container\" hidden><div class=\"sk-item\"><div class=\"sk-estimator sk-toggleable\"><input class=\"sk-toggleable__control sk-hidden--visually\" id=\"sk-estimator-id-2\" type=\"checkbox\" checked><label for=\"sk-estimator-id-2\" class=\"sk-toggleable__label sk-toggleable__label-arrow\">SVC</label><div class=\"sk-toggleable__content\"><pre>SVC(probability=True)</pre></div></div></div></div></div>"
     },
     "execution_count": 28,
     "metadata": {},
     "output_type": "execute_result"
    }
   ],
   "source": [
    "t = svm.model_maker()\n",
    "t.fit(ad._data, ad._label)"
   ],
   "metadata": {
    "collapsed": false,
    "ExecuteTime": {
     "end_time": "2023-09-27T12:52:14.244066200Z",
     "start_time": "2023-09-27T12:50:52.804188200Z"
    }
   },
   "id": "942ea47c8644bae7"
  },
  {
   "cell_type": "code",
   "execution_count": 39,
   "outputs": [],
   "source": [
    "d = {\"A\": 1}"
   ],
   "metadata": {
    "collapsed": false,
    "ExecuteTime": {
     "end_time": "2023-09-28T03:26:17.503182400Z",
     "start_time": "2023-09-28T03:26:17.476248900Z"
    }
   },
   "id": "30fc1f6ff73b861a"
  },
  {
   "cell_type": "code",
   "execution_count": 40,
   "outputs": [],
   "source": [
    "del d[\"A\"]"
   ],
   "metadata": {
    "collapsed": false,
    "ExecuteTime": {
     "end_time": "2023-09-28T03:26:17.763103Z",
     "start_time": "2023-09-28T03:26:17.751591800Z"
    }
   },
   "id": "e9721a7f3a520f5c"
  },
  {
   "cell_type": "code",
   "execution_count": 41,
   "outputs": [
    {
     "data": {
      "text/plain": "{}"
     },
     "execution_count": 41,
     "metadata": {},
     "output_type": "execute_result"
    }
   ],
   "source": [
    "d"
   ],
   "metadata": {
    "collapsed": false,
    "ExecuteTime": {
     "end_time": "2023-09-28T03:26:18.315189400Z",
     "start_time": "2023-09-28T03:26:18.279287400Z"
    }
   },
   "id": "143a4749df3ebf81"
  },
  {
   "cell_type": "code",
   "execution_count": 2,
   "outputs": [
    {
     "name": "stdout",
     "output_type": "stream",
     "text": [
      "[DATASET]: loading exist csv for processed_datasets\\iris/continuous_to_categorical\n",
      "[DATASET]: loading exist csv for processed_datasets\\iris/pca_3\n",
      "[DATASET]: loading exist csv for processed_datasets\\adult/continuous_to_categorical\n",
      "[DATASET]: loading exist csv for processed_datasets\\adult/pca_3\n",
      "[DATASET]: loading exist csv for processed_datasets\\yeast/continuous_to_categorical\n",
      "[DATASET]: loading exist csv for processed_datasets\\yeast/pca_3\n",
      "[DATASET]: loading exist csv for processed_datasets\\letter-recognition/continuous_to_categorical\n",
      "[DATASET]: loading exist csv for processed_datasets\\letter-recognition/pca_3\n",
      "[DATASET]: loading exist csv for processed_datasets\\image-segmentation/continuous_to_categorical\n",
      "[DATASET]: loading exist csv for processed_datasets\\image-segmentation/pca_3\n",
      "[DATASET]: loading exist csv for processed_datasets\\balance-scale/continuous_to_categorical\n",
      "[DATASET]: loading exist csv for processed_datasets\\balance-scale/pca_3\n",
      "[DATASET]: loading exist csv for processed_datasets\\glass-identification/continuous_to_categorical\n",
      "[DATASET]: loading exist csv for processed_datasets\\glass-identification/pca_3\n",
      "[DATASET]: loading exist csv for processed_datasets\\wine/continuous_to_categorical\n",
      "[DATASET]: loading exist csv for processed_datasets\\wine/pca_3\n",
      "------------------------------\n",
      "Datasets loaded:\n",
      "- iris/continuous_to_categorical\n",
      "- iris/pca_3\n",
      "- adult/continuous_to_categorical\n",
      "- adult/pca_3\n",
      "- yeast/continuous_to_categorical\n",
      "- yeast/pca_3\n",
      "- letter-recognition/continuous_to_categorical\n",
      "- letter-recognition/pca_3\n",
      "- image-segmentation/continuous_to_categorical\n",
      "- image-segmentation/pca_3\n",
      "- balance-scale/continuous_to_categorical\n",
      "- balance-scale/pca_3\n",
      "- glass-identification/continuous_to_categorical\n",
      "- glass-identification/pca_3\n",
      "- wine/continuous_to_categorical\n",
      "- wine/pca_3\n",
      "------------------------------\n",
      "[MAIN] Checkout to cat models\n",
      "[PLOT] Plotting result of catboost on iris/continuous_to_categorical...\n",
      "[PLOT] Plotting result of random_forest on iris/pca_3...\n",
      "[PLOT] Plotting result of svm on iris/pca_3...\n",
      "[PLOT] Plotting result of catboost on iris/pca_3...\n",
      "[MAIN] Checkout to cat models\n",
      "[PLOT] Plotting result of catboost on adult/continuous_to_categorical...\n",
      "[PLOT] Plotting result of random_forest on adult/pca_3...\n",
      "[PLOT] Plotting result of svm on adult/pca_3...\n",
      "[PLOT] Plotting result of catboost on adult/pca_3...\n",
      "[MAIN] Checkout to cat models\n",
      "[PLOT] Plotting result of catboost on yeast/continuous_to_categorical...\n",
      "[PLOT] Plotting result of random_forest on yeast/pca_3...\n",
      "[PLOT] Plotting result of svm on yeast/pca_3...\n",
      "[PLOT] Plotting result of catboost on yeast/pca_3...\n",
      "[MAIN] Checkout to cat models\n",
      "[PLOT] Plotting result of catboost on letter-recognition/continuous_to_categorical...\n",
      "[PLOT] Plotting result of random_forest on letter-recognition/pca_3...\n",
      "[PLOT] Plotting result of svm on letter-recognition/pca_3...\n",
      "[PLOT] Plotting result of catboost on letter-recognition/pca_3...\n",
      "[MAIN] Checkout to cat models\n",
      "[PLOT] Plotting result of catboost on image-segmentation/continuous_to_categorical...\n",
      "[PLOT] Plotting result of random_forest on image-segmentation/pca_3...\n",
      "[PLOT] Plotting result of svm on image-segmentation/pca_3...\n",
      "[PLOT] Plotting result of catboost on image-segmentation/pca_3...\n",
      "[MAIN] Checkout to cat models\n",
      "[PLOT] Plotting result of catboost on balance-scale/continuous_to_categorical...\n",
      "[PLOT] Plotting result of random_forest on balance-scale/pca_3...\n",
      "[PLOT] Plotting result of svm on balance-scale/pca_3...\n",
      "[PLOT] Plotting result of catboost on balance-scale/pca_3...\n",
      "[MAIN] Checkout to cat models\n",
      "[PLOT] Plotting result of catboost on glass-identification/continuous_to_categorical...\n",
      "[PLOT] Plotting result of random_forest on glass-identification/pca_3...\n",
      "[PLOT] Exception when plotting random_forest on glass-identification/pca_3: setting an array element with a sequence. The requested array has an inhomogeneous shape after 2 dimensions. The detected shape was (12, 20) + inhomogeneous part.\n",
      "[PLOT] Plotting result of svm on glass-identification/pca_3...\n",
      "[PLOT] Exception when plotting svm on glass-identification/pca_3: setting an array element with a sequence. The requested array has an inhomogeneous shape after 2 dimensions. The detected shape was (12, 20) + inhomogeneous part.\n",
      "[PLOT] Plotting result of catboost on glass-identification/pca_3...\n",
      "[PLOT] Exception when plotting catboost on glass-identification/pca_3: setting an array element with a sequence. The requested array has an inhomogeneous shape after 2 dimensions. The detected shape was (12, 20) + inhomogeneous part.\n",
      "[MAIN] Checkout to cat models\n",
      "[PLOT] Plotting result of catboost on wine/continuous_to_categorical...\n",
      "[PLOT] Plotting result of random_forest on wine/pca_3...\n",
      "[PLOT] Plotting result of svm on wine/pca_3...\n",
      "[PLOT] Plotting result of catboost on wine/pca_3...\n"
     ]
    }
   ],
   "source": [
    "import os.path\n",
    "import pickle\n",
    "from typing import Type\n",
    "\n",
    "import matplotlib.pyplot as plt\n",
    "import numpy as np\n",
    "import pandas as pd\n",
    "import faulthandler\n",
    "from allib.datasets import load_uci, AVAIL_DATASETS, Dataset\n",
    "from allib.models import get_pipeline, AVAIL_MODELS\n",
    "from allib.models.al import ActiveLearningStrategy, ActiveLearningPipeline, get_al_strategy, ALL_STRATEGIES\n",
    "from allib.metrics import get_metrics\n",
    "from allib.plots import PLMetric\n",
    "from allib.utils import make_seeds, ensure_path\n",
    "from preprocess import process_dataset, load_datasets\n",
    "\n",
    "\n",
    "DS_CACHE = \"processed_datasets\"\n",
    "\n",
    "# ---------------- MODEL ---------------\n",
    "cat_models = [\n",
    "    \"catboost\",\n",
    "]\n",
    "all_models = [\n",
    "    # \"logistic\",\n",
    "    # \"mlp\",\n",
    "    \"random_forest\",\n",
    "    \"svm\",\n",
    "    *cat_models\n",
    "]\n",
    "model_dict = {\n",
    "    name: get_pipeline(name) for name in all_models\n",
    "}\n",
    "\n",
    "# ---------------- DATASET ---------------\n",
    "# all_datasets = list(AVAIL_DATASETS.keys())\n",
    "all_preprocesses = [\n",
    "    \"continuous_to_categorical\"\n",
    "    \"pca_3\",\n",
    "    # \"pca_2\",\n",
    "    # \"origin\"\n",
    "]\n",
    "all_datasets = [f\"{ds}/{pps}\" for ds in AVAIL_DATASETS.keys() for pps in all_preprocesses]\n",
    "\n",
    "origin_dataset_dict = {\n",
    "    name: load_uci(name) for name in AVAIL_DATASETS.keys()\n",
    "}\n",
    "\n",
    "dataset_dict = load_datasets(origin_dataset_dict)\n",
    "\n",
    "# ---------------- STRATEGY ---------------\n",
    "cat_strategies = [\n",
    "    \"random\",\n",
    "    \"uncertain\",\n",
    "    \"disagreement\",\n",
    "]\n",
    "\n",
    "al_strategies =[\n",
    "    *cat_strategies,\n",
    "    \"ranked_batch\",\n",
    "    \"information_density\",\n",
    "    \"gsx\"\n",
    "]\n",
    "\n",
    "cat_confs = [\n",
    "    [{}],\n",
    "    [{\"name\": name} for name in [\"uncertainty\", \"margin\", \"entropy\"]],\n",
    "    [{\"name\": name} for name in [\"vote\", \"consensus\", \"max_disagreement\"]],\n",
    "]\n",
    "al_confs = [\n",
    "    *cat_confs,\n",
    "    # todo\n",
    "    [{\"dist_metric\": metric} for metric in [\"cosine\", \"euclidean\"]],\n",
    "    [{\"similarity_metric\": metric} for metric in [\"cosine\", \"euclidean\"]],\n",
    "    [{}]\n",
    "]\n",
    "\n",
    "\n",
    "def run_pipeline(dataset_name: str, model_name: str):\n",
    "    origin_dataset = dataset_dict[dataset_name]\n",
    "    avail_strategies = al_strategies\n",
    "    avail_confs = al_confs\n",
    "    if origin_dataset.info[\"cat_idx\"] and len(origin_dataset.info[\"cat_idx\"]) != 0:\n",
    "        avail_strategies = cat_strategies\n",
    "        avail_confs = cat_confs\n",
    "    for idx, confs in enumerate(avail_confs):\n",
    "        for cid, conf in enumerate(confs):\n",
    "            cache_name = f\"{dataset_name.replace('/', '_')}@{model_name}@{avail_strategies[idx]}_{cid}@x20.pkl\"\n",
    "            print(f\"[PPL]: Checking {cache_name} ... \", end=\"\")\n",
    "            if os.path.isfile(os.path.join(\"ppl_cache\", cache_name)):\n",
    "                print(f\" exists.\")\n",
    "                # continue\n",
    "            else:\n",
    "                strategy = get_al_strategy(avail_strategies[idx])\n",
    "                if avail_strategies[idx] == \"disagreement\":\n",
    "                    conf[\"make_model\"] = AVAIL_MODELS[model_name]._model_maker\n",
    "                dataset = origin_dataset.with_strategy(strategy, conf)\n",
    "                make_ppl: Type[ActiveLearningPipeline] = model_dict[model_name]\n",
    "                print(f\"\\nTraining pipeline: {model_name}; Dataset: {dataset_name}; AL Strategy: {avail_strategies[idx]}...\")\n",
    "                ppl = make_ppl(\n",
    "                    model=None,\n",
    "                    eval_metrics=get_metrics([\"accuracy\"]),\n",
    "                    seeds=[i for i in range(20)],\n",
    "                    n_times=20,\n",
    "                    dataset=dataset,\n",
    "                    cat_idx=dataset.info[\"cat_idx\"]\n",
    "                )\n",
    "                ppl.start()\n",
    "                with open(os.path.join(\"ppl_cache\", cache_name), \"wb\") as f:\n",
    "                    pickle.dump(ppl.stats, f)\n",
    "\n",
    "\n",
    "def plot(dataset_name: str, model_name: str):\n",
    "    print(f\"[PLOT] Plotting result of {model_name} on {dataset_name}...\")\n",
    "    metrics_n_times = []\n",
    "    instances = []\n",
    "    strategies = []\n",
    "    plot_name = f\"{dataset_name.replace('/', '_')}@{model_name}.png\"\n",
    "    for idx, confs in enumerate(al_confs):\n",
    "        for cid, conf in enumerate(confs):\n",
    "            stats = None\n",
    "            cache_name = f\"{dataset_name.replace('/', '_')}@{model_name}@{al_strategies[idx]}_{cid}@x20.pkl\"\n",
    "            if not os.path.isfile(os.path.join(\"ppl_cache\", cache_name)):\n",
    "                continue\n",
    "            with open(os.path.join(\"ppl_cache\", cache_name), \"rb\") as f:\n",
    "                stats = pickle.load(f)\n",
    "            metrics_n_times.append([stats[i][\"accuracy\"] for i in range(len(stats))])\n",
    "            strategies.append(f\"{al_strategies[idx]}{('(' + list(conf.values())[0] + ')') if conf else ''}\")\n",
    "            instances = stats[0][\"instances\"]\n",
    "    pl_metric = PLMetric()\n",
    "    pl_metric.plot(\"Accuracy\", instances, np.array(metrics_n_times), strategies, plot_name=plot_name)\n",
    "    # pl_metric = PLMetric(\"Accuracy\", instances, metrics_n_times, strategies, plot_name=plot_name)\n",
    "\n",
    "\n",
    "def dataset_distribution(dataset_name: str):\n",
    "    dataset = dataset_dict[dataset_name]\n",
    "    title = f\"Distribution of dataset {dataset_name}\"\n",
    "    fig, ax = plt.subplots(figsize=(10, 10))\n",
    "    x1, x2 = dataset._data.x1, dataset._data.x2\n",
    "    label = dataset._label\n",
    "    ax.scatter(x1, x2, c=label.label.astype(\"category\").cat.codes)\n",
    "    ax.set_title(title)\n",
    "    ax.set_xlabel(\"x1\")\n",
    "    ax.set_ylabel(\"x2\")\n",
    "    fig.savefig(f\"plots/datasets/{dataset_name.replace('/', '_')}_pca_2.png\")\n",
    "    plt.close(fig)\n",
    "\n",
    "\n",
    "def dataset_3d(dataset_name):\n",
    "    dataset = dataset_dict[dataset_name]\n",
    "    title = f\"Distribution of dataset {dataset_name}\"\n",
    "    fig = plt.figure()\n",
    "    ax = fig.add_subplot(projection=\"3d\")\n",
    "    data, label = dataset._data, dataset._label\n",
    "    ax.scatter(data.iloc[:, 0], data.iloc[:, 1], data.iloc[:,2], c=label.label.astype(\"category\").cat.codes)\n",
    "    ax.set_xlabel(\"x1\")\n",
    "    ax.set_ylabel(\"x2\")\n",
    "    fig.savefig(f\"plots/datasets/pca_3/{dataset_name.replace('/', '_')}_pca_3.png\")\n",
    "    plt.close(fig)\n",
    "\n",
    "\n",
    "if __name__ == \"__main__\":\n",
    "    faulthandler.enable()\n",
    "    for dsn, dataset in dataset_dict.items():\n",
    "        # if dsn.endswith(\"pca_3\"):\n",
    "        #     dataset_3d(dsn)\n",
    "        #     \n",
    "        avail_models = all_models\n",
    "        if dataset.info[\"cat_idx\"] and len(dataset.info[\"cat_idx\"]) != 0:\n",
    "            print(\"[MAIN] Checkout to cat models\")\n",
    "            avail_models = cat_models\n",
    "        for mdn in avail_models:\n",
    "            # run_pipeline(dsn, mdn)\n",
    "            try:\n",
    "                plot(dsn, mdn)\n",
    "            except Exception as e:\n",
    "                print(f\"[PLOT] Exception when plotting {mdn} on {dsn}: {e}\")"
   ],
   "metadata": {
    "collapsed": false,
    "ExecuteTime": {
     "end_time": "2023-10-05T05:03:36.957742500Z",
     "start_time": "2023-10-05T05:03:12.325529700Z"
    }
   },
   "id": "96bb5f0cb15fd90d"
  },
  {
   "cell_type": "code",
   "execution_count": 2,
   "outputs": [
    {
     "ename": "EOFError",
     "evalue": "Ran out of input",
     "output_type": "error",
     "traceback": [
      "\u001B[1;31m---------------------------------------------------------------------------\u001B[0m",
      "\u001B[1;31mEOFError\u001B[0m                                  Traceback (most recent call last)",
      "Cell \u001B[1;32mIn[2], line 3\u001B[0m\n\u001B[0;32m      1\u001B[0m cache_name \u001B[38;5;241m=\u001B[39m \u001B[38;5;124m\"\u001B[39m\u001B[38;5;124mletter-recognition@random_forest@disagreement_2@x20.pkl\u001B[39m\u001B[38;5;124m\"\u001B[39m\n\u001B[0;32m      2\u001B[0m \u001B[38;5;28;01mwith\u001B[39;00m \u001B[38;5;28mopen\u001B[39m(os\u001B[38;5;241m.\u001B[39mpath\u001B[38;5;241m.\u001B[39mjoin(\u001B[38;5;124m\"\u001B[39m\u001B[38;5;124mppl_cache\u001B[39m\u001B[38;5;124m\"\u001B[39m, cache_name), \u001B[38;5;124m\"\u001B[39m\u001B[38;5;124mrb\u001B[39m\u001B[38;5;124m\"\u001B[39m) \u001B[38;5;28;01mas\u001B[39;00m f:\n\u001B[1;32m----> 3\u001B[0m     stats \u001B[38;5;241m=\u001B[39m \u001B[43mpickle\u001B[49m\u001B[38;5;241;43m.\u001B[39;49m\u001B[43mload\u001B[49m\u001B[43m(\u001B[49m\u001B[43mf\u001B[49m\u001B[43m)\u001B[49m\n\u001B[0;32m      4\u001B[0m     \u001B[38;5;28;01mfor\u001B[39;00m stat \u001B[38;5;129;01min\u001B[39;00m stats:\n\u001B[0;32m      5\u001B[0m         \u001B[38;5;28;01mdel\u001B[39;00m stat[\u001B[38;5;124m\"\u001B[39m\u001B[38;5;124mmodel_snapshots\u001B[39m\u001B[38;5;124m\"\u001B[39m]\n",
      "\u001B[1;31mEOFError\u001B[0m: Ran out of input"
     ]
    }
   ],
   "source": [
    "cache_name = \"letter-recognition@random_forest@disagreement_2@x20.pkl\"\n",
    "with open(os.path.join(\"ppl_cache\", cache_name), \"rb\") as f:\n",
    "    stats = pickle.load(f)\n",
    "    for stat in stats:\n",
    "        del stat[\"model_snapshots\"]\n",
    "with open(os.path.join(\"ppl_cache\", cache_name), \"wb\") as f:\n",
    "    pickle.dump(stats, f)"
   ],
   "metadata": {
    "collapsed": false,
    "ExecuteTime": {
     "end_time": "2023-09-28T16:28:12.956796900Z",
     "start_time": "2023-09-28T16:27:59.347275Z"
    }
   },
   "id": "f38b35bb71a3baad"
  },
  {
   "cell_type": "code",
   "execution_count": 41,
   "outputs": [
    {
     "ename": "ImportError",
     "evalue": "attempted relative import with no known parent package",
     "output_type": "error",
     "traceback": [
      "\u001B[1;31m---------------------------------------------------------------------------\u001B[0m",
      "\u001B[1;31mImportError\u001B[0m                               Traceback (most recent call last)",
      "Cell \u001B[1;32mIn[41], line 1\u001B[0m\n\u001B[1;32m----> 1\u001B[0m \u001B[38;5;28;01mfrom\u001B[39;00m \u001B[38;5;21;01m.\u001B[39;00m\u001B[38;5;21;01m.\u001B[39;00m\u001B[38;5;21;01mcomp_metrics\u001B[39;00m\u001B[38;5;21;01m.\u001B[39;00m\u001B[38;5;21;01mpreprocess\u001B[39;00m \u001B[38;5;28;01mimport\u001B[39;00m process_dataset\n",
      "\u001B[1;31mImportError\u001B[0m: attempted relative import with no known parent package"
     ]
    }
   ],
   "source": [],
   "metadata": {
    "collapsed": false,
    "ExecuteTime": {
     "end_time": "2023-10-03T13:46:40.127211900Z",
     "start_time": "2023-10-03T13:46:40.096293800Z"
    }
   },
   "id": "b9b36efc1b0767f0"
  },
  {
   "cell_type": "code",
   "execution_count": 42,
   "outputs": [
    {
     "name": "stdout",
     "output_type": "stream",
     "text": [
      "[(1, 'a', 'x'), (2, 'b', 'y'), (3, 'c', 'z')]\n"
     ]
    }
   ],
   "source": [
    "a = [1,2,3]\n",
    "b=[\"a\", \"b\", \"c\"]\n",
    "c=[\"x\", \"y\", \"z\"]\n",
    "print(list(zip(a,b,c)))"
   ],
   "metadata": {
    "collapsed": false,
    "ExecuteTime": {
     "end_time": "2023-10-03T14:03:32.605255600Z",
     "start_time": "2023-10-03T14:03:32.573337100Z"
    }
   },
   "id": "644f64ea01045264"
  },
  {
   "cell_type": "code",
   "execution_count": 7,
   "outputs": [],
   "source": [
    "iris = load_uci(\"iris\")"
   ],
   "metadata": {
    "collapsed": false,
    "ExecuteTime": {
     "end_time": "2023-10-04T06:19:01.405232800Z",
     "start_time": "2023-10-04T06:19:01.378301900Z"
    }
   },
   "id": "3fe11b9e3f2baaca"
  },
  {
   "cell_type": "code",
   "execution_count": 26,
   "outputs": [],
   "source": [
    "data = iris._data\n",
    "d = data.to_numpy()"
   ],
   "metadata": {
    "collapsed": false,
    "ExecuteTime": {
     "end_time": "2023-10-04T06:22:50.790790600Z",
     "start_time": "2023-10-04T06:22:50.773835800Z"
    }
   },
   "id": "68191e73e3a3e53e"
  },
  {
   "cell_type": "code",
   "execution_count": 27,
   "outputs": [
    {
     "data": {
      "text/plain": "array([5.84333333, 3.05566667, 3.75833333, 1.199     ])"
     },
     "execution_count": 27,
     "metadata": {},
     "output_type": "execute_result"
    }
   ],
   "source": [
    "ct = data.mean(axis=0).to_numpy()\n",
    "ct"
   ],
   "metadata": {
    "collapsed": false,
    "ExecuteTime": {
     "end_time": "2023-10-04T06:22:51.173836Z",
     "start_time": "2023-10-04T06:22:51.133944800Z"
    }
   },
   "id": "6ef5a5b194237968"
  },
  {
   "cell_type": "code",
   "execution_count": 32,
   "outputs": [],
   "source": [
    "from sklearn.metrics import pairwise_distances_argmin_min"
   ],
   "metadata": {
    "collapsed": false,
    "ExecuteTime": {
     "end_time": "2023-10-04T06:23:16.193480800Z",
     "start_time": "2023-10-04T06:23:16.176324200Z"
    }
   },
   "id": "337654db59bb4ba1"
  },
  {
   "cell_type": "code",
   "execution_count": 89,
   "outputs": [
    {
     "data": {
      "text/plain": "64"
     },
     "execution_count": 89,
     "metadata": {},
     "output_type": "execute_result"
    }
   ],
   "source": [
    "pairwise_distances([ct], d).argmin()"
   ],
   "metadata": {
    "collapsed": false,
    "ExecuteTime": {
     "end_time": "2023-10-04T08:55:54.082736900Z",
     "start_time": "2023-10-04T08:55:54.058797800Z"
    }
   },
   "id": "4888d9a467ad65ef"
  },
  {
   "cell_type": "code",
   "execution_count": 40,
   "outputs": [
    {
     "data": {
      "text/plain": "(array([64], dtype=int64), array([0.3445485]))"
     },
     "execution_count": 40,
     "metadata": {},
     "output_type": "execute_result"
    }
   ],
   "source": [
    "pairwise_distances_argmin_min([ct], d)"
   ],
   "metadata": {
    "collapsed": false,
    "ExecuteTime": {
     "end_time": "2023-10-04T06:23:31.429463Z",
     "start_time": "2023-10-04T06:23:31.411511300Z"
    }
   },
   "id": "926b4f7953822dd4"
  },
  {
   "cell_type": "code",
   "execution_count": 41,
   "outputs": [
    {
     "data": {
      "text/plain": "64"
     },
     "execution_count": 41,
     "metadata": {},
     "output_type": "execute_result"
    }
   ],
   "source": [
    "np.linalg.norm(d - ct, axis=1).argmin()"
   ],
   "metadata": {
    "collapsed": false,
    "ExecuteTime": {
     "end_time": "2023-10-04T06:23:31.618006200Z",
     "start_time": "2023-10-04T06:23:31.603045500Z"
    }
   },
   "id": "fce52576cb52e414"
  },
  {
   "cell_type": "code",
   "execution_count": 42,
   "outputs": [
    {
     "data": {
      "text/plain": "64"
     },
     "execution_count": 42,
     "metadata": {},
     "output_type": "execute_result"
    }
   ],
   "source": [
    "c = d[64]\n",
    "np.linalg.norm(d - c, axis=1)"
   ],
   "metadata": {
    "collapsed": false,
    "ExecuteTime": {
     "end_time": "2023-10-04T07:02:58.284686500Z",
     "start_time": "2023-10-04T07:02:58.192468600Z"
    }
   },
   "id": "e4b9656a408b9dcf"
  },
  {
   "cell_type": "code",
   "execution_count": 46,
   "outputs": [],
   "source": [
    "nd = data.sample(frac=1)"
   ],
   "metadata": {
    "collapsed": false,
    "ExecuteTime": {
     "end_time": "2023-10-04T07:05:43.136336300Z",
     "start_time": "2023-10-04T07:05:43.085473200Z"
    }
   },
   "id": "420d46377230a79f"
  },
  {
   "cell_type": "code",
   "execution_count": 67,
   "outputs": [],
   "source": [
    "nd = nd[~nd.duplicated()]"
   ],
   "metadata": {
    "collapsed": false,
    "ExecuteTime": {
     "end_time": "2023-10-04T07:30:04.719783600Z",
     "start_time": "2023-10-04T07:30:04.653447200Z"
    }
   },
   "id": "16fffdec3edc17a7"
  },
  {
   "cell_type": "code",
   "execution_count": 50,
   "outputs": [],
   "source": [
    "from sklearn.metrics import pairwise_distances"
   ],
   "metadata": {
    "collapsed": false,
    "ExecuteTime": {
     "end_time": "2023-10-04T07:14:33.717020200Z",
     "start_time": "2023-10-04T07:14:33.670633200Z"
    }
   },
   "id": "e57c9da05ff45e5"
  },
  {
   "cell_type": "code",
   "execution_count": 73,
   "outputs": [],
   "source": [
    "pairwise_d = pairwise_distances(nd, nd)\n",
    "pairwise_d += np.diag(np.inf * np.ones(pairwise_d.shape[0]))"
   ],
   "metadata": {
    "collapsed": false,
    "ExecuteTime": {
     "end_time": "2023-10-04T08:14:19.654179Z",
     "start_time": "2023-10-04T08:14:19.621332200Z"
    }
   },
   "id": "f5e5bb60c1915b12"
  },
  {
   "cell_type": "code",
   "execution_count": 90,
   "outputs": [
    {
     "data": {
      "text/plain": "     sepal_length  sepal_width  petal_length  petal_width\n0             5.1          3.5           1.4          0.2\n1             4.9          3.0           1.4          0.2\n2             4.7          3.2           1.3          0.2\n3             4.6          3.1           1.5          0.2\n4             5.0          3.6           1.4          0.2\n..            ...          ...           ...          ...\n295           6.7          3.0           5.2          2.3\n296           6.3          2.5           5.0          1.9\n297           6.5          3.0           5.2          2.0\n298           6.2          3.4           5.4          2.3\n299           5.9          3.0           5.1          1.8\n\n[300 rows x 4 columns]",
      "text/html": "<div>\n<style scoped>\n    .dataframe tbody tr th:only-of-type {\n        vertical-align: middle;\n    }\n\n    .dataframe tbody tr th {\n        vertical-align: top;\n    }\n\n    .dataframe thead th {\n        text-align: right;\n    }\n</style>\n<table border=\"1\" class=\"dataframe\">\n  <thead>\n    <tr style=\"text-align: right;\">\n      <th></th>\n      <th>sepal_length</th>\n      <th>sepal_width</th>\n      <th>petal_length</th>\n      <th>petal_width</th>\n    </tr>\n  </thead>\n  <tbody>\n    <tr>\n      <th>0</th>\n      <td>5.1</td>\n      <td>3.5</td>\n      <td>1.4</td>\n      <td>0.2</td>\n    </tr>\n    <tr>\n      <th>1</th>\n      <td>4.9</td>\n      <td>3.0</td>\n      <td>1.4</td>\n      <td>0.2</td>\n    </tr>\n    <tr>\n      <th>2</th>\n      <td>4.7</td>\n      <td>3.2</td>\n      <td>1.3</td>\n      <td>0.2</td>\n    </tr>\n    <tr>\n      <th>3</th>\n      <td>4.6</td>\n      <td>3.1</td>\n      <td>1.5</td>\n      <td>0.2</td>\n    </tr>\n    <tr>\n      <th>4</th>\n      <td>5.0</td>\n      <td>3.6</td>\n      <td>1.4</td>\n      <td>0.2</td>\n    </tr>\n    <tr>\n      <th>...</th>\n      <td>...</td>\n      <td>...</td>\n      <td>...</td>\n      <td>...</td>\n    </tr>\n    <tr>\n      <th>295</th>\n      <td>6.7</td>\n      <td>3.0</td>\n      <td>5.2</td>\n      <td>2.3</td>\n    </tr>\n    <tr>\n      <th>296</th>\n      <td>6.3</td>\n      <td>2.5</td>\n      <td>5.0</td>\n      <td>1.9</td>\n    </tr>\n    <tr>\n      <th>297</th>\n      <td>6.5</td>\n      <td>3.0</td>\n      <td>5.2</td>\n      <td>2.0</td>\n    </tr>\n    <tr>\n      <th>298</th>\n      <td>6.2</td>\n      <td>3.4</td>\n      <td>5.4</td>\n      <td>2.3</td>\n    </tr>\n    <tr>\n      <th>299</th>\n      <td>5.9</td>\n      <td>3.0</td>\n      <td>5.1</td>\n      <td>1.8</td>\n    </tr>\n  </tbody>\n</table>\n<p>300 rows × 4 columns</p>\n</div>"
     },
     "execution_count": 90,
     "metadata": {},
     "output_type": "execute_result"
    }
   ],
   "source": [],
   "metadata": {
    "collapsed": false,
    "ExecuteTime": {
     "end_time": "2023-10-04T08:56:39.583371100Z",
     "start_time": "2023-10-04T08:56:39.525012400Z"
    }
   },
   "id": "d4fc4128aca7f528"
  },
  {
   "cell_type": "code",
   "execution_count": 85,
   "outputs": [],
   "source": [
    "pwd = pairwise_d.copy()[:10]\n",
    "batch = []\n",
    "k = 10\n",
    "for i in range(k):\n",
    "    idx = pwd.min(axis=1).argmax()\n",
    "    batch.append(idx)\n",
    "    pwd[:, idx] = np.inf   \n",
    "    pwd[idx, :] = -1\n"
   ],
   "metadata": {
    "collapsed": false,
    "ExecuteTime": {
     "end_time": "2023-10-04T08:27:15.504921800Z",
     "start_time": "2023-10-04T08:27:15.447077400Z"
    }
   },
   "id": "ed81c12ca2a73ec5"
  },
  {
   "cell_type": "code",
   "execution_count": 86,
   "outputs": [
    {
     "data": {
      "text/plain": "[0, 4, 1, 6, 2, 3, 8, 5, 7, 9]"
     },
     "execution_count": 86,
     "metadata": {},
     "output_type": "execute_result"
    }
   ],
   "source": [
    "batch"
   ],
   "metadata": {
    "collapsed": false,
    "ExecuteTime": {
     "end_time": "2023-10-04T08:27:16.609028700Z",
     "start_time": "2023-10-04T08:27:16.583258300Z"
    }
   },
   "id": "4253be53071ae597"
  },
  {
   "cell_type": "code",
   "execution_count": 80,
   "outputs": [
    {
     "data": {
      "text/plain": "array([[       inf, 1.28452326, 5.26212885, ..., 1.05830052, 1.2922848 ,\n        5.43139025],\n       [1.28452326,        inf, 4.57165178, ..., 0.67082039, 2.26715681,\n        4.75078941],\n       [5.26212885, 4.57165178,        inf, ..., 4.75920161, 6.41560597,\n        0.55677644],\n       ...,\n       [1.05830052, 0.67082039, 4.75920161, ...,        inf, 1.85202592,\n        4.9939964 ],\n       [1.2922848 , 2.26715681, 6.41560597, ..., 1.85202592,        inf,\n        6.62797103],\n       [5.43139025, 4.75078941, 0.55677644, ..., 4.9939964 , 6.62797103,\n               inf]])"
     },
     "execution_count": 80,
     "metadata": {},
     "output_type": "execute_result"
    }
   ],
   "source": [
    "pwd"
   ],
   "metadata": {
    "collapsed": false,
    "ExecuteTime": {
     "end_time": "2023-10-04T08:19:30.438652600Z",
     "start_time": "2023-10-04T08:19:30.393828Z"
    }
   },
   "id": "d1a154fcfde6b593"
  },
  {
   "cell_type": "code",
   "execution_count": 27,
   "outputs": [],
   "source": [
    "ad = load_uci(\"wine\")"
   ],
   "metadata": {
    "collapsed": false,
    "ExecuteTime": {
     "end_time": "2023-10-04T18:06:22.900666400Z",
     "start_time": "2023-10-04T18:06:22.846805900Z"
    }
   },
   "id": "e366a6903da49506"
  },
  {
   "cell_type": "code",
   "execution_count": 28,
   "outputs": [],
   "source": [
    "import matplotlib.pyplot as plt"
   ],
   "metadata": {
    "collapsed": false,
    "ExecuteTime": {
     "end_time": "2023-10-04T18:06:23.118643500Z",
     "start_time": "2023-10-04T18:06:23.078238Z"
    }
   },
   "id": "5fb35f602385db5b"
  },
  {
   "cell_type": "code",
   "execution_count": 29,
   "outputs": [],
   "source": [
    "ad = ad.with_preprocess(steps=[\"categorical_to_continuous\", \"pca\"], params_list=[{}, {\"n_components\": 3}], in_place=False)"
   ],
   "metadata": {
    "collapsed": false,
    "ExecuteTime": {
     "end_time": "2023-10-04T18:06:23.342083200Z",
     "start_time": "2023-10-04T18:06:23.261777100Z"
    }
   },
   "id": "10111233983202da"
  },
  {
   "cell_type": "code",
   "execution_count": 30,
   "outputs": [
    {
     "data": {
      "text/plain": "0      0\n1      0\n2      0\n3      0\n4      0\n      ..\n173    2\n174    2\n175    2\n176    2\n177    2\nLength: 178, dtype: int8"
     },
     "execution_count": 30,
     "metadata": {},
     "output_type": "execute_result"
    }
   ],
   "source": [
    "ad._label.label.astype(\"category\").cat.codes"
   ],
   "metadata": {
    "collapsed": false,
    "ExecuteTime": {
     "end_time": "2023-10-04T18:06:23.500185400Z",
     "start_time": "2023-10-04T18:06:23.466274800Z"
    }
   },
   "id": "5a493a09ba77c94f"
  },
  {
   "cell_type": "code",
   "execution_count": 34,
   "outputs": [],
   "source": [
    "fig = plt.figure()\n",
    "ax = fig.add_subplot(projection=\"3d\")\n",
    "ax.scatter(ad._data.iloc[:, 0], ad._data.iloc[:, 1], ad._data.iloc[:,2], c=ad._label.label.astype(\"category\").cat.codes)\n",
    "plt.close(fig)"
   ],
   "metadata": {
    "collapsed": false,
    "ExecuteTime": {
     "end_time": "2023-10-05T04:12:41.040169700Z",
     "start_time": "2023-10-05T04:12:40.934410800Z"
    }
   },
   "id": "e8f63530fdfe0ded"
  },
  {
   "cell_type": "code",
   "execution_count": null,
   "outputs": [],
   "source": [],
   "metadata": {
    "collapsed": false
   },
   "id": "39ee650f0678d337"
  }
 ],
 "metadata": {
  "kernelspec": {
   "display_name": "Python 3",
   "language": "python",
   "name": "python3"
  },
  "language_info": {
   "codemirror_mode": {
    "name": "ipython",
    "version": 2
   },
   "file_extension": ".py",
   "mimetype": "text/x-python",
   "name": "python",
   "nbconvert_exporter": "python",
   "pygments_lexer": "ipython2",
   "version": "2.7.6"
  }
 },
 "nbformat": 4,
 "nbformat_minor": 5
}
