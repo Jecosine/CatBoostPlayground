{
 "cells": [
  {
   "cell_type": "code",
   "execution_count": 1,
   "metadata": {},
   "outputs": [],
   "source": [
    "import os \n",
    "#if you want to know current working dir\n",
    "os.getcwd()\n",
    "os.chdir('/home/jecosine/Courses/Courses/COMP8800/Projects/CatBoostPlayground')\n",
    "os.listdir()\n",
    "\n",
    "from allib.datasets import load_uci, AVAIL_DATASETS\n",
    "import pandas as pd\n",
    "import numpy as np\n",
    "from allib.models import get_pipeline, AVAIL_MODELS\n",
    "from allib.models.al import get_al_strategy\n",
    "from allib.metrics import get_metrics\n",
    "import pickle\n",
    "import matplotlib.pyplot as plt\n",
    "from allib.plots import PLMetric\n",
    "from allib.metrics import distance\n",
    "from allib.utils import ensure_path\n",
    "\n",
    "RP = \"/home/jecosine/Courses/Courses/COMP8800/Projects/CatBoostPlayground/comp_bs\""
   ]
  },
  {
   "cell_type": "code",
   "execution_count": 2,
   "metadata": {},
   "outputs": [],
   "source": [
    "make_ppl = get_pipeline('catboost')\n",
    "ENCODE = 'ordinal'\n",
    "\n",
    "LOCAL_DIR = \"app/comp_bs\"\n",
    "ALSTRATEGY = \"typiclust\"\n",
    "SUFFIX = \"bs1\"\n",
    "model_extra_params = { \"iterations\": 100 }"
   ]
  },
  {
   "cell_type": "code",
   "execution_count": 2,
   "metadata": {},
   "outputs": [],
   "source": [
    "BASE_PATH = \"app/comp_bs/\"\n",
    "SUFFIX = \"bs100\"\n",
    "\n",
    "def get_post_plot(m, s, pl_metric):\n",
    "    def post_plot(metric_name, instances, metrics_n_times, strategies, ax, fig):\n",
    "        for idx, metrics in enumerate(m):\n",
    "            med, mx, mn = pl_metric.errorbar(\"std\", metrics)\n",
    "            ax.fill_between(instances, mn, mx, alpha=0.1, color='black')\n",
    "            ax.plot(instances, med, label=f\"baseline(random)\", marker=\"o\", linestyle=\"dashed\", markersize=3, c='black')\n",
    "        ax.legend()\n",
    "    return post_plot\n",
    "\n",
    "\n",
    "def plot(\n",
    "        dataset_name: str,\n",
    "        model_name: str,\n",
    "        # strategies: list = None,\n",
    "        distance_metrics: list=None,\n",
    "        plot_name: str = None,\n",
    "        strategy: str = \"gsx\",\n",
    "        encode: str = \"ordinal\"\n",
    "):\n",
    "    metrics_n_times = []\n",
    "    instances = []\n",
    "    distance_metrics = distance_metrics or list(distance.AVAIL_DIST_METRICS.keys())\n",
    "    plot_name = plot_name if plot_name is not None else f\"{dataset_name}@{model_name}@{strategy}@{encode}@{SUFFIX}.png\"\n",
    "    # if ensure_path(os.path.join(\"./plots/pl_metric\", plot_name), False):\n",
    "    #     print(f\"plot {plot_name} already exists, continue\")\n",
    "    #     return\n",
    "    # for strategy in strategies:\n",
    "    for metric in distance_metrics:\n",
    "        stats = None\n",
    "        cache_name = f\"{dataset_name.replace('/', '_')}@{model_name}@{strategy}_{metric}_{encode}@{SUFFIX}@x20.pkl\"\n",
    "        if not os.path.isfile(os.path.join(BASE_PATH + \"ppl_cache\", cache_name)):\n",
    "            print(f\"exp {cache_name} does not exist, continue\")\n",
    "            continue\n",
    "        with open(os.path.join(BASE_PATH + \"ppl_cache\", cache_name), \"rb\") as f:\n",
    "            stats = pickle.load(f)\n",
    "        metrics_n_times.append([stats[i][\"accuracy\"] for i in range(len(stats))])\n",
    "        instances = np.array(stats[0][\"instances\"], dtype=int)\n",
    "    baseline_euclidean = None\n",
    "    baseline_cosine = None\n",
    "    for metric in [\"cosine\"]:\n",
    "        stats = None\n",
    "        cache_name = f\"{dataset_name.replace('/', '_')}@{model_name}@random_{metric}_{encode}@{SUFFIX}@x20.pkl\"\n",
    "        if not os.path.isfile(os.path.join(BASE_PATH + \"ppl_cache\", cache_name)):\n",
    "            print(f\"exp {cache_name} does not exist, continue\")\n",
    "            continue\n",
    "        with open(os.path.join(BASE_PATH + \"ppl_cache\", cache_name), \"rb\") as f:\n",
    "            stats = pickle.load(f)\n",
    "        metrics_n_times.append([stats[i][\"accuracy\"] for i in range(len(stats))])\n",
    "\n",
    "    pl_metric = PLMetric(output_path=\"app/comp_bs/plots/\")\n",
    "    pl_metric.plot(\n",
    "        metric_name=\"F1\",\n",
    "        instances=instances,\n",
    "        metrics_n_times=np.array(metrics_n_times[:-1]),\n",
    "        strategies=distance_metrics,\n",
    "        plot_name=plot_name,\n",
    "        cmap=plt.get_cmap(\"Paired\"),\n",
    "        dpi=300,\n",
    "        title=f\"F1 {dataset_name}@{model_name}@{strategy}\",\n",
    "        errorbar=\"std\",\n",
    "        post_plot=get_post_plot(np.array(metrics_n_times[-1:]), [\"cosine\"], pl_metric)\n",
    "    )"
   ]
  },
  {
   "cell_type": "code",
   "execution_count": 3,
   "metadata": {},
   "outputs": [
    {
     "name": "stdout",
     "output_type": "stream",
     "text": [
      "exp adult@catboost@typiclust_lin1_ordinal@bs100@x20.pkl does not exist, continue\n",
      "exp adult@catboost@typiclust_goodall1_ordinal@bs100@x20.pkl does not exist, continue\n",
      "exp adult@catboost@typiclust_goodall2_ordinal@bs100@x20.pkl does not exist, continue\n",
      "exp adult@catboost@typiclust_goodall3_ordinal@bs100@x20.pkl does not exist, continue\n",
      "exp adult@catboost@typiclust_goodall4_ordinal@bs100@x20.pkl does not exist, continue\n",
      "exp adult@catboost@typiclust_smirnov_ordinal@bs100@x20.pkl does not exist, continue\n",
      "exp adult@catboost@typiclust_gambaryan_ordinal@bs100@x20.pkl does not exist, continue\n",
      "exp adult@catboost@typiclust_burnaby_ordinal@bs100@x20.pkl does not exist, continue\n",
      "exp adult@catboost@typiclust_anderberg_ordinal@bs100@x20.pkl does not exist, continue\n"
     ]
    }
   ],
   "source": [
    "for dsn in [\"adult\"]:\n",
    "    plot(dsn, \"catboost\", distance_metrics=list(distance.AVAIL_DIST_METRICS.keys()), strategy=\"typiclust\", encode=\"ordinal\")\n"
   ]
  },
  {
   "cell_type": "code",
   "execution_count": null,
   "metadata": {},
   "outputs": [],
   "source": []
  }
 ],
 "metadata": {
  "kernelspec": {
   "display_name": "COMP8800",
   "language": "python",
   "name": "python3"
  },
  "language_info": {
   "codemirror_mode": {
    "name": "ipython",
    "version": 3
   },
   "file_extension": ".py",
   "mimetype": "text/x-python",
   "name": "python",
   "nbconvert_exporter": "python",
   "pygments_lexer": "ipython3",
   "version": "3.11.5"
  }
 },
 "nbformat": 4,
 "nbformat_minor": 2
}
